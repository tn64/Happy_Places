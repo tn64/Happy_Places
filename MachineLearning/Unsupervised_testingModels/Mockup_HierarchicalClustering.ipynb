{
 "cells": [
  {
   "cell_type": "code",
   "execution_count": 12,
   "id": "9b8c69e7",
   "metadata": {},
   "outputs": [],
   "source": [
    "# Intial Imports\n",
    "import pandas as pd\n",
    "from sklearn.preprocessing import StandardScaler\n",
    "from sklearn.decomposition import PCA\n",
    "from sklearn.cluster import AgglomerativeClustering\n",
    "import hvplot.pandas\n",
    "import plotly.figure_factory as ff"
   ]
  },
  {
   "cell_type": "code",
   "execution_count": 2,
   "id": "356b47f5",
   "metadata": {},
   "outputs": [
    {
     "data": {
      "text/html": [
       "<div>\n",
       "<style scoped>\n",
       "    .dataframe tbody tr th:only-of-type {\n",
       "        vertical-align: middle;\n",
       "    }\n",
       "\n",
       "    .dataframe tbody tr th {\n",
       "        vertical-align: top;\n",
       "    }\n",
       "\n",
       "    .dataframe thead th {\n",
       "        text-align: right;\n",
       "    }\n",
       "</style>\n",
       "<table border=\"1\" class=\"dataframe\">\n",
       "  <thead>\n",
       "    <tr style=\"text-align: right;\">\n",
       "      <th></th>\n",
       "      <th>gdp</th>\n",
       "      <th>family</th>\n",
       "      <th>lifeexpectancy</th>\n",
       "      <th>freedom</th>\n",
       "      <th>generosity</th>\n",
       "      <th>trust</th>\n",
       "    </tr>\n",
       "  </thead>\n",
       "  <tbody>\n",
       "    <tr>\n",
       "      <th>0</th>\n",
       "      <td>1.340</td>\n",
       "      <td>1.587</td>\n",
       "      <td>0.986</td>\n",
       "      <td>0.596</td>\n",
       "      <td>0.153</td>\n",
       "      <td>0.393</td>\n",
       "    </tr>\n",
       "    <tr>\n",
       "      <th>1</th>\n",
       "      <td>1.383</td>\n",
       "      <td>1.573</td>\n",
       "      <td>0.996</td>\n",
       "      <td>0.592</td>\n",
       "      <td>0.252</td>\n",
       "      <td>0.410</td>\n",
       "    </tr>\n",
       "    <tr>\n",
       "      <th>2</th>\n",
       "      <td>1.488</td>\n",
       "      <td>1.582</td>\n",
       "      <td>1.028</td>\n",
       "      <td>0.603</td>\n",
       "      <td>0.271</td>\n",
       "      <td>0.341</td>\n",
       "    </tr>\n",
       "    <tr>\n",
       "      <th>3</th>\n",
       "      <td>1.286</td>\n",
       "      <td>1.484</td>\n",
       "      <td>1.062</td>\n",
       "      <td>0.362</td>\n",
       "      <td>0.153</td>\n",
       "      <td>0.079</td>\n",
       "    </tr>\n",
       "    <tr>\n",
       "      <th>4</th>\n",
       "      <td>1.149</td>\n",
       "      <td>1.442</td>\n",
       "      <td>0.910</td>\n",
       "      <td>0.516</td>\n",
       "      <td>0.109</td>\n",
       "      <td>0.054</td>\n",
       "    </tr>\n",
       "  </tbody>\n",
       "</table>\n",
       "</div>"
      ],
      "text/plain": [
       "     gdp  family  lifeexpectancy  freedom  generosity  trust\n",
       "0  1.340   1.587           0.986    0.596       0.153  0.393\n",
       "1  1.383   1.573           0.996    0.592       0.252  0.410\n",
       "2  1.488   1.582           1.028    0.603       0.271  0.341\n",
       "3  1.286   1.484           1.062    0.362       0.153  0.079\n",
       "4  1.149   1.442           0.910    0.516       0.109  0.054"
      ]
     },
     "execution_count": 2,
     "metadata": {},
     "output_type": "execute_result"
    }
   ],
   "source": [
    "# Loading preprocessed iris dataset\n",
    "file_path = \"../Resources/unsupervised_learning_whr_2019.csv\"\n",
    "df_2019 = pd.read_csv(file_path)\n",
    "df_2019.head()"
   ]
  },
  {
   "cell_type": "code",
   "execution_count": 3,
   "id": "5da38370",
   "metadata": {},
   "outputs": [
    {
     "name": "stdout",
     "output_type": "stream",
     "text": [
      "[[ 1.09498097  1.26581562  1.08766556  1.43260518 -0.33170285  2.98292872]\n",
      " [ 1.20364872  1.21847653  1.12949572  1.40411035  0.70438435  3.1623664 ]\n",
      " [ 1.46900019  1.24890881  1.26335222  1.48247112  0.90322937  2.43406051]\n",
      " [ 0.9585145   0.91753518  1.40557475 -0.2343422  -0.33170285 -0.33139083]\n",
      " [ 0.61229401  0.77551791  0.76975637  0.86270864 -0.79218605 -0.59526978]]\n"
     ]
    }
   ],
   "source": [
    "# Standardize data with StandardScaler\n",
    "scaled_2019 = StandardScaler().fit_transform(df_2019)\n",
    "print(scaled_2019[0:5])"
   ]
  },
  {
   "cell_type": "code",
   "execution_count": 16,
   "id": "2e5df297",
   "metadata": {},
   "outputs": [],
   "source": [
    "# Initialize PCA model\n",
    "pca = PCA(n_components=2)"
   ]
  },
  {
   "cell_type": "code",
   "execution_count": 17,
   "id": "00fe6344",
   "metadata": {},
   "outputs": [],
   "source": [
    "# Get three principal components for 2019.\n",
    "pca_2019 = pca.fit_transform(scaled_2019)"
   ]
  },
  {
   "cell_type": "code",
   "execution_count": 18,
   "id": "d5d25901",
   "metadata": {},
   "outputs": [
    {
     "data": {
      "text/html": [
       "<div>\n",
       "<style scoped>\n",
       "    .dataframe tbody tr th:only-of-type {\n",
       "        vertical-align: middle;\n",
       "    }\n",
       "\n",
       "    .dataframe tbody tr th {\n",
       "        vertical-align: top;\n",
       "    }\n",
       "\n",
       "    .dataframe thead th {\n",
       "        text-align: right;\n",
       "    }\n",
       "</style>\n",
       "<table border=\"1\" class=\"dataframe\">\n",
       "  <thead>\n",
       "    <tr style=\"text-align: right;\">\n",
       "      <th></th>\n",
       "      <th>principal component 1</th>\n",
       "      <th>principal component 2</th>\n",
       "    </tr>\n",
       "  </thead>\n",
       "  <tbody>\n",
       "    <tr>\n",
       "      <th>0</th>\n",
       "      <td>-3.138875</td>\n",
       "      <td>1.050389</td>\n",
       "    </tr>\n",
       "    <tr>\n",
       "      <th>1</th>\n",
       "      <td>-3.300299</td>\n",
       "      <td>1.816897</td>\n",
       "    </tr>\n",
       "    <tr>\n",
       "      <th>2</th>\n",
       "      <td>-3.347485</td>\n",
       "      <td>1.521363</td>\n",
       "    </tr>\n",
       "    <tr>\n",
       "      <th>3</th>\n",
       "      <td>-1.456917</td>\n",
       "      <td>-1.183592</td>\n",
       "    </tr>\n",
       "    <tr>\n",
       "      <th>4</th>\n",
       "      <td>-1.188210</td>\n",
       "      <td>-0.989879</td>\n",
       "    </tr>\n",
       "  </tbody>\n",
       "</table>\n",
       "</div>"
      ],
      "text/plain": [
       "   principal component 1  principal component 2\n",
       "0              -3.138875               1.050389\n",
       "1              -3.300299               1.816897\n",
       "2              -3.347485               1.521363\n",
       "3              -1.456917              -1.183592\n",
       "4              -1.188210              -0.989879"
      ]
     },
     "execution_count": 18,
     "metadata": {},
     "output_type": "execute_result"
    }
   ],
   "source": [
    "# Transform PCA data to a DataFrame\n",
    "df_pca_2019 = pd.DataFrame(\n",
    "    data=pca_2019, columns=[\"principal component 1\", \"principal component 2\"]\n",
    ")\n",
    "df_pca_2019.head()"
   ]
  },
  {
   "cell_type": "code",
   "execution_count": 19,
   "id": "b53a32ca",
   "metadata": {},
   "outputs": [
    {
     "data": {
      "text/plain": [
       "array([0.49415675, 0.240063  ])"
      ]
     },
     "execution_count": 19,
     "metadata": {},
     "output_type": "execute_result"
    }
   ],
   "source": [
    "# Fetch ecplained variance\n",
    "pca.explained_variance_ratio_"
   ]
  },
  {
   "cell_type": "code",
   "execution_count": 20,
   "id": "48c07507",
   "metadata": {},
   "outputs": [
    {
     "data": {
      "application/vnd.plotly.v1+json": {
       "config": {
        "plotlyServerURL": "https://plot.ly"
       },
       "data": [
        {
         "hoverinfo": "text",
         "marker": {
          "color": "rgb(0,116,217)"
         },
         "mode": "lines",
         "type": "scatter",
         "x": [
          5,
          5,
          15,
          15
         ],
         "xaxis": "x",
         "y": [
          0,
          0.21474350938269296,
          0.21474350938269296,
          0
         ],
         "yaxis": "y"
        },
        {
         "hoverinfo": "text",
         "marker": {
          "color": "rgb(0,116,217)"
         },
         "mode": "lines",
         "type": "scatter",
         "x": [
          35,
          35,
          45,
          45
         ],
         "xaxis": "x",
         "y": [
          0,
          0.1272754303028643,
          0.1272754303028643,
          0
         ],
         "yaxis": "y"
        },
        {
         "hoverinfo": "text",
         "marker": {
          "color": "rgb(0,116,217)"
         },
         "mode": "lines",
         "type": "scatter",
         "x": [
          25,
          25,
          40,
          40
         ],
         "xaxis": "x",
         "y": [
          0,
          0.23669950429625622,
          0.23669950429625622,
          0.1272754303028643
         ],
         "yaxis": "y"
        },
        {
         "hoverinfo": "text",
         "marker": {
          "color": "rgb(0,116,217)"
         },
         "mode": "lines",
         "type": "scatter",
         "x": [
          65,
          65,
          75,
          75
         ],
         "xaxis": "x",
         "y": [
          0,
          0.049038658380601084,
          0.049038658380601084,
          0
         ],
         "yaxis": "y"
        },
        {
         "hoverinfo": "text",
         "marker": {
          "color": "rgb(0,116,217)"
         },
         "mode": "lines",
         "type": "scatter",
         "x": [
          55,
          55,
          70,
          70
         ],
         "xaxis": "x",
         "y": [
          0,
          0.46893710131125194,
          0.46893710131125194,
          0.049038658380601084
         ],
         "yaxis": "y"
        },
        {
         "hoverinfo": "text",
         "marker": {
          "color": "rgb(0,116,217)"
         },
         "mode": "lines",
         "type": "scatter",
         "x": [
          32.5,
          32.5,
          62.5,
          62.5
         ],
         "xaxis": "x",
         "y": [
          0.23669950429625622,
          0.5357308641311987,
          0.5357308641311987,
          0.46893710131125194
         ],
         "yaxis": "y"
        },
        {
         "hoverinfo": "text",
         "marker": {
          "color": "rgb(0,116,217)"
         },
         "mode": "lines",
         "type": "scatter",
         "x": [
          10,
          10,
          47.5,
          47.5
         ],
         "xaxis": "x",
         "y": [
          0.21474350938269296,
          0.8687465268711195,
          0.8687465268711195,
          0.5357308641311987
         ],
         "yaxis": "y"
        },
        {
         "hoverinfo": "text",
         "marker": {
          "color": "rgb(0,116,217)"
         },
         "mode": "lines",
         "type": "scatter",
         "x": [
          95,
          95,
          105,
          105
         ],
         "xaxis": "x",
         "y": [
          0,
          0.43379693536585856,
          0.43379693536585856,
          0
         ],
         "yaxis": "y"
        },
        {
         "hoverinfo": "text",
         "marker": {
          "color": "rgb(0,116,217)"
         },
         "mode": "lines",
         "type": "scatter",
         "x": [
          85,
          85,
          100,
          100
         ],
         "xaxis": "x",
         "y": [
          0,
          0.9090589607951242,
          0.9090589607951242,
          0.43379693536585856
         ],
         "yaxis": "y"
        },
        {
         "hoverinfo": "text",
         "marker": {
          "color": "rgb(0,116,217)"
         },
         "mode": "lines",
         "type": "scatter",
         "x": [
          28.75,
          28.75,
          92.5,
          92.5
         ],
         "xaxis": "x",
         "y": [
          0.8687465268711195,
          1.4751410842020802,
          1.4751410842020802,
          0.9090589607951242
         ],
         "yaxis": "y"
        },
        {
         "hoverinfo": "text",
         "marker": {
          "color": "rgb(0,116,217)"
         },
         "mode": "lines",
         "type": "scatter",
         "x": [
          125,
          125,
          135,
          135
         ],
         "xaxis": "x",
         "y": [
          0,
          0.1396420094488505,
          0.1396420094488505,
          0
         ],
         "yaxis": "y"
        },
        {
         "hoverinfo": "text",
         "marker": {
          "color": "rgb(0,116,217)"
         },
         "mode": "lines",
         "type": "scatter",
         "x": [
          145,
          145,
          155,
          155
         ],
         "xaxis": "x",
         "y": [
          0,
          0.1582651820333247,
          0.1582651820333247,
          0
         ],
         "yaxis": "y"
        },
        {
         "hoverinfo": "text",
         "marker": {
          "color": "rgb(0,116,217)"
         },
         "mode": "lines",
         "type": "scatter",
         "x": [
          130,
          130,
          150,
          150
         ],
         "xaxis": "x",
         "y": [
          0.1396420094488505,
          0.4064388296899845,
          0.4064388296899845,
          0.1582651820333247
         ],
         "yaxis": "y"
        },
        {
         "hoverinfo": "text",
         "marker": {
          "color": "rgb(0,116,217)"
         },
         "mode": "lines",
         "type": "scatter",
         "x": [
          115,
          115,
          140,
          140
         ],
         "xaxis": "x",
         "y": [
          0,
          0.9489978677435394,
          0.9489978677435394,
          0.4064388296899845
         ],
         "yaxis": "y"
        },
        {
         "hoverinfo": "text",
         "marker": {
          "color": "rgb(0,116,217)"
         },
         "mode": "lines",
         "type": "scatter",
         "x": [
          175,
          175,
          185,
          185
         ],
         "xaxis": "x",
         "y": [
          0,
          0.19002712864320545,
          0.19002712864320545,
          0
         ],
         "yaxis": "y"
        },
        {
         "hoverinfo": "text",
         "marker": {
          "color": "rgb(0,116,217)"
         },
         "mode": "lines",
         "type": "scatter",
         "x": [
          165,
          165,
          180,
          180
         ],
         "xaxis": "x",
         "y": [
          0,
          0.5672028709800376,
          0.5672028709800376,
          0.19002712864320545
         ],
         "yaxis": "y"
        },
        {
         "hoverinfo": "text",
         "marker": {
          "color": "rgb(0,116,217)"
         },
         "mode": "lines",
         "type": "scatter",
         "x": [
          205,
          205,
          215,
          215
         ],
         "xaxis": "x",
         "y": [
          0,
          0.1468943889107391,
          0.1468943889107391,
          0
         ],
         "yaxis": "y"
        },
        {
         "hoverinfo": "text",
         "marker": {
          "color": "rgb(0,116,217)"
         },
         "mode": "lines",
         "type": "scatter",
         "x": [
          235,
          235,
          245,
          245
         ],
         "xaxis": "x",
         "y": [
          0,
          0.15316539807398147,
          0.15316539807398147,
          0
         ],
         "yaxis": "y"
        },
        {
         "hoverinfo": "text",
         "marker": {
          "color": "rgb(0,116,217)"
         },
         "mode": "lines",
         "type": "scatter",
         "x": [
          225,
          225,
          240,
          240
         ],
         "xaxis": "x",
         "y": [
          0,
          0.27463963011907766,
          0.27463963011907766,
          0.15316539807398147
         ],
         "yaxis": "y"
        },
        {
         "hoverinfo": "text",
         "marker": {
          "color": "rgb(0,116,217)"
         },
         "mode": "lines",
         "type": "scatter",
         "x": [
          210,
          210,
          232.5,
          232.5
         ],
         "xaxis": "x",
         "y": [
          0.1468943889107391,
          0.3104728022463319,
          0.3104728022463319,
          0.27463963011907766
         ],
         "yaxis": "y"
        },
        {
         "hoverinfo": "text",
         "marker": {
          "color": "rgb(0,116,217)"
         },
         "mode": "lines",
         "type": "scatter",
         "x": [
          195,
          195,
          221.25,
          221.25
         ],
         "xaxis": "x",
         "y": [
          0,
          0.6949015270104191,
          0.6949015270104191,
          0.3104728022463319
         ],
         "yaxis": "y"
        },
        {
         "hoverinfo": "text",
         "marker": {
          "color": "rgb(0,116,217)"
         },
         "mode": "lines",
         "type": "scatter",
         "x": [
          172.5,
          172.5,
          208.125,
          208.125
         ],
         "xaxis": "x",
         "y": [
          0.5672028709800376,
          1.250165401713927,
          1.250165401713927,
          0.6949015270104191
         ],
         "yaxis": "y"
        },
        {
         "hoverinfo": "text",
         "marker": {
          "color": "rgb(0,116,217)"
         },
         "mode": "lines",
         "type": "scatter",
         "x": [
          127.5,
          127.5,
          190.3125,
          190.3125
         ],
         "xaxis": "x",
         "y": [
          0.9489978677435394,
          1.3886584304299543,
          1.3886584304299543,
          1.250165401713927
         ],
         "yaxis": "y"
        },
        {
         "hoverinfo": "text",
         "marker": {
          "color": "rgb(0,116,217)"
         },
         "mode": "lines",
         "type": "scatter",
         "x": [
          255,
          255,
          265,
          265
         ],
         "xaxis": "x",
         "y": [
          0,
          2.2929583245962415,
          2.2929583245962415,
          0
         ],
         "yaxis": "y"
        },
        {
         "hoverinfo": "text",
         "marker": {
          "color": "rgb(0,116,217)"
         },
         "mode": "lines",
         "type": "scatter",
         "x": [
          158.90625,
          158.90625,
          260,
          260
         ],
         "xaxis": "x",
         "y": [
          1.3886584304299543,
          2.9477451718584486,
          2.9477451718584486,
          2.2929583245962415
         ],
         "yaxis": "y"
        },
        {
         "hoverinfo": "text",
         "marker": {
          "color": "rgb(0,116,217)"
         },
         "mode": "lines",
         "type": "scatter",
         "x": [
          60.625,
          60.625,
          209.453125,
          209.453125
         ],
         "xaxis": "x",
         "y": [
          1.4751410842020802,
          4.047971564916184,
          4.047971564916184,
          2.9477451718584486
         ],
         "yaxis": "y"
        },
        {
         "hoverinfo": "text",
         "marker": {
          "color": "rgb(0,116,217)"
         },
         "mode": "lines",
         "type": "scatter",
         "x": [
          295,
          295,
          305,
          305
         ],
         "xaxis": "x",
         "y": [
          0,
          0.16503681067342513,
          0.16503681067342513,
          0
         ],
         "yaxis": "y"
        },
        {
         "hoverinfo": "text",
         "marker": {
          "color": "rgb(0,116,217)"
         },
         "mode": "lines",
         "type": "scatter",
         "x": [
          285,
          285,
          300,
          300
         ],
         "xaxis": "x",
         "y": [
          0,
          0.37663105225003163,
          0.37663105225003163,
          0.16503681067342513
         ],
         "yaxis": "y"
        },
        {
         "hoverinfo": "text",
         "marker": {
          "color": "rgb(0,116,217)"
         },
         "mode": "lines",
         "type": "scatter",
         "x": [
          315,
          315,
          325,
          325
         ],
         "xaxis": "x",
         "y": [
          0,
          0.385737040032711,
          0.385737040032711,
          0
         ],
         "yaxis": "y"
        },
        {
         "hoverinfo": "text",
         "marker": {
          "color": "rgb(0,116,217)"
         },
         "mode": "lines",
         "type": "scatter",
         "x": [
          292.5,
          292.5,
          320,
          320
         ],
         "xaxis": "x",
         "y": [
          0.37663105225003163,
          0.8747410567644704,
          0.8747410567644704,
          0.385737040032711
         ],
         "yaxis": "y"
        },
        {
         "hoverinfo": "text",
         "marker": {
          "color": "rgb(0,116,217)"
         },
         "mode": "lines",
         "type": "scatter",
         "x": [
          275,
          275,
          306.25,
          306.25
         ],
         "xaxis": "x",
         "y": [
          0,
          1.3801439574284713,
          1.3801439574284713,
          0.8747410567644704
         ],
         "yaxis": "y"
        },
        {
         "hoverinfo": "text",
         "marker": {
          "color": "rgb(0,116,217)"
         },
         "mode": "lines",
         "type": "scatter",
         "x": [
          335,
          335,
          345,
          345
         ],
         "xaxis": "x",
         "y": [
          0,
          0.0353260491019089,
          0.0353260491019089,
          0
         ],
         "yaxis": "y"
        },
        {
         "hoverinfo": "text",
         "marker": {
          "color": "rgb(0,116,217)"
         },
         "mode": "lines",
         "type": "scatter",
         "x": [
          355,
          355,
          365,
          365
         ],
         "xaxis": "x",
         "y": [
          0,
          0.10405765234097288,
          0.10405765234097288,
          0
         ],
         "yaxis": "y"
        },
        {
         "hoverinfo": "text",
         "marker": {
          "color": "rgb(0,116,217)"
         },
         "mode": "lines",
         "type": "scatter",
         "x": [
          340,
          340,
          360,
          360
         ],
         "xaxis": "x",
         "y": [
          0.0353260491019089,
          0.2884789313282879,
          0.2884789313282879,
          0.10405765234097288
         ],
         "yaxis": "y"
        },
        {
         "hoverinfo": "text",
         "marker": {
          "color": "rgb(0,116,217)"
         },
         "mode": "lines",
         "type": "scatter",
         "x": [
          375,
          375,
          385,
          385
         ],
         "xaxis": "x",
         "y": [
          0,
          0.11344101741246264,
          0.11344101741246264,
          0
         ],
         "yaxis": "y"
        },
        {
         "hoverinfo": "text",
         "marker": {
          "color": "rgb(0,116,217)"
         },
         "mode": "lines",
         "type": "scatter",
         "x": [
          405,
          405,
          415,
          415
         ],
         "xaxis": "x",
         "y": [
          0,
          0.10206274953931053,
          0.10206274953931053,
          0
         ],
         "yaxis": "y"
        },
        {
         "hoverinfo": "text",
         "marker": {
          "color": "rgb(0,116,217)"
         },
         "mode": "lines",
         "type": "scatter",
         "x": [
          395,
          395,
          410,
          410
         ],
         "xaxis": "x",
         "y": [
          0,
          0.1288059493404851,
          0.1288059493404851,
          0.10206274953931053
         ],
         "yaxis": "y"
        },
        {
         "hoverinfo": "text",
         "marker": {
          "color": "rgb(0,116,217)"
         },
         "mode": "lines",
         "type": "scatter",
         "x": [
          380,
          380,
          402.5,
          402.5
         ],
         "xaxis": "x",
         "y": [
          0.11344101741246264,
          0.32569187410224654,
          0.32569187410224654,
          0.1288059493404851
         ],
         "yaxis": "y"
        },
        {
         "hoverinfo": "text",
         "marker": {
          "color": "rgb(0,116,217)"
         },
         "mode": "lines",
         "type": "scatter",
         "x": [
          350,
          350,
          391.25,
          391.25
         ],
         "xaxis": "x",
         "y": [
          0.2884789313282879,
          0.46322431906196665,
          0.46322431906196665,
          0.32569187410224654
         ],
         "yaxis": "y"
        },
        {
         "hoverinfo": "text",
         "marker": {
          "color": "rgb(0,116,217)"
         },
         "mode": "lines",
         "type": "scatter",
         "x": [
          435,
          435,
          445,
          445
         ],
         "xaxis": "x",
         "y": [
          0,
          0.14999550614635818,
          0.14999550614635818,
          0
         ],
         "yaxis": "y"
        },
        {
         "hoverinfo": "text",
         "marker": {
          "color": "rgb(0,116,217)"
         },
         "mode": "lines",
         "type": "scatter",
         "x": [
          425,
          425,
          440,
          440
         ],
         "xaxis": "x",
         "y": [
          0,
          0.23754238833601518,
          0.23754238833601518,
          0.14999550614635818
         ],
         "yaxis": "y"
        },
        {
         "hoverinfo": "text",
         "marker": {
          "color": "rgb(0,116,217)"
         },
         "mode": "lines",
         "type": "scatter",
         "x": [
          455,
          455,
          465,
          465
         ],
         "xaxis": "x",
         "y": [
          0,
          0.2870652478196846,
          0.2870652478196846,
          0
         ],
         "yaxis": "y"
        },
        {
         "hoverinfo": "text",
         "marker": {
          "color": "rgb(0,116,217)"
         },
         "mode": "lines",
         "type": "scatter",
         "x": [
          432.5,
          432.5,
          460,
          460
         ],
         "xaxis": "x",
         "y": [
          0.23754238833601518,
          0.6976732028899029,
          0.6976732028899029,
          0.2870652478196846
         ],
         "yaxis": "y"
        },
        {
         "hoverinfo": "text",
         "marker": {
          "color": "rgb(0,116,217)"
         },
         "mode": "lines",
         "type": "scatter",
         "x": [
          370.625,
          370.625,
          446.25,
          446.25
         ],
         "xaxis": "x",
         "y": [
          0.46322431906196665,
          0.9538231273821434,
          0.9538231273821434,
          0.6976732028899029
         ],
         "yaxis": "y"
        },
        {
         "hoverinfo": "text",
         "marker": {
          "color": "rgb(0,116,217)"
         },
         "mode": "lines",
         "type": "scatter",
         "x": [
          475,
          475,
          485,
          485
         ],
         "xaxis": "x",
         "y": [
          0,
          0.14383545256237537,
          0.14383545256237537,
          0
         ],
         "yaxis": "y"
        },
        {
         "hoverinfo": "text",
         "marker": {
          "color": "rgb(0,116,217)"
         },
         "mode": "lines",
         "type": "scatter",
         "x": [
          505,
          505,
          515,
          515
         ],
         "xaxis": "x",
         "y": [
          0,
          0.03586670054066605,
          0.03586670054066605,
          0
         ],
         "yaxis": "y"
        },
        {
         "hoverinfo": "text",
         "marker": {
          "color": "rgb(0,116,217)"
         },
         "mode": "lines",
         "type": "scatter",
         "x": [
          495,
          495,
          510,
          510
         ],
         "xaxis": "x",
         "y": [
          0,
          0.2399265545020751,
          0.2399265545020751,
          0.03586670054066605
         ],
         "yaxis": "y"
        },
        {
         "hoverinfo": "text",
         "marker": {
          "color": "rgb(0,116,217)"
         },
         "mode": "lines",
         "type": "scatter",
         "x": [
          480,
          480,
          502.5,
          502.5
         ],
         "xaxis": "x",
         "y": [
          0.14383545256237537,
          0.5771689494722831,
          0.5771689494722831,
          0.2399265545020751
         ],
         "yaxis": "y"
        },
        {
         "hoverinfo": "text",
         "marker": {
          "color": "rgb(0,116,217)"
         },
         "mode": "lines",
         "type": "scatter",
         "x": [
          535,
          535,
          545,
          545
         ],
         "xaxis": "x",
         "y": [
          0,
          0.14807931165357568,
          0.14807931165357568,
          0
         ],
         "yaxis": "y"
        },
        {
         "hoverinfo": "text",
         "marker": {
          "color": "rgb(0,116,217)"
         },
         "mode": "lines",
         "type": "scatter",
         "x": [
          525,
          525,
          540,
          540
         ],
         "xaxis": "x",
         "y": [
          0,
          0.35561511520472017,
          0.35561511520472017,
          0.14807931165357568
         ],
         "yaxis": "y"
        },
        {
         "hoverinfo": "text",
         "marker": {
          "color": "rgb(0,116,217)"
         },
         "mode": "lines",
         "type": "scatter",
         "x": [
          555,
          555,
          565,
          565
         ],
         "xaxis": "x",
         "y": [
          0,
          0.12391176786152512,
          0.12391176786152512,
          0
         ],
         "yaxis": "y"
        },
        {
         "hoverinfo": "text",
         "marker": {
          "color": "rgb(0,116,217)"
         },
         "mode": "lines",
         "type": "scatter",
         "x": [
          575,
          575,
          585,
          585
         ],
         "xaxis": "x",
         "y": [
          0,
          0.13972954235884333,
          0.13972954235884333,
          0
         ],
         "yaxis": "y"
        },
        {
         "hoverinfo": "text",
         "marker": {
          "color": "rgb(0,116,217)"
         },
         "mode": "lines",
         "type": "scatter",
         "x": [
          605,
          605,
          615,
          615
         ],
         "xaxis": "x",
         "y": [
          0,
          0.0826861081887263,
          0.0826861081887263,
          0
         ],
         "yaxis": "y"
        },
        {
         "hoverinfo": "text",
         "marker": {
          "color": "rgb(0,116,217)"
         },
         "mode": "lines",
         "type": "scatter",
         "x": [
          595,
          595,
          610,
          610
         ],
         "xaxis": "x",
         "y": [
          0,
          0.2362267771051411,
          0.2362267771051411,
          0.0826861081887263
         ],
         "yaxis": "y"
        },
        {
         "hoverinfo": "text",
         "marker": {
          "color": "rgb(0,116,217)"
         },
         "mode": "lines",
         "type": "scatter",
         "x": [
          580,
          580,
          602.5,
          602.5
         ],
         "xaxis": "x",
         "y": [
          0.13972954235884333,
          0.38487809753157043,
          0.38487809753157043,
          0.2362267771051411
         ],
         "yaxis": "y"
        },
        {
         "hoverinfo": "text",
         "marker": {
          "color": "rgb(0,116,217)"
         },
         "mode": "lines",
         "type": "scatter",
         "x": [
          560,
          560,
          591.25,
          591.25
         ],
         "xaxis": "x",
         "y": [
          0.12391176786152512,
          0.5182436453952421,
          0.5182436453952421,
          0.38487809753157043
         ],
         "yaxis": "y"
        },
        {
         "hoverinfo": "text",
         "marker": {
          "color": "rgb(0,116,217)"
         },
         "mode": "lines",
         "type": "scatter",
         "x": [
          532.5,
          532.5,
          575.625,
          575.625
         ],
         "xaxis": "x",
         "y": [
          0.35561511520472017,
          0.877904375038883,
          0.877904375038883,
          0.5182436453952421
         ],
         "yaxis": "y"
        },
        {
         "hoverinfo": "text",
         "marker": {
          "color": "rgb(0,116,217)"
         },
         "mode": "lines",
         "type": "scatter",
         "x": [
          491.25,
          491.25,
          554.0625,
          554.0625
         ],
         "xaxis": "x",
         "y": [
          0.5771689494722831,
          1.4058757233933916,
          1.4058757233933916,
          0.877904375038883
         ],
         "yaxis": "y"
        },
        {
         "hoverinfo": "text",
         "marker": {
          "color": "rgb(0,116,217)"
         },
         "mode": "lines",
         "type": "scatter",
         "x": [
          408.4375,
          408.4375,
          522.65625,
          522.65625
         ],
         "xaxis": "x",
         "y": [
          0.9538231273821434,
          1.7142686247822734,
          1.7142686247822734,
          1.4058757233933916
         ],
         "yaxis": "y"
        },
        {
         "hoverinfo": "text",
         "marker": {
          "color": "rgb(0,116,217)"
         },
         "mode": "lines",
         "type": "scatter",
         "x": [
          290.625,
          290.625,
          465.546875,
          465.546875
         ],
         "xaxis": "x",
         "y": [
          1.3801439574284713,
          2.545519316373222,
          2.545519316373222,
          1.7142686247822734
         ],
         "yaxis": "y"
        },
        {
         "hoverinfo": "text",
         "marker": {
          "color": "rgb(0,116,217)"
         },
         "mode": "lines",
         "type": "scatter",
         "x": [
          625,
          625,
          635,
          635
         ],
         "xaxis": "x",
         "y": [
          0,
          0.16508507873559086,
          0.16508507873559086,
          0
         ],
         "yaxis": "y"
        },
        {
         "hoverinfo": "text",
         "marker": {
          "color": "rgb(0,116,217)"
         },
         "mode": "lines",
         "type": "scatter",
         "x": [
          675,
          675,
          685,
          685
         ],
         "xaxis": "x",
         "y": [
          0,
          0.13155127883427883,
          0.13155127883427883,
          0
         ],
         "yaxis": "y"
        },
        {
         "hoverinfo": "text",
         "marker": {
          "color": "rgb(0,116,217)"
         },
         "mode": "lines",
         "type": "scatter",
         "x": [
          665,
          665,
          680,
          680
         ],
         "xaxis": "x",
         "y": [
          0,
          0.15286789180158378,
          0.15286789180158378,
          0.13155127883427883
         ],
         "yaxis": "y"
        },
        {
         "hoverinfo": "text",
         "marker": {
          "color": "rgb(0,116,217)"
         },
         "mode": "lines",
         "type": "scatter",
         "x": [
          655,
          655,
          672.5,
          672.5
         ],
         "xaxis": "x",
         "y": [
          0,
          0.2832724356964285,
          0.2832724356964285,
          0.15286789180158378
         ],
         "yaxis": "y"
        },
        {
         "hoverinfo": "text",
         "marker": {
          "color": "rgb(0,116,217)"
         },
         "mode": "lines",
         "type": "scatter",
         "x": [
          645,
          645,
          663.75,
          663.75
         ],
         "xaxis": "x",
         "y": [
          0,
          0.3733447355733968,
          0.3733447355733968,
          0.2832724356964285
         ],
         "yaxis": "y"
        },
        {
         "hoverinfo": "text",
         "marker": {
          "color": "rgb(0,116,217)"
         },
         "mode": "lines",
         "type": "scatter",
         "x": [
          630,
          630,
          654.375,
          654.375
         ],
         "xaxis": "x",
         "y": [
          0.16508507873559086,
          0.7559539162956012,
          0.7559539162956012,
          0.3733447355733968
         ],
         "yaxis": "y"
        },
        {
         "hoverinfo": "text",
         "marker": {
          "color": "rgb(0,116,217)"
         },
         "mode": "lines",
         "type": "scatter",
         "x": [
          705,
          705,
          715,
          715
         ],
         "xaxis": "x",
         "y": [
          0,
          0.0756499076171736,
          0.0756499076171736,
          0
         ],
         "yaxis": "y"
        },
        {
         "hoverinfo": "text",
         "marker": {
          "color": "rgb(0,116,217)"
         },
         "mode": "lines",
         "type": "scatter",
         "x": [
          695,
          695,
          710,
          710
         ],
         "xaxis": "x",
         "y": [
          0,
          0.36739186827021786,
          0.36739186827021786,
          0.0756499076171736
         ],
         "yaxis": "y"
        },
        {
         "hoverinfo": "text",
         "marker": {
          "color": "rgb(0,116,217)"
         },
         "mode": "lines",
         "type": "scatter",
         "x": [
          735,
          735,
          745,
          745
         ],
         "xaxis": "x",
         "y": [
          0,
          0.08879646856635975,
          0.08879646856635975,
          0
         ],
         "yaxis": "y"
        },
        {
         "hoverinfo": "text",
         "marker": {
          "color": "rgb(0,116,217)"
         },
         "mode": "lines",
         "type": "scatter",
         "x": [
          725,
          725,
          740,
          740
         ],
         "xaxis": "x",
         "y": [
          0,
          0.19437944731533882,
          0.19437944731533882,
          0.08879646856635975
         ],
         "yaxis": "y"
        },
        {
         "hoverinfo": "text",
         "marker": {
          "color": "rgb(0,116,217)"
         },
         "mode": "lines",
         "type": "scatter",
         "x": [
          765,
          765,
          775,
          775
         ],
         "xaxis": "x",
         "y": [
          0,
          0.18956849521054897,
          0.18956849521054897,
          0
         ],
         "yaxis": "y"
        },
        {
         "hoverinfo": "text",
         "marker": {
          "color": "rgb(0,116,217)"
         },
         "mode": "lines",
         "type": "scatter",
         "x": [
          755,
          755,
          770,
          770
         ],
         "xaxis": "x",
         "y": [
          0,
          0.3476091072302642,
          0.3476091072302642,
          0.18956849521054897
         ],
         "yaxis": "y"
        },
        {
         "hoverinfo": "text",
         "marker": {
          "color": "rgb(0,116,217)"
         },
         "mode": "lines",
         "type": "scatter",
         "x": [
          732.5,
          732.5,
          762.5,
          762.5
         ],
         "xaxis": "x",
         "y": [
          0.19437944731533882,
          0.5537383439833947,
          0.5537383439833947,
          0.3476091072302642
         ],
         "yaxis": "y"
        },
        {
         "hoverinfo": "text",
         "marker": {
          "color": "rgb(0,116,217)"
         },
         "mode": "lines",
         "type": "scatter",
         "x": [
          702.5,
          702.5,
          747.5,
          747.5
         ],
         "xaxis": "x",
         "y": [
          0.36739186827021786,
          0.9728317459434143,
          0.9728317459434143,
          0.5537383439833947
         ],
         "yaxis": "y"
        },
        {
         "hoverinfo": "text",
         "marker": {
          "color": "rgb(0,116,217)"
         },
         "mode": "lines",
         "type": "scatter",
         "x": [
          642.1875,
          642.1875,
          725,
          725
         ],
         "xaxis": "x",
         "y": [
          0.7559539162956012,
          1.2089133239589829,
          1.2089133239589829,
          0.9728317459434143
         ],
         "yaxis": "y"
        },
        {
         "hoverinfo": "text",
         "marker": {
          "color": "rgb(0,116,217)"
         },
         "mode": "lines",
         "type": "scatter",
         "x": [
          815,
          815,
          825,
          825
         ],
         "xaxis": "x",
         "y": [
          0,
          0.05352857950393887,
          0.05352857950393887,
          0
         ],
         "yaxis": "y"
        },
        {
         "hoverinfo": "text",
         "marker": {
          "color": "rgb(0,116,217)"
         },
         "mode": "lines",
         "type": "scatter",
         "x": [
          805,
          805,
          820,
          820
         ],
         "xaxis": "x",
         "y": [
          0,
          0.10827174667011871,
          0.10827174667011871,
          0.05352857950393887
         ],
         "yaxis": "y"
        },
        {
         "hoverinfo": "text",
         "marker": {
          "color": "rgb(0,116,217)"
         },
         "mode": "lines",
         "type": "scatter",
         "x": [
          795,
          795,
          812.5,
          812.5
         ],
         "xaxis": "x",
         "y": [
          0,
          0.24396913173887338,
          0.24396913173887338,
          0.10827174667011871
         ],
         "yaxis": "y"
        },
        {
         "hoverinfo": "text",
         "marker": {
          "color": "rgb(0,116,217)"
         },
         "mode": "lines",
         "type": "scatter",
         "x": [
          785,
          785,
          803.75,
          803.75
         ],
         "xaxis": "x",
         "y": [
          0,
          0.33722948388029605,
          0.33722948388029605,
          0.24396913173887338
         ],
         "yaxis": "y"
        },
        {
         "hoverinfo": "text",
         "marker": {
          "color": "rgb(0,116,217)"
         },
         "mode": "lines",
         "type": "scatter",
         "x": [
          845,
          845,
          855,
          855
         ],
         "xaxis": "x",
         "y": [
          0,
          0.16791719425789617,
          0.16791719425789617,
          0
         ],
         "yaxis": "y"
        },
        {
         "hoverinfo": "text",
         "marker": {
          "color": "rgb(0,116,217)"
         },
         "mode": "lines",
         "type": "scatter",
         "x": [
          835,
          835,
          850,
          850
         ],
         "xaxis": "x",
         "y": [
          0,
          0.3293684354558937,
          0.3293684354558937,
          0.16791719425789617
         ],
         "yaxis": "y"
        },
        {
         "hoverinfo": "text",
         "marker": {
          "color": "rgb(0,116,217)"
         },
         "mode": "lines",
         "type": "scatter",
         "x": [
          865,
          865,
          875,
          875
         ],
         "xaxis": "x",
         "y": [
          0,
          0.3623424862400149,
          0.3623424862400149,
          0
         ],
         "yaxis": "y"
        },
        {
         "hoverinfo": "text",
         "marker": {
          "color": "rgb(0,116,217)"
         },
         "mode": "lines",
         "type": "scatter",
         "x": [
          842.5,
          842.5,
          870,
          870
         ],
         "xaxis": "x",
         "y": [
          0.3293684354558937,
          0.6605599584020724,
          0.6605599584020724,
          0.3623424862400149
         ],
         "yaxis": "y"
        },
        {
         "hoverinfo": "text",
         "marker": {
          "color": "rgb(0,116,217)"
         },
         "mode": "lines",
         "type": "scatter",
         "x": [
          794.375,
          794.375,
          856.25,
          856.25
         ],
         "xaxis": "x",
         "y": [
          0.33722948388029605,
          1.0462878241102422,
          1.0462878241102422,
          0.6605599584020724
         ],
         "yaxis": "y"
        },
        {
         "hoverinfo": "text",
         "marker": {
          "color": "rgb(0,116,217)"
         },
         "mode": "lines",
         "type": "scatter",
         "x": [
          885,
          885,
          895,
          895
         ],
         "xaxis": "x",
         "y": [
          0,
          0.14574211298166398,
          0.14574211298166398,
          0
         ],
         "yaxis": "y"
        },
        {
         "hoverinfo": "text",
         "marker": {
          "color": "rgb(0,116,217)"
         },
         "mode": "lines",
         "type": "scatter",
         "x": [
          915,
          915,
          925,
          925
         ],
         "xaxis": "x",
         "y": [
          0,
          0.18533111120286272,
          0.18533111120286272,
          0
         ],
         "yaxis": "y"
        },
        {
         "hoverinfo": "text",
         "marker": {
          "color": "rgb(0,116,217)"
         },
         "mode": "lines",
         "type": "scatter",
         "x": [
          905,
          905,
          920,
          920
         ],
         "xaxis": "x",
         "y": [
          0,
          0.3714090430997627,
          0.3714090430997627,
          0.18533111120286272
         ],
         "yaxis": "y"
        },
        {
         "hoverinfo": "text",
         "marker": {
          "color": "rgb(0,116,217)"
         },
         "mode": "lines",
         "type": "scatter",
         "x": [
          890,
          890,
          912.5,
          912.5
         ],
         "xaxis": "x",
         "y": [
          0.14574211298166398,
          0.5508697858929966,
          0.5508697858929966,
          0.3714090430997627
         ],
         "yaxis": "y"
        },
        {
         "hoverinfo": "text",
         "marker": {
          "color": "rgb(0,116,217)"
         },
         "mode": "lines",
         "type": "scatter",
         "x": [
          945,
          945,
          955,
          955
         ],
         "xaxis": "x",
         "y": [
          0,
          0.06917964701068681,
          0.06917964701068681,
          0
         ],
         "yaxis": "y"
        },
        {
         "hoverinfo": "text",
         "marker": {
          "color": "rgb(0,116,217)"
         },
         "mode": "lines",
         "type": "scatter",
         "x": [
          935,
          935,
          950,
          950
         ],
         "xaxis": "x",
         "y": [
          0,
          0.23555172421207293,
          0.23555172421207293,
          0.06917964701068681
         ],
         "yaxis": "y"
        },
        {
         "hoverinfo": "text",
         "marker": {
          "color": "rgb(0,116,217)"
         },
         "mode": "lines",
         "type": "scatter",
         "x": [
          965,
          965,
          975,
          975
         ],
         "xaxis": "x",
         "y": [
          0,
          0.14320226449458012,
          0.14320226449458012,
          0
         ],
         "yaxis": "y"
        },
        {
         "hoverinfo": "text",
         "marker": {
          "color": "rgb(0,116,217)"
         },
         "mode": "lines",
         "type": "scatter",
         "x": [
          985,
          985,
          995,
          995
         ],
         "xaxis": "x",
         "y": [
          0,
          0.14525177840821402,
          0.14525177840821402,
          0
         ],
         "yaxis": "y"
        },
        {
         "hoverinfo": "text",
         "marker": {
          "color": "rgb(0,116,217)"
         },
         "mode": "lines",
         "type": "scatter",
         "x": [
          970,
          970,
          990,
          990
         ],
         "xaxis": "x",
         "y": [
          0.14320226449458012,
          0.34144364600097016,
          0.34144364600097016,
          0.14525177840821402
         ],
         "yaxis": "y"
        },
        {
         "hoverinfo": "text",
         "marker": {
          "color": "rgb(0,116,217)"
         },
         "mode": "lines",
         "type": "scatter",
         "x": [
          942.5,
          942.5,
          980,
          980
         ],
         "xaxis": "x",
         "y": [
          0.23555172421207293,
          0.45552288493907284,
          0.45552288493907284,
          0.34144364600097016
         ],
         "yaxis": "y"
        },
        {
         "hoverinfo": "text",
         "marker": {
          "color": "rgb(0,116,217)"
         },
         "mode": "lines",
         "type": "scatter",
         "x": [
          1015,
          1015,
          1025,
          1025
         ],
         "xaxis": "x",
         "y": [
          0,
          0.04004727903210417,
          0.04004727903210417,
          0
         ],
         "yaxis": "y"
        },
        {
         "hoverinfo": "text",
         "marker": {
          "color": "rgb(0,116,217)"
         },
         "mode": "lines",
         "type": "scatter",
         "x": [
          1005,
          1005,
          1020,
          1020
         ],
         "xaxis": "x",
         "y": [
          0,
          0.1023888658153299,
          0.1023888658153299,
          0.04004727903210417
         ],
         "yaxis": "y"
        },
        {
         "hoverinfo": "text",
         "marker": {
          "color": "rgb(0,116,217)"
         },
         "mode": "lines",
         "type": "scatter",
         "x": [
          1035,
          1035,
          1045,
          1045
         ],
         "xaxis": "x",
         "y": [
          0,
          0.06083686323921353,
          0.06083686323921353,
          0
         ],
         "yaxis": "y"
        },
        {
         "hoverinfo": "text",
         "marker": {
          "color": "rgb(0,116,217)"
         },
         "mode": "lines",
         "type": "scatter",
         "x": [
          1055,
          1055,
          1065,
          1065
         ],
         "xaxis": "x",
         "y": [
          0,
          0.07187425367981466,
          0.07187425367981466,
          0
         ],
         "yaxis": "y"
        },
        {
         "hoverinfo": "text",
         "marker": {
          "color": "rgb(0,116,217)"
         },
         "mode": "lines",
         "type": "scatter",
         "x": [
          1040,
          1040,
          1060,
          1060
         ],
         "xaxis": "x",
         "y": [
          0.06083686323921353,
          0.21299099289694445,
          0.21299099289694445,
          0.07187425367981466
         ],
         "yaxis": "y"
        },
        {
         "hoverinfo": "text",
         "marker": {
          "color": "rgb(0,116,217)"
         },
         "mode": "lines",
         "type": "scatter",
         "x": [
          1012.5,
          1012.5,
          1050,
          1050
         ],
         "xaxis": "x",
         "y": [
          0.1023888658153299,
          0.6755703140577334,
          0.6755703140577334,
          0.21299099289694445
         ],
         "yaxis": "y"
        },
        {
         "hoverinfo": "text",
         "marker": {
          "color": "rgb(0,116,217)"
         },
         "mode": "lines",
         "type": "scatter",
         "x": [
          961.25,
          961.25,
          1031.25,
          1031.25
         ],
         "xaxis": "x",
         "y": [
          0.45552288493907284,
          0.7565854107786388,
          0.7565854107786388,
          0.6755703140577334
         ],
         "yaxis": "y"
        },
        {
         "hoverinfo": "text",
         "marker": {
          "color": "rgb(0,116,217)"
         },
         "mode": "lines",
         "type": "scatter",
         "x": [
          901.25,
          901.25,
          996.25,
          996.25
         ],
         "xaxis": "x",
         "y": [
          0.5508697858929966,
          1.4428740135208038,
          1.4428740135208038,
          0.7565854107786388
         ],
         "yaxis": "y"
        },
        {
         "hoverinfo": "text",
         "marker": {
          "color": "rgb(0,116,217)"
         },
         "mode": "lines",
         "type": "scatter",
         "x": [
          825.3125,
          825.3125,
          948.75,
          948.75
         ],
         "xaxis": "x",
         "y": [
          1.0462878241102422,
          1.53805441018875,
          1.53805441018875,
          1.4428740135208038
         ],
         "yaxis": "y"
        },
        {
         "hoverinfo": "text",
         "marker": {
          "color": "rgb(0,116,217)"
         },
         "mode": "lines",
         "type": "scatter",
         "x": [
          683.59375,
          683.59375,
          887.03125,
          887.03125
         ],
         "xaxis": "x",
         "y": [
          1.2089133239589829,
          2.7677870101309394,
          2.7677870101309394,
          1.53805441018875
         ],
         "yaxis": "y"
        },
        {
         "hoverinfo": "text",
         "marker": {
          "color": "rgb(0,116,217)"
         },
         "mode": "lines",
         "type": "scatter",
         "x": [
          378.0859375,
          378.0859375,
          785.3125,
          785.3125
         ],
         "xaxis": "x",
         "y": [
          2.545519316373222,
          3.656215383364375,
          3.656215383364375,
          2.7677870101309394
         ],
         "yaxis": "y"
        },
        {
         "hoverinfo": "text",
         "marker": {
          "color": "rgb(0,116,217)"
         },
         "mode": "lines",
         "type": "scatter",
         "x": [
          1075,
          1075,
          1085,
          1085
         ],
         "xaxis": "x",
         "y": [
          0,
          0.15658345824815098,
          0.15658345824815098,
          0
         ],
         "yaxis": "y"
        },
        {
         "hoverinfo": "text",
         "marker": {
          "color": "rgb(0,116,217)"
         },
         "mode": "lines",
         "type": "scatter",
         "x": [
          1105,
          1105,
          1115,
          1115
         ],
         "xaxis": "x",
         "y": [
          0,
          0.0729451775079578,
          0.0729451775079578,
          0
         ],
         "yaxis": "y"
        },
        {
         "hoverinfo": "text",
         "marker": {
          "color": "rgb(0,116,217)"
         },
         "mode": "lines",
         "type": "scatter",
         "x": [
          1095,
          1095,
          1110,
          1110
         ],
         "xaxis": "x",
         "y": [
          0,
          0.20732239938839242,
          0.20732239938839242,
          0.0729451775079578
         ],
         "yaxis": "y"
        },
        {
         "hoverinfo": "text",
         "marker": {
          "color": "rgb(0,116,217)"
         },
         "mode": "lines",
         "type": "scatter",
         "x": [
          1080,
          1080,
          1102.5,
          1102.5
         ],
         "xaxis": "x",
         "y": [
          0.15658345824815098,
          0.3838648829748524,
          0.3838648829748524,
          0.20732239938839242
         ],
         "yaxis": "y"
        },
        {
         "hoverinfo": "text",
         "marker": {
          "color": "rgb(0,116,217)"
         },
         "mode": "lines",
         "type": "scatter",
         "x": [
          1135,
          1135,
          1145,
          1145
         ],
         "xaxis": "x",
         "y": [
          0,
          0.19023845092801822,
          0.19023845092801822,
          0
         ],
         "yaxis": "y"
        },
        {
         "hoverinfo": "text",
         "marker": {
          "color": "rgb(0,116,217)"
         },
         "mode": "lines",
         "type": "scatter",
         "x": [
          1125,
          1125,
          1140,
          1140
         ],
         "xaxis": "x",
         "y": [
          0,
          0.39966302433681344,
          0.39966302433681344,
          0.19023845092801822
         ],
         "yaxis": "y"
        },
        {
         "hoverinfo": "text",
         "marker": {
          "color": "rgb(0,116,217)"
         },
         "mode": "lines",
         "type": "scatter",
         "x": [
          1091.25,
          1091.25,
          1132.5,
          1132.5
         ],
         "xaxis": "x",
         "y": [
          0.3838648829748524,
          0.580709369623532,
          0.580709369623532,
          0.39966302433681344
         ],
         "yaxis": "y"
        },
        {
         "hoverinfo": "text",
         "marker": {
          "color": "rgb(0,116,217)"
         },
         "mode": "lines",
         "type": "scatter",
         "x": [
          1155,
          1155,
          1165,
          1165
         ],
         "xaxis": "x",
         "y": [
          0,
          0.6249471871182029,
          0.6249471871182029,
          0
         ],
         "yaxis": "y"
        },
        {
         "hoverinfo": "text",
         "marker": {
          "color": "rgb(0,116,217)"
         },
         "mode": "lines",
         "type": "scatter",
         "x": [
          1111.875,
          1111.875,
          1160,
          1160
         ],
         "xaxis": "x",
         "y": [
          0.580709369623532,
          0.9743212622071441,
          0.9743212622071441,
          0.6249471871182029
         ],
         "yaxis": "y"
        },
        {
         "hoverinfo": "text",
         "marker": {
          "color": "rgb(0,116,217)"
         },
         "mode": "lines",
         "type": "scatter",
         "x": [
          1175,
          1175,
          1185,
          1185
         ],
         "xaxis": "x",
         "y": [
          0,
          1.2940468818174922,
          1.2940468818174922,
          0
         ],
         "yaxis": "y"
        },
        {
         "hoverinfo": "text",
         "marker": {
          "color": "rgb(0,116,217)"
         },
         "mode": "lines",
         "type": "scatter",
         "x": [
          1195,
          1195,
          1205,
          1205
         ],
         "xaxis": "x",
         "y": [
          0,
          0.11271644260494805,
          0.11271644260494805,
          0
         ],
         "yaxis": "y"
        },
        {
         "hoverinfo": "text",
         "marker": {
          "color": "rgb(0,116,217)"
         },
         "mode": "lines",
         "type": "scatter",
         "x": [
          1215,
          1215,
          1225,
          1225
         ],
         "xaxis": "x",
         "y": [
          0,
          0.4643459792436623,
          0.4643459792436623,
          0
         ],
         "yaxis": "y"
        },
        {
         "hoverinfo": "text",
         "marker": {
          "color": "rgb(0,116,217)"
         },
         "mode": "lines",
         "type": "scatter",
         "x": [
          1200,
          1200,
          1220,
          1220
         ],
         "xaxis": "x",
         "y": [
          0.11271644260494805,
          0.7460454561239486,
          0.7460454561239486,
          0.4643459792436623
         ],
         "yaxis": "y"
        },
        {
         "hoverinfo": "text",
         "marker": {
          "color": "rgb(0,116,217)"
         },
         "mode": "lines",
         "type": "scatter",
         "x": [
          1235,
          1235,
          1245,
          1245
         ],
         "xaxis": "x",
         "y": [
          0,
          0.43205047073066555,
          0.43205047073066555,
          0
         ],
         "yaxis": "y"
        },
        {
         "hoverinfo": "text",
         "marker": {
          "color": "rgb(0,116,217)"
         },
         "mode": "lines",
         "type": "scatter",
         "x": [
          1255,
          1255,
          1265,
          1265
         ],
         "xaxis": "x",
         "y": [
          0,
          0.20516902363175846,
          0.20516902363175846,
          0
         ],
         "yaxis": "y"
        },
        {
         "hoverinfo": "text",
         "marker": {
          "color": "rgb(0,116,217)"
         },
         "mode": "lines",
         "type": "scatter",
         "x": [
          1305,
          1305,
          1315,
          1315
         ],
         "xaxis": "x",
         "y": [
          0,
          0.06513099961080776,
          0.06513099961080776,
          0
         ],
         "yaxis": "y"
        },
        {
         "hoverinfo": "text",
         "marker": {
          "color": "rgb(0,116,217)"
         },
         "mode": "lines",
         "type": "scatter",
         "x": [
          1295,
          1295,
          1310,
          1310
         ],
         "xaxis": "x",
         "y": [
          0,
          0.23814368368487326,
          0.23814368368487326,
          0.06513099961080776
         ],
         "yaxis": "y"
        },
        {
         "hoverinfo": "text",
         "marker": {
          "color": "rgb(0,116,217)"
         },
         "mode": "lines",
         "type": "scatter",
         "x": [
          1285,
          1285,
          1302.5,
          1302.5
         ],
         "xaxis": "x",
         "y": [
          0,
          0.29888561320396617,
          0.29888561320396617,
          0.23814368368487326
         ],
         "yaxis": "y"
        },
        {
         "hoverinfo": "text",
         "marker": {
          "color": "rgb(0,116,217)"
         },
         "mode": "lines",
         "type": "scatter",
         "x": [
          1275,
          1275,
          1293.75,
          1293.75
         ],
         "xaxis": "x",
         "y": [
          0,
          0.633498958245753,
          0.633498958245753,
          0.29888561320396617
         ],
         "yaxis": "y"
        },
        {
         "hoverinfo": "text",
         "marker": {
          "color": "rgb(0,116,217)"
         },
         "mode": "lines",
         "type": "scatter",
         "x": [
          1260,
          1260,
          1284.375,
          1284.375
         ],
         "xaxis": "x",
         "y": [
          0.20516902363175846,
          0.800224661694128,
          0.800224661694128,
          0.633498958245753
         ],
         "yaxis": "y"
        },
        {
         "hoverinfo": "text",
         "marker": {
          "color": "rgb(0,116,217)"
         },
         "mode": "lines",
         "type": "scatter",
         "x": [
          1240,
          1240,
          1272.1875,
          1272.1875
         ],
         "xaxis": "x",
         "y": [
          0.43205047073066555,
          1.175050277804807,
          1.175050277804807,
          0.800224661694128
         ],
         "yaxis": "y"
        },
        {
         "hoverinfo": "text",
         "marker": {
          "color": "rgb(0,116,217)"
         },
         "mode": "lines",
         "type": "scatter",
         "x": [
          1210,
          1210,
          1256.09375,
          1256.09375
         ],
         "xaxis": "x",
         "y": [
          0.7460454561239486,
          1.697998446020174,
          1.697998446020174,
          1.175050277804807
         ],
         "yaxis": "y"
        },
        {
         "hoverinfo": "text",
         "marker": {
          "color": "rgb(0,116,217)"
         },
         "mode": "lines",
         "type": "scatter",
         "x": [
          1180,
          1180,
          1233.046875,
          1233.046875
         ],
         "xaxis": "x",
         "y": [
          1.2940468818174922,
          2.34864893233201,
          2.34864893233201,
          1.697998446020174
         ],
         "yaxis": "y"
        },
        {
         "hoverinfo": "text",
         "marker": {
          "color": "rgb(0,116,217)"
         },
         "mode": "lines",
         "type": "scatter",
         "x": [
          1135.9375,
          1135.9375,
          1206.5234375,
          1206.5234375
         ],
         "xaxis": "x",
         "y": [
          0.9743212622071441,
          2.8879838845911796,
          2.8879838845911796,
          2.34864893233201
         ],
         "yaxis": "y"
        },
        {
         "hoverinfo": "text",
         "marker": {
          "color": "rgb(0,116,217)"
         },
         "mode": "lines",
         "type": "scatter",
         "x": [
          1335,
          1335,
          1345,
          1345
         ],
         "xaxis": "x",
         "y": [
          0,
          0.8248877762131552,
          0.8248877762131552,
          0
         ],
         "yaxis": "y"
        },
        {
         "hoverinfo": "text",
         "marker": {
          "color": "rgb(0,116,217)"
         },
         "mode": "lines",
         "type": "scatter",
         "x": [
          1325,
          1325,
          1340,
          1340
         ],
         "xaxis": "x",
         "y": [
          0,
          2.2643584866206887,
          2.2643584866206887,
          0.8248877762131552
         ],
         "yaxis": "y"
        },
        {
         "hoverinfo": "text",
         "marker": {
          "color": "rgb(0,116,217)"
         },
         "mode": "lines",
         "type": "scatter",
         "x": [
          1355,
          1355,
          1365,
          1365
         ],
         "xaxis": "x",
         "y": [
          0,
          0.20279901960648383,
          0.20279901960648383,
          0
         ],
         "yaxis": "y"
        },
        {
         "hoverinfo": "text",
         "marker": {
          "color": "rgb(0,116,217)"
         },
         "mode": "lines",
         "type": "scatter",
         "x": [
          1375,
          1375,
          1385,
          1385
         ],
         "xaxis": "x",
         "y": [
          0,
          0.31973050231228056,
          0.31973050231228056,
          0
         ],
         "yaxis": "y"
        },
        {
         "hoverinfo": "text",
         "marker": {
          "color": "rgb(0,116,217)"
         },
         "mode": "lines",
         "type": "scatter",
         "x": [
          1360,
          1360,
          1380,
          1380
         ],
         "xaxis": "x",
         "y": [
          0.20279901960648383,
          0.5732173748390248,
          0.5732173748390248,
          0.31973050231228056
         ],
         "yaxis": "y"
        },
        {
         "hoverinfo": "text",
         "marker": {
          "color": "rgb(0,116,217)"
         },
         "mode": "lines",
         "type": "scatter",
         "x": [
          1395,
          1395,
          1405,
          1405
         ],
         "xaxis": "x",
         "y": [
          0,
          0.29915339124185686,
          0.29915339124185686,
          0
         ],
         "yaxis": "y"
        },
        {
         "hoverinfo": "text",
         "marker": {
          "color": "rgb(0,116,217)"
         },
         "mode": "lines",
         "type": "scatter",
         "x": [
          1425,
          1425,
          1435,
          1435
         ],
         "xaxis": "x",
         "y": [
          0,
          0.08697722836617143,
          0.08697722836617143,
          0
         ],
         "yaxis": "y"
        },
        {
         "hoverinfo": "text",
         "marker": {
          "color": "rgb(0,116,217)"
         },
         "mode": "lines",
         "type": "scatter",
         "x": [
          1445,
          1445,
          1455,
          1455
         ],
         "xaxis": "x",
         "y": [
          0,
          0.10249159646996484,
          0.10249159646996484,
          0
         ],
         "yaxis": "y"
        },
        {
         "hoverinfo": "text",
         "marker": {
          "color": "rgb(0,116,217)"
         },
         "mode": "lines",
         "type": "scatter",
         "x": [
          1430,
          1430,
          1450,
          1450
         ],
         "xaxis": "x",
         "y": [
          0.08697722836617143,
          0.24844228152509495,
          0.24844228152509495,
          0.10249159646996484
         ],
         "yaxis": "y"
        },
        {
         "hoverinfo": "text",
         "marker": {
          "color": "rgb(0,116,217)"
         },
         "mode": "lines",
         "type": "scatter",
         "x": [
          1415,
          1415,
          1440,
          1440
         ],
         "xaxis": "x",
         "y": [
          0,
          0.42964857927034955,
          0.42964857927034955,
          0.24844228152509495
         ],
         "yaxis": "y"
        },
        {
         "hoverinfo": "text",
         "marker": {
          "color": "rgb(0,116,217)"
         },
         "mode": "lines",
         "type": "scatter",
         "x": [
          1400,
          1400,
          1427.5,
          1427.5
         ],
         "xaxis": "x",
         "y": [
          0.29915339124185686,
          0.7803105881556456,
          0.7803105881556456,
          0.42964857927034955
         ],
         "yaxis": "y"
        },
        {
         "hoverinfo": "text",
         "marker": {
          "color": "rgb(0,116,217)"
         },
         "mode": "lines",
         "type": "scatter",
         "x": [
          1370,
          1370,
          1413.75,
          1413.75
         ],
         "xaxis": "x",
         "y": [
          0.5732173748390248,
          1.205295720792608,
          1.205295720792608,
          0.7803105881556456
         ],
         "yaxis": "y"
        },
        {
         "hoverinfo": "text",
         "marker": {
          "color": "rgb(0,116,217)"
         },
         "mode": "lines",
         "type": "scatter",
         "x": [
          1495,
          1495,
          1505,
          1505
         ],
         "xaxis": "x",
         "y": [
          0,
          0.14326277318422578,
          0.14326277318422578,
          0
         ],
         "yaxis": "y"
        },
        {
         "hoverinfo": "text",
         "marker": {
          "color": "rgb(0,116,217)"
         },
         "mode": "lines",
         "type": "scatter",
         "x": [
          1485,
          1485,
          1500,
          1500
         ],
         "xaxis": "x",
         "y": [
          0,
          0.23090900752437055,
          0.23090900752437055,
          0.14326277318422578
         ],
         "yaxis": "y"
        },
        {
         "hoverinfo": "text",
         "marker": {
          "color": "rgb(0,116,217)"
         },
         "mode": "lines",
         "type": "scatter",
         "x": [
          1475,
          1475,
          1492.5,
          1492.5
         ],
         "xaxis": "x",
         "y": [
          0,
          0.3445245746743373,
          0.3445245746743373,
          0.23090900752437055
         ],
         "yaxis": "y"
        },
        {
         "hoverinfo": "text",
         "marker": {
          "color": "rgb(0,116,217)"
         },
         "mode": "lines",
         "type": "scatter",
         "x": [
          1465,
          1465,
          1483.75,
          1483.75
         ],
         "xaxis": "x",
         "y": [
          0,
          0.48963812658434086,
          0.48963812658434086,
          0.3445245746743373
         ],
         "yaxis": "y"
        },
        {
         "hoverinfo": "text",
         "marker": {
          "color": "rgb(0,116,217)"
         },
         "mode": "lines",
         "type": "scatter",
         "x": [
          1525,
          1525,
          1535,
          1535
         ],
         "xaxis": "x",
         "y": [
          0,
          0.3028662414068256,
          0.3028662414068256,
          0
         ],
         "yaxis": "y"
        },
        {
         "hoverinfo": "text",
         "marker": {
          "color": "rgb(0,116,217)"
         },
         "mode": "lines",
         "type": "scatter",
         "x": [
          1515,
          1515,
          1530,
          1530
         ],
         "xaxis": "x",
         "y": [
          0,
          0.5722403319022892,
          0.5722403319022892,
          0.3028662414068256
         ],
         "yaxis": "y"
        },
        {
         "hoverinfo": "text",
         "marker": {
          "color": "rgb(0,116,217)"
         },
         "mode": "lines",
         "type": "scatter",
         "x": [
          1474.375,
          1474.375,
          1522.5,
          1522.5
         ],
         "xaxis": "x",
         "y": [
          0.48963812658434086,
          1.6044111861770156,
          1.6044111861770156,
          0.5722403319022892
         ],
         "yaxis": "y"
        },
        {
         "hoverinfo": "text",
         "marker": {
          "color": "rgb(0,116,217)"
         },
         "mode": "lines",
         "type": "scatter",
         "x": [
          1391.875,
          1391.875,
          1498.4375,
          1498.4375
         ],
         "xaxis": "x",
         "y": [
          1.205295720792608,
          2.3324382734619657,
          2.3324382734619657,
          1.6044111861770156
         ],
         "yaxis": "y"
        },
        {
         "hoverinfo": "text",
         "marker": {
          "color": "rgb(0,116,217)"
         },
         "mode": "lines",
         "type": "scatter",
         "x": [
          1332.5,
          1332.5,
          1445.15625,
          1445.15625
         ],
         "xaxis": "x",
         "y": [
          2.2643584866206887,
          3.5839042551525644,
          3.5839042551525644,
          2.3324382734619657
         ],
         "yaxis": "y"
        },
        {
         "hoverinfo": "text",
         "marker": {
          "color": "rgb(0,116,217)"
         },
         "mode": "lines",
         "type": "scatter",
         "x": [
          1171.23046875,
          1171.23046875,
          1388.828125,
          1388.828125
         ],
         "xaxis": "x",
         "y": [
          2.8879838845911796,
          5.861510474534836,
          5.861510474534836,
          3.5839042551525644
         ],
         "yaxis": "y"
        },
        {
         "hoverinfo": "text",
         "marker": {
          "color": "rgb(0,116,217)"
         },
         "mode": "lines",
         "type": "scatter",
         "x": [
          581.69921875,
          581.69921875,
          1280.029296875,
          1280.029296875
         ],
         "xaxis": "x",
         "y": [
          3.656215383364375,
          6.634677468113986,
          6.634677468113986,
          5.861510474534836
         ],
         "yaxis": "y"
        },
        {
         "hoverinfo": "text",
         "marker": {
          "color": "rgb(0,116,217)"
         },
         "mode": "lines",
         "type": "scatter",
         "x": [
          135.0390625,
          135.0390625,
          930.8642578125,
          930.8642578125
         ],
         "xaxis": "x",
         "y": [
          4.047971564916184,
          8.881867412542473,
          8.881867412542473,
          6.634677468113986
         ],
         "yaxis": "y"
        }
       ],
       "layout": {
        "autosize": false,
        "height": 500,
        "hovermode": "closest",
        "showlegend": false,
        "template": {
         "data": {
          "bar": [
           {
            "error_x": {
             "color": "#2a3f5f"
            },
            "error_y": {
             "color": "#2a3f5f"
            },
            "marker": {
             "line": {
              "color": "#E5ECF6",
              "width": 0.5
             }
            },
            "type": "bar"
           }
          ],
          "barpolar": [
           {
            "marker": {
             "line": {
              "color": "#E5ECF6",
              "width": 0.5
             }
            },
            "type": "barpolar"
           }
          ],
          "carpet": [
           {
            "aaxis": {
             "endlinecolor": "#2a3f5f",
             "gridcolor": "white",
             "linecolor": "white",
             "minorgridcolor": "white",
             "startlinecolor": "#2a3f5f"
            },
            "baxis": {
             "endlinecolor": "#2a3f5f",
             "gridcolor": "white",
             "linecolor": "white",
             "minorgridcolor": "white",
             "startlinecolor": "#2a3f5f"
            },
            "type": "carpet"
           }
          ],
          "choropleth": [
           {
            "colorbar": {
             "outlinewidth": 0,
             "ticks": ""
            },
            "type": "choropleth"
           }
          ],
          "contour": [
           {
            "colorbar": {
             "outlinewidth": 0,
             "ticks": ""
            },
            "colorscale": [
             [
              0,
              "#0d0887"
             ],
             [
              0.1111111111111111,
              "#46039f"
             ],
             [
              0.2222222222222222,
              "#7201a8"
             ],
             [
              0.3333333333333333,
              "#9c179e"
             ],
             [
              0.4444444444444444,
              "#bd3786"
             ],
             [
              0.5555555555555556,
              "#d8576b"
             ],
             [
              0.6666666666666666,
              "#ed7953"
             ],
             [
              0.7777777777777778,
              "#fb9f3a"
             ],
             [
              0.8888888888888888,
              "#fdca26"
             ],
             [
              1,
              "#f0f921"
             ]
            ],
            "type": "contour"
           }
          ],
          "contourcarpet": [
           {
            "colorbar": {
             "outlinewidth": 0,
             "ticks": ""
            },
            "type": "contourcarpet"
           }
          ],
          "heatmap": [
           {
            "colorbar": {
             "outlinewidth": 0,
             "ticks": ""
            },
            "colorscale": [
             [
              0,
              "#0d0887"
             ],
             [
              0.1111111111111111,
              "#46039f"
             ],
             [
              0.2222222222222222,
              "#7201a8"
             ],
             [
              0.3333333333333333,
              "#9c179e"
             ],
             [
              0.4444444444444444,
              "#bd3786"
             ],
             [
              0.5555555555555556,
              "#d8576b"
             ],
             [
              0.6666666666666666,
              "#ed7953"
             ],
             [
              0.7777777777777778,
              "#fb9f3a"
             ],
             [
              0.8888888888888888,
              "#fdca26"
             ],
             [
              1,
              "#f0f921"
             ]
            ],
            "type": "heatmap"
           }
          ],
          "heatmapgl": [
           {
            "colorbar": {
             "outlinewidth": 0,
             "ticks": ""
            },
            "colorscale": [
             [
              0,
              "#0d0887"
             ],
             [
              0.1111111111111111,
              "#46039f"
             ],
             [
              0.2222222222222222,
              "#7201a8"
             ],
             [
              0.3333333333333333,
              "#9c179e"
             ],
             [
              0.4444444444444444,
              "#bd3786"
             ],
             [
              0.5555555555555556,
              "#d8576b"
             ],
             [
              0.6666666666666666,
              "#ed7953"
             ],
             [
              0.7777777777777778,
              "#fb9f3a"
             ],
             [
              0.8888888888888888,
              "#fdca26"
             ],
             [
              1,
              "#f0f921"
             ]
            ],
            "type": "heatmapgl"
           }
          ],
          "histogram": [
           {
            "marker": {
             "colorbar": {
              "outlinewidth": 0,
              "ticks": ""
             }
            },
            "type": "histogram"
           }
          ],
          "histogram2d": [
           {
            "colorbar": {
             "outlinewidth": 0,
             "ticks": ""
            },
            "colorscale": [
             [
              0,
              "#0d0887"
             ],
             [
              0.1111111111111111,
              "#46039f"
             ],
             [
              0.2222222222222222,
              "#7201a8"
             ],
             [
              0.3333333333333333,
              "#9c179e"
             ],
             [
              0.4444444444444444,
              "#bd3786"
             ],
             [
              0.5555555555555556,
              "#d8576b"
             ],
             [
              0.6666666666666666,
              "#ed7953"
             ],
             [
              0.7777777777777778,
              "#fb9f3a"
             ],
             [
              0.8888888888888888,
              "#fdca26"
             ],
             [
              1,
              "#f0f921"
             ]
            ],
            "type": "histogram2d"
           }
          ],
          "histogram2dcontour": [
           {
            "colorbar": {
             "outlinewidth": 0,
             "ticks": ""
            },
            "colorscale": [
             [
              0,
              "#0d0887"
             ],
             [
              0.1111111111111111,
              "#46039f"
             ],
             [
              0.2222222222222222,
              "#7201a8"
             ],
             [
              0.3333333333333333,
              "#9c179e"
             ],
             [
              0.4444444444444444,
              "#bd3786"
             ],
             [
              0.5555555555555556,
              "#d8576b"
             ],
             [
              0.6666666666666666,
              "#ed7953"
             ],
             [
              0.7777777777777778,
              "#fb9f3a"
             ],
             [
              0.8888888888888888,
              "#fdca26"
             ],
             [
              1,
              "#f0f921"
             ]
            ],
            "type": "histogram2dcontour"
           }
          ],
          "mesh3d": [
           {
            "colorbar": {
             "outlinewidth": 0,
             "ticks": ""
            },
            "type": "mesh3d"
           }
          ],
          "parcoords": [
           {
            "line": {
             "colorbar": {
              "outlinewidth": 0,
              "ticks": ""
             }
            },
            "type": "parcoords"
           }
          ],
          "pie": [
           {
            "automargin": true,
            "type": "pie"
           }
          ],
          "scatter": [
           {
            "marker": {
             "colorbar": {
              "outlinewidth": 0,
              "ticks": ""
             }
            },
            "type": "scatter"
           }
          ],
          "scatter3d": [
           {
            "line": {
             "colorbar": {
              "outlinewidth": 0,
              "ticks": ""
             }
            },
            "marker": {
             "colorbar": {
              "outlinewidth": 0,
              "ticks": ""
             }
            },
            "type": "scatter3d"
           }
          ],
          "scattercarpet": [
           {
            "marker": {
             "colorbar": {
              "outlinewidth": 0,
              "ticks": ""
             }
            },
            "type": "scattercarpet"
           }
          ],
          "scattergeo": [
           {
            "marker": {
             "colorbar": {
              "outlinewidth": 0,
              "ticks": ""
             }
            },
            "type": "scattergeo"
           }
          ],
          "scattergl": [
           {
            "marker": {
             "colorbar": {
              "outlinewidth": 0,
              "ticks": ""
             }
            },
            "type": "scattergl"
           }
          ],
          "scattermapbox": [
           {
            "marker": {
             "colorbar": {
              "outlinewidth": 0,
              "ticks": ""
             }
            },
            "type": "scattermapbox"
           }
          ],
          "scatterpolar": [
           {
            "marker": {
             "colorbar": {
              "outlinewidth": 0,
              "ticks": ""
             }
            },
            "type": "scatterpolar"
           }
          ],
          "scatterpolargl": [
           {
            "marker": {
             "colorbar": {
              "outlinewidth": 0,
              "ticks": ""
             }
            },
            "type": "scatterpolargl"
           }
          ],
          "scatterternary": [
           {
            "marker": {
             "colorbar": {
              "outlinewidth": 0,
              "ticks": ""
             }
            },
            "type": "scatterternary"
           }
          ],
          "surface": [
           {
            "colorbar": {
             "outlinewidth": 0,
             "ticks": ""
            },
            "colorscale": [
             [
              0,
              "#0d0887"
             ],
             [
              0.1111111111111111,
              "#46039f"
             ],
             [
              0.2222222222222222,
              "#7201a8"
             ],
             [
              0.3333333333333333,
              "#9c179e"
             ],
             [
              0.4444444444444444,
              "#bd3786"
             ],
             [
              0.5555555555555556,
              "#d8576b"
             ],
             [
              0.6666666666666666,
              "#ed7953"
             ],
             [
              0.7777777777777778,
              "#fb9f3a"
             ],
             [
              0.8888888888888888,
              "#fdca26"
             ],
             [
              1,
              "#f0f921"
             ]
            ],
            "type": "surface"
           }
          ],
          "table": [
           {
            "cells": {
             "fill": {
              "color": "#EBF0F8"
             },
             "line": {
              "color": "white"
             }
            },
            "header": {
             "fill": {
              "color": "#C8D4E3"
             },
             "line": {
              "color": "white"
             }
            },
            "type": "table"
           }
          ]
         },
         "layout": {
          "annotationdefaults": {
           "arrowcolor": "#2a3f5f",
           "arrowhead": 0,
           "arrowwidth": 1
          },
          "autotypenumbers": "strict",
          "coloraxis": {
           "colorbar": {
            "outlinewidth": 0,
            "ticks": ""
           }
          },
          "colorscale": {
           "diverging": [
            [
             0,
             "#8e0152"
            ],
            [
             0.1,
             "#c51b7d"
            ],
            [
             0.2,
             "#de77ae"
            ],
            [
             0.3,
             "#f1b6da"
            ],
            [
             0.4,
             "#fde0ef"
            ],
            [
             0.5,
             "#f7f7f7"
            ],
            [
             0.6,
             "#e6f5d0"
            ],
            [
             0.7,
             "#b8e186"
            ],
            [
             0.8,
             "#7fbc41"
            ],
            [
             0.9,
             "#4d9221"
            ],
            [
             1,
             "#276419"
            ]
           ],
           "sequential": [
            [
             0,
             "#0d0887"
            ],
            [
             0.1111111111111111,
             "#46039f"
            ],
            [
             0.2222222222222222,
             "#7201a8"
            ],
            [
             0.3333333333333333,
             "#9c179e"
            ],
            [
             0.4444444444444444,
             "#bd3786"
            ],
            [
             0.5555555555555556,
             "#d8576b"
            ],
            [
             0.6666666666666666,
             "#ed7953"
            ],
            [
             0.7777777777777778,
             "#fb9f3a"
            ],
            [
             0.8888888888888888,
             "#fdca26"
            ],
            [
             1,
             "#f0f921"
            ]
           ],
           "sequentialminus": [
            [
             0,
             "#0d0887"
            ],
            [
             0.1111111111111111,
             "#46039f"
            ],
            [
             0.2222222222222222,
             "#7201a8"
            ],
            [
             0.3333333333333333,
             "#9c179e"
            ],
            [
             0.4444444444444444,
             "#bd3786"
            ],
            [
             0.5555555555555556,
             "#d8576b"
            ],
            [
             0.6666666666666666,
             "#ed7953"
            ],
            [
             0.7777777777777778,
             "#fb9f3a"
            ],
            [
             0.8888888888888888,
             "#fdca26"
            ],
            [
             1,
             "#f0f921"
            ]
           ]
          },
          "colorway": [
           "#636efa",
           "#EF553B",
           "#00cc96",
           "#ab63fa",
           "#FFA15A",
           "#19d3f3",
           "#FF6692",
           "#B6E880",
           "#FF97FF",
           "#FECB52"
          ],
          "font": {
           "color": "#2a3f5f"
          },
          "geo": {
           "bgcolor": "white",
           "lakecolor": "white",
           "landcolor": "#E5ECF6",
           "showlakes": true,
           "showland": true,
           "subunitcolor": "white"
          },
          "hoverlabel": {
           "align": "left"
          },
          "hovermode": "closest",
          "mapbox": {
           "style": "light"
          },
          "paper_bgcolor": "white",
          "plot_bgcolor": "#E5ECF6",
          "polar": {
           "angularaxis": {
            "gridcolor": "white",
            "linecolor": "white",
            "ticks": ""
           },
           "bgcolor": "#E5ECF6",
           "radialaxis": {
            "gridcolor": "white",
            "linecolor": "white",
            "ticks": ""
           }
          },
          "scene": {
           "xaxis": {
            "backgroundcolor": "#E5ECF6",
            "gridcolor": "white",
            "gridwidth": 2,
            "linecolor": "white",
            "showbackground": true,
            "ticks": "",
            "zerolinecolor": "white"
           },
           "yaxis": {
            "backgroundcolor": "#E5ECF6",
            "gridcolor": "white",
            "gridwidth": 2,
            "linecolor": "white",
            "showbackground": true,
            "ticks": "",
            "zerolinecolor": "white"
           },
           "zaxis": {
            "backgroundcolor": "#E5ECF6",
            "gridcolor": "white",
            "gridwidth": 2,
            "linecolor": "white",
            "showbackground": true,
            "ticks": "",
            "zerolinecolor": "white"
           }
          },
          "shapedefaults": {
           "line": {
            "color": "#2a3f5f"
           }
          },
          "ternary": {
           "aaxis": {
            "gridcolor": "white",
            "linecolor": "white",
            "ticks": ""
           },
           "baxis": {
            "gridcolor": "white",
            "linecolor": "white",
            "ticks": ""
           },
           "bgcolor": "#E5ECF6",
           "caxis": {
            "gridcolor": "white",
            "linecolor": "white",
            "ticks": ""
           }
          },
          "title": {
           "x": 0.05
          },
          "xaxis": {
           "automargin": true,
           "gridcolor": "white",
           "linecolor": "white",
           "ticks": "",
           "title": {
            "standoff": 15
           },
           "zerolinecolor": "white",
           "zerolinewidth": 2
          },
          "yaxis": {
           "automargin": true,
           "gridcolor": "white",
           "linecolor": "white",
           "ticks": "",
           "title": {
            "standoff": 15
           },
           "zerolinecolor": "white",
           "zerolinewidth": 2
          }
         }
        },
        "width": 800,
        "xaxis": {
         "mirror": "allticks",
         "rangemode": "tozero",
         "showgrid": false,
         "showline": true,
         "showticklabels": true,
         "tickmode": "array",
         "ticks": "outside",
         "ticktext": [
          "75",
          "148",
          "127",
          "121",
          "136",
          "138",
          "102",
          "109",
          "135",
          "116",
          "143",
          "142",
          "149",
          "150",
          "112",
          "133",
          "139",
          "137",
          "141",
          "124",
          "67",
          "122",
          "131",
          "108",
          "134",
          "146",
          "147",
          "53",
          "14",
          "25",
          "103",
          "34",
          "72",
          "41",
          "44",
          "36",
          "52",
          "20",
          "26",
          "39",
          "46",
          "50",
          "60",
          "8",
          "152",
          "61",
          "140",
          "113",
          "120",
          "71",
          "49",
          "70",
          "118",
          "58",
          "68",
          "74",
          "129",
          "42",
          "59",
          "107",
          "110",
          "125",
          "31",
          "56",
          "18",
          "40",
          "123",
          "17",
          "99",
          "33",
          "54",
          "66",
          "64",
          "43",
          "57",
          "51",
          "29",
          "35",
          "23",
          "97",
          "84",
          "6",
          "85",
          "96",
          "16",
          "27",
          "3",
          "30",
          "37",
          "92",
          "19",
          "9",
          "11",
          "21",
          "32",
          "153",
          "63",
          "98",
          "22",
          "48",
          "12",
          "4",
          "100",
          "5",
          "28",
          "15",
          "95",
          "81",
          "88",
          "79",
          "77",
          "83",
          "1",
          "2",
          "78",
          "7",
          "80",
          "13",
          "24",
          "10",
          "91",
          "90",
          "101",
          "0",
          "86",
          "87",
          "94",
          "93",
          "82",
          "76",
          "47",
          "89",
          "106",
          "144",
          "151",
          "115",
          "145",
          "114",
          "117",
          "130",
          "132",
          "128",
          "104",
          "126",
          "38",
          "55",
          "111",
          "73",
          "105",
          "45",
          "119",
          "69",
          "62",
          "65"
         ],
         "tickvals": [
          5,
          15,
          25,
          35,
          45,
          55,
          65,
          75,
          85,
          95,
          105,
          115,
          125,
          135,
          145,
          155,
          165,
          175,
          185,
          195,
          205,
          215,
          225,
          235,
          245,
          255,
          265,
          275,
          285,
          295,
          305,
          315,
          325,
          335,
          345,
          355,
          365,
          375,
          385,
          395,
          405,
          415,
          425,
          435,
          445,
          455,
          465,
          475,
          485,
          495,
          505,
          515,
          525,
          535,
          545,
          555,
          565,
          575,
          585,
          595,
          605,
          615,
          625,
          635,
          645,
          655,
          665,
          675,
          685,
          695,
          705,
          715,
          725,
          735,
          745,
          755,
          765,
          775,
          785,
          795,
          805,
          815,
          825,
          835,
          845,
          855,
          865,
          875,
          885,
          895,
          905,
          915,
          925,
          935,
          945,
          955,
          965,
          975,
          985,
          995,
          1005,
          1015,
          1025,
          1035,
          1045,
          1055,
          1065,
          1075,
          1085,
          1095,
          1105,
          1115,
          1125,
          1135,
          1145,
          1155,
          1165,
          1175,
          1185,
          1195,
          1205,
          1215,
          1225,
          1235,
          1245,
          1255,
          1265,
          1275,
          1285,
          1295,
          1305,
          1315,
          1325,
          1335,
          1345,
          1355,
          1365,
          1375,
          1385,
          1395,
          1405,
          1415,
          1425,
          1435,
          1445,
          1455,
          1465,
          1475,
          1485,
          1495,
          1505,
          1515,
          1525,
          1535
         ],
         "type": "linear",
         "zeroline": false
        },
        "yaxis": {
         "mirror": "allticks",
         "rangemode": "tozero",
         "showgrid": false,
         "showline": true,
         "showticklabels": true,
         "ticks": "outside",
         "type": "linear",
         "zeroline": false
        }
       }
      },
      "text/html": [
       "<div>                            <div id=\"044443c0-65f0-4cc2-ac4c-9b8bb92e156a\" class=\"plotly-graph-div\" style=\"height:500px; width:800px;\"></div>            <script type=\"text/javascript\">                require([\"plotly\"], function(Plotly) {                    window.PLOTLYENV=window.PLOTLYENV || {};                                    if (document.getElementById(\"044443c0-65f0-4cc2-ac4c-9b8bb92e156a\")) {                    Plotly.newPlot(                        \"044443c0-65f0-4cc2-ac4c-9b8bb92e156a\",                        [{\"hoverinfo\": \"text\", \"marker\": {\"color\": \"rgb(0,116,217)\"}, \"mode\": \"lines\", \"type\": \"scatter\", \"x\": [5.0, 5.0, 15.0, 15.0], \"xaxis\": \"x\", \"y\": [0.0, 0.21474350938269296, 0.21474350938269296, 0.0], \"yaxis\": \"y\"}, {\"hoverinfo\": \"text\", \"marker\": {\"color\": \"rgb(0,116,217)\"}, \"mode\": \"lines\", \"type\": \"scatter\", \"x\": [35.0, 35.0, 45.0, 45.0], \"xaxis\": \"x\", \"y\": [0.0, 0.1272754303028643, 0.1272754303028643, 0.0], \"yaxis\": \"y\"}, {\"hoverinfo\": \"text\", \"marker\": {\"color\": \"rgb(0,116,217)\"}, \"mode\": \"lines\", \"type\": \"scatter\", \"x\": [25.0, 25.0, 40.0, 40.0], \"xaxis\": \"x\", \"y\": [0.0, 0.23669950429625622, 0.23669950429625622, 0.1272754303028643], \"yaxis\": \"y\"}, {\"hoverinfo\": \"text\", \"marker\": {\"color\": \"rgb(0,116,217)\"}, \"mode\": \"lines\", \"type\": \"scatter\", \"x\": [65.0, 65.0, 75.0, 75.0], \"xaxis\": \"x\", \"y\": [0.0, 0.049038658380601084, 0.049038658380601084, 0.0], \"yaxis\": \"y\"}, {\"hoverinfo\": \"text\", \"marker\": {\"color\": \"rgb(0,116,217)\"}, \"mode\": \"lines\", \"type\": \"scatter\", \"x\": [55.0, 55.0, 70.0, 70.0], \"xaxis\": \"x\", \"y\": [0.0, 0.46893710131125194, 0.46893710131125194, 0.049038658380601084], \"yaxis\": \"y\"}, {\"hoverinfo\": \"text\", \"marker\": {\"color\": \"rgb(0,116,217)\"}, \"mode\": \"lines\", \"type\": \"scatter\", \"x\": [32.5, 32.5, 62.5, 62.5], \"xaxis\": \"x\", \"y\": [0.23669950429625622, 0.5357308641311987, 0.5357308641311987, 0.46893710131125194], \"yaxis\": \"y\"}, {\"hoverinfo\": \"text\", \"marker\": {\"color\": \"rgb(0,116,217)\"}, \"mode\": \"lines\", \"type\": \"scatter\", \"x\": [10.0, 10.0, 47.5, 47.5], \"xaxis\": \"x\", \"y\": [0.21474350938269296, 0.8687465268711195, 0.8687465268711195, 0.5357308641311987], \"yaxis\": \"y\"}, {\"hoverinfo\": \"text\", \"marker\": {\"color\": \"rgb(0,116,217)\"}, \"mode\": \"lines\", \"type\": \"scatter\", \"x\": [95.0, 95.0, 105.0, 105.0], \"xaxis\": \"x\", \"y\": [0.0, 0.43379693536585856, 0.43379693536585856, 0.0], \"yaxis\": \"y\"}, {\"hoverinfo\": \"text\", \"marker\": {\"color\": \"rgb(0,116,217)\"}, \"mode\": \"lines\", \"type\": \"scatter\", \"x\": [85.0, 85.0, 100.0, 100.0], \"xaxis\": \"x\", \"y\": [0.0, 0.9090589607951242, 0.9090589607951242, 0.43379693536585856], \"yaxis\": \"y\"}, {\"hoverinfo\": \"text\", \"marker\": {\"color\": \"rgb(0,116,217)\"}, \"mode\": \"lines\", \"type\": \"scatter\", \"x\": [28.75, 28.75, 92.5, 92.5], \"xaxis\": \"x\", \"y\": [0.8687465268711195, 1.4751410842020802, 1.4751410842020802, 0.9090589607951242], \"yaxis\": \"y\"}, {\"hoverinfo\": \"text\", \"marker\": {\"color\": \"rgb(0,116,217)\"}, \"mode\": \"lines\", \"type\": \"scatter\", \"x\": [125.0, 125.0, 135.0, 135.0], \"xaxis\": \"x\", \"y\": [0.0, 0.1396420094488505, 0.1396420094488505, 0.0], \"yaxis\": \"y\"}, {\"hoverinfo\": \"text\", \"marker\": {\"color\": \"rgb(0,116,217)\"}, \"mode\": \"lines\", \"type\": \"scatter\", \"x\": [145.0, 145.0, 155.0, 155.0], \"xaxis\": \"x\", \"y\": [0.0, 0.1582651820333247, 0.1582651820333247, 0.0], \"yaxis\": \"y\"}, {\"hoverinfo\": \"text\", \"marker\": {\"color\": \"rgb(0,116,217)\"}, \"mode\": \"lines\", \"type\": \"scatter\", \"x\": [130.0, 130.0, 150.0, 150.0], \"xaxis\": \"x\", \"y\": [0.1396420094488505, 0.4064388296899845, 0.4064388296899845, 0.1582651820333247], \"yaxis\": \"y\"}, {\"hoverinfo\": \"text\", \"marker\": {\"color\": \"rgb(0,116,217)\"}, \"mode\": \"lines\", \"type\": \"scatter\", \"x\": [115.0, 115.0, 140.0, 140.0], \"xaxis\": \"x\", \"y\": [0.0, 0.9489978677435394, 0.9489978677435394, 0.4064388296899845], \"yaxis\": \"y\"}, {\"hoverinfo\": \"text\", \"marker\": {\"color\": \"rgb(0,116,217)\"}, \"mode\": \"lines\", \"type\": \"scatter\", \"x\": [175.0, 175.0, 185.0, 185.0], \"xaxis\": \"x\", \"y\": [0.0, 0.19002712864320545, 0.19002712864320545, 0.0], \"yaxis\": \"y\"}, {\"hoverinfo\": \"text\", \"marker\": {\"color\": \"rgb(0,116,217)\"}, \"mode\": \"lines\", \"type\": \"scatter\", \"x\": [165.0, 165.0, 180.0, 180.0], \"xaxis\": \"x\", \"y\": [0.0, 0.5672028709800376, 0.5672028709800376, 0.19002712864320545], \"yaxis\": \"y\"}, {\"hoverinfo\": \"text\", \"marker\": {\"color\": \"rgb(0,116,217)\"}, \"mode\": \"lines\", \"type\": \"scatter\", \"x\": [205.0, 205.0, 215.0, 215.0], \"xaxis\": \"x\", \"y\": [0.0, 0.1468943889107391, 0.1468943889107391, 0.0], \"yaxis\": \"y\"}, {\"hoverinfo\": \"text\", \"marker\": {\"color\": \"rgb(0,116,217)\"}, \"mode\": \"lines\", \"type\": \"scatter\", \"x\": [235.0, 235.0, 245.0, 245.0], \"xaxis\": \"x\", \"y\": [0.0, 0.15316539807398147, 0.15316539807398147, 0.0], \"yaxis\": \"y\"}, {\"hoverinfo\": \"text\", \"marker\": {\"color\": \"rgb(0,116,217)\"}, \"mode\": \"lines\", \"type\": \"scatter\", \"x\": [225.0, 225.0, 240.0, 240.0], \"xaxis\": \"x\", \"y\": [0.0, 0.27463963011907766, 0.27463963011907766, 0.15316539807398147], \"yaxis\": \"y\"}, {\"hoverinfo\": \"text\", \"marker\": {\"color\": \"rgb(0,116,217)\"}, \"mode\": \"lines\", \"type\": \"scatter\", \"x\": [210.0, 210.0, 232.5, 232.5], \"xaxis\": \"x\", \"y\": [0.1468943889107391, 0.3104728022463319, 0.3104728022463319, 0.27463963011907766], \"yaxis\": \"y\"}, {\"hoverinfo\": \"text\", \"marker\": {\"color\": \"rgb(0,116,217)\"}, \"mode\": \"lines\", \"type\": \"scatter\", \"x\": [195.0, 195.0, 221.25, 221.25], \"xaxis\": \"x\", \"y\": [0.0, 0.6949015270104191, 0.6949015270104191, 0.3104728022463319], \"yaxis\": \"y\"}, {\"hoverinfo\": \"text\", \"marker\": {\"color\": \"rgb(0,116,217)\"}, \"mode\": \"lines\", \"type\": \"scatter\", \"x\": [172.5, 172.5, 208.125, 208.125], \"xaxis\": \"x\", \"y\": [0.5672028709800376, 1.250165401713927, 1.250165401713927, 0.6949015270104191], \"yaxis\": \"y\"}, {\"hoverinfo\": \"text\", \"marker\": {\"color\": \"rgb(0,116,217)\"}, \"mode\": \"lines\", \"type\": \"scatter\", \"x\": [127.5, 127.5, 190.3125, 190.3125], \"xaxis\": \"x\", \"y\": [0.9489978677435394, 1.3886584304299543, 1.3886584304299543, 1.250165401713927], \"yaxis\": \"y\"}, {\"hoverinfo\": \"text\", \"marker\": {\"color\": \"rgb(0,116,217)\"}, \"mode\": \"lines\", \"type\": \"scatter\", \"x\": [255.0, 255.0, 265.0, 265.0], \"xaxis\": \"x\", \"y\": [0.0, 2.2929583245962415, 2.2929583245962415, 0.0], \"yaxis\": \"y\"}, {\"hoverinfo\": \"text\", \"marker\": {\"color\": \"rgb(0,116,217)\"}, \"mode\": \"lines\", \"type\": \"scatter\", \"x\": [158.90625, 158.90625, 260.0, 260.0], \"xaxis\": \"x\", \"y\": [1.3886584304299543, 2.9477451718584486, 2.9477451718584486, 2.2929583245962415], \"yaxis\": \"y\"}, {\"hoverinfo\": \"text\", \"marker\": {\"color\": \"rgb(0,116,217)\"}, \"mode\": \"lines\", \"type\": \"scatter\", \"x\": [60.625, 60.625, 209.453125, 209.453125], \"xaxis\": \"x\", \"y\": [1.4751410842020802, 4.047971564916184, 4.047971564916184, 2.9477451718584486], \"yaxis\": \"y\"}, {\"hoverinfo\": \"text\", \"marker\": {\"color\": \"rgb(0,116,217)\"}, \"mode\": \"lines\", \"type\": \"scatter\", \"x\": [295.0, 295.0, 305.0, 305.0], \"xaxis\": \"x\", \"y\": [0.0, 0.16503681067342513, 0.16503681067342513, 0.0], \"yaxis\": \"y\"}, {\"hoverinfo\": \"text\", \"marker\": {\"color\": \"rgb(0,116,217)\"}, \"mode\": \"lines\", \"type\": \"scatter\", \"x\": [285.0, 285.0, 300.0, 300.0], \"xaxis\": \"x\", \"y\": [0.0, 0.37663105225003163, 0.37663105225003163, 0.16503681067342513], \"yaxis\": \"y\"}, {\"hoverinfo\": \"text\", \"marker\": {\"color\": \"rgb(0,116,217)\"}, \"mode\": \"lines\", \"type\": \"scatter\", \"x\": [315.0, 315.0, 325.0, 325.0], \"xaxis\": \"x\", \"y\": [0.0, 0.385737040032711, 0.385737040032711, 0.0], \"yaxis\": \"y\"}, {\"hoverinfo\": \"text\", \"marker\": {\"color\": \"rgb(0,116,217)\"}, \"mode\": \"lines\", \"type\": \"scatter\", \"x\": [292.5, 292.5, 320.0, 320.0], \"xaxis\": \"x\", \"y\": [0.37663105225003163, 0.8747410567644704, 0.8747410567644704, 0.385737040032711], \"yaxis\": \"y\"}, {\"hoverinfo\": \"text\", \"marker\": {\"color\": \"rgb(0,116,217)\"}, \"mode\": \"lines\", \"type\": \"scatter\", \"x\": [275.0, 275.0, 306.25, 306.25], \"xaxis\": \"x\", \"y\": [0.0, 1.3801439574284713, 1.3801439574284713, 0.8747410567644704], \"yaxis\": \"y\"}, {\"hoverinfo\": \"text\", \"marker\": {\"color\": \"rgb(0,116,217)\"}, \"mode\": \"lines\", \"type\": \"scatter\", \"x\": [335.0, 335.0, 345.0, 345.0], \"xaxis\": \"x\", \"y\": [0.0, 0.0353260491019089, 0.0353260491019089, 0.0], \"yaxis\": \"y\"}, {\"hoverinfo\": \"text\", \"marker\": {\"color\": \"rgb(0,116,217)\"}, \"mode\": \"lines\", \"type\": \"scatter\", \"x\": [355.0, 355.0, 365.0, 365.0], \"xaxis\": \"x\", \"y\": [0.0, 0.10405765234097288, 0.10405765234097288, 0.0], \"yaxis\": \"y\"}, {\"hoverinfo\": \"text\", \"marker\": {\"color\": \"rgb(0,116,217)\"}, \"mode\": \"lines\", \"type\": \"scatter\", \"x\": [340.0, 340.0, 360.0, 360.0], \"xaxis\": \"x\", \"y\": [0.0353260491019089, 0.2884789313282879, 0.2884789313282879, 0.10405765234097288], \"yaxis\": \"y\"}, {\"hoverinfo\": \"text\", \"marker\": {\"color\": \"rgb(0,116,217)\"}, \"mode\": \"lines\", \"type\": \"scatter\", \"x\": [375.0, 375.0, 385.0, 385.0], \"xaxis\": \"x\", \"y\": [0.0, 0.11344101741246264, 0.11344101741246264, 0.0], \"yaxis\": \"y\"}, {\"hoverinfo\": \"text\", \"marker\": {\"color\": \"rgb(0,116,217)\"}, \"mode\": \"lines\", \"type\": \"scatter\", \"x\": [405.0, 405.0, 415.0, 415.0], \"xaxis\": \"x\", \"y\": [0.0, 0.10206274953931053, 0.10206274953931053, 0.0], \"yaxis\": \"y\"}, {\"hoverinfo\": \"text\", \"marker\": {\"color\": \"rgb(0,116,217)\"}, \"mode\": \"lines\", \"type\": \"scatter\", \"x\": [395.0, 395.0, 410.0, 410.0], \"xaxis\": \"x\", \"y\": [0.0, 0.1288059493404851, 0.1288059493404851, 0.10206274953931053], \"yaxis\": \"y\"}, {\"hoverinfo\": \"text\", \"marker\": {\"color\": \"rgb(0,116,217)\"}, \"mode\": \"lines\", \"type\": \"scatter\", \"x\": [380.0, 380.0, 402.5, 402.5], \"xaxis\": \"x\", \"y\": [0.11344101741246264, 0.32569187410224654, 0.32569187410224654, 0.1288059493404851], \"yaxis\": \"y\"}, {\"hoverinfo\": \"text\", \"marker\": {\"color\": \"rgb(0,116,217)\"}, \"mode\": \"lines\", \"type\": \"scatter\", \"x\": [350.0, 350.0, 391.25, 391.25], \"xaxis\": \"x\", \"y\": [0.2884789313282879, 0.46322431906196665, 0.46322431906196665, 0.32569187410224654], \"yaxis\": \"y\"}, {\"hoverinfo\": \"text\", \"marker\": {\"color\": \"rgb(0,116,217)\"}, \"mode\": \"lines\", \"type\": \"scatter\", \"x\": [435.0, 435.0, 445.0, 445.0], \"xaxis\": \"x\", \"y\": [0.0, 0.14999550614635818, 0.14999550614635818, 0.0], \"yaxis\": \"y\"}, {\"hoverinfo\": \"text\", \"marker\": {\"color\": \"rgb(0,116,217)\"}, \"mode\": \"lines\", \"type\": \"scatter\", \"x\": [425.0, 425.0, 440.0, 440.0], \"xaxis\": \"x\", \"y\": [0.0, 0.23754238833601518, 0.23754238833601518, 0.14999550614635818], \"yaxis\": \"y\"}, {\"hoverinfo\": \"text\", \"marker\": {\"color\": \"rgb(0,116,217)\"}, \"mode\": \"lines\", \"type\": \"scatter\", \"x\": [455.0, 455.0, 465.0, 465.0], \"xaxis\": \"x\", \"y\": [0.0, 0.2870652478196846, 0.2870652478196846, 0.0], \"yaxis\": \"y\"}, {\"hoverinfo\": \"text\", \"marker\": {\"color\": \"rgb(0,116,217)\"}, \"mode\": \"lines\", \"type\": \"scatter\", \"x\": [432.5, 432.5, 460.0, 460.0], \"xaxis\": \"x\", \"y\": [0.23754238833601518, 0.6976732028899029, 0.6976732028899029, 0.2870652478196846], \"yaxis\": \"y\"}, {\"hoverinfo\": \"text\", \"marker\": {\"color\": \"rgb(0,116,217)\"}, \"mode\": \"lines\", \"type\": \"scatter\", \"x\": [370.625, 370.625, 446.25, 446.25], \"xaxis\": \"x\", \"y\": [0.46322431906196665, 0.9538231273821434, 0.9538231273821434, 0.6976732028899029], \"yaxis\": \"y\"}, {\"hoverinfo\": \"text\", \"marker\": {\"color\": \"rgb(0,116,217)\"}, \"mode\": \"lines\", \"type\": \"scatter\", \"x\": [475.0, 475.0, 485.0, 485.0], \"xaxis\": \"x\", \"y\": [0.0, 0.14383545256237537, 0.14383545256237537, 0.0], \"yaxis\": \"y\"}, {\"hoverinfo\": \"text\", \"marker\": {\"color\": \"rgb(0,116,217)\"}, \"mode\": \"lines\", \"type\": \"scatter\", \"x\": [505.0, 505.0, 515.0, 515.0], \"xaxis\": \"x\", \"y\": [0.0, 0.03586670054066605, 0.03586670054066605, 0.0], \"yaxis\": \"y\"}, {\"hoverinfo\": \"text\", \"marker\": {\"color\": \"rgb(0,116,217)\"}, \"mode\": \"lines\", \"type\": \"scatter\", \"x\": [495.0, 495.0, 510.0, 510.0], \"xaxis\": \"x\", \"y\": [0.0, 0.2399265545020751, 0.2399265545020751, 0.03586670054066605], \"yaxis\": \"y\"}, {\"hoverinfo\": \"text\", \"marker\": {\"color\": \"rgb(0,116,217)\"}, \"mode\": \"lines\", \"type\": \"scatter\", \"x\": [480.0, 480.0, 502.5, 502.5], \"xaxis\": \"x\", \"y\": [0.14383545256237537, 0.5771689494722831, 0.5771689494722831, 0.2399265545020751], \"yaxis\": \"y\"}, {\"hoverinfo\": \"text\", \"marker\": {\"color\": \"rgb(0,116,217)\"}, \"mode\": \"lines\", \"type\": \"scatter\", \"x\": [535.0, 535.0, 545.0, 545.0], \"xaxis\": \"x\", \"y\": [0.0, 0.14807931165357568, 0.14807931165357568, 0.0], \"yaxis\": \"y\"}, {\"hoverinfo\": \"text\", \"marker\": {\"color\": \"rgb(0,116,217)\"}, \"mode\": \"lines\", \"type\": \"scatter\", \"x\": [525.0, 525.0, 540.0, 540.0], \"xaxis\": \"x\", \"y\": [0.0, 0.35561511520472017, 0.35561511520472017, 0.14807931165357568], \"yaxis\": \"y\"}, {\"hoverinfo\": \"text\", \"marker\": {\"color\": \"rgb(0,116,217)\"}, \"mode\": \"lines\", \"type\": \"scatter\", \"x\": [555.0, 555.0, 565.0, 565.0], \"xaxis\": \"x\", \"y\": [0.0, 0.12391176786152512, 0.12391176786152512, 0.0], \"yaxis\": \"y\"}, {\"hoverinfo\": \"text\", \"marker\": {\"color\": \"rgb(0,116,217)\"}, \"mode\": \"lines\", \"type\": \"scatter\", \"x\": [575.0, 575.0, 585.0, 585.0], \"xaxis\": \"x\", \"y\": [0.0, 0.13972954235884333, 0.13972954235884333, 0.0], \"yaxis\": \"y\"}, {\"hoverinfo\": \"text\", \"marker\": {\"color\": \"rgb(0,116,217)\"}, \"mode\": \"lines\", \"type\": \"scatter\", \"x\": [605.0, 605.0, 615.0, 615.0], \"xaxis\": \"x\", \"y\": [0.0, 0.0826861081887263, 0.0826861081887263, 0.0], \"yaxis\": \"y\"}, {\"hoverinfo\": \"text\", \"marker\": {\"color\": \"rgb(0,116,217)\"}, \"mode\": \"lines\", \"type\": \"scatter\", \"x\": [595.0, 595.0, 610.0, 610.0], \"xaxis\": \"x\", \"y\": [0.0, 0.2362267771051411, 0.2362267771051411, 0.0826861081887263], \"yaxis\": \"y\"}, {\"hoverinfo\": \"text\", \"marker\": {\"color\": \"rgb(0,116,217)\"}, \"mode\": \"lines\", \"type\": \"scatter\", \"x\": [580.0, 580.0, 602.5, 602.5], \"xaxis\": \"x\", \"y\": [0.13972954235884333, 0.38487809753157043, 0.38487809753157043, 0.2362267771051411], \"yaxis\": \"y\"}, {\"hoverinfo\": \"text\", \"marker\": {\"color\": \"rgb(0,116,217)\"}, \"mode\": \"lines\", \"type\": \"scatter\", \"x\": [560.0, 560.0, 591.25, 591.25], \"xaxis\": \"x\", \"y\": [0.12391176786152512, 0.5182436453952421, 0.5182436453952421, 0.38487809753157043], \"yaxis\": \"y\"}, {\"hoverinfo\": \"text\", \"marker\": {\"color\": \"rgb(0,116,217)\"}, \"mode\": \"lines\", \"type\": \"scatter\", \"x\": [532.5, 532.5, 575.625, 575.625], \"xaxis\": \"x\", \"y\": [0.35561511520472017, 0.877904375038883, 0.877904375038883, 0.5182436453952421], \"yaxis\": \"y\"}, {\"hoverinfo\": \"text\", \"marker\": {\"color\": \"rgb(0,116,217)\"}, \"mode\": \"lines\", \"type\": \"scatter\", \"x\": [491.25, 491.25, 554.0625, 554.0625], \"xaxis\": \"x\", \"y\": [0.5771689494722831, 1.4058757233933916, 1.4058757233933916, 0.877904375038883], \"yaxis\": \"y\"}, {\"hoverinfo\": \"text\", \"marker\": {\"color\": \"rgb(0,116,217)\"}, \"mode\": \"lines\", \"type\": \"scatter\", \"x\": [408.4375, 408.4375, 522.65625, 522.65625], \"xaxis\": \"x\", \"y\": [0.9538231273821434, 1.7142686247822734, 1.7142686247822734, 1.4058757233933916], \"yaxis\": \"y\"}, {\"hoverinfo\": \"text\", \"marker\": {\"color\": \"rgb(0,116,217)\"}, \"mode\": \"lines\", \"type\": \"scatter\", \"x\": [290.625, 290.625, 465.546875, 465.546875], \"xaxis\": \"x\", \"y\": [1.3801439574284713, 2.545519316373222, 2.545519316373222, 1.7142686247822734], \"yaxis\": \"y\"}, {\"hoverinfo\": \"text\", \"marker\": {\"color\": \"rgb(0,116,217)\"}, \"mode\": \"lines\", \"type\": \"scatter\", \"x\": [625.0, 625.0, 635.0, 635.0], \"xaxis\": \"x\", \"y\": [0.0, 0.16508507873559086, 0.16508507873559086, 0.0], \"yaxis\": \"y\"}, {\"hoverinfo\": \"text\", \"marker\": {\"color\": \"rgb(0,116,217)\"}, \"mode\": \"lines\", \"type\": \"scatter\", \"x\": [675.0, 675.0, 685.0, 685.0], \"xaxis\": \"x\", \"y\": [0.0, 0.13155127883427883, 0.13155127883427883, 0.0], \"yaxis\": \"y\"}, {\"hoverinfo\": \"text\", \"marker\": {\"color\": \"rgb(0,116,217)\"}, \"mode\": \"lines\", \"type\": \"scatter\", \"x\": [665.0, 665.0, 680.0, 680.0], \"xaxis\": \"x\", \"y\": [0.0, 0.15286789180158378, 0.15286789180158378, 0.13155127883427883], \"yaxis\": \"y\"}, {\"hoverinfo\": \"text\", \"marker\": {\"color\": \"rgb(0,116,217)\"}, \"mode\": \"lines\", \"type\": \"scatter\", \"x\": [655.0, 655.0, 672.5, 672.5], \"xaxis\": \"x\", \"y\": [0.0, 0.2832724356964285, 0.2832724356964285, 0.15286789180158378], \"yaxis\": \"y\"}, {\"hoverinfo\": \"text\", \"marker\": {\"color\": \"rgb(0,116,217)\"}, \"mode\": \"lines\", \"type\": \"scatter\", \"x\": [645.0, 645.0, 663.75, 663.75], \"xaxis\": \"x\", \"y\": [0.0, 0.3733447355733968, 0.3733447355733968, 0.2832724356964285], \"yaxis\": \"y\"}, {\"hoverinfo\": \"text\", \"marker\": {\"color\": \"rgb(0,116,217)\"}, \"mode\": \"lines\", \"type\": \"scatter\", \"x\": [630.0, 630.0, 654.375, 654.375], \"xaxis\": \"x\", \"y\": [0.16508507873559086, 0.7559539162956012, 0.7559539162956012, 0.3733447355733968], \"yaxis\": \"y\"}, {\"hoverinfo\": \"text\", \"marker\": {\"color\": \"rgb(0,116,217)\"}, \"mode\": \"lines\", \"type\": \"scatter\", \"x\": [705.0, 705.0, 715.0, 715.0], \"xaxis\": \"x\", \"y\": [0.0, 0.0756499076171736, 0.0756499076171736, 0.0], \"yaxis\": \"y\"}, {\"hoverinfo\": \"text\", \"marker\": {\"color\": \"rgb(0,116,217)\"}, \"mode\": \"lines\", \"type\": \"scatter\", \"x\": [695.0, 695.0, 710.0, 710.0], \"xaxis\": \"x\", \"y\": [0.0, 0.36739186827021786, 0.36739186827021786, 0.0756499076171736], \"yaxis\": \"y\"}, {\"hoverinfo\": \"text\", \"marker\": {\"color\": \"rgb(0,116,217)\"}, \"mode\": \"lines\", \"type\": \"scatter\", \"x\": [735.0, 735.0, 745.0, 745.0], \"xaxis\": \"x\", \"y\": [0.0, 0.08879646856635975, 0.08879646856635975, 0.0], \"yaxis\": \"y\"}, {\"hoverinfo\": \"text\", \"marker\": {\"color\": \"rgb(0,116,217)\"}, \"mode\": \"lines\", \"type\": \"scatter\", \"x\": [725.0, 725.0, 740.0, 740.0], \"xaxis\": \"x\", \"y\": [0.0, 0.19437944731533882, 0.19437944731533882, 0.08879646856635975], \"yaxis\": \"y\"}, {\"hoverinfo\": \"text\", \"marker\": {\"color\": \"rgb(0,116,217)\"}, \"mode\": \"lines\", \"type\": \"scatter\", \"x\": [765.0, 765.0, 775.0, 775.0], \"xaxis\": \"x\", \"y\": [0.0, 0.18956849521054897, 0.18956849521054897, 0.0], \"yaxis\": \"y\"}, {\"hoverinfo\": \"text\", \"marker\": {\"color\": \"rgb(0,116,217)\"}, \"mode\": \"lines\", \"type\": \"scatter\", \"x\": [755.0, 755.0, 770.0, 770.0], \"xaxis\": \"x\", \"y\": [0.0, 0.3476091072302642, 0.3476091072302642, 0.18956849521054897], \"yaxis\": \"y\"}, {\"hoverinfo\": \"text\", \"marker\": {\"color\": \"rgb(0,116,217)\"}, \"mode\": \"lines\", \"type\": \"scatter\", \"x\": [732.5, 732.5, 762.5, 762.5], \"xaxis\": \"x\", \"y\": [0.19437944731533882, 0.5537383439833947, 0.5537383439833947, 0.3476091072302642], \"yaxis\": \"y\"}, {\"hoverinfo\": \"text\", \"marker\": {\"color\": \"rgb(0,116,217)\"}, \"mode\": \"lines\", \"type\": \"scatter\", \"x\": [702.5, 702.5, 747.5, 747.5], \"xaxis\": \"x\", \"y\": [0.36739186827021786, 0.9728317459434143, 0.9728317459434143, 0.5537383439833947], \"yaxis\": \"y\"}, {\"hoverinfo\": \"text\", \"marker\": {\"color\": \"rgb(0,116,217)\"}, \"mode\": \"lines\", \"type\": \"scatter\", \"x\": [642.1875, 642.1875, 725.0, 725.0], \"xaxis\": \"x\", \"y\": [0.7559539162956012, 1.2089133239589829, 1.2089133239589829, 0.9728317459434143], \"yaxis\": \"y\"}, {\"hoverinfo\": \"text\", \"marker\": {\"color\": \"rgb(0,116,217)\"}, \"mode\": \"lines\", \"type\": \"scatter\", \"x\": [815.0, 815.0, 825.0, 825.0], \"xaxis\": \"x\", \"y\": [0.0, 0.05352857950393887, 0.05352857950393887, 0.0], \"yaxis\": \"y\"}, {\"hoverinfo\": \"text\", \"marker\": {\"color\": \"rgb(0,116,217)\"}, \"mode\": \"lines\", \"type\": \"scatter\", \"x\": [805.0, 805.0, 820.0, 820.0], \"xaxis\": \"x\", \"y\": [0.0, 0.10827174667011871, 0.10827174667011871, 0.05352857950393887], \"yaxis\": \"y\"}, {\"hoverinfo\": \"text\", \"marker\": {\"color\": \"rgb(0,116,217)\"}, \"mode\": \"lines\", \"type\": \"scatter\", \"x\": [795.0, 795.0, 812.5, 812.5], \"xaxis\": \"x\", \"y\": [0.0, 0.24396913173887338, 0.24396913173887338, 0.10827174667011871], \"yaxis\": \"y\"}, {\"hoverinfo\": \"text\", \"marker\": {\"color\": \"rgb(0,116,217)\"}, \"mode\": \"lines\", \"type\": \"scatter\", \"x\": [785.0, 785.0, 803.75, 803.75], \"xaxis\": \"x\", \"y\": [0.0, 0.33722948388029605, 0.33722948388029605, 0.24396913173887338], \"yaxis\": \"y\"}, {\"hoverinfo\": \"text\", \"marker\": {\"color\": \"rgb(0,116,217)\"}, \"mode\": \"lines\", \"type\": \"scatter\", \"x\": [845.0, 845.0, 855.0, 855.0], \"xaxis\": \"x\", \"y\": [0.0, 0.16791719425789617, 0.16791719425789617, 0.0], \"yaxis\": \"y\"}, {\"hoverinfo\": \"text\", \"marker\": {\"color\": \"rgb(0,116,217)\"}, \"mode\": \"lines\", \"type\": \"scatter\", \"x\": [835.0, 835.0, 850.0, 850.0], \"xaxis\": \"x\", \"y\": [0.0, 0.3293684354558937, 0.3293684354558937, 0.16791719425789617], \"yaxis\": \"y\"}, {\"hoverinfo\": \"text\", \"marker\": {\"color\": \"rgb(0,116,217)\"}, \"mode\": \"lines\", \"type\": \"scatter\", \"x\": [865.0, 865.0, 875.0, 875.0], \"xaxis\": \"x\", \"y\": [0.0, 0.3623424862400149, 0.3623424862400149, 0.0], \"yaxis\": \"y\"}, {\"hoverinfo\": \"text\", \"marker\": {\"color\": \"rgb(0,116,217)\"}, \"mode\": \"lines\", \"type\": \"scatter\", \"x\": [842.5, 842.5, 870.0, 870.0], \"xaxis\": \"x\", \"y\": [0.3293684354558937, 0.6605599584020724, 0.6605599584020724, 0.3623424862400149], \"yaxis\": \"y\"}, {\"hoverinfo\": \"text\", \"marker\": {\"color\": \"rgb(0,116,217)\"}, \"mode\": \"lines\", \"type\": \"scatter\", \"x\": [794.375, 794.375, 856.25, 856.25], \"xaxis\": \"x\", \"y\": [0.33722948388029605, 1.0462878241102422, 1.0462878241102422, 0.6605599584020724], \"yaxis\": \"y\"}, {\"hoverinfo\": \"text\", \"marker\": {\"color\": \"rgb(0,116,217)\"}, \"mode\": \"lines\", \"type\": \"scatter\", \"x\": [885.0, 885.0, 895.0, 895.0], \"xaxis\": \"x\", \"y\": [0.0, 0.14574211298166398, 0.14574211298166398, 0.0], \"yaxis\": \"y\"}, {\"hoverinfo\": \"text\", \"marker\": {\"color\": \"rgb(0,116,217)\"}, \"mode\": \"lines\", \"type\": \"scatter\", \"x\": [915.0, 915.0, 925.0, 925.0], \"xaxis\": \"x\", \"y\": [0.0, 0.18533111120286272, 0.18533111120286272, 0.0], \"yaxis\": \"y\"}, {\"hoverinfo\": \"text\", \"marker\": {\"color\": \"rgb(0,116,217)\"}, \"mode\": \"lines\", \"type\": \"scatter\", \"x\": [905.0, 905.0, 920.0, 920.0], \"xaxis\": \"x\", \"y\": [0.0, 0.3714090430997627, 0.3714090430997627, 0.18533111120286272], \"yaxis\": \"y\"}, {\"hoverinfo\": \"text\", \"marker\": {\"color\": \"rgb(0,116,217)\"}, \"mode\": \"lines\", \"type\": \"scatter\", \"x\": [890.0, 890.0, 912.5, 912.5], \"xaxis\": \"x\", \"y\": [0.14574211298166398, 0.5508697858929966, 0.5508697858929966, 0.3714090430997627], \"yaxis\": \"y\"}, {\"hoverinfo\": \"text\", \"marker\": {\"color\": \"rgb(0,116,217)\"}, \"mode\": \"lines\", \"type\": \"scatter\", \"x\": [945.0, 945.0, 955.0, 955.0], \"xaxis\": \"x\", \"y\": [0.0, 0.06917964701068681, 0.06917964701068681, 0.0], \"yaxis\": \"y\"}, {\"hoverinfo\": \"text\", \"marker\": {\"color\": \"rgb(0,116,217)\"}, \"mode\": \"lines\", \"type\": \"scatter\", \"x\": [935.0, 935.0, 950.0, 950.0], \"xaxis\": \"x\", \"y\": [0.0, 0.23555172421207293, 0.23555172421207293, 0.06917964701068681], \"yaxis\": \"y\"}, {\"hoverinfo\": \"text\", \"marker\": {\"color\": \"rgb(0,116,217)\"}, \"mode\": \"lines\", \"type\": \"scatter\", \"x\": [965.0, 965.0, 975.0, 975.0], \"xaxis\": \"x\", \"y\": [0.0, 0.14320226449458012, 0.14320226449458012, 0.0], \"yaxis\": \"y\"}, {\"hoverinfo\": \"text\", \"marker\": {\"color\": \"rgb(0,116,217)\"}, \"mode\": \"lines\", \"type\": \"scatter\", \"x\": [985.0, 985.0, 995.0, 995.0], \"xaxis\": \"x\", \"y\": [0.0, 0.14525177840821402, 0.14525177840821402, 0.0], \"yaxis\": \"y\"}, {\"hoverinfo\": \"text\", \"marker\": {\"color\": \"rgb(0,116,217)\"}, \"mode\": \"lines\", \"type\": \"scatter\", \"x\": [970.0, 970.0, 990.0, 990.0], \"xaxis\": \"x\", \"y\": [0.14320226449458012, 0.34144364600097016, 0.34144364600097016, 0.14525177840821402], \"yaxis\": \"y\"}, {\"hoverinfo\": \"text\", \"marker\": {\"color\": \"rgb(0,116,217)\"}, \"mode\": \"lines\", \"type\": \"scatter\", \"x\": [942.5, 942.5, 980.0, 980.0], \"xaxis\": \"x\", \"y\": [0.23555172421207293, 0.45552288493907284, 0.45552288493907284, 0.34144364600097016], \"yaxis\": \"y\"}, {\"hoverinfo\": \"text\", \"marker\": {\"color\": \"rgb(0,116,217)\"}, \"mode\": \"lines\", \"type\": \"scatter\", \"x\": [1015.0, 1015.0, 1025.0, 1025.0], \"xaxis\": \"x\", \"y\": [0.0, 0.04004727903210417, 0.04004727903210417, 0.0], \"yaxis\": \"y\"}, {\"hoverinfo\": \"text\", \"marker\": {\"color\": \"rgb(0,116,217)\"}, \"mode\": \"lines\", \"type\": \"scatter\", \"x\": [1005.0, 1005.0, 1020.0, 1020.0], \"xaxis\": \"x\", \"y\": [0.0, 0.1023888658153299, 0.1023888658153299, 0.04004727903210417], \"yaxis\": \"y\"}, {\"hoverinfo\": \"text\", \"marker\": {\"color\": \"rgb(0,116,217)\"}, \"mode\": \"lines\", \"type\": \"scatter\", \"x\": [1035.0, 1035.0, 1045.0, 1045.0], \"xaxis\": \"x\", \"y\": [0.0, 0.06083686323921353, 0.06083686323921353, 0.0], \"yaxis\": \"y\"}, {\"hoverinfo\": \"text\", \"marker\": {\"color\": \"rgb(0,116,217)\"}, \"mode\": \"lines\", \"type\": \"scatter\", \"x\": [1055.0, 1055.0, 1065.0, 1065.0], \"xaxis\": \"x\", \"y\": [0.0, 0.07187425367981466, 0.07187425367981466, 0.0], \"yaxis\": \"y\"}, {\"hoverinfo\": \"text\", \"marker\": {\"color\": \"rgb(0,116,217)\"}, \"mode\": \"lines\", \"type\": \"scatter\", \"x\": [1040.0, 1040.0, 1060.0, 1060.0], \"xaxis\": \"x\", \"y\": [0.06083686323921353, 0.21299099289694445, 0.21299099289694445, 0.07187425367981466], \"yaxis\": \"y\"}, {\"hoverinfo\": \"text\", \"marker\": {\"color\": \"rgb(0,116,217)\"}, \"mode\": \"lines\", \"type\": \"scatter\", \"x\": [1012.5, 1012.5, 1050.0, 1050.0], \"xaxis\": \"x\", \"y\": [0.1023888658153299, 0.6755703140577334, 0.6755703140577334, 0.21299099289694445], \"yaxis\": \"y\"}, {\"hoverinfo\": \"text\", \"marker\": {\"color\": \"rgb(0,116,217)\"}, \"mode\": \"lines\", \"type\": \"scatter\", \"x\": [961.25, 961.25, 1031.25, 1031.25], \"xaxis\": \"x\", \"y\": [0.45552288493907284, 0.7565854107786388, 0.7565854107786388, 0.6755703140577334], \"yaxis\": \"y\"}, {\"hoverinfo\": \"text\", \"marker\": {\"color\": \"rgb(0,116,217)\"}, \"mode\": \"lines\", \"type\": \"scatter\", \"x\": [901.25, 901.25, 996.25, 996.25], \"xaxis\": \"x\", \"y\": [0.5508697858929966, 1.4428740135208038, 1.4428740135208038, 0.7565854107786388], \"yaxis\": \"y\"}, {\"hoverinfo\": \"text\", \"marker\": {\"color\": \"rgb(0,116,217)\"}, \"mode\": \"lines\", \"type\": \"scatter\", \"x\": [825.3125, 825.3125, 948.75, 948.75], \"xaxis\": \"x\", \"y\": [1.0462878241102422, 1.53805441018875, 1.53805441018875, 1.4428740135208038], \"yaxis\": \"y\"}, {\"hoverinfo\": \"text\", \"marker\": {\"color\": \"rgb(0,116,217)\"}, \"mode\": \"lines\", \"type\": \"scatter\", \"x\": [683.59375, 683.59375, 887.03125, 887.03125], \"xaxis\": \"x\", \"y\": [1.2089133239589829, 2.7677870101309394, 2.7677870101309394, 1.53805441018875], \"yaxis\": \"y\"}, {\"hoverinfo\": \"text\", \"marker\": {\"color\": \"rgb(0,116,217)\"}, \"mode\": \"lines\", \"type\": \"scatter\", \"x\": [378.0859375, 378.0859375, 785.3125, 785.3125], \"xaxis\": \"x\", \"y\": [2.545519316373222, 3.656215383364375, 3.656215383364375, 2.7677870101309394], \"yaxis\": \"y\"}, {\"hoverinfo\": \"text\", \"marker\": {\"color\": \"rgb(0,116,217)\"}, \"mode\": \"lines\", \"type\": \"scatter\", \"x\": [1075.0, 1075.0, 1085.0, 1085.0], \"xaxis\": \"x\", \"y\": [0.0, 0.15658345824815098, 0.15658345824815098, 0.0], \"yaxis\": \"y\"}, {\"hoverinfo\": \"text\", \"marker\": {\"color\": \"rgb(0,116,217)\"}, \"mode\": \"lines\", \"type\": \"scatter\", \"x\": [1105.0, 1105.0, 1115.0, 1115.0], \"xaxis\": \"x\", \"y\": [0.0, 0.0729451775079578, 0.0729451775079578, 0.0], \"yaxis\": \"y\"}, {\"hoverinfo\": \"text\", \"marker\": {\"color\": \"rgb(0,116,217)\"}, \"mode\": \"lines\", \"type\": \"scatter\", \"x\": [1095.0, 1095.0, 1110.0, 1110.0], \"xaxis\": \"x\", \"y\": [0.0, 0.20732239938839242, 0.20732239938839242, 0.0729451775079578], \"yaxis\": \"y\"}, {\"hoverinfo\": \"text\", \"marker\": {\"color\": \"rgb(0,116,217)\"}, \"mode\": \"lines\", \"type\": \"scatter\", \"x\": [1080.0, 1080.0, 1102.5, 1102.5], \"xaxis\": \"x\", \"y\": [0.15658345824815098, 0.3838648829748524, 0.3838648829748524, 0.20732239938839242], \"yaxis\": \"y\"}, {\"hoverinfo\": \"text\", \"marker\": {\"color\": \"rgb(0,116,217)\"}, \"mode\": \"lines\", \"type\": \"scatter\", \"x\": [1135.0, 1135.0, 1145.0, 1145.0], \"xaxis\": \"x\", \"y\": [0.0, 0.19023845092801822, 0.19023845092801822, 0.0], \"yaxis\": \"y\"}, {\"hoverinfo\": \"text\", \"marker\": {\"color\": \"rgb(0,116,217)\"}, \"mode\": \"lines\", \"type\": \"scatter\", \"x\": [1125.0, 1125.0, 1140.0, 1140.0], \"xaxis\": \"x\", \"y\": [0.0, 0.39966302433681344, 0.39966302433681344, 0.19023845092801822], \"yaxis\": \"y\"}, {\"hoverinfo\": \"text\", \"marker\": {\"color\": \"rgb(0,116,217)\"}, \"mode\": \"lines\", \"type\": \"scatter\", \"x\": [1091.25, 1091.25, 1132.5, 1132.5], \"xaxis\": \"x\", \"y\": [0.3838648829748524, 0.580709369623532, 0.580709369623532, 0.39966302433681344], \"yaxis\": \"y\"}, {\"hoverinfo\": \"text\", \"marker\": {\"color\": \"rgb(0,116,217)\"}, \"mode\": \"lines\", \"type\": \"scatter\", \"x\": [1155.0, 1155.0, 1165.0, 1165.0], \"xaxis\": \"x\", \"y\": [0.0, 0.6249471871182029, 0.6249471871182029, 0.0], \"yaxis\": \"y\"}, {\"hoverinfo\": \"text\", \"marker\": {\"color\": \"rgb(0,116,217)\"}, \"mode\": \"lines\", \"type\": \"scatter\", \"x\": [1111.875, 1111.875, 1160.0, 1160.0], \"xaxis\": \"x\", \"y\": [0.580709369623532, 0.9743212622071441, 0.9743212622071441, 0.6249471871182029], \"yaxis\": \"y\"}, {\"hoverinfo\": \"text\", \"marker\": {\"color\": \"rgb(0,116,217)\"}, \"mode\": \"lines\", \"type\": \"scatter\", \"x\": [1175.0, 1175.0, 1185.0, 1185.0], \"xaxis\": \"x\", \"y\": [0.0, 1.2940468818174922, 1.2940468818174922, 0.0], \"yaxis\": \"y\"}, {\"hoverinfo\": \"text\", \"marker\": {\"color\": \"rgb(0,116,217)\"}, \"mode\": \"lines\", \"type\": \"scatter\", \"x\": [1195.0, 1195.0, 1205.0, 1205.0], \"xaxis\": \"x\", \"y\": [0.0, 0.11271644260494805, 0.11271644260494805, 0.0], \"yaxis\": \"y\"}, {\"hoverinfo\": \"text\", \"marker\": {\"color\": \"rgb(0,116,217)\"}, \"mode\": \"lines\", \"type\": \"scatter\", \"x\": [1215.0, 1215.0, 1225.0, 1225.0], \"xaxis\": \"x\", \"y\": [0.0, 0.4643459792436623, 0.4643459792436623, 0.0], \"yaxis\": \"y\"}, {\"hoverinfo\": \"text\", \"marker\": {\"color\": \"rgb(0,116,217)\"}, \"mode\": \"lines\", \"type\": \"scatter\", \"x\": [1200.0, 1200.0, 1220.0, 1220.0], \"xaxis\": \"x\", \"y\": [0.11271644260494805, 0.7460454561239486, 0.7460454561239486, 0.4643459792436623], \"yaxis\": \"y\"}, {\"hoverinfo\": \"text\", \"marker\": {\"color\": \"rgb(0,116,217)\"}, \"mode\": \"lines\", \"type\": \"scatter\", \"x\": [1235.0, 1235.0, 1245.0, 1245.0], \"xaxis\": \"x\", \"y\": [0.0, 0.43205047073066555, 0.43205047073066555, 0.0], \"yaxis\": \"y\"}, {\"hoverinfo\": \"text\", \"marker\": {\"color\": \"rgb(0,116,217)\"}, \"mode\": \"lines\", \"type\": \"scatter\", \"x\": [1255.0, 1255.0, 1265.0, 1265.0], \"xaxis\": \"x\", \"y\": [0.0, 0.20516902363175846, 0.20516902363175846, 0.0], \"yaxis\": \"y\"}, {\"hoverinfo\": \"text\", \"marker\": {\"color\": \"rgb(0,116,217)\"}, \"mode\": \"lines\", \"type\": \"scatter\", \"x\": [1305.0, 1305.0, 1315.0, 1315.0], \"xaxis\": \"x\", \"y\": [0.0, 0.06513099961080776, 0.06513099961080776, 0.0], \"yaxis\": \"y\"}, {\"hoverinfo\": \"text\", \"marker\": {\"color\": \"rgb(0,116,217)\"}, \"mode\": \"lines\", \"type\": \"scatter\", \"x\": [1295.0, 1295.0, 1310.0, 1310.0], \"xaxis\": \"x\", \"y\": [0.0, 0.23814368368487326, 0.23814368368487326, 0.06513099961080776], \"yaxis\": \"y\"}, {\"hoverinfo\": \"text\", \"marker\": {\"color\": \"rgb(0,116,217)\"}, \"mode\": \"lines\", \"type\": \"scatter\", \"x\": [1285.0, 1285.0, 1302.5, 1302.5], \"xaxis\": \"x\", \"y\": [0.0, 0.29888561320396617, 0.29888561320396617, 0.23814368368487326], \"yaxis\": \"y\"}, {\"hoverinfo\": \"text\", \"marker\": {\"color\": \"rgb(0,116,217)\"}, \"mode\": \"lines\", \"type\": \"scatter\", \"x\": [1275.0, 1275.0, 1293.75, 1293.75], \"xaxis\": \"x\", \"y\": [0.0, 0.633498958245753, 0.633498958245753, 0.29888561320396617], \"yaxis\": \"y\"}, {\"hoverinfo\": \"text\", \"marker\": {\"color\": \"rgb(0,116,217)\"}, \"mode\": \"lines\", \"type\": \"scatter\", \"x\": [1260.0, 1260.0, 1284.375, 1284.375], \"xaxis\": \"x\", \"y\": [0.20516902363175846, 0.800224661694128, 0.800224661694128, 0.633498958245753], \"yaxis\": \"y\"}, {\"hoverinfo\": \"text\", \"marker\": {\"color\": \"rgb(0,116,217)\"}, \"mode\": \"lines\", \"type\": \"scatter\", \"x\": [1240.0, 1240.0, 1272.1875, 1272.1875], \"xaxis\": \"x\", \"y\": [0.43205047073066555, 1.175050277804807, 1.175050277804807, 0.800224661694128], \"yaxis\": \"y\"}, {\"hoverinfo\": \"text\", \"marker\": {\"color\": \"rgb(0,116,217)\"}, \"mode\": \"lines\", \"type\": \"scatter\", \"x\": [1210.0, 1210.0, 1256.09375, 1256.09375], \"xaxis\": \"x\", \"y\": [0.7460454561239486, 1.697998446020174, 1.697998446020174, 1.175050277804807], \"yaxis\": \"y\"}, {\"hoverinfo\": \"text\", \"marker\": {\"color\": \"rgb(0,116,217)\"}, \"mode\": \"lines\", \"type\": \"scatter\", \"x\": [1180.0, 1180.0, 1233.046875, 1233.046875], \"xaxis\": \"x\", \"y\": [1.2940468818174922, 2.34864893233201, 2.34864893233201, 1.697998446020174], \"yaxis\": \"y\"}, {\"hoverinfo\": \"text\", \"marker\": {\"color\": \"rgb(0,116,217)\"}, \"mode\": \"lines\", \"type\": \"scatter\", \"x\": [1135.9375, 1135.9375, 1206.5234375, 1206.5234375], \"xaxis\": \"x\", \"y\": [0.9743212622071441, 2.8879838845911796, 2.8879838845911796, 2.34864893233201], \"yaxis\": \"y\"}, {\"hoverinfo\": \"text\", \"marker\": {\"color\": \"rgb(0,116,217)\"}, \"mode\": \"lines\", \"type\": \"scatter\", \"x\": [1335.0, 1335.0, 1345.0, 1345.0], \"xaxis\": \"x\", \"y\": [0.0, 0.8248877762131552, 0.8248877762131552, 0.0], \"yaxis\": \"y\"}, {\"hoverinfo\": \"text\", \"marker\": {\"color\": \"rgb(0,116,217)\"}, \"mode\": \"lines\", \"type\": \"scatter\", \"x\": [1325.0, 1325.0, 1340.0, 1340.0], \"xaxis\": \"x\", \"y\": [0.0, 2.2643584866206887, 2.2643584866206887, 0.8248877762131552], \"yaxis\": \"y\"}, {\"hoverinfo\": \"text\", \"marker\": {\"color\": \"rgb(0,116,217)\"}, \"mode\": \"lines\", \"type\": \"scatter\", \"x\": [1355.0, 1355.0, 1365.0, 1365.0], \"xaxis\": \"x\", \"y\": [0.0, 0.20279901960648383, 0.20279901960648383, 0.0], \"yaxis\": \"y\"}, {\"hoverinfo\": \"text\", \"marker\": {\"color\": \"rgb(0,116,217)\"}, \"mode\": \"lines\", \"type\": \"scatter\", \"x\": [1375.0, 1375.0, 1385.0, 1385.0], \"xaxis\": \"x\", \"y\": [0.0, 0.31973050231228056, 0.31973050231228056, 0.0], \"yaxis\": \"y\"}, {\"hoverinfo\": \"text\", \"marker\": {\"color\": \"rgb(0,116,217)\"}, \"mode\": \"lines\", \"type\": \"scatter\", \"x\": [1360.0, 1360.0, 1380.0, 1380.0], \"xaxis\": \"x\", \"y\": [0.20279901960648383, 0.5732173748390248, 0.5732173748390248, 0.31973050231228056], \"yaxis\": \"y\"}, {\"hoverinfo\": \"text\", \"marker\": {\"color\": \"rgb(0,116,217)\"}, \"mode\": \"lines\", \"type\": \"scatter\", \"x\": [1395.0, 1395.0, 1405.0, 1405.0], \"xaxis\": \"x\", \"y\": [0.0, 0.29915339124185686, 0.29915339124185686, 0.0], \"yaxis\": \"y\"}, {\"hoverinfo\": \"text\", \"marker\": {\"color\": \"rgb(0,116,217)\"}, \"mode\": \"lines\", \"type\": \"scatter\", \"x\": [1425.0, 1425.0, 1435.0, 1435.0], \"xaxis\": \"x\", \"y\": [0.0, 0.08697722836617143, 0.08697722836617143, 0.0], \"yaxis\": \"y\"}, {\"hoverinfo\": \"text\", \"marker\": {\"color\": \"rgb(0,116,217)\"}, \"mode\": \"lines\", \"type\": \"scatter\", \"x\": [1445.0, 1445.0, 1455.0, 1455.0], \"xaxis\": \"x\", \"y\": [0.0, 0.10249159646996484, 0.10249159646996484, 0.0], \"yaxis\": \"y\"}, {\"hoverinfo\": \"text\", \"marker\": {\"color\": \"rgb(0,116,217)\"}, \"mode\": \"lines\", \"type\": \"scatter\", \"x\": [1430.0, 1430.0, 1450.0, 1450.0], \"xaxis\": \"x\", \"y\": [0.08697722836617143, 0.24844228152509495, 0.24844228152509495, 0.10249159646996484], \"yaxis\": \"y\"}, {\"hoverinfo\": \"text\", \"marker\": {\"color\": \"rgb(0,116,217)\"}, \"mode\": \"lines\", \"type\": \"scatter\", \"x\": [1415.0, 1415.0, 1440.0, 1440.0], \"xaxis\": \"x\", \"y\": [0.0, 0.42964857927034955, 0.42964857927034955, 0.24844228152509495], \"yaxis\": \"y\"}, {\"hoverinfo\": \"text\", \"marker\": {\"color\": \"rgb(0,116,217)\"}, \"mode\": \"lines\", \"type\": \"scatter\", \"x\": [1400.0, 1400.0, 1427.5, 1427.5], \"xaxis\": \"x\", \"y\": [0.29915339124185686, 0.7803105881556456, 0.7803105881556456, 0.42964857927034955], \"yaxis\": \"y\"}, {\"hoverinfo\": \"text\", \"marker\": {\"color\": \"rgb(0,116,217)\"}, \"mode\": \"lines\", \"type\": \"scatter\", \"x\": [1370.0, 1370.0, 1413.75, 1413.75], \"xaxis\": \"x\", \"y\": [0.5732173748390248, 1.205295720792608, 1.205295720792608, 0.7803105881556456], \"yaxis\": \"y\"}, {\"hoverinfo\": \"text\", \"marker\": {\"color\": \"rgb(0,116,217)\"}, \"mode\": \"lines\", \"type\": \"scatter\", \"x\": [1495.0, 1495.0, 1505.0, 1505.0], \"xaxis\": \"x\", \"y\": [0.0, 0.14326277318422578, 0.14326277318422578, 0.0], \"yaxis\": \"y\"}, {\"hoverinfo\": \"text\", \"marker\": {\"color\": \"rgb(0,116,217)\"}, \"mode\": \"lines\", \"type\": \"scatter\", \"x\": [1485.0, 1485.0, 1500.0, 1500.0], \"xaxis\": \"x\", \"y\": [0.0, 0.23090900752437055, 0.23090900752437055, 0.14326277318422578], \"yaxis\": \"y\"}, {\"hoverinfo\": \"text\", \"marker\": {\"color\": \"rgb(0,116,217)\"}, \"mode\": \"lines\", \"type\": \"scatter\", \"x\": [1475.0, 1475.0, 1492.5, 1492.5], \"xaxis\": \"x\", \"y\": [0.0, 0.3445245746743373, 0.3445245746743373, 0.23090900752437055], \"yaxis\": \"y\"}, {\"hoverinfo\": \"text\", \"marker\": {\"color\": \"rgb(0,116,217)\"}, \"mode\": \"lines\", \"type\": \"scatter\", \"x\": [1465.0, 1465.0, 1483.75, 1483.75], \"xaxis\": \"x\", \"y\": [0.0, 0.48963812658434086, 0.48963812658434086, 0.3445245746743373], \"yaxis\": \"y\"}, {\"hoverinfo\": \"text\", \"marker\": {\"color\": \"rgb(0,116,217)\"}, \"mode\": \"lines\", \"type\": \"scatter\", \"x\": [1525.0, 1525.0, 1535.0, 1535.0], \"xaxis\": \"x\", \"y\": [0.0, 0.3028662414068256, 0.3028662414068256, 0.0], \"yaxis\": \"y\"}, {\"hoverinfo\": \"text\", \"marker\": {\"color\": \"rgb(0,116,217)\"}, \"mode\": \"lines\", \"type\": \"scatter\", \"x\": [1515.0, 1515.0, 1530.0, 1530.0], \"xaxis\": \"x\", \"y\": [0.0, 0.5722403319022892, 0.5722403319022892, 0.3028662414068256], \"yaxis\": \"y\"}, {\"hoverinfo\": \"text\", \"marker\": {\"color\": \"rgb(0,116,217)\"}, \"mode\": \"lines\", \"type\": \"scatter\", \"x\": [1474.375, 1474.375, 1522.5, 1522.5], \"xaxis\": \"x\", \"y\": [0.48963812658434086, 1.6044111861770156, 1.6044111861770156, 0.5722403319022892], \"yaxis\": \"y\"}, {\"hoverinfo\": \"text\", \"marker\": {\"color\": \"rgb(0,116,217)\"}, \"mode\": \"lines\", \"type\": \"scatter\", \"x\": [1391.875, 1391.875, 1498.4375, 1498.4375], \"xaxis\": \"x\", \"y\": [1.205295720792608, 2.3324382734619657, 2.3324382734619657, 1.6044111861770156], \"yaxis\": \"y\"}, {\"hoverinfo\": \"text\", \"marker\": {\"color\": \"rgb(0,116,217)\"}, \"mode\": \"lines\", \"type\": \"scatter\", \"x\": [1332.5, 1332.5, 1445.15625, 1445.15625], \"xaxis\": \"x\", \"y\": [2.2643584866206887, 3.5839042551525644, 3.5839042551525644, 2.3324382734619657], \"yaxis\": \"y\"}, {\"hoverinfo\": \"text\", \"marker\": {\"color\": \"rgb(0,116,217)\"}, \"mode\": \"lines\", \"type\": \"scatter\", \"x\": [1171.23046875, 1171.23046875, 1388.828125, 1388.828125], \"xaxis\": \"x\", \"y\": [2.8879838845911796, 5.861510474534836, 5.861510474534836, 3.5839042551525644], \"yaxis\": \"y\"}, {\"hoverinfo\": \"text\", \"marker\": {\"color\": \"rgb(0,116,217)\"}, \"mode\": \"lines\", \"type\": \"scatter\", \"x\": [581.69921875, 581.69921875, 1280.029296875, 1280.029296875], \"xaxis\": \"x\", \"y\": [3.656215383364375, 6.634677468113986, 6.634677468113986, 5.861510474534836], \"yaxis\": \"y\"}, {\"hoverinfo\": \"text\", \"marker\": {\"color\": \"rgb(0,116,217)\"}, \"mode\": \"lines\", \"type\": \"scatter\", \"x\": [135.0390625, 135.0390625, 930.8642578125, 930.8642578125], \"xaxis\": \"x\", \"y\": [4.047971564916184, 8.881867412542473, 8.881867412542473, 6.634677468113986], \"yaxis\": \"y\"}],                        {\"autosize\": false, \"height\": 500, \"hovermode\": \"closest\", \"showlegend\": false, \"template\": {\"data\": {\"bar\": [{\"error_x\": {\"color\": \"#2a3f5f\"}, \"error_y\": {\"color\": \"#2a3f5f\"}, \"marker\": {\"line\": {\"color\": \"#E5ECF6\", \"width\": 0.5}}, \"type\": \"bar\"}], \"barpolar\": [{\"marker\": {\"line\": {\"color\": \"#E5ECF6\", \"width\": 0.5}}, \"type\": \"barpolar\"}], \"carpet\": [{\"aaxis\": {\"endlinecolor\": \"#2a3f5f\", \"gridcolor\": \"white\", \"linecolor\": \"white\", \"minorgridcolor\": \"white\", \"startlinecolor\": \"#2a3f5f\"}, \"baxis\": {\"endlinecolor\": \"#2a3f5f\", \"gridcolor\": \"white\", \"linecolor\": \"white\", \"minorgridcolor\": \"white\", \"startlinecolor\": \"#2a3f5f\"}, \"type\": \"carpet\"}], \"choropleth\": [{\"colorbar\": {\"outlinewidth\": 0, \"ticks\": \"\"}, \"type\": \"choropleth\"}], \"contour\": [{\"colorbar\": {\"outlinewidth\": 0, \"ticks\": \"\"}, \"colorscale\": [[0.0, \"#0d0887\"], [0.1111111111111111, \"#46039f\"], [0.2222222222222222, \"#7201a8\"], [0.3333333333333333, \"#9c179e\"], [0.4444444444444444, \"#bd3786\"], [0.5555555555555556, \"#d8576b\"], [0.6666666666666666, \"#ed7953\"], [0.7777777777777778, \"#fb9f3a\"], [0.8888888888888888, \"#fdca26\"], [1.0, \"#f0f921\"]], \"type\": \"contour\"}], \"contourcarpet\": [{\"colorbar\": {\"outlinewidth\": 0, \"ticks\": \"\"}, \"type\": \"contourcarpet\"}], \"heatmap\": [{\"colorbar\": {\"outlinewidth\": 0, \"ticks\": \"\"}, \"colorscale\": [[0.0, \"#0d0887\"], [0.1111111111111111, \"#46039f\"], [0.2222222222222222, \"#7201a8\"], [0.3333333333333333, \"#9c179e\"], [0.4444444444444444, \"#bd3786\"], [0.5555555555555556, \"#d8576b\"], [0.6666666666666666, \"#ed7953\"], [0.7777777777777778, \"#fb9f3a\"], [0.8888888888888888, \"#fdca26\"], [1.0, \"#f0f921\"]], \"type\": \"heatmap\"}], \"heatmapgl\": [{\"colorbar\": {\"outlinewidth\": 0, \"ticks\": \"\"}, \"colorscale\": [[0.0, \"#0d0887\"], [0.1111111111111111, \"#46039f\"], [0.2222222222222222, \"#7201a8\"], [0.3333333333333333, \"#9c179e\"], [0.4444444444444444, \"#bd3786\"], [0.5555555555555556, \"#d8576b\"], [0.6666666666666666, \"#ed7953\"], [0.7777777777777778, \"#fb9f3a\"], [0.8888888888888888, \"#fdca26\"], [1.0, \"#f0f921\"]], \"type\": \"heatmapgl\"}], \"histogram\": [{\"marker\": {\"colorbar\": {\"outlinewidth\": 0, \"ticks\": \"\"}}, \"type\": \"histogram\"}], \"histogram2d\": [{\"colorbar\": {\"outlinewidth\": 0, \"ticks\": \"\"}, \"colorscale\": [[0.0, \"#0d0887\"], [0.1111111111111111, \"#46039f\"], [0.2222222222222222, \"#7201a8\"], [0.3333333333333333, \"#9c179e\"], [0.4444444444444444, \"#bd3786\"], [0.5555555555555556, \"#d8576b\"], [0.6666666666666666, \"#ed7953\"], [0.7777777777777778, \"#fb9f3a\"], [0.8888888888888888, \"#fdca26\"], [1.0, \"#f0f921\"]], \"type\": \"histogram2d\"}], \"histogram2dcontour\": [{\"colorbar\": {\"outlinewidth\": 0, \"ticks\": \"\"}, \"colorscale\": [[0.0, \"#0d0887\"], [0.1111111111111111, \"#46039f\"], [0.2222222222222222, \"#7201a8\"], [0.3333333333333333, \"#9c179e\"], [0.4444444444444444, \"#bd3786\"], [0.5555555555555556, \"#d8576b\"], [0.6666666666666666, \"#ed7953\"], [0.7777777777777778, \"#fb9f3a\"], [0.8888888888888888, \"#fdca26\"], [1.0, \"#f0f921\"]], \"type\": \"histogram2dcontour\"}], \"mesh3d\": [{\"colorbar\": {\"outlinewidth\": 0, \"ticks\": \"\"}, \"type\": \"mesh3d\"}], \"parcoords\": [{\"line\": {\"colorbar\": {\"outlinewidth\": 0, \"ticks\": \"\"}}, \"type\": \"parcoords\"}], \"pie\": [{\"automargin\": true, \"type\": \"pie\"}], \"scatter\": [{\"marker\": {\"colorbar\": {\"outlinewidth\": 0, \"ticks\": \"\"}}, \"type\": \"scatter\"}], \"scatter3d\": [{\"line\": {\"colorbar\": {\"outlinewidth\": 0, \"ticks\": \"\"}}, \"marker\": {\"colorbar\": {\"outlinewidth\": 0, \"ticks\": \"\"}}, \"type\": \"scatter3d\"}], \"scattercarpet\": [{\"marker\": {\"colorbar\": {\"outlinewidth\": 0, \"ticks\": \"\"}}, \"type\": \"scattercarpet\"}], \"scattergeo\": [{\"marker\": {\"colorbar\": {\"outlinewidth\": 0, \"ticks\": \"\"}}, \"type\": \"scattergeo\"}], \"scattergl\": [{\"marker\": {\"colorbar\": {\"outlinewidth\": 0, \"ticks\": \"\"}}, \"type\": \"scattergl\"}], \"scattermapbox\": [{\"marker\": {\"colorbar\": {\"outlinewidth\": 0, \"ticks\": \"\"}}, \"type\": \"scattermapbox\"}], \"scatterpolar\": [{\"marker\": {\"colorbar\": {\"outlinewidth\": 0, \"ticks\": \"\"}}, \"type\": \"scatterpolar\"}], \"scatterpolargl\": [{\"marker\": {\"colorbar\": {\"outlinewidth\": 0, \"ticks\": \"\"}}, \"type\": \"scatterpolargl\"}], \"scatterternary\": [{\"marker\": {\"colorbar\": {\"outlinewidth\": 0, \"ticks\": \"\"}}, \"type\": \"scatterternary\"}], \"surface\": [{\"colorbar\": {\"outlinewidth\": 0, \"ticks\": \"\"}, \"colorscale\": [[0.0, \"#0d0887\"], [0.1111111111111111, \"#46039f\"], [0.2222222222222222, \"#7201a8\"], [0.3333333333333333, \"#9c179e\"], [0.4444444444444444, \"#bd3786\"], [0.5555555555555556, \"#d8576b\"], [0.6666666666666666, \"#ed7953\"], [0.7777777777777778, \"#fb9f3a\"], [0.8888888888888888, \"#fdca26\"], [1.0, \"#f0f921\"]], \"type\": \"surface\"}], \"table\": [{\"cells\": {\"fill\": {\"color\": \"#EBF0F8\"}, \"line\": {\"color\": \"white\"}}, \"header\": {\"fill\": {\"color\": \"#C8D4E3\"}, \"line\": {\"color\": \"white\"}}, \"type\": \"table\"}]}, \"layout\": {\"annotationdefaults\": {\"arrowcolor\": \"#2a3f5f\", \"arrowhead\": 0, \"arrowwidth\": 1}, \"autotypenumbers\": \"strict\", \"coloraxis\": {\"colorbar\": {\"outlinewidth\": 0, \"ticks\": \"\"}}, \"colorscale\": {\"diverging\": [[0, \"#8e0152\"], [0.1, \"#c51b7d\"], [0.2, \"#de77ae\"], [0.3, \"#f1b6da\"], [0.4, \"#fde0ef\"], [0.5, \"#f7f7f7\"], [0.6, \"#e6f5d0\"], [0.7, \"#b8e186\"], [0.8, \"#7fbc41\"], [0.9, \"#4d9221\"], [1, \"#276419\"]], \"sequential\": [[0.0, \"#0d0887\"], [0.1111111111111111, \"#46039f\"], [0.2222222222222222, \"#7201a8\"], [0.3333333333333333, \"#9c179e\"], [0.4444444444444444, \"#bd3786\"], [0.5555555555555556, \"#d8576b\"], [0.6666666666666666, \"#ed7953\"], [0.7777777777777778, \"#fb9f3a\"], [0.8888888888888888, \"#fdca26\"], [1.0, \"#f0f921\"]], \"sequentialminus\": [[0.0, \"#0d0887\"], [0.1111111111111111, \"#46039f\"], [0.2222222222222222, \"#7201a8\"], [0.3333333333333333, \"#9c179e\"], [0.4444444444444444, \"#bd3786\"], [0.5555555555555556, \"#d8576b\"], [0.6666666666666666, \"#ed7953\"], [0.7777777777777778, \"#fb9f3a\"], [0.8888888888888888, \"#fdca26\"], [1.0, \"#f0f921\"]]}, \"colorway\": [\"#636efa\", \"#EF553B\", \"#00cc96\", \"#ab63fa\", \"#FFA15A\", \"#19d3f3\", \"#FF6692\", \"#B6E880\", \"#FF97FF\", \"#FECB52\"], \"font\": {\"color\": \"#2a3f5f\"}, \"geo\": {\"bgcolor\": \"white\", \"lakecolor\": \"white\", \"landcolor\": \"#E5ECF6\", \"showlakes\": true, \"showland\": true, \"subunitcolor\": \"white\"}, \"hoverlabel\": {\"align\": \"left\"}, \"hovermode\": \"closest\", \"mapbox\": {\"style\": \"light\"}, \"paper_bgcolor\": \"white\", \"plot_bgcolor\": \"#E5ECF6\", \"polar\": {\"angularaxis\": {\"gridcolor\": \"white\", \"linecolor\": \"white\", \"ticks\": \"\"}, \"bgcolor\": \"#E5ECF6\", \"radialaxis\": {\"gridcolor\": \"white\", \"linecolor\": \"white\", \"ticks\": \"\"}}, \"scene\": {\"xaxis\": {\"backgroundcolor\": \"#E5ECF6\", \"gridcolor\": \"white\", \"gridwidth\": 2, \"linecolor\": \"white\", \"showbackground\": true, \"ticks\": \"\", \"zerolinecolor\": \"white\"}, \"yaxis\": {\"backgroundcolor\": \"#E5ECF6\", \"gridcolor\": \"white\", \"gridwidth\": 2, \"linecolor\": \"white\", \"showbackground\": true, \"ticks\": \"\", \"zerolinecolor\": \"white\"}, \"zaxis\": {\"backgroundcolor\": \"#E5ECF6\", \"gridcolor\": \"white\", \"gridwidth\": 2, \"linecolor\": \"white\", \"showbackground\": true, \"ticks\": \"\", \"zerolinecolor\": \"white\"}}, \"shapedefaults\": {\"line\": {\"color\": \"#2a3f5f\"}}, \"ternary\": {\"aaxis\": {\"gridcolor\": \"white\", \"linecolor\": \"white\", \"ticks\": \"\"}, \"baxis\": {\"gridcolor\": \"white\", \"linecolor\": \"white\", \"ticks\": \"\"}, \"bgcolor\": \"#E5ECF6\", \"caxis\": {\"gridcolor\": \"white\", \"linecolor\": \"white\", \"ticks\": \"\"}}, \"title\": {\"x\": 0.05}, \"xaxis\": {\"automargin\": true, \"gridcolor\": \"white\", \"linecolor\": \"white\", \"ticks\": \"\", \"title\": {\"standoff\": 15}, \"zerolinecolor\": \"white\", \"zerolinewidth\": 2}, \"yaxis\": {\"automargin\": true, \"gridcolor\": \"white\", \"linecolor\": \"white\", \"ticks\": \"\", \"title\": {\"standoff\": 15}, \"zerolinecolor\": \"white\", \"zerolinewidth\": 2}}}, \"width\": 800, \"xaxis\": {\"mirror\": \"allticks\", \"rangemode\": \"tozero\", \"showgrid\": false, \"showline\": true, \"showticklabels\": true, \"tickmode\": \"array\", \"ticks\": \"outside\", \"ticktext\": [\"75\", \"148\", \"127\", \"121\", \"136\", \"138\", \"102\", \"109\", \"135\", \"116\", \"143\", \"142\", \"149\", \"150\", \"112\", \"133\", \"139\", \"137\", \"141\", \"124\", \"67\", \"122\", \"131\", \"108\", \"134\", \"146\", \"147\", \"53\", \"14\", \"25\", \"103\", \"34\", \"72\", \"41\", \"44\", \"36\", \"52\", \"20\", \"26\", \"39\", \"46\", \"50\", \"60\", \"8\", \"152\", \"61\", \"140\", \"113\", \"120\", \"71\", \"49\", \"70\", \"118\", \"58\", \"68\", \"74\", \"129\", \"42\", \"59\", \"107\", \"110\", \"125\", \"31\", \"56\", \"18\", \"40\", \"123\", \"17\", \"99\", \"33\", \"54\", \"66\", \"64\", \"43\", \"57\", \"51\", \"29\", \"35\", \"23\", \"97\", \"84\", \"6\", \"85\", \"96\", \"16\", \"27\", \"3\", \"30\", \"37\", \"92\", \"19\", \"9\", \"11\", \"21\", \"32\", \"153\", \"63\", \"98\", \"22\", \"48\", \"12\", \"4\", \"100\", \"5\", \"28\", \"15\", \"95\", \"81\", \"88\", \"79\", \"77\", \"83\", \"1\", \"2\", \"78\", \"7\", \"80\", \"13\", \"24\", \"10\", \"91\", \"90\", \"101\", \"0\", \"86\", \"87\", \"94\", \"93\", \"82\", \"76\", \"47\", \"89\", \"106\", \"144\", \"151\", \"115\", \"145\", \"114\", \"117\", \"130\", \"132\", \"128\", \"104\", \"126\", \"38\", \"55\", \"111\", \"73\", \"105\", \"45\", \"119\", \"69\", \"62\", \"65\"], \"tickvals\": [5.0, 15.0, 25.0, 35.0, 45.0, 55.0, 65.0, 75.0, 85.0, 95.0, 105.0, 115.0, 125.0, 135.0, 145.0, 155.0, 165.0, 175.0, 185.0, 195.0, 205.0, 215.0, 225.0, 235.0, 245.0, 255.0, 265.0, 275.0, 285.0, 295.0, 305.0, 315.0, 325.0, 335.0, 345.0, 355.0, 365.0, 375.0, 385.0, 395.0, 405.0, 415.0, 425.0, 435.0, 445.0, 455.0, 465.0, 475.0, 485.0, 495.0, 505.0, 515.0, 525.0, 535.0, 545.0, 555.0, 565.0, 575.0, 585.0, 595.0, 605.0, 615.0, 625.0, 635.0, 645.0, 655.0, 665.0, 675.0, 685.0, 695.0, 705.0, 715.0, 725.0, 735.0, 745.0, 755.0, 765.0, 775.0, 785.0, 795.0, 805.0, 815.0, 825.0, 835.0, 845.0, 855.0, 865.0, 875.0, 885.0, 895.0, 905.0, 915.0, 925.0, 935.0, 945.0, 955.0, 965.0, 975.0, 985.0, 995.0, 1005.0, 1015.0, 1025.0, 1035.0, 1045.0, 1055.0, 1065.0, 1075.0, 1085.0, 1095.0, 1105.0, 1115.0, 1125.0, 1135.0, 1145.0, 1155.0, 1165.0, 1175.0, 1185.0, 1195.0, 1205.0, 1215.0, 1225.0, 1235.0, 1245.0, 1255.0, 1265.0, 1275.0, 1285.0, 1295.0, 1305.0, 1315.0, 1325.0, 1335.0, 1345.0, 1355.0, 1365.0, 1375.0, 1385.0, 1395.0, 1405.0, 1415.0, 1425.0, 1435.0, 1445.0, 1455.0, 1465.0, 1475.0, 1485.0, 1495.0, 1505.0, 1515.0, 1525.0, 1535.0], \"type\": \"linear\", \"zeroline\": false}, \"yaxis\": {\"mirror\": \"allticks\", \"rangemode\": \"tozero\", \"showgrid\": false, \"showline\": true, \"showticklabels\": true, \"ticks\": \"outside\", \"type\": \"linear\", \"zeroline\": false}},                        {\"responsive\": true}                    ).then(function(){\n",
       "                            \n",
       "var gd = document.getElementById('044443c0-65f0-4cc2-ac4c-9b8bb92e156a');\n",
       "var x = new MutationObserver(function (mutations, observer) {{\n",
       "        var display = window.getComputedStyle(gd).display;\n",
       "        if (!display || display === 'none') {{\n",
       "            console.log([gd, 'removed!']);\n",
       "            Plotly.purge(gd);\n",
       "            observer.disconnect();\n",
       "        }}\n",
       "}});\n",
       "\n",
       "// Listen for the removal of the full notebook cells\n",
       "var notebookContainer = gd.closest('#notebook-container');\n",
       "if (notebookContainer) {{\n",
       "    x.observe(notebookContainer, {childList: true});\n",
       "}}\n",
       "\n",
       "// Listen for the clearing of the current output cell\n",
       "var outputEl = gd.closest('.output');\n",
       "if (outputEl) {{\n",
       "    x.observe(outputEl, {childList: true});\n",
       "}}\n",
       "\n",
       "                        })                };                });            </script>        </div>"
      ]
     },
     "metadata": {},
     "output_type": "display_data"
    }
   ],
   "source": [
    "# Create the dendrogram\n",
    "fig = ff.create_dendrogram(df_pca_2019, color_threshold=0)\n",
    "fig.update_layout(width=800, height=500)\n",
    "fig.show()"
   ]
  },
  {
   "cell_type": "code",
   "execution_count": 21,
   "id": "47d0f955",
   "metadata": {},
   "outputs": [],
   "source": [
    "# Run the hierarichal algorithm \n",
    "agg = AgglomerativeClustering(n_clusters=3)\n",
    "model = agg.fit(df_pca_2019)"
   ]
  },
  {
   "cell_type": "code",
   "execution_count": 22,
   "id": "fcb50c1d",
   "metadata": {},
   "outputs": [
    {
     "data": {
      "text/html": [
       "<div>\n",
       "<style scoped>\n",
       "    .dataframe tbody tr th:only-of-type {\n",
       "        vertical-align: middle;\n",
       "    }\n",
       "\n",
       "    .dataframe tbody tr th {\n",
       "        vertical-align: top;\n",
       "    }\n",
       "\n",
       "    .dataframe thead th {\n",
       "        text-align: right;\n",
       "    }\n",
       "</style>\n",
       "<table border=\"1\" class=\"dataframe\">\n",
       "  <thead>\n",
       "    <tr style=\"text-align: right;\">\n",
       "      <th></th>\n",
       "      <th>principal component 1</th>\n",
       "      <th>principal component 2</th>\n",
       "      <th>class</th>\n",
       "    </tr>\n",
       "  </thead>\n",
       "  <tbody>\n",
       "    <tr>\n",
       "      <th>0</th>\n",
       "      <td>-3.138875</td>\n",
       "      <td>1.050389</td>\n",
       "      <td>2</td>\n",
       "    </tr>\n",
       "    <tr>\n",
       "      <th>1</th>\n",
       "      <td>-3.300299</td>\n",
       "      <td>1.816897</td>\n",
       "      <td>2</td>\n",
       "    </tr>\n",
       "    <tr>\n",
       "      <th>2</th>\n",
       "      <td>-3.347485</td>\n",
       "      <td>1.521363</td>\n",
       "      <td>2</td>\n",
       "    </tr>\n",
       "    <tr>\n",
       "      <th>3</th>\n",
       "      <td>-1.456917</td>\n",
       "      <td>-1.183592</td>\n",
       "      <td>1</td>\n",
       "    </tr>\n",
       "    <tr>\n",
       "      <th>4</th>\n",
       "      <td>-1.188210</td>\n",
       "      <td>-0.989879</td>\n",
       "      <td>1</td>\n",
       "    </tr>\n",
       "  </tbody>\n",
       "</table>\n",
       "</div>"
      ],
      "text/plain": [
       "   principal component 1  principal component 2  class\n",
       "0              -3.138875               1.050389      2\n",
       "1              -3.300299               1.816897      2\n",
       "2              -3.347485               1.521363      2\n",
       "3              -1.456917              -1.183592      1\n",
       "4              -1.188210              -0.989879      1"
      ]
     },
     "execution_count": 22,
     "metadata": {},
     "output_type": "execute_result"
    }
   ],
   "source": [
    "# Add a new column to df_iris\n",
    "df_pca_2019[\"class\"] = model.labels_\n",
    "df_pca_2019.head()"
   ]
  },
  {
   "cell_type": "code",
   "execution_count": 23,
   "id": "5b140fca",
   "metadata": {},
   "outputs": [
    {
     "data": {},
     "metadata": {},
     "output_type": "display_data"
    },
    {
     "data": {
      "application/vnd.holoviews_exec.v0+json": "",
      "text/html": [
       "<div id='1002'>\n",
       "\n",
       "\n",
       "\n",
       "\n",
       "\n",
       "  <div class=\"bk-root\" id=\"92479547-8e6f-4b04-ae7a-459f4893b0bd\" data-root-id=\"1002\"></div>\n",
       "</div>\n",
       "<script type=\"application/javascript\">(function(root) {\n",
       "  function embed_document(root) {\n",
       "    var docs_json = {\"31b4b36e-ab70-4f42-83b5-45b0eb936c81\":{\"defs\":[{\"extends\":null,\"module\":null,\"name\":\"ReactiveHTML1\",\"overrides\":[],\"properties\":[]},{\"extends\":null,\"module\":null,\"name\":\"FlexBox1\",\"overrides\":[],\"properties\":[{\"default\":\"flex-start\",\"kind\":null,\"name\":\"align_content\"},{\"default\":\"flex-start\",\"kind\":null,\"name\":\"align_items\"},{\"default\":\"row\",\"kind\":null,\"name\":\"flex_direction\"},{\"default\":\"wrap\",\"kind\":null,\"name\":\"flex_wrap\"},{\"default\":\"flex-start\",\"kind\":null,\"name\":\"justify_content\"}]},{\"extends\":null,\"module\":null,\"name\":\"TemplateActions1\",\"overrides\":[],\"properties\":[{\"default\":0,\"kind\":null,\"name\":\"open_modal\"},{\"default\":0,\"kind\":null,\"name\":\"close_modal\"}]},{\"extends\":null,\"module\":null,\"name\":\"MaterialTemplateActions1\",\"overrides\":[],\"properties\":[{\"default\":0,\"kind\":null,\"name\":\"open_modal\"},{\"default\":0,\"kind\":null,\"name\":\"close_modal\"}]}],\"roots\":{\"references\":[{\"attributes\":{\"label\":{\"value\":\"2\"},\"renderers\":[{\"id\":\"1094\"}]},\"id\":\"1110\",\"type\":\"LegendItem\"},{\"attributes\":{\"fill_alpha\":{\"value\":0.2},\"fill_color\":{\"value\":\"#fc4f30\"},\"line_alpha\":{\"value\":0.2},\"line_color\":{\"value\":\"#fc4f30\"},\"size\":{\"value\":5.477225575051661},\"x\":{\"field\":\"principal component 1\"},\"y\":{\"field\":\"principal component 2\"}},\"id\":\"1071\",\"type\":\"Scatter\"},{\"attributes\":{\"end\":5.5242270900060175,\"reset_end\":5.5242270900060175,\"reset_start\":-4.104617500030069,\"start\":-4.104617500030069,\"tags\":[[[\"principal component 1\",\"principal component 1\",null]]]},\"id\":\"1004\",\"type\":\"Range1d\"},{\"attributes\":{\"text_color\":\"black\",\"text_font_size\":\"12pt\"},\"id\":\"1010\",\"type\":\"Title\"},{\"attributes\":{},\"id\":\"1043\",\"type\":\"AllLabels\"},{\"attributes\":{\"data_source\":{\"id\":\"1088\"},\"glyph\":{\"id\":\"1091\"},\"hover_glyph\":null,\"muted_glyph\":{\"id\":\"1093\"},\"nonselection_glyph\":{\"id\":\"1092\"},\"selection_glyph\":{\"id\":\"1111\"},\"view\":{\"id\":\"1095\"}},\"id\":\"1094\",\"type\":\"GlyphRenderer\"},{\"attributes\":{},\"id\":\"1030\",\"type\":\"ResetTool\"},{\"attributes\":{\"children\":[{\"id\":\"1003\"},{\"id\":\"1009\"},{\"id\":\"1238\"}],\"margin\":[0,0,0,0],\"name\":\"Row01680\",\"tags\":[\"embedded\"]},\"id\":\"1002\",\"type\":\"Row\"},{\"attributes\":{},\"id\":\"1019\",\"type\":\"BasicTicker\"},{\"attributes\":{\"data_source\":{\"id\":\"1045\"},\"glyph\":{\"id\":\"1048\"},\"hover_glyph\":null,\"muted_glyph\":{\"id\":\"1050\"},\"nonselection_glyph\":{\"id\":\"1049\"},\"selection_glyph\":{\"id\":\"1065\"},\"view\":{\"id\":\"1052\"}},\"id\":\"1051\",\"type\":\"GlyphRenderer\"},{\"attributes\":{},\"id\":\"1041\",\"type\":\"BasicTickFormatter\"},{\"attributes\":{\"overlay\":{\"id\":\"1031\"}},\"id\":\"1029\",\"type\":\"BoxZoomTool\"},{\"attributes\":{},\"id\":\"1107\",\"type\":\"UnionRenderers\"},{\"attributes\":{\"label\":{\"value\":\"1\"},\"renderers\":[{\"id\":\"1072\"}]},\"id\":\"1086\",\"type\":\"LegendItem\"},{\"attributes\":{\"fill_alpha\":{\"value\":0.1},\"fill_color\":{\"value\":\"#fc4f30\"},\"line_alpha\":{\"value\":0.1},\"line_color\":{\"value\":\"#fc4f30\"},\"size\":{\"value\":5.477225575051661},\"x\":{\"field\":\"principal component 1\"},\"y\":{\"field\":\"principal component 2\"}},\"id\":\"1070\",\"type\":\"Scatter\"},{\"attributes\":{\"axis_label\":\"principal component 1\",\"formatter\":{\"id\":\"1041\"},\"major_label_policy\":{\"id\":\"1040\"},\"ticker\":{\"id\":\"1019\"}},\"id\":\"1018\",\"type\":\"LinearAxis\"},{\"attributes\":{},\"id\":\"1014\",\"type\":\"LinearScale\"},{\"attributes\":{\"source\":{\"id\":\"1045\"}},\"id\":\"1052\",\"type\":\"CDSView\"},{\"attributes\":{\"axis\":{\"id\":\"1018\"},\"grid_line_color\":null,\"ticker\":null},\"id\":\"1021\",\"type\":\"Grid\"},{\"attributes\":{\"fill_alpha\":{\"value\":0.1},\"fill_color\":{\"value\":\"#30a2da\"},\"line_alpha\":{\"value\":0.1},\"line_color\":{\"value\":\"#30a2da\"},\"size\":{\"value\":5.477225575051661},\"x\":{\"field\":\"principal component 1\"},\"y\":{\"field\":\"principal component 2\"}},\"id\":\"1049\",\"type\":\"Scatter\"},{\"attributes\":{\"source\":{\"id\":\"1066\"}},\"id\":\"1073\",\"type\":\"CDSView\"},{\"attributes\":{\"angle\":{\"value\":0.0},\"fill_alpha\":{\"value\":1.0},\"fill_color\":{\"value\":\"#e5ae38\"},\"hatch_alpha\":{\"value\":1.0},\"hatch_color\":{\"value\":\"black\"},\"hatch_scale\":{\"value\":12.0},\"hatch_weight\":{\"value\":1.0},\"line_alpha\":{\"value\":1.0},\"line_cap\":{\"value\":\"butt\"},\"line_color\":{\"value\":\"#e5ae38\"},\"line_dash\":{\"value\":[]},\"line_dash_offset\":{\"value\":0},\"line_join\":{\"value\":\"bevel\"},\"line_width\":{\"value\":1},\"marker\":{\"value\":\"circle\"},\"size\":{\"value\":5.477225575051661},\"x\":{\"field\":\"principal component 1\"},\"y\":{\"field\":\"principal component 2\"}},\"id\":\"1111\",\"type\":\"Scatter\"},{\"attributes\":{\"data_source\":{\"id\":\"1066\"},\"glyph\":{\"id\":\"1069\"},\"hover_glyph\":null,\"muted_glyph\":{\"id\":\"1071\"},\"nonselection_glyph\":{\"id\":\"1070\"},\"selection_glyph\":{\"id\":\"1087\"},\"view\":{\"id\":\"1073\"}},\"id\":\"1072\",\"type\":\"GlyphRenderer\"},{\"attributes\":{\"axis\":{\"id\":\"1022\"},\"dimension\":1,\"grid_line_color\":null,\"ticker\":null},\"id\":\"1025\",\"type\":\"Grid\"},{\"attributes\":{\"fill_alpha\":{\"value\":0.2},\"fill_color\":{\"value\":\"#30a2da\"},\"line_alpha\":{\"value\":0.2},\"line_color\":{\"value\":\"#30a2da\"},\"size\":{\"value\":5.477225575051661},\"x\":{\"field\":\"principal component 1\"},\"y\":{\"field\":\"principal component 2\"}},\"id\":\"1050\",\"type\":\"Scatter\"},{\"attributes\":{},\"id\":\"1023\",\"type\":\"BasicTicker\"},{\"attributes\":{},\"id\":\"1060\",\"type\":\"UnionRenderers\"},{\"attributes\":{\"axis_label\":\"principal component 2\",\"formatter\":{\"id\":\"1044\"},\"major_label_policy\":{\"id\":\"1043\"},\"ticker\":{\"id\":\"1023\"}},\"id\":\"1022\",\"type\":\"LinearAxis\"},{\"attributes\":{\"fill_color\":{\"value\":\"#e5ae38\"},\"line_color\":{\"value\":\"#e5ae38\"},\"size\":{\"value\":5.477225575051661},\"x\":{\"field\":\"principal component 1\"},\"y\":{\"field\":\"principal component 2\"}},\"id\":\"1091\",\"type\":\"Scatter\"},{\"attributes\":{},\"id\":\"1046\",\"type\":\"Selection\"},{\"attributes\":{},\"id\":\"1083\",\"type\":\"UnionRenderers\"},{\"attributes\":{\"fill_color\":{\"value\":\"#30a2da\"},\"line_color\":{\"value\":\"#30a2da\"},\"size\":{\"value\":5.477225575051661},\"x\":{\"field\":\"principal component 1\"},\"y\":{\"field\":\"principal component 2\"}},\"id\":\"1048\",\"type\":\"Scatter\"},{\"attributes\":{\"margin\":[5,5,5,5],\"name\":\"HSpacer01685\",\"sizing_mode\":\"stretch_width\"},\"id\":\"1238\",\"type\":\"Spacer\"},{\"attributes\":{\"margin\":[5,5,5,5],\"name\":\"HSpacer01684\",\"sizing_mode\":\"stretch_width\"},\"id\":\"1003\",\"type\":\"Spacer\"},{\"attributes\":{\"bottom_units\":\"screen\",\"fill_alpha\":0.5,\"fill_color\":\"lightgrey\",\"left_units\":\"screen\",\"level\":\"overlay\",\"line_alpha\":1.0,\"line_color\":\"black\",\"line_dash\":[4,4],\"line_width\":2,\"right_units\":\"screen\",\"syncable\":false,\"top_units\":\"screen\"},\"id\":\"1031\",\"type\":\"BoxAnnotation\"},{\"attributes\":{\"angle\":{\"value\":0.0},\"fill_alpha\":{\"value\":1.0},\"fill_color\":{\"value\":\"#30a2da\"},\"hatch_alpha\":{\"value\":1.0},\"hatch_color\":{\"value\":\"black\"},\"hatch_scale\":{\"value\":12.0},\"hatch_weight\":{\"value\":1.0},\"line_alpha\":{\"value\":1.0},\"line_cap\":{\"value\":\"butt\"},\"line_color\":{\"value\":\"#30a2da\"},\"line_dash\":{\"value\":[]},\"line_dash_offset\":{\"value\":0},\"line_join\":{\"value\":\"bevel\"},\"line_width\":{\"value\":1},\"marker\":{\"value\":\"circle\"},\"size\":{\"value\":5.477225575051661},\"x\":{\"field\":\"principal component 1\"},\"y\":{\"field\":\"principal component 2\"}},\"id\":\"1065\",\"type\":\"Scatter\"},{\"attributes\":{\"angle\":{\"value\":0.0},\"fill_alpha\":{\"value\":1.0},\"fill_color\":{\"value\":\"#fc4f30\"},\"hatch_alpha\":{\"value\":1.0},\"hatch_color\":{\"value\":\"black\"},\"hatch_scale\":{\"value\":12.0},\"hatch_weight\":{\"value\":1.0},\"line_alpha\":{\"value\":1.0},\"line_cap\":{\"value\":\"butt\"},\"line_color\":{\"value\":\"#fc4f30\"},\"line_dash\":{\"value\":[]},\"line_dash_offset\":{\"value\":0},\"line_join\":{\"value\":\"bevel\"},\"line_width\":{\"value\":1},\"marker\":{\"value\":\"circle\"},\"size\":{\"value\":5.477225575051661},\"x\":{\"field\":\"principal component 1\"},\"y\":{\"field\":\"principal component 2\"}},\"id\":\"1087\",\"type\":\"Scatter\"},{\"attributes\":{\"data\":{\"class\":[2,2,2,2,2,2,2,2,2,2,2,2,2,2,2,2,2,2,2],\"principal component 1\":{\"__ndarray__\":\"zUGWX2ocCcD84CrvAmcKwAWVXUSmxwrAv4u8L9fLDcBFIxLXs+sCwPghJK+JzATAvDruS6C9BsDxB/OMw2oJwDx87jsITAjAirGQ/ZBhCcAATOsoHYIHwNfsdEQbdgPAsQJOzV5SB8CND9wcZ7oHwHE4FKiPmAPAGdFrYvSFB8CWHgho5ewCwIB6a9vteP+/JSwMWEV6AsA=\",\"dtype\":\"float64\",\"order\":\"little\",\"shape\":[19]},\"principal component 2\":{\"__ndarray__\":\"MTu/qmTO8D9jCVfGAhL9P/57P3GAV/g/NU+EnRMI/z/iZ9McM6XsP8Fm+UTL6+0/+QHh+j2T+j8uXIvhqvz2P40VSUXfuPs/cl6zd4rcAUBrjgdUm0j4PwE4Yr9L/uU/d8SV6nN3+j/Du2PTC/HkP4yH1sokzPc/Vm+4cknH9T+ravk/u7ruP+rb25jy1u4/cGbkIQVl9T8=\",\"dtype\":\"float64\",\"order\":\"little\",\"shape\":[19]},\"principal_component_1\":{\"__ndarray__\":\"zUGWX2ocCcD84CrvAmcKwAWVXUSmxwrAv4u8L9fLDcBFIxLXs+sCwPghJK+JzATAvDruS6C9BsDxB/OMw2oJwDx87jsITAjAirGQ/ZBhCcAATOsoHYIHwNfsdEQbdgPAsQJOzV5SB8CND9wcZ7oHwHE4FKiPmAPAGdFrYvSFB8CWHgho5ewCwIB6a9vteP+/JSwMWEV6AsA=\",\"dtype\":\"float64\",\"order\":\"little\",\"shape\":[19]},\"principal_component_2\":{\"__ndarray__\":\"MTu/qmTO8D9jCVfGAhL9P/57P3GAV/g/NU+EnRMI/z/iZ9McM6XsP8Fm+UTL6+0/+QHh+j2T+j8uXIvhqvz2P40VSUXfuPs/cl6zd4rcAUBrjgdUm0j4PwE4Yr9L/uU/d8SV6nN3+j/Du2PTC/HkP4yH1sokzPc/Vm+4cknH9T+ravk/u7ruP+rb25jy1u4/cGbkIQVl9T8=\",\"dtype\":\"float64\",\"order\":\"little\",\"shape\":[19]}},\"selected\":{\"id\":\"1089\"},\"selection_policy\":{\"id\":\"1107\"}},\"id\":\"1088\",\"type\":\"ColumnDataSource\"},{\"attributes\":{\"click_policy\":\"mute\",\"items\":[{\"id\":\"1064\"},{\"id\":\"1086\"},{\"id\":\"1110\"}],\"location\":[0,0],\"title\":\"class\"},\"id\":\"1063\",\"type\":\"Legend\"},{\"attributes\":{},\"id\":\"1016\",\"type\":\"LinearScale\"},{\"attributes\":{\"active_multi\":null,\"tools\":[{\"id\":\"1006\"},{\"id\":\"1026\"},{\"id\":\"1027\"},{\"id\":\"1028\"},{\"id\":\"1029\"},{\"id\":\"1030\"}]},\"id\":\"1032\",\"type\":\"Toolbar\"},{\"attributes\":{},\"id\":\"1089\",\"type\":\"Selection\"},{\"attributes\":{\"source\":{\"id\":\"1088\"}},\"id\":\"1095\",\"type\":\"CDSView\"},{\"attributes\":{},\"id\":\"1067\",\"type\":\"Selection\"},{\"attributes\":{\"fill_alpha\":{\"value\":0.1},\"fill_color\":{\"value\":\"#e5ae38\"},\"line_alpha\":{\"value\":0.1},\"line_color\":{\"value\":\"#e5ae38\"},\"size\":{\"value\":5.477225575051661},\"x\":{\"field\":\"principal component 1\"},\"y\":{\"field\":\"principal component 2\"}},\"id\":\"1092\",\"type\":\"Scatter\"},{\"attributes\":{\"callback\":null,\"renderers\":[{\"id\":\"1051\"},{\"id\":\"1072\"},{\"id\":\"1094\"}],\"tags\":[\"hv_created\"],\"tooltips\":[[\"class\",\"@{class}\"],[\"principal component 1\",\"@{principal_component_1}\"],[\"principal component 2\",\"@{principal_component_2}\"]]},\"id\":\"1006\",\"type\":\"HoverTool\"},{\"attributes\":{},\"id\":\"1026\",\"type\":\"SaveTool\"},{\"attributes\":{},\"id\":\"1044\",\"type\":\"BasicTickFormatter\"},{\"attributes\":{\"below\":[{\"id\":\"1018\"}],\"center\":[{\"id\":\"1021\"},{\"id\":\"1025\"}],\"height\":300,\"left\":[{\"id\":\"1022\"}],\"margin\":[5,5,5,5],\"min_border_bottom\":10,\"min_border_left\":10,\"min_border_right\":10,\"min_border_top\":10,\"renderers\":[{\"id\":\"1051\"},{\"id\":\"1072\"},{\"id\":\"1094\"}],\"right\":[{\"id\":\"1063\"}],\"sizing_mode\":\"fixed\",\"title\":{\"id\":\"1010\"},\"toolbar\":{\"id\":\"1032\"},\"width\":700,\"x_range\":{\"id\":\"1004\"},\"x_scale\":{\"id\":\"1014\"},\"y_range\":{\"id\":\"1005\"},\"y_scale\":{\"id\":\"1016\"}},\"id\":\"1009\",\"subtype\":\"Figure\",\"type\":\"Plot\"},{\"attributes\":{\"fill_color\":{\"value\":\"#fc4f30\"},\"line_color\":{\"value\":\"#fc4f30\"},\"size\":{\"value\":5.477225575051661},\"x\":{\"field\":\"principal component 1\"},\"y\":{\"field\":\"principal component 2\"}},\"id\":\"1069\",\"type\":\"Scatter\"},{\"attributes\":{},\"id\":\"1027\",\"type\":\"PanTool\"},{\"attributes\":{\"end\":4.343519300148264,\"reset_end\":4.343519300148264,\"reset_start\":-3.595224567190287,\"start\":-3.595224567190287,\"tags\":[[[\"principal component 2\",\"principal component 2\",null]]]},\"id\":\"1005\",\"type\":\"Range1d\"},{\"attributes\":{\"fill_alpha\":{\"value\":0.2},\"fill_color\":{\"value\":\"#e5ae38\"},\"line_alpha\":{\"value\":0.2},\"line_color\":{\"value\":\"#e5ae38\"},\"size\":{\"value\":5.477225575051661},\"x\":{\"field\":\"principal component 1\"},\"y\":{\"field\":\"principal component 2\"}},\"id\":\"1093\",\"type\":\"Scatter\"},{\"attributes\":{\"label\":{\"value\":\"0\"},\"renderers\":[{\"id\":\"1051\"}]},\"id\":\"1064\",\"type\":\"LegendItem\"},{\"attributes\":{},\"id\":\"1040\",\"type\":\"AllLabels\"},{\"attributes\":{},\"id\":\"1028\",\"type\":\"WheelZoomTool\"},{\"attributes\":{\"data\":{\"class\":[0,0,0,0,0,0,0,0,0,0,0,0,0,0,0,0,0,0,0,0,0,0,0,0,0,0,0,0,0,0,0,0,0,0,0,0,0,0,0,0,0,0,0,0,0,0,0,0,0,0,0],\"principal component 1\":{\"__ndarray__\":\"JO9r9YUL+L+F61lpQVjwvycA7PEwv/c/534iVqoY5D93+0nwSl35P5sY+igqhLS/yPjha+yr0L8aym+cpQUHQMG3KRZ1TM4/zOKYYO+e1D9xXpagBZD3Py+wd0bJngBAZ+kM3fD/+j8fvzRxwB7iPw/o9vVyVQBA2UAUnKnVBUBWcAtJEvgAQLUNT8wpCNg/Caj0DyptAkC45OJ5v8v6PwXp2oKKpPI/6Bj9pEIsAEDTNfKbcG76P8JgN6BGGN8/43c0ADUYAUAps0jk7vwGQA0wSIiIVApA+JUVpSHA+T/+OGDRXff/P1N36awC9Pw/wsxnjFky9D9qtBsHlFkHQJlj3Grrd/A/a90x1DSaA0DI17eAoyoGQNplC4jtjARAK0xKOHYXAEDUiqz/4xsLQE8zxUnkyvo/MVm1sqp0CEDg/Z8MzZoJQFM3YucBaQNAWIuPq4U9AkBqOMqVPqTZPyrNTekDufU/fRjKnj7+D0Bfaca6mZMUQOd6OkqF//k//K6njUHuA0DNyUNBjO4CQJ5GWCzta72/\",\"dtype\":\"float64\",\"order\":\"little\",\"shape\":[51]},\"principal component 2\":{\"__ndarray__\":\"BYlNUkv9AEAnTZtRv4TtPxWdxm1aU+A/PMJQ+c9T6j9Vn4RASt3gPwL8V8zU3gBA0jgNaQ3Z/T90UCRapxrqP+igk//cHfo/ZW4AP6pn7z+dGojZTp3Pv431K4f5oNY/ytPQ6Rnl5D/2ZI/tq1fwP6NRD+1q7wdAfzhRUWpW6z/ieqxFGTHVP9ftJMgkQeI/3BnH41sP6D/sfDNEesT6PxYfOQjygfo/a/9EUpft8b9lz4+RMKr1P5rharwYwuk/h0qKwzCdjz+wqEf2gc3uPzZmIghdg9w/sbdaASWr4z9a13Ie043Gv1u6RmG6Tek/nLrn3gMn7z+oCAWzQfnkP5XGCN0hJuk/KLz1keTv6T9IEk/wmZ7mPwhKQKLlQNm/8XLkEM/Ier/dlP5RDmrzPy3NFVilE8g/8aSvucbG+j9/um0gjNrzP9mST3GhpfU/XR7UKvO06L9+lxQG7E0IQOmulDyUfPk/cVc+K8T+4L+bQlUhykn3P53tC7nRc7i/+mED8rn+2T/Vzww2SP/dP9IX5wimdA1A\",\"dtype\":\"float64\",\"order\":\"little\",\"shape\":[51]},\"principal_component_1\":{\"__ndarray__\":\"JO9r9YUL+L+F61lpQVjwvycA7PEwv/c/534iVqoY5D93+0nwSl35P5sY+igqhLS/yPjha+yr0L8aym+cpQUHQMG3KRZ1TM4/zOKYYO+e1D9xXpagBZD3Py+wd0bJngBAZ+kM3fD/+j8fvzRxwB7iPw/o9vVyVQBA2UAUnKnVBUBWcAtJEvgAQLUNT8wpCNg/Caj0DyptAkC45OJ5v8v6PwXp2oKKpPI/6Bj9pEIsAEDTNfKbcG76P8JgN6BGGN8/43c0ADUYAUAps0jk7vwGQA0wSIiIVApA+JUVpSHA+T/+OGDRXff/P1N36awC9Pw/wsxnjFky9D9qtBsHlFkHQJlj3Grrd/A/a90x1DSaA0DI17eAoyoGQNplC4jtjARAK0xKOHYXAEDUiqz/4xsLQE8zxUnkyvo/MVm1sqp0CEDg/Z8MzZoJQFM3YucBaQNAWIuPq4U9AkBqOMqVPqTZPyrNTekDufU/fRjKnj7+D0Bfaca6mZMUQOd6OkqF//k//K6njUHuA0DNyUNBjO4CQJ5GWCzta72/\",\"dtype\":\"float64\",\"order\":\"little\",\"shape\":[51]},\"principal_component_2\":{\"__ndarray__\":\"BYlNUkv9AEAnTZtRv4TtPxWdxm1aU+A/PMJQ+c9T6j9Vn4RASt3gPwL8V8zU3gBA0jgNaQ3Z/T90UCRapxrqP+igk//cHfo/ZW4AP6pn7z+dGojZTp3Pv431K4f5oNY/ytPQ6Rnl5D/2ZI/tq1fwP6NRD+1q7wdAfzhRUWpW6z/ieqxFGTHVP9ftJMgkQeI/3BnH41sP6D/sfDNEesT6PxYfOQjygfo/a/9EUpft8b9lz4+RMKr1P5rharwYwuk/h0qKwzCdjz+wqEf2gc3uPzZmIghdg9w/sbdaASWr4z9a13Ie043Gv1u6RmG6Tek/nLrn3gMn7z+oCAWzQfnkP5XGCN0hJuk/KLz1keTv6T9IEk/wmZ7mPwhKQKLlQNm/8XLkEM/Ier/dlP5RDmrzPy3NFVilE8g/8aSvucbG+j9/um0gjNrzP9mST3GhpfU/XR7UKvO06L9+lxQG7E0IQOmulDyUfPk/cVc+K8T+4L+bQlUhykn3P53tC7nRc7i/+mED8rn+2T/Vzww2SP/dP9IX5wimdA1A\",\"dtype\":\"float64\",\"order\":\"little\",\"shape\":[51]}},\"selected\":{\"id\":\"1046\"},\"selection_policy\":{\"id\":\"1060\"}},\"id\":\"1045\",\"type\":\"ColumnDataSource\"},{\"attributes\":{\"data\":{\"class\":[1,1,1,1,1,1,1,1,1,1,1,1,1,1,1,1,1,1,1,1,1,1,1,1,1,1,1,1,1,1,1,1,1,1,1,1,1,1,1,1,1,1,1,1,1,1,1,1,1,1,1,1,1,1,1,1,1,1,1,1,1,1,1,1,1,1,1,1,1,1,1,1,1,1,1,1,1,1,1,1,1,1,1,1],\"principal component 1\":{\"__ndarray__\":\"1myvzodP97/bbjFV6ALzv5wcvnVxoeC/vpUtAAy59789H9sDNB2mPwas9hhxne2/fIPDCFFV+b+c3oItCxXov/EqXgCsrfG/7KlyAox/4b9rbnrKnp/iv3FWiVW3efu/sefIzFHq07+yRVb1TDKnv1hzQnkO++u/BK1CcCYa179SYGc7gC/vvzsG1WlId+S/nx0t10YV9b8hexf/G7nZv/7IX7aabNi/6erlCiZF+r9UdybpnWfgv5EBFVXOTuy/K0T2DkwJ/b/Tv/IRKEjDvy6vw/2WCuq/aAQ9axS3tT+iBPOrXtysv7nwXqroZua/7mD/YeTd0b//m2fOMNT0vwLO5x2w69G/WMb2wCFHzr8Th4sOnGLAv0ho+8EsIeo/cVUVBFKH17+HzZwx2tG3vz8sxxx6qM2/ybvDfSJv6L9FshLS0GDdP4MvZnmZNMW/Op5xKEmF5L949+uZffPXv4tvM/Etztg/RG3CDoVOrL+N700H4TGDv2vZJDjMI9e/s/478Hcs5z/GXYEmJwTsP92B05+yi8W/mlLxE3jo2z9YSSIlt/bivywVLYPJ3eC/5hU2zYysub/aiPzMqPLmP+Rsb032Yt4/ALCwux0F4T8OUHfWYN7UP/DQZ23tefA/26KuxIyB9r9Xkxb64N72v/PmOQsfBgHAgy4wRh7v+r8QGDxTlvjyvyaO5BpVHuO/xP20+L8b/7/GJObWPuLzv26Yc3z7fee/w7nEvQTp0L9K1u78vGjyv3j6Cr0H8ADAtMgfwaWh07+1B/CaKS3kP0UQjQaTt+Q/0W1aEWLr7T+JkwdUWh/wP9L14IlxkPA/qoHIaNsn2r/41ffZlc/lP3+BLBOLKvE/Na/nMR421D8rVk7ue1u6vwFC/zp4Uem/\",\"dtype\":\"float64\",\"order\":\"little\",\"shape\":[84]},\"principal component 2\":{\"__ndarray__\":\"AkgB1P3v8r+LG7w/F63vv7ynwLTDv/C/AQmvY8l+1L/CmqNxy4Tov/x1GTTc2fu/J+fB63yn1z8fISurhsj6vyTTczNayvC/UCNWbrsxAcCDrVrICcnxvwhclj4qO+i/Kx/asE000D9jAN8nuk7MP/m47DgF9/W/d7hiOci39b/8UUd8DuLov+9ny8WrAt6/nw6zHcuo478Cp6tPhNP8v/WPvOKqgPe/IeWCvMpt4784Vp7/hJDvvzHisxPxKLu/arms/eTY878QSF2ZVbLjP28RRS1SPua/msdOzDv2x7+oA58TXyQBwAEvhEpqE7C//mF7bFEk87+PBuooM3b7v55GXYaujfq/qwCt28uNlL9nw2AIOO70v5O+E11/Ku+/zBIhBFCByb/nTpiWitn0vwUWWKKZpPi/aGW4VfFs4b/eHbaGSPriv3wLGDha4/m/1u+irTExwj8+r0Q6ndHzvyqB+BUkeAfAN8EofkFm3L8Ch3PYGW7mP4Kwm+0WbNK/1Qx3nSuH+r9LS2iBtxzrv1Du4lVl+uu/Q7rXgnzO8r+7cnFQUM3ov/DVCBFSzMe/TfFDb0Ul4L+bLSOeUyn4v73IQBE8AuS/l1aDKGUa2b+n0UVvVL0AwIpAYe5dpfG/0pGSd3Nt2b/OHEoupSfUv78PTDQ788G/4o1EjOpU1D8N8ifa+t78vx8ygHqJ6PK/gUZAUDib57+HZiVIFFLXvzHkNvUEgem/TSHWEd+twD/gggQrCj3vv8hkMwotvNQ/bTdQnsH7/r9EBKr2zl7uvyq0n/21q/G/DXKUOBdA3b+8aml/SHH7v8pU8m+/7OG/eQNTC7dWwT8Hb2a7GeDyv5ZzQE0wgfO/z6g6oKRF7b+4SMq1V3Dnvy5yQl6wJuS/\",\"dtype\":\"float64\",\"order\":\"little\",\"shape\":[84]},\"principal_component_1\":{\"__ndarray__\":\"1myvzodP97/bbjFV6ALzv5wcvnVxoeC/vpUtAAy59789H9sDNB2mPwas9hhxne2/fIPDCFFV+b+c3oItCxXov/EqXgCsrfG/7KlyAox/4b9rbnrKnp/iv3FWiVW3efu/sefIzFHq07+yRVb1TDKnv1hzQnkO++u/BK1CcCYa179SYGc7gC/vvzsG1WlId+S/nx0t10YV9b8hexf/G7nZv/7IX7aabNi/6erlCiZF+r9UdybpnWfgv5EBFVXOTuy/K0T2DkwJ/b/Tv/IRKEjDvy6vw/2WCuq/aAQ9axS3tT+iBPOrXtysv7nwXqroZua/7mD/YeTd0b//m2fOMNT0vwLO5x2w69G/WMb2wCFHzr8Th4sOnGLAv0ho+8EsIeo/cVUVBFKH17+HzZwx2tG3vz8sxxx6qM2/ybvDfSJv6L9FshLS0GDdP4MvZnmZNMW/Op5xKEmF5L949+uZffPXv4tvM/Etztg/RG3CDoVOrL+N700H4TGDv2vZJDjMI9e/s/478Hcs5z/GXYEmJwTsP92B05+yi8W/mlLxE3jo2z9YSSIlt/bivywVLYPJ3eC/5hU2zYysub/aiPzMqPLmP+Rsb032Yt4/ALCwux0F4T8OUHfWYN7UP/DQZ23tefA/26KuxIyB9r9Xkxb64N72v/PmOQsfBgHAgy4wRh7v+r8QGDxTlvjyvyaO5BpVHuO/xP20+L8b/7/GJObWPuLzv26Yc3z7fee/w7nEvQTp0L9K1u78vGjyv3j6Cr0H8ADAtMgfwaWh07+1B/CaKS3kP0UQjQaTt+Q/0W1aEWLr7T+JkwdUWh/wP9L14IlxkPA/qoHIaNsn2r/41ffZlc/lP3+BLBOLKvE/Na/nMR421D8rVk7ue1u6vwFC/zp4Uem/\",\"dtype\":\"float64\",\"order\":\"little\",\"shape\":[84]},\"principal_component_2\":{\"__ndarray__\":\"AkgB1P3v8r+LG7w/F63vv7ynwLTDv/C/AQmvY8l+1L/CmqNxy4Tov/x1GTTc2fu/J+fB63yn1z8fISurhsj6vyTTczNayvC/UCNWbrsxAcCDrVrICcnxvwhclj4qO+i/Kx/asE000D9jAN8nuk7MP/m47DgF9/W/d7hiOci39b/8UUd8DuLov+9ny8WrAt6/nw6zHcuo478Cp6tPhNP8v/WPvOKqgPe/IeWCvMpt4784Vp7/hJDvvzHisxPxKLu/arms/eTY878QSF2ZVbLjP28RRS1SPua/msdOzDv2x7+oA58TXyQBwAEvhEpqE7C//mF7bFEk87+PBuooM3b7v55GXYaujfq/qwCt28uNlL9nw2AIOO70v5O+E11/Ku+/zBIhBFCByb/nTpiWitn0vwUWWKKZpPi/aGW4VfFs4b/eHbaGSPriv3wLGDha4/m/1u+irTExwj8+r0Q6ndHzvyqB+BUkeAfAN8EofkFm3L8Ch3PYGW7mP4Kwm+0WbNK/1Qx3nSuH+r9LS2iBtxzrv1Du4lVl+uu/Q7rXgnzO8r+7cnFQUM3ov/DVCBFSzMe/TfFDb0Ul4L+bLSOeUyn4v73IQBE8AuS/l1aDKGUa2b+n0UVvVL0AwIpAYe5dpfG/0pGSd3Nt2b/OHEoupSfUv78PTDQ788G/4o1EjOpU1D8N8ifa+t78vx8ygHqJ6PK/gUZAUDib57+HZiVIFFLXvzHkNvUEgem/TSHWEd+twD/gggQrCj3vv8hkMwotvNQ/bTdQnsH7/r9EBKr2zl7uvyq0n/21q/G/DXKUOBdA3b+8aml/SHH7v8pU8m+/7OG/eQNTC7dWwT8Hb2a7GeDyv5ZzQE0wgfO/z6g6oKRF7b+4SMq1V3Dnvy5yQl6wJuS/\",\"dtype\":\"float64\",\"order\":\"little\",\"shape\":[84]}},\"selected\":{\"id\":\"1067\"},\"selection_policy\":{\"id\":\"1083\"}},\"id\":\"1066\",\"type\":\"ColumnDataSource\"}],\"root_ids\":[\"1002\"]},\"title\":\"Bokeh Application\",\"version\":\"2.3.2\"}};\n",
       "    var render_items = [{\"docid\":\"31b4b36e-ab70-4f42-83b5-45b0eb936c81\",\"root_ids\":[\"1002\"],\"roots\":{\"1002\":\"92479547-8e6f-4b04-ae7a-459f4893b0bd\"}}];\n",
       "    root.Bokeh.embed.embed_items_notebook(docs_json, render_items);\n",
       "  }\n",
       "  if (root.Bokeh !== undefined && root.Bokeh.Panel !== undefined) {\n",
       "    embed_document(root);\n",
       "  } else {\n",
       "    var attempts = 0;\n",
       "    var timer = setInterval(function(root) {\n",
       "      if (root.Bokeh !== undefined && root.Bokeh.Panel !== undefined) {\n",
       "        clearInterval(timer);\n",
       "        embed_document(root);\n",
       "      } else if (document.readyState == \"complete\") {\n",
       "        attempts++;\n",
       "        if (attempts > 200) {\n",
       "          clearInterval(timer);\n",
       "          console.log(\"Bokeh: ERROR: Unable to run BokehJS code because BokehJS library is missing\");\n",
       "        }\n",
       "      }\n",
       "    }, 25, root)\n",
       "  }\n",
       "})(window);</script>"
      ],
      "text/plain": [
       ":NdOverlay   [class]\n",
       "   :Scatter   [principal component 1]   (principal component 2,class)"
      ]
     },
     "execution_count": 23,
     "metadata": {
      "application/vnd.holoviews_exec.v0+json": {
       "id": "1002"
      }
     },
     "output_type": "execute_result"
    }
   ],
   "source": [
    "# Create a chart\n",
    "df_pca_2019.hvplot.scatter(\n",
    "    x=\"principal component 1\",\n",
    "    y=\"principal component 2\",\n",
    "    hover_cols=[\"class\"],\n",
    "    by=\"class\",\n",
    ")"
   ]
  },
  {
   "cell_type": "code",
   "execution_count": null,
   "id": "5256f85e",
   "metadata": {},
   "outputs": [],
   "source": []
  }
 ],
 "metadata": {
  "kernelspec": {
   "display_name": "mlenv",
   "language": "python",
   "name": "mlenv"
  },
  "language_info": {
   "codemirror_mode": {
    "name": "ipython",
    "version": 3
   },
   "file_extension": ".py",
   "mimetype": "text/x-python",
   "name": "python",
   "nbconvert_exporter": "python",
   "pygments_lexer": "ipython3",
   "version": "3.7.10"
  }
 },
 "nbformat": 4,
 "nbformat_minor": 5
}
