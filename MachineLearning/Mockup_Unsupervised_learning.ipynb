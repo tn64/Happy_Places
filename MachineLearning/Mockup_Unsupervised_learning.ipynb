{
 "cells": [
  {
   "cell_type": "markdown",
   "id": "9b41d713",
   "metadata": {},
   "source": [
    "# Using Unsupervised Learning to find clusters in 2019 World Happiness Report"
   ]
  },
  {
   "cell_type": "markdown",
   "id": "0745d5c8",
   "metadata": {},
   "source": [
    "### Load Data from AWS"
   ]
  },
  {
   "cell_type": "code",
   "execution_count": 10,
   "id": "e5156ad1",
   "metadata": {
    "scrolled": true
   },
   "outputs": [],
   "source": [
    "# Import libraries\n",
    "# Initial imports\n",
    "import psycopg2\n",
    "import sys\n",
    "import pandas as pd\n",
    "from pathlib import Path\n",
    "import matplotlib.pyplot as plt\n",
    "import numpy as np\n",
    "from sklearn.linear_model import LinearRegression\n",
    "from sklearn.model_selection import train_test_split\n",
    "from sklearn.metrics import r2_score\n",
    "from sklearn.cluster import KMeans\n",
    "import plotly.express as px\n",
    "import hvplot.pandas"
   ]
  },
  {
   "cell_type": "code",
   "execution_count": 11,
   "id": "4feee056",
   "metadata": {},
   "outputs": [],
   "source": [
    "# Connection parameters\n",
    "param_dic = {\n",
    "    \"host\"      : \"whr.csnc4l4qvlqd.us-east-2.rds.amazonaws.com\",\n",
    "    \"database\"  : \"postgres\",\n",
    "    \"user\"      : \"postgres\",\n",
    "    \"password\"  : \"UCBwhr2021\"\n",
    "}\n",
    "\n",
    "# Create connect function to connect to PostgresSQL server\n",
    "def connect(param_dic):\n",
    "    conn = None\n",
    "    try:\n",
    "        print(\"Connecting to the PostgreSQL database...\")\n",
    "        conn = psycopg2.connect(**param_dic)\n",
    "    except (Exception, psycopg2.DatabaseError) as error:\n",
    "        print(error)\n",
    "        sys.exit(1)\n",
    "    print (\"Connection successful.\")\n",
    "    return conn\n",
    "    "
   ]
  },
  {
   "cell_type": "code",
   "execution_count": 12,
   "id": "55b7f6c4",
   "metadata": {},
   "outputs": [],
   "source": [
    "# Function to get the dataframe\n",
    "def postgresql_to_dataframe(conn, select_query, column_names):\n",
    "    cursor = conn.cursor()\n",
    "    try:\n",
    "        cursor.execute(select_query)\n",
    "    except (Exception, psycopg2.DatabaseError) as error:\n",
    "            print(\"Error: %s\" % error)\n",
    "            cursor.close()\n",
    "    \n",
    "    # Get list of tuples\n",
    "    tuples = cursor.fetchall()\n",
    "    cursor.close()\n",
    "    \n",
    "    # Create pandas dataframe\n",
    "    df = pd.DataFrame(tuples, columns=column_names)\n",
    "    return df"
   ]
  },
  {
   "cell_type": "code",
   "execution_count": 13,
   "id": "fae11e76",
   "metadata": {},
   "outputs": [
    {
     "name": "stdout",
     "output_type": "stream",
     "text": [
      "Connecting to the PostgreSQL database...\n",
      "Connection successful.\n"
     ]
    },
    {
     "data": {
      "text/html": [
       "<div>\n",
       "<style scoped>\n",
       "    .dataframe tbody tr th:only-of-type {\n",
       "        vertical-align: middle;\n",
       "    }\n",
       "\n",
       "    .dataframe tbody tr th {\n",
       "        vertical-align: top;\n",
       "    }\n",
       "\n",
       "    .dataframe thead th {\n",
       "        text-align: right;\n",
       "    }\n",
       "</style>\n",
       "<table border=\"1\" class=\"dataframe\">\n",
       "  <thead>\n",
       "    <tr style=\"text-align: right;\">\n",
       "      <th></th>\n",
       "      <th>country</th>\n",
       "      <th>happinessrank</th>\n",
       "      <th>happinessscore</th>\n",
       "      <th>gdp</th>\n",
       "      <th>family</th>\n",
       "      <th>lifeexpectancy</th>\n",
       "      <th>freedom</th>\n",
       "      <th>generosity</th>\n",
       "      <th>trust</th>\n",
       "      <th>lat</th>\n",
       "      <th>lng</th>\n",
       "      <th>alcohol_liperyear</th>\n",
       "    </tr>\n",
       "  </thead>\n",
       "  <tbody>\n",
       "    <tr>\n",
       "      <th>0</th>\n",
       "      <td>Brazil</td>\n",
       "      <td>32</td>\n",
       "      <td>6.300</td>\n",
       "      <td>1.00400</td>\n",
       "      <td>1.43900</td>\n",
       "      <td>0.80200</td>\n",
       "      <td>0.39000</td>\n",
       "      <td>0.09900</td>\n",
       "      <td>0.08600</td>\n",
       "      <td>-14.235004</td>\n",
       "      <td>-51.925280</td>\n",
       "      <td>19.3</td>\n",
       "    </tr>\n",
       "    <tr>\n",
       "      <th>1</th>\n",
       "      <td>Uruguay</td>\n",
       "      <td>33</td>\n",
       "      <td>6.293</td>\n",
       "      <td>1.12400</td>\n",
       "      <td>1.46500</td>\n",
       "      <td>0.89100</td>\n",
       "      <td>0.52300</td>\n",
       "      <td>0.12700</td>\n",
       "      <td>0.15000</td>\n",
       "      <td>-32.522779</td>\n",
       "      <td>-55.765835</td>\n",
       "      <td>15.7</td>\n",
       "    </tr>\n",
       "    <tr>\n",
       "      <th>2</th>\n",
       "      <td>Singapore</td>\n",
       "      <td>34</td>\n",
       "      <td>6.262</td>\n",
       "      <td>1.57200</td>\n",
       "      <td>1.46300</td>\n",
       "      <td>1.14100</td>\n",
       "      <td>0.55600</td>\n",
       "      <td>0.27100</td>\n",
       "      <td>0.45300</td>\n",
       "      <td>1.352083</td>\n",
       "      <td>103.819836</td>\n",
       "      <td>2.9</td>\n",
       "    </tr>\n",
       "    <tr>\n",
       "      <th>3</th>\n",
       "      <td>El Salvador</td>\n",
       "      <td>35</td>\n",
       "      <td>6.253</td>\n",
       "      <td>0.79400</td>\n",
       "      <td>1.24200</td>\n",
       "      <td>0.78900</td>\n",
       "      <td>0.43000</td>\n",
       "      <td>0.09300</td>\n",
       "      <td>0.07400</td>\n",
       "      <td>13.794185</td>\n",
       "      <td>-88.896530</td>\n",
       "      <td>12.8</td>\n",
       "    </tr>\n",
       "    <tr>\n",
       "      <th>4</th>\n",
       "      <td>Italy</td>\n",
       "      <td>36</td>\n",
       "      <td>6.223</td>\n",
       "      <td>1.29400</td>\n",
       "      <td>1.48800</td>\n",
       "      <td>1.03900</td>\n",
       "      <td>0.23100</td>\n",
       "      <td>0.15800</td>\n",
       "      <td>0.03000</td>\n",
       "      <td>41.871940</td>\n",
       "      <td>12.567380</td>\n",
       "      <td>12.0</td>\n",
       "    </tr>\n",
       "  </tbody>\n",
       "</table>\n",
       "</div>"
      ],
      "text/plain": [
       "       country  happinessrank happinessscore      gdp   family lifeexpectancy  \\\n",
       "0       Brazil             32          6.300  1.00400  1.43900        0.80200   \n",
       "1      Uruguay             33          6.293  1.12400  1.46500        0.89100   \n",
       "2    Singapore             34          6.262  1.57200  1.46300        1.14100   \n",
       "3  El Salvador             35          6.253  0.79400  1.24200        0.78900   \n",
       "4        Italy             36          6.223  1.29400  1.48800        1.03900   \n",
       "\n",
       "   freedom generosity    trust         lat         lng alcohol_liperyear  \n",
       "0  0.39000    0.09900  0.08600  -14.235004  -51.925280              19.3  \n",
       "1  0.52300    0.12700  0.15000  -32.522779  -55.765835              15.7  \n",
       "2  0.55600    0.27100  0.45300    1.352083  103.819836               2.9  \n",
       "3  0.43000    0.09300  0.07400   13.794185  -88.896530              12.8  \n",
       "4  0.23100    0.15800  0.03000   41.871940   12.567380              12.0  "
      ]
     },
     "execution_count": 13,
     "metadata": {},
     "output_type": "execute_result"
    }
   ],
   "source": [
    "# Connect to database\n",
    "conn = connect(param_dic)\n",
    "\n",
    "column_names = [\"country\", \"happinessrank\", \"happinessscore\", \"gdp\", \"family\", \"lifeexpectancy\", \"freedom\", \"generosity\", \"trust\", \"lat\", \"lng\", \"alcohol_liperyear\"]\n",
    "df = postgresql_to_dataframe(conn, \"select * from whr_2019\", column_names)\n",
    "df.head()"
   ]
  },
  {
   "cell_type": "markdown",
   "id": "fec956c6",
   "metadata": {},
   "source": [
    "### Clean data"
   ]
  },
  {
   "cell_type": "code",
   "execution_count": 14,
   "id": "9134b645",
   "metadata": {},
   "outputs": [
    {
     "name": "stdout",
     "output_type": "stream",
     "text": [
      "Column country has 0 null values\n",
      "Column happinessrank has 0 null values\n",
      "Column happinessscore has 0 null values\n",
      "Column gdp has 0 null values\n",
      "Column family has 0 null values\n",
      "Column lifeexpectancy has 0 null values\n",
      "Column freedom has 0 null values\n",
      "Column generosity has 0 null values\n",
      "Column trust has 0 null values\n",
      "Column lat has 0 null values\n",
      "Column lng has 0 null values\n",
      "Column alcohol_liperyear has 5 null values\n"
     ]
    }
   ],
   "source": [
    "# What data is missing \n",
    "# Unsupervised learning models can't handle missing data \n",
    "# Find null values\n",
    "for column in df.columns:\n",
    "    print(f\"Column {column} has {df[column].isnull().sum()} null values\")"
   ]
  },
  {
   "cell_type": "code",
   "execution_count": 15,
   "id": "b0ffc4da",
   "metadata": {},
   "outputs": [
    {
     "data": {
      "text/html": [
       "<div>\n",
       "<style scoped>\n",
       "    .dataframe tbody tr th:only-of-type {\n",
       "        vertical-align: middle;\n",
       "    }\n",
       "\n",
       "    .dataframe tbody tr th {\n",
       "        vertical-align: top;\n",
       "    }\n",
       "\n",
       "    .dataframe thead th {\n",
       "        text-align: right;\n",
       "    }\n",
       "</style>\n",
       "<table border=\"1\" class=\"dataframe\">\n",
       "  <thead>\n",
       "    <tr style=\"text-align: right;\">\n",
       "      <th></th>\n",
       "      <th>country</th>\n",
       "      <th>happinessrank</th>\n",
       "      <th>happinessscore</th>\n",
       "      <th>gdp</th>\n",
       "      <th>family</th>\n",
       "      <th>lifeexpectancy</th>\n",
       "      <th>freedom</th>\n",
       "      <th>generosity</th>\n",
       "      <th>trust</th>\n",
       "      <th>lat</th>\n",
       "      <th>lng</th>\n",
       "      <th>alcohol_liperyear</th>\n",
       "    </tr>\n",
       "  </thead>\n",
       "  <tbody>\n",
       "  </tbody>\n",
       "</table>\n",
       "</div>"
      ],
      "text/plain": [
       "Empty DataFrame\n",
       "Columns: [country, happinessrank, happinessscore, gdp, family, lifeexpectancy, freedom, generosity, trust, lat, lng, alcohol_liperyear]\n",
       "Index: []"
      ]
     },
     "execution_count": 15,
     "metadata": {},
     "output_type": "execute_result"
    }
   ],
   "source": [
    "# Since there are only 5 countries, drop countries with null values\n",
    "df = df.dropna()\n",
    "df_clean = df[df.isna().any(axis=1)]\n",
    "df_clean"
   ]
  },
  {
   "cell_type": "code",
   "execution_count": 17,
   "id": "ef383fc5",
   "metadata": {},
   "outputs": [
    {
     "data": {
      "text/html": [
       "<div>\n",
       "<style scoped>\n",
       "    .dataframe tbody tr th:only-of-type {\n",
       "        vertical-align: middle;\n",
       "    }\n",
       "\n",
       "    .dataframe tbody tr th {\n",
       "        vertical-align: top;\n",
       "    }\n",
       "\n",
       "    .dataframe thead th {\n",
       "        text-align: right;\n",
       "    }\n",
       "</style>\n",
       "<table border=\"1\" class=\"dataframe\">\n",
       "  <thead>\n",
       "    <tr style=\"text-align: right;\">\n",
       "      <th></th>\n",
       "      <th>gdp</th>\n",
       "      <th>family</th>\n",
       "      <th>lifeexpectancy</th>\n",
       "      <th>freedom</th>\n",
       "      <th>generosity</th>\n",
       "      <th>trust</th>\n",
       "      <th>alcohol_liperyear</th>\n",
       "    </tr>\n",
       "  </thead>\n",
       "  <tbody>\n",
       "    <tr>\n",
       "      <th>0</th>\n",
       "      <td>1.00400</td>\n",
       "      <td>1.43900</td>\n",
       "      <td>0.80200</td>\n",
       "      <td>0.39000</td>\n",
       "      <td>0.09900</td>\n",
       "      <td>0.08600</td>\n",
       "      <td>19.3</td>\n",
       "    </tr>\n",
       "    <tr>\n",
       "      <th>1</th>\n",
       "      <td>1.12400</td>\n",
       "      <td>1.46500</td>\n",
       "      <td>0.89100</td>\n",
       "      <td>0.52300</td>\n",
       "      <td>0.12700</td>\n",
       "      <td>0.15000</td>\n",
       "      <td>15.7</td>\n",
       "    </tr>\n",
       "    <tr>\n",
       "      <th>2</th>\n",
       "      <td>1.57200</td>\n",
       "      <td>1.46300</td>\n",
       "      <td>1.14100</td>\n",
       "      <td>0.55600</td>\n",
       "      <td>0.27100</td>\n",
       "      <td>0.45300</td>\n",
       "      <td>2.9</td>\n",
       "    </tr>\n",
       "    <tr>\n",
       "      <th>3</th>\n",
       "      <td>0.79400</td>\n",
       "      <td>1.24200</td>\n",
       "      <td>0.78900</td>\n",
       "      <td>0.43000</td>\n",
       "      <td>0.09300</td>\n",
       "      <td>0.07400</td>\n",
       "      <td>12.8</td>\n",
       "    </tr>\n",
       "    <tr>\n",
       "      <th>4</th>\n",
       "      <td>1.29400</td>\n",
       "      <td>1.48800</td>\n",
       "      <td>1.03900</td>\n",
       "      <td>0.23100</td>\n",
       "      <td>0.15800</td>\n",
       "      <td>0.03000</td>\n",
       "      <td>12.0</td>\n",
       "    </tr>\n",
       "  </tbody>\n",
       "</table>\n",
       "</div>"
      ],
      "text/plain": [
       "       gdp   family lifeexpectancy  freedom generosity    trust  \\\n",
       "0  1.00400  1.43900        0.80200  0.39000    0.09900  0.08600   \n",
       "1  1.12400  1.46500        0.89100  0.52300    0.12700  0.15000   \n",
       "2  1.57200  1.46300        1.14100  0.55600    0.27100  0.45300   \n",
       "3  0.79400  1.24200        0.78900  0.43000    0.09300  0.07400   \n",
       "4  1.29400  1.48800        1.03900  0.23100    0.15800  0.03000   \n",
       "\n",
       "  alcohol_liperyear  \n",
       "0              19.3  \n",
       "1              15.7  \n",
       "2               2.9  \n",
       "3              12.8  \n",
       "4              12.0  "
      ]
     },
     "execution_count": 17,
     "metadata": {},
     "output_type": "execute_result"
    }
   ],
   "source": [
    "# Remove columns\n",
    "df.drop(columns=[\"country\", \"happinessrank\",\"happinessscore\", \"lat\", \"lng\"], inplace=True)\n",
    "df.head()"
   ]
  },
  {
   "cell_type": "code",
   "execution_count": 19,
   "id": "067f6597",
   "metadata": {},
   "outputs": [
    {
     "data": {
      "text/plain": [
       "gdp                  object\n",
       "family               object\n",
       "lifeexpectancy       object\n",
       "freedom              object\n",
       "generosity           object\n",
       "trust                object\n",
       "alcohol_liperyear    object\n",
       "dtype: object"
      ]
     },
     "execution_count": 19,
     "metadata": {},
     "output_type": "execute_result"
    }
   ],
   "source": [
    "# Check data types\n",
    "df.dtypes"
   ]
  },
  {
   "cell_type": "code",
   "execution_count": 20,
   "id": "fd073430",
   "metadata": {},
   "outputs": [
    {
     "data": {
      "text/html": [
       "<div>\n",
       "<style scoped>\n",
       "    .dataframe tbody tr th:only-of-type {\n",
       "        vertical-align: middle;\n",
       "    }\n",
       "\n",
       "    .dataframe tbody tr th {\n",
       "        vertical-align: top;\n",
       "    }\n",
       "\n",
       "    .dataframe thead th {\n",
       "        text-align: right;\n",
       "    }\n",
       "</style>\n",
       "<table border=\"1\" class=\"dataframe\">\n",
       "  <thead>\n",
       "    <tr style=\"text-align: right;\">\n",
       "      <th></th>\n",
       "      <th>gdp</th>\n",
       "      <th>family</th>\n",
       "      <th>lifeexpectancy</th>\n",
       "      <th>freedom</th>\n",
       "      <th>generosity</th>\n",
       "      <th>trust</th>\n",
       "      <th>alcohol_liperyear</th>\n",
       "    </tr>\n",
       "  </thead>\n",
       "  <tbody>\n",
       "    <tr>\n",
       "      <th>148</th>\n",
       "      <td>0.673</td>\n",
       "      <td>0.799</td>\n",
       "      <td>0.508</td>\n",
       "      <td>0.372</td>\n",
       "      <td>0.105</td>\n",
       "      <td>0.093</td>\n",
       "      <td>15.1</td>\n",
       "    </tr>\n",
       "    <tr>\n",
       "      <th>149</th>\n",
       "      <td>0.094</td>\n",
       "      <td>1.125</td>\n",
       "      <td>0.357</td>\n",
       "      <td>0.269</td>\n",
       "      <td>0.212</td>\n",
       "      <td>0.053</td>\n",
       "      <td>7.1</td>\n",
       "    </tr>\n",
       "    <tr>\n",
       "      <th>150</th>\n",
       "      <td>0.569</td>\n",
       "      <td>0.808</td>\n",
       "      <td>0.232</td>\n",
       "      <td>0.352</td>\n",
       "      <td>0.154</td>\n",
       "      <td>0.090</td>\n",
       "      <td>21.7</td>\n",
       "    </tr>\n",
       "    <tr>\n",
       "      <th>151</th>\n",
       "      <td>0.710</td>\n",
       "      <td>1.181</td>\n",
       "      <td>0.555</td>\n",
       "      <td>0.525</td>\n",
       "      <td>0.566</td>\n",
       "      <td>0.172</td>\n",
       "      <td>17.6</td>\n",
       "    </tr>\n",
       "    <tr>\n",
       "      <th>153</th>\n",
       "      <td>1.231</td>\n",
       "      <td>1.477</td>\n",
       "      <td>0.713</td>\n",
       "      <td>0.489</td>\n",
       "      <td>0.185</td>\n",
       "      <td>0.016</td>\n",
       "      <td>14.2</td>\n",
       "    </tr>\n",
       "  </tbody>\n",
       "</table>\n",
       "</div>"
      ],
      "text/plain": [
       "       gdp  family  lifeexpectancy  freedom  generosity  trust  \\\n",
       "148  0.673   0.799           0.508    0.372       0.105  0.093   \n",
       "149  0.094   1.125           0.357    0.269       0.212  0.053   \n",
       "150  0.569   0.808           0.232    0.352       0.154  0.090   \n",
       "151  0.710   1.181           0.555    0.525       0.566  0.172   \n",
       "153  1.231   1.477           0.713    0.489       0.185  0.016   \n",
       "\n",
       "     alcohol_liperyear  \n",
       "148               15.1  \n",
       "149                7.1  \n",
       "150               21.7  \n",
       "151               17.6  \n",
       "153               14.2  "
      ]
     },
     "execution_count": 20,
     "metadata": {},
     "output_type": "execute_result"
    }
   ],
   "source": [
    "# Change data types to float \n",
    "df = df[0:153].astype(float, errors = 'raise')\n",
    "df.tail()"
   ]
  },
  {
   "cell_type": "code",
   "execution_count": 21,
   "id": "dded2382",
   "metadata": {},
   "outputs": [
    {
     "data": {
      "text/plain": [
       "gdp                  float64\n",
       "family               float64\n",
       "lifeexpectancy       float64\n",
       "freedom              float64\n",
       "generosity           float64\n",
       "trust                float64\n",
       "alcohol_liperyear    float64\n",
       "dtype: object"
      ]
     },
     "execution_count": 21,
     "metadata": {},
     "output_type": "execute_result"
    }
   ],
   "source": [
    "# Check data types and ensure they are all float\n",
    "df.dtypes"
   ]
  },
  {
   "cell_type": "markdown",
   "id": "801ef7ae",
   "metadata": {},
   "source": [
    "## Export data to CSV and create DataFrame from cleaned CSV"
   ]
  },
  {
   "cell_type": "code",
   "execution_count": 23,
   "id": "0d394f49",
   "metadata": {},
   "outputs": [],
   "source": [
    "# Save DataFrame on a new csv file for future use \n",
    "output_file_path = \"../Resources/UML_2019.csv\"\n",
    "df.to_csv(output_file_path, index=False)"
   ]
  },
  {
   "cell_type": "code",
   "execution_count": 24,
   "id": "ed919184",
   "metadata": {},
   "outputs": [
    {
     "data": {
      "text/html": [
       "<div>\n",
       "<style scoped>\n",
       "    .dataframe tbody tr th:only-of-type {\n",
       "        vertical-align: middle;\n",
       "    }\n",
       "\n",
       "    .dataframe tbody tr th {\n",
       "        vertical-align: top;\n",
       "    }\n",
       "\n",
       "    .dataframe thead th {\n",
       "        text-align: right;\n",
       "    }\n",
       "</style>\n",
       "<table border=\"1\" class=\"dataframe\">\n",
       "  <thead>\n",
       "    <tr style=\"text-align: right;\">\n",
       "      <th></th>\n",
       "      <th>gdp</th>\n",
       "      <th>family</th>\n",
       "      <th>lifeexpectancy</th>\n",
       "      <th>freedom</th>\n",
       "      <th>generosity</th>\n",
       "      <th>trust</th>\n",
       "      <th>alcohol_liperyear</th>\n",
       "    </tr>\n",
       "  </thead>\n",
       "  <tbody>\n",
       "    <tr>\n",
       "      <th>0</th>\n",
       "      <td>1.004</td>\n",
       "      <td>1.439</td>\n",
       "      <td>0.802</td>\n",
       "      <td>0.390</td>\n",
       "      <td>0.099</td>\n",
       "      <td>0.086</td>\n",
       "      <td>19.3</td>\n",
       "    </tr>\n",
       "    <tr>\n",
       "      <th>1</th>\n",
       "      <td>1.124</td>\n",
       "      <td>1.465</td>\n",
       "      <td>0.891</td>\n",
       "      <td>0.523</td>\n",
       "      <td>0.127</td>\n",
       "      <td>0.150</td>\n",
       "      <td>15.7</td>\n",
       "    </tr>\n",
       "    <tr>\n",
       "      <th>2</th>\n",
       "      <td>1.572</td>\n",
       "      <td>1.463</td>\n",
       "      <td>1.141</td>\n",
       "      <td>0.556</td>\n",
       "      <td>0.271</td>\n",
       "      <td>0.453</td>\n",
       "      <td>2.9</td>\n",
       "    </tr>\n",
       "    <tr>\n",
       "      <th>3</th>\n",
       "      <td>0.794</td>\n",
       "      <td>1.242</td>\n",
       "      <td>0.789</td>\n",
       "      <td>0.430</td>\n",
       "      <td>0.093</td>\n",
       "      <td>0.074</td>\n",
       "      <td>12.8</td>\n",
       "    </tr>\n",
       "    <tr>\n",
       "      <th>4</th>\n",
       "      <td>1.294</td>\n",
       "      <td>1.488</td>\n",
       "      <td>1.039</td>\n",
       "      <td>0.231</td>\n",
       "      <td>0.158</td>\n",
       "      <td>0.030</td>\n",
       "      <td>12.0</td>\n",
       "    </tr>\n",
       "    <tr>\n",
       "      <th>5</th>\n",
       "      <td>1.362</td>\n",
       "      <td>1.368</td>\n",
       "      <td>0.871</td>\n",
       "      <td>0.536</td>\n",
       "      <td>0.255</td>\n",
       "      <td>0.110</td>\n",
       "      <td>22.1</td>\n",
       "    </tr>\n",
       "    <tr>\n",
       "      <th>6</th>\n",
       "      <td>1.246</td>\n",
       "      <td>1.504</td>\n",
       "      <td>0.881</td>\n",
       "      <td>0.334</td>\n",
       "      <td>0.121</td>\n",
       "      <td>0.014</td>\n",
       "      <td>16.6</td>\n",
       "    </tr>\n",
       "    <tr>\n",
       "      <th>7</th>\n",
       "      <td>1.206</td>\n",
       "      <td>1.438</td>\n",
       "      <td>0.884</td>\n",
       "      <td>0.483</td>\n",
       "      <td>0.117</td>\n",
       "      <td>0.050</td>\n",
       "      <td>17.1</td>\n",
       "    </tr>\n",
       "    <tr>\n",
       "      <th>8</th>\n",
       "      <td>0.745</td>\n",
       "      <td>1.529</td>\n",
       "      <td>0.756</td>\n",
       "      <td>0.631</td>\n",
       "      <td>0.322</td>\n",
       "      <td>0.240</td>\n",
       "      <td>12.8</td>\n",
       "    </tr>\n",
       "    <tr>\n",
       "      <th>9</th>\n",
       "      <td>1.238</td>\n",
       "      <td>1.515</td>\n",
       "      <td>0.818</td>\n",
       "      <td>0.291</td>\n",
       "      <td>0.043</td>\n",
       "      <td>0.042</td>\n",
       "      <td>18.9</td>\n",
       "    </tr>\n",
       "  </tbody>\n",
       "</table>\n",
       "</div>"
      ],
      "text/plain": [
       "     gdp  family  lifeexpectancy  freedom  generosity  trust  \\\n",
       "0  1.004   1.439           0.802    0.390       0.099  0.086   \n",
       "1  1.124   1.465           0.891    0.523       0.127  0.150   \n",
       "2  1.572   1.463           1.141    0.556       0.271  0.453   \n",
       "3  0.794   1.242           0.789    0.430       0.093  0.074   \n",
       "4  1.294   1.488           1.039    0.231       0.158  0.030   \n",
       "5  1.362   1.368           0.871    0.536       0.255  0.110   \n",
       "6  1.246   1.504           0.881    0.334       0.121  0.014   \n",
       "7  1.206   1.438           0.884    0.483       0.117  0.050   \n",
       "8  0.745   1.529           0.756    0.631       0.322  0.240   \n",
       "9  1.238   1.515           0.818    0.291       0.043  0.042   \n",
       "\n",
       "   alcohol_liperyear  \n",
       "0               19.3  \n",
       "1               15.7  \n",
       "2                2.9  \n",
       "3               12.8  \n",
       "4               12.0  \n",
       "5               22.1  \n",
       "6               16.6  \n",
       "7               17.1  \n",
       "8               12.8  \n",
       "9               18.9  "
      ]
     },
     "execution_count": 24,
     "metadata": {},
     "output_type": "execute_result"
    }
   ],
   "source": [
    "# Clustering Exercise\n",
    "# Loading whr_2019.csv file \n",
    "file_path = \"../Resources/UML_2019.csv\"\n",
    "df_2019 = pd.read_csv(file_path)\n",
    "df_2019.head(10)"
   ]
  },
  {
   "cell_type": "markdown",
   "id": "3e1c870b",
   "metadata": {},
   "source": [
    "### K-means Algoritm"
   ]
  },
  {
   "cell_type": "code",
   "execution_count": 25,
   "id": "f166d7ac",
   "metadata": {},
   "outputs": [
    {
     "data": {
      "text/plain": [
       "KMeans(n_clusters=5, random_state=8)"
      ]
     },
     "execution_count": 25,
     "metadata": {},
     "output_type": "execute_result"
    }
   ],
   "source": [
    "# Initializing model K=5 (since we already know there are three classes of iris plants)\n",
    "model = KMeans(n_clusters=5, random_state=8)\n",
    "model"
   ]
  },
  {
   "cell_type": "code",
   "execution_count": 26,
   "id": "2fb1f083",
   "metadata": {},
   "outputs": [
    {
     "data": {
      "text/plain": [
       "KMeans(n_clusters=5, random_state=8)"
      ]
     },
     "execution_count": 26,
     "metadata": {},
     "output_type": "execute_result"
    }
   ],
   "source": [
    "# Fitting model\n",
    "model.fit(df_2019)"
   ]
  },
  {
   "cell_type": "code",
   "execution_count": 27,
   "id": "eb074a96",
   "metadata": {},
   "outputs": [
    {
     "name": "stdout",
     "output_type": "stream",
     "text": [
      "[1 1 2 0 0 4 1 1 0 1 1 1 1 0 1 1 0 2 1 1 1 1 0 0 0 0 1 0 1 1 0 1 4 1 1 1 4\n",
      " 4 0 1 0 1 0 3 2 1 1 4 4 4 1 3 4 2 4 2 0 4 2 4 0 1 4 3 0 0 4 2 2 3 2 4 4 3\n",
      " 2 3 0 0 2 0 3 2 0 2 0 0 0 0 0 0 0 0 0 0 0 0 2 0 1 1 1 1 0 1 1 0 1 1 0 0 2\n",
      " 2 4 1 0 2 0 1 1 0 2 0 0 3 4 0 1 0 0 1 4 0 3 4 4 1 4 1 1 0 4 4 3 0 0 2 4 1\n",
      " 0]\n"
     ]
    }
   ],
   "source": [
    "# Get the predictions\n",
    "predictions = model.predict(df_2019)\n",
    "print(predictions)"
   ]
  },
  {
   "cell_type": "code",
   "execution_count": 28,
   "id": "55dcda92",
   "metadata": {},
   "outputs": [
    {
     "data": {
      "text/html": [
       "<div>\n",
       "<style scoped>\n",
       "    .dataframe tbody tr th:only-of-type {\n",
       "        vertical-align: middle;\n",
       "    }\n",
       "\n",
       "    .dataframe tbody tr th {\n",
       "        vertical-align: top;\n",
       "    }\n",
       "\n",
       "    .dataframe thead th {\n",
       "        text-align: right;\n",
       "    }\n",
       "</style>\n",
       "<table border=\"1\" class=\"dataframe\">\n",
       "  <thead>\n",
       "    <tr style=\"text-align: right;\">\n",
       "      <th></th>\n",
       "      <th>gdp</th>\n",
       "      <th>family</th>\n",
       "      <th>lifeexpectancy</th>\n",
       "      <th>freedom</th>\n",
       "      <th>generosity</th>\n",
       "      <th>trust</th>\n",
       "      <th>alcohol_liperyear</th>\n",
       "      <th>class</th>\n",
       "    </tr>\n",
       "  </thead>\n",
       "  <tbody>\n",
       "    <tr>\n",
       "      <th>0</th>\n",
       "      <td>1.004</td>\n",
       "      <td>1.439</td>\n",
       "      <td>0.802</td>\n",
       "      <td>0.390</td>\n",
       "      <td>0.099</td>\n",
       "      <td>0.086</td>\n",
       "      <td>19.3</td>\n",
       "      <td>1</td>\n",
       "    </tr>\n",
       "    <tr>\n",
       "      <th>1</th>\n",
       "      <td>1.124</td>\n",
       "      <td>1.465</td>\n",
       "      <td>0.891</td>\n",
       "      <td>0.523</td>\n",
       "      <td>0.127</td>\n",
       "      <td>0.150</td>\n",
       "      <td>15.7</td>\n",
       "      <td>1</td>\n",
       "    </tr>\n",
       "    <tr>\n",
       "      <th>2</th>\n",
       "      <td>1.572</td>\n",
       "      <td>1.463</td>\n",
       "      <td>1.141</td>\n",
       "      <td>0.556</td>\n",
       "      <td>0.271</td>\n",
       "      <td>0.453</td>\n",
       "      <td>2.9</td>\n",
       "      <td>2</td>\n",
       "    </tr>\n",
       "    <tr>\n",
       "      <th>3</th>\n",
       "      <td>0.794</td>\n",
       "      <td>1.242</td>\n",
       "      <td>0.789</td>\n",
       "      <td>0.430</td>\n",
       "      <td>0.093</td>\n",
       "      <td>0.074</td>\n",
       "      <td>12.8</td>\n",
       "      <td>0</td>\n",
       "    </tr>\n",
       "    <tr>\n",
       "      <th>4</th>\n",
       "      <td>1.294</td>\n",
       "      <td>1.488</td>\n",
       "      <td>1.039</td>\n",
       "      <td>0.231</td>\n",
       "      <td>0.158</td>\n",
       "      <td>0.030</td>\n",
       "      <td>12.0</td>\n",
       "      <td>0</td>\n",
       "    </tr>\n",
       "  </tbody>\n",
       "</table>\n",
       "</div>"
      ],
      "text/plain": [
       "     gdp  family  lifeexpectancy  freedom  generosity  trust  \\\n",
       "0  1.004   1.439           0.802    0.390       0.099  0.086   \n",
       "1  1.124   1.465           0.891    0.523       0.127  0.150   \n",
       "2  1.572   1.463           1.141    0.556       0.271  0.453   \n",
       "3  0.794   1.242           0.789    0.430       0.093  0.074   \n",
       "4  1.294   1.488           1.039    0.231       0.158  0.030   \n",
       "\n",
       "   alcohol_liperyear  class  \n",
       "0               19.3      1  \n",
       "1               15.7      1  \n",
       "2                2.9      2  \n",
       "3               12.8      0  \n",
       "4               12.0      0  "
      ]
     },
     "execution_count": 28,
     "metadata": {},
     "output_type": "execute_result"
    }
   ],
   "source": [
    "# Add a new class column to the df_iris\n",
    "df_2019[\"class\"] = model.labels_\n",
    "df_2019.head()"
   ]
  },
  {
   "cell_type": "code",
   "execution_count": 34,
   "id": "bfa41cab",
   "metadata": {},
   "outputs": [
    {
     "data": {},
     "metadata": {},
     "output_type": "display_data"
    },
    {
     "data": {
      "application/vnd.holoviews_exec.v0+json": "",
      "text/html": [
       "<div id='1544'>\n",
       "\n",
       "\n",
       "\n",
       "\n",
       "\n",
       "  <div class=\"bk-root\" id=\"366a93e0-1386-473c-8d94-18b72c6974e5\" data-root-id=\"1544\"></div>\n",
       "</div>\n",
       "<script type=\"application/javascript\">(function(root) {\n",
       "  function embed_document(root) {\n",
       "    var docs_json = {\"31100dda-c986-4c34-b2ab-682e2972741c\":{\"defs\":[{\"extends\":null,\"module\":null,\"name\":\"ReactiveHTML1\",\"overrides\":[],\"properties\":[]},{\"extends\":null,\"module\":null,\"name\":\"FlexBox1\",\"overrides\":[],\"properties\":[{\"default\":\"flex-start\",\"kind\":null,\"name\":\"align_content\"},{\"default\":\"flex-start\",\"kind\":null,\"name\":\"align_items\"},{\"default\":\"row\",\"kind\":null,\"name\":\"flex_direction\"},{\"default\":\"wrap\",\"kind\":null,\"name\":\"flex_wrap\"},{\"default\":\"flex-start\",\"kind\":null,\"name\":\"justify_content\"}]},{\"extends\":null,\"module\":null,\"name\":\"TemplateActions1\",\"overrides\":[],\"properties\":[{\"default\":0,\"kind\":null,\"name\":\"open_modal\"},{\"default\":0,\"kind\":null,\"name\":\"close_modal\"}]},{\"extends\":null,\"module\":null,\"name\":\"MaterialTemplateActions1\",\"overrides\":[],\"properties\":[{\"default\":0,\"kind\":null,\"name\":\"open_modal\"},{\"default\":0,\"kind\":null,\"name\":\"close_modal\"}]}],\"roots\":{\"references\":[{\"attributes\":{\"label\":{\"value\":\"1\"},\"renderers\":[{\"id\":\"1616\"}]},\"id\":\"1630\",\"type\":\"LegendItem\"},{\"attributes\":{\"fill_alpha\":{\"value\":0.2},\"fill_color\":{\"value\":\"#6d904f\"},\"line_alpha\":{\"value\":0.2},\"line_color\":{\"value\":\"#6d904f\"},\"size\":{\"value\":5.477225575051661},\"x\":{\"field\":\"gdp\"},\"y\":{\"field\":\"freedom\"}},\"id\":\"1661\",\"type\":\"Scatter\"},{\"attributes\":{\"margin\":[5,5,5,5],\"name\":\"HSpacer02996\",\"sizing_mode\":\"stretch_width\"},\"id\":\"1545\",\"type\":\"Spacer\"},{\"attributes\":{\"angle\":{\"value\":0.0},\"fill_alpha\":{\"value\":1.0},\"fill_color\":{\"value\":\"#fc4f30\"},\"hatch_alpha\":{\"value\":1.0},\"hatch_color\":{\"value\":\"black\"},\"hatch_scale\":{\"value\":12.0},\"hatch_weight\":{\"value\":1.0},\"line_alpha\":{\"value\":1.0},\"line_cap\":{\"value\":\"butt\"},\"line_color\":{\"value\":\"#fc4f30\"},\"line_dash\":{\"value\":[]},\"line_dash_offset\":{\"value\":0},\"line_join\":{\"value\":\"bevel\"},\"line_width\":{\"value\":1},\"marker\":{\"value\":\"circle\"},\"size\":{\"value\":5.477225575051661},\"x\":{\"field\":\"gdp\"},\"y\":{\"field\":\"freedom\"}},\"id\":\"1631\",\"type\":\"Scatter\"},{\"attributes\":{},\"id\":\"1585\",\"type\":\"BasicTickFormatter\"},{\"attributes\":{\"fill_alpha\":{\"value\":0.1},\"fill_color\":{\"value\":\"#fc4f30\"},\"line_alpha\":{\"value\":0.1},\"line_color\":{\"value\":\"#fc4f30\"},\"size\":{\"value\":5.477225575051661},\"x\":{\"field\":\"gdp\"},\"y\":{\"field\":\"freedom\"}},\"id\":\"1614\",\"type\":\"Scatter\"},{\"attributes\":{\"bottom_units\":\"screen\",\"fill_alpha\":0.5,\"fill_color\":\"lightgrey\",\"left_units\":\"screen\",\"level\":\"overlay\",\"line_alpha\":1.0,\"line_color\":\"black\",\"line_dash\":[4,4],\"line_width\":2,\"right_units\":\"screen\",\"syncable\":false,\"top_units\":\"screen\"},\"id\":\"1575\",\"type\":\"BoxAnnotation\"},{\"attributes\":{\"angle\":{\"value\":0.0},\"fill_alpha\":{\"value\":1.0},\"fill_color\":{\"value\":\"#6d904f\"},\"hatch_alpha\":{\"value\":1.0},\"hatch_color\":{\"value\":\"black\"},\"hatch_scale\":{\"value\":12.0},\"hatch_weight\":{\"value\":1.0},\"line_alpha\":{\"value\":1.0},\"line_cap\":{\"value\":\"butt\"},\"line_color\":{\"value\":\"#6d904f\"},\"line_dash\":{\"value\":[]},\"line_dash_offset\":{\"value\":0},\"line_join\":{\"value\":\"bevel\"},\"line_width\":{\"value\":1},\"marker\":{\"value\":\"circle\"},\"size\":{\"value\":5.477225575051661},\"x\":{\"field\":\"gdp\"},\"y\":{\"field\":\"freedom\"}},\"id\":\"1681\",\"type\":\"Scatter\"},{\"attributes\":{\"data\":{\"class\":[2,2,2,2,2,2,2,2,2,2,2,2,2,2,2,2,2,2,2],\"freedom\":{\"__ndarray__\":\"mG4Sg8DK4T9aZDvfT43fP6jGSzeJQeA/EFg5tMh21j8GgZVDi2zfP3Noke18P90/46WbxCCw0j8X2c73U+PhPycxCKwcWtQ/c2iR7Xw/1T9MN4lBYOWwP3e+nxov3eA/IbByaJHt1D9YObTIdr7XP39qvHSTGNw/w/UoXI/C4T9/arx0kxjcPxKDwMqhRcY/nu+nxks30T8=\",\"dtype\":\"float64\",\"order\":\"little\",\"shape\":[19]},\"gdp\":{\"__ndarray__\":\"9P3UeOkm+T8AAAAAAAD4P/Cnxks3ifM/46WbxCCw8D+YbhKDwMrtP2q8dJMYBOo/zczMzMzM3D8AAAAAAAAAAESLbOf7qcE/UrgehetR2D89CtejcD3iP5ZDi2zn++E/pHA9Ctej2D/RItv5fmr0P6abxCCwcvY/i2zn+6nx+j8lBoGVQ4vcP2ZmZmZmZtY/qvHSTWIQuD8=\",\"dtype\":\"float64\",\"order\":\"little\",\"shape\":[19]}},\"selected\":{\"id\":\"1633\"},\"selection_policy\":{\"id\":\"1651\"}},\"id\":\"1632\",\"type\":\"ColumnDataSource\"},{\"attributes\":{},\"id\":\"1590\",\"type\":\"Selection\"},{\"attributes\":{},\"id\":\"1633\",\"type\":\"Selection\"},{\"attributes\":{\"data\":{\"class\":[3,3,3,3,3,3,3,3,3,3],\"freedom\":{\"__ndarray__\":\"9ihcj8L1yD9qvHSTGAS2P0w3iUFg5dg/RIts5/up2T+F61G4HoXTP76fGi/dJNY/x0s3iUFgxT/VeOkmMQjUP2Dl0CLb+dY/AAAAAAAAAAA=\",\"dtype\":\"float64\",\"order\":\"little\",\"shape\":[10]},\"gdp\":{\"__ndarray__\":\"IbByaJHt8j/VeOkmMQjwP7gehetRuO4/VOOlm8Qg7D+amZmZmZnxPycxCKwcWuw/Rrbz/dR47T/ByqFFtvPpP7Kd76fGS98/ZmZmZmZm1j8=\",\"dtype\":\"float64\",\"order\":\"little\",\"shape\":[10]}},\"selected\":{\"id\":\"1657\"},\"selection_policy\":{\"id\":\"1677\"}},\"id\":\"1656\",\"type\":\"ColumnDataSource\"},{\"attributes\":{\"source\":{\"id\":\"1589\"}},\"id\":\"1596\",\"type\":\"CDSView\"},{\"attributes\":{\"fill_alpha\":{\"value\":0.1},\"fill_color\":{\"value\":\"#6d904f\"},\"line_alpha\":{\"value\":0.1},\"line_color\":{\"value\":\"#6d904f\"},\"size\":{\"value\":5.477225575051661},\"x\":{\"field\":\"gdp\"},\"y\":{\"field\":\"freedom\"}},\"id\":\"1660\",\"type\":\"Scatter\"},{\"attributes\":{},\"id\":\"1677\",\"type\":\"UnionRenderers\"},{\"attributes\":{},\"id\":\"1563\",\"type\":\"BasicTicker\"},{\"attributes\":{\"axis\":{\"id\":\"1562\"},\"grid_line_color\":null,\"ticker\":null},\"id\":\"1565\",\"type\":\"Grid\"},{\"attributes\":{},\"id\":\"1627\",\"type\":\"UnionRenderers\"},{\"attributes\":{\"text_color\":\"black\",\"text_font_size\":\"12pt\"},\"id\":\"1554\",\"type\":\"Title\"},{\"attributes\":{\"angle\":{\"value\":0.0},\"fill_alpha\":{\"value\":1.0},\"fill_color\":{\"value\":\"#e5ae38\"},\"hatch_alpha\":{\"value\":1.0},\"hatch_color\":{\"value\":\"black\"},\"hatch_scale\":{\"value\":12.0},\"hatch_weight\":{\"value\":1.0},\"line_alpha\":{\"value\":1.0},\"line_cap\":{\"value\":\"butt\"},\"line_color\":{\"value\":\"#e5ae38\"},\"line_dash\":{\"value\":[]},\"line_dash_offset\":{\"value\":0},\"line_join\":{\"value\":\"bevel\"},\"line_width\":{\"value\":1},\"marker\":{\"value\":\"circle\"},\"size\":{\"value\":5.477225575051661},\"x\":{\"field\":\"gdp\"},\"y\":{\"field\":\"freedom\"}},\"id\":\"1655\",\"type\":\"Scatter\"},{\"attributes\":{\"fill_alpha\":{\"value\":0.2},\"fill_color\":{\"value\":\"#fc4f30\"},\"line_alpha\":{\"value\":0.2},\"line_color\":{\"value\":\"#fc4f30\"},\"size\":{\"value\":5.477225575051661},\"x\":{\"field\":\"gdp\"},\"y\":{\"field\":\"freedom\"}},\"id\":\"1615\",\"type\":\"Scatter\"},{\"attributes\":{\"fill_alpha\":{\"value\":0.2},\"fill_color\":{\"value\":\"#8b8b8b\"},\"line_alpha\":{\"value\":0.2},\"line_color\":{\"value\":\"#8b8b8b\"},\"size\":{\"value\":5.477225575051661},\"x\":{\"field\":\"gdp\"},\"y\":{\"field\":\"freedom\"}},\"id\":\"1687\",\"type\":\"Scatter\"},{\"attributes\":{},\"id\":\"1604\",\"type\":\"UnionRenderers\"},{\"attributes\":{},\"id\":\"1651\",\"type\":\"UnionRenderers\"},{\"attributes\":{\"source\":{\"id\":\"1656\"}},\"id\":\"1663\",\"type\":\"CDSView\"},{\"attributes\":{},\"id\":\"1705\",\"type\":\"UnionRenderers\"},{\"attributes\":{\"below\":[{\"id\":\"1562\"}],\"center\":[{\"id\":\"1565\"},{\"id\":\"1569\"}],\"height\":300,\"left\":[{\"id\":\"1566\"}],\"margin\":[5,5,5,5],\"min_border_bottom\":10,\"min_border_left\":10,\"min_border_right\":10,\"min_border_top\":10,\"renderers\":[{\"id\":\"1595\"},{\"id\":\"1616\"},{\"id\":\"1638\"},{\"id\":\"1662\"},{\"id\":\"1688\"}],\"right\":[{\"id\":\"1607\"}],\"sizing_mode\":\"fixed\",\"title\":{\"id\":\"1554\"},\"toolbar\":{\"id\":\"1576\"},\"width\":700,\"x_range\":{\"id\":\"1546\"},\"x_scale\":{\"id\":\"1558\"},\"y_range\":{\"id\":\"1547\"},\"y_scale\":{\"id\":\"1560\"}},\"id\":\"1553\",\"subtype\":\"Figure\",\"type\":\"Plot\"},{\"attributes\":{\"margin\":[5,5,5,5],\"name\":\"HSpacer02997\",\"sizing_mode\":\"stretch_width\"},\"id\":\"1872\",\"type\":\"Spacer\"},{\"attributes\":{\"fill_color\":{\"value\":\"#e5ae38\"},\"line_color\":{\"value\":\"#e5ae38\"},\"size\":{\"value\":5.477225575051661},\"x\":{\"field\":\"gdp\"},\"y\":{\"field\":\"freedom\"}},\"id\":\"1635\",\"type\":\"Scatter\"},{\"attributes\":{\"end\":0.6941,\"reset_end\":0.6941,\"reset_start\":-0.0631,\"start\":-0.0631,\"tags\":[[[\"freedom\",\"freedom\",null]]]},\"id\":\"1547\",\"type\":\"Range1d\"},{\"attributes\":{\"data_source\":{\"id\":\"1610\"},\"glyph\":{\"id\":\"1613\"},\"hover_glyph\":null,\"muted_glyph\":{\"id\":\"1615\"},\"nonselection_glyph\":{\"id\":\"1614\"},\"selection_glyph\":{\"id\":\"1631\"},\"view\":{\"id\":\"1617\"}},\"id\":\"1616\",\"type\":\"GlyphRenderer\"},{\"attributes\":{\"axis_label\":\"gdp\",\"formatter\":{\"id\":\"1585\"},\"major_label_policy\":{\"id\":\"1583\"},\"ticker\":{\"id\":\"1563\"}},\"id\":\"1562\",\"type\":\"LinearAxis\"},{\"attributes\":{\"fill_color\":{\"value\":\"#6d904f\"},\"line_color\":{\"value\":\"#6d904f\"},\"size\":{\"value\":5.477225575051661},\"x\":{\"field\":\"gdp\"},\"y\":{\"field\":\"freedom\"}},\"id\":\"1659\",\"type\":\"Scatter\"},{\"attributes\":{\"data_source\":{\"id\":\"1632\"},\"glyph\":{\"id\":\"1635\"},\"hover_glyph\":null,\"muted_glyph\":{\"id\":\"1637\"},\"nonselection_glyph\":{\"id\":\"1636\"},\"selection_glyph\":{\"id\":\"1655\"},\"view\":{\"id\":\"1639\"}},\"id\":\"1638\",\"type\":\"GlyphRenderer\"},{\"attributes\":{\"axis\":{\"id\":\"1566\"},\"dimension\":1,\"grid_line_color\":null,\"ticker\":null},\"id\":\"1569\",\"type\":\"Grid\"},{\"attributes\":{},\"id\":\"1657\",\"type\":\"Selection\"},{\"attributes\":{\"label\":{\"value\":\"3\"},\"renderers\":[{\"id\":\"1662\"}]},\"id\":\"1680\",\"type\":\"LegendItem\"},{\"attributes\":{},\"id\":\"1558\",\"type\":\"LinearScale\"},{\"attributes\":{\"source\":{\"id\":\"1682\"}},\"id\":\"1689\",\"type\":\"CDSView\"},{\"attributes\":{\"fill_alpha\":{\"value\":0.1},\"fill_color\":{\"value\":\"#e5ae38\"},\"line_alpha\":{\"value\":0.1},\"line_color\":{\"value\":\"#e5ae38\"},\"size\":{\"value\":5.477225575051661},\"x\":{\"field\":\"gdp\"},\"y\":{\"field\":\"freedom\"}},\"id\":\"1636\",\"type\":\"Scatter\"},{\"attributes\":{\"fill_color\":{\"value\":\"#8b8b8b\"},\"line_color\":{\"value\":\"#8b8b8b\"},\"size\":{\"value\":5.477225575051661},\"x\":{\"field\":\"gdp\"},\"y\":{\"field\":\"freedom\"}},\"id\":\"1685\",\"type\":\"Scatter\"},{\"attributes\":{\"fill_color\":{\"value\":\"#30a2da\"},\"line_color\":{\"value\":\"#30a2da\"},\"size\":{\"value\":5.477225575051661},\"x\":{\"field\":\"gdp\"},\"y\":{\"field\":\"freedom\"}},\"id\":\"1592\",\"type\":\"Scatter\"},{\"attributes\":{},\"id\":\"1560\",\"type\":\"LinearScale\"},{\"attributes\":{\"label\":{\"value\":\"2\"},\"renderers\":[{\"id\":\"1638\"}]},\"id\":\"1654\",\"type\":\"LegendItem\"},{\"attributes\":{\"fill_alpha\":{\"value\":0.1},\"fill_color\":{\"value\":\"#8b8b8b\"},\"line_alpha\":{\"value\":0.1},\"line_color\":{\"value\":\"#8b8b8b\"},\"size\":{\"value\":5.477225575051661},\"x\":{\"field\":\"gdp\"},\"y\":{\"field\":\"freedom\"}},\"id\":\"1686\",\"type\":\"Scatter\"},{\"attributes\":{},\"id\":\"1567\",\"type\":\"BasicTicker\"},{\"attributes\":{},\"id\":\"1683\",\"type\":\"Selection\"},{\"attributes\":{\"axis_label\":\"freedom\",\"formatter\":{\"id\":\"1588\"},\"major_label_policy\":{\"id\":\"1586\"},\"ticker\":{\"id\":\"1567\"}},\"id\":\"1566\",\"type\":\"LinearAxis\"},{\"attributes\":{},\"id\":\"1583\",\"type\":\"AllLabels\"},{\"attributes\":{\"fill_alpha\":{\"value\":0.2},\"fill_color\":{\"value\":\"#30a2da\"},\"line_alpha\":{\"value\":0.2},\"line_color\":{\"value\":\"#30a2da\"},\"size\":{\"value\":5.477225575051661},\"x\":{\"field\":\"gdp\"},\"y\":{\"field\":\"freedom\"}},\"id\":\"1594\",\"type\":\"Scatter\"},{\"attributes\":{\"data_source\":{\"id\":\"1589\"},\"glyph\":{\"id\":\"1592\"},\"hover_glyph\":null,\"muted_glyph\":{\"id\":\"1594\"},\"nonselection_glyph\":{\"id\":\"1593\"},\"selection_glyph\":{\"id\":\"1609\"},\"view\":{\"id\":\"1596\"}},\"id\":\"1595\",\"type\":\"GlyphRenderer\"},{\"attributes\":{\"angle\":{\"value\":0.0},\"fill_alpha\":{\"value\":1.0},\"fill_color\":{\"value\":\"#30a2da\"},\"hatch_alpha\":{\"value\":1.0},\"hatch_color\":{\"value\":\"black\"},\"hatch_scale\":{\"value\":12.0},\"hatch_weight\":{\"value\":1.0},\"line_alpha\":{\"value\":1.0},\"line_cap\":{\"value\":\"butt\"},\"line_color\":{\"value\":\"#30a2da\"},\"line_dash\":{\"value\":[]},\"line_dash_offset\":{\"value\":0},\"line_join\":{\"value\":\"bevel\"},\"line_width\":{\"value\":1},\"marker\":{\"value\":\"circle\"},\"size\":{\"value\":5.477225575051661},\"x\":{\"field\":\"gdp\"},\"y\":{\"field\":\"freedom\"}},\"id\":\"1609\",\"type\":\"Scatter\"},{\"attributes\":{\"data_source\":{\"id\":\"1682\"},\"glyph\":{\"id\":\"1685\"},\"hover_glyph\":null,\"muted_glyph\":{\"id\":\"1687\"},\"nonselection_glyph\":{\"id\":\"1686\"},\"selection_glyph\":{\"id\":\"1709\"},\"view\":{\"id\":\"1689\"}},\"id\":\"1688\",\"type\":\"GlyphRenderer\"},{\"attributes\":{\"fill_alpha\":{\"value\":0.1},\"fill_color\":{\"value\":\"#30a2da\"},\"line_alpha\":{\"value\":0.1},\"line_color\":{\"value\":\"#30a2da\"},\"size\":{\"value\":5.477225575051661},\"x\":{\"field\":\"gdp\"},\"y\":{\"field\":\"freedom\"}},\"id\":\"1593\",\"type\":\"Scatter\"},{\"attributes\":{\"data\":{\"class\":[0,0,0,0,0,0,0,0,0,0,0,0,0,0,0,0,0,0,0,0,0,0,0,0,0,0,0,0,0,0,0,0,0,0,0,0,0,0,0,0,0,0,0,0,0,0,0,0,0,0,0,0],\"freedom\":{\"__ndarray__\":\"hetRuB6F2z/FILByaJHNP/7UeOkmMeQ/vp8aL90k3j+sHFpkO9/fP1yPwvUoXN8/rBxaZDvf3z97FK5H4XrcP9NNYhBYOeA/JzEIrBxa4D8fhetRuB7dP57vp8ZLN8k/i2zn+6nx0j+JQWDl0CLLP3npJjEIrOA/vHSTGARW1j9QjZduEoPYP4PAyqFFtsM/ppvEILBy2D8v3SQGgZXbPwRWDi2ynd8/DAIrhxbZzj/fT42XbhLjP4ts5/up8eI/sp3vp8ZL4z+28/3UeOniP23n+6nx0uE/5/up8dJN4j+R7Xw/NV7iP7gehetRuOI/46WbxCCw4j+gGi/dJAbhP23n+6nx0uE/QmDl0CLb4T+iRbbz/dTgP3WTGARWDt0/PzVeukkM4j8MAiuHFtnWPx+F61G4HuE//Knx0k1i2D9eukkMAivXPxSuR+F6FN4/YhBYObTIxj9qvHSTGATWPwwCK4cW2c4/jZduEoPA0j+sHFpkO9/fP4ts5/up8cI/5/up8dJNwj/NzMzMzMzMPwIrhxbZztc/sp3vp8ZL3z8=\",\"dtype\":\"float64\",\"order\":\"little\",\"shape\":[52]},\"gdp\":{\"__ndarray__\":\"nMQgsHJo6T9OYhBYObT0P9ejcD0K1+c/Rrbz/dR48T/Jdr6fGi/tP2Q730+Nl+o/7FG4HoXr8T8IrBxaZDv1PyUGgZVDi+Q/okW28/3U6D+4HoXrUbjuPzeJQWDl0PA/exSuR+F68j89CtejcD3uPxBYObTIdvA/9P3UeOkm2T/n+6nx0k3uP7gehetRuO4/g8DKoUW20z/8qfHSTWLgP+kmMQisHMo/46WbxCCw8D9xPQrXo3D1P1TjpZvEIPY/AiuHFtnO9z8UrkfhehT2P7x0kxgEVvY/CKwcWmQ79z/+1HjpJjH2PwwCK4cW2fQ/16NwPQrX9T9qvHSTGAT2P8HKoUW28/U/JQaBlUOL8D9YObTIdr75PyGwcmiR7fY/zczMzMzM9D8lBoGVQ4vyP5qZmZmZmek/WmQ730+N4z/6fmq8dJP0P5HtfD81Xu4/PQrXo3A96j8bL90kBoHVP57vp8ZLN+0/mpmZmZmZ0T8pXI/C9SjoP/Cnxks3idE/ke18PzVe0j85tMh2vp+aP/Cnxks3ieU/GQRWDi2y8z8=\",\"dtype\":\"float64\",\"order\":\"little\",\"shape\":[52]}},\"selected\":{\"id\":\"1590\"},\"selection_policy\":{\"id\":\"1604\"}},\"id\":\"1589\",\"type\":\"ColumnDataSource\"},{\"attributes\":{\"label\":{\"value\":\"4\"},\"renderers\":[{\"id\":\"1688\"}]},\"id\":\"1708\",\"type\":\"LegendItem\"},{\"attributes\":{\"end\":1.7561714285714285,\"reset_end\":1.7561714285714285,\"reset_start\":-0.07217142857142857,\"start\":-0.07217142857142857,\"tags\":[[[\"gdp\",\"gdp\",null]]]},\"id\":\"1546\",\"type\":\"Range1d\"},{\"attributes\":{},\"id\":\"1588\",\"type\":\"BasicTickFormatter\"},{\"attributes\":{\"callback\":null,\"renderers\":[{\"id\":\"1595\"},{\"id\":\"1616\"},{\"id\":\"1638\"},{\"id\":\"1662\"},{\"id\":\"1688\"}],\"tags\":[\"hv_created\"],\"tooltips\":[[\"class\",\"@{class}\"],[\"gdp\",\"@{gdp}\"],[\"freedom\",\"@{freedom}\"]]},\"id\":\"1548\",\"type\":\"HoverTool\"},{\"attributes\":{},\"id\":\"1570\",\"type\":\"SaveTool\"},{\"attributes\":{\"source\":{\"id\":\"1632\"}},\"id\":\"1639\",\"type\":\"CDSView\"},{\"attributes\":{\"fill_alpha\":{\"value\":0.2},\"fill_color\":{\"value\":\"#e5ae38\"},\"line_alpha\":{\"value\":0.2},\"line_color\":{\"value\":\"#e5ae38\"},\"size\":{\"value\":5.477225575051661},\"x\":{\"field\":\"gdp\"},\"y\":{\"field\":\"freedom\"}},\"id\":\"1637\",\"type\":\"Scatter\"},{\"attributes\":{},\"id\":\"1571\",\"type\":\"PanTool\"},{\"attributes\":{\"children\":[{\"id\":\"1545\"},{\"id\":\"1553\"},{\"id\":\"1872\"}],\"margin\":[0,0,0,0],\"name\":\"Row02992\",\"tags\":[\"embedded\"]},\"id\":\"1544\",\"type\":\"Row\"},{\"attributes\":{},\"id\":\"1572\",\"type\":\"WheelZoomTool\"},{\"attributes\":{\"angle\":{\"value\":0.0},\"fill_alpha\":{\"value\":1.0},\"fill_color\":{\"value\":\"#8b8b8b\"},\"hatch_alpha\":{\"value\":1.0},\"hatch_color\":{\"value\":\"black\"},\"hatch_scale\":{\"value\":12.0},\"hatch_weight\":{\"value\":1.0},\"line_alpha\":{\"value\":1.0},\"line_cap\":{\"value\":\"butt\"},\"line_color\":{\"value\":\"#8b8b8b\"},\"line_dash\":{\"value\":[]},\"line_dash_offset\":{\"value\":0},\"line_join\":{\"value\":\"bevel\"},\"line_width\":{\"value\":1},\"marker\":{\"value\":\"circle\"},\"size\":{\"value\":5.477225575051661},\"x\":{\"field\":\"gdp\"},\"y\":{\"field\":\"freedom\"}},\"id\":\"1709\",\"type\":\"Scatter\"},{\"attributes\":{\"active_multi\":null,\"tools\":[{\"id\":\"1548\"},{\"id\":\"1570\"},{\"id\":\"1571\"},{\"id\":\"1572\"},{\"id\":\"1573\"},{\"id\":\"1574\"}]},\"id\":\"1576\",\"type\":\"Toolbar\"},{\"attributes\":{\"overlay\":{\"id\":\"1575\"}},\"id\":\"1573\",\"type\":\"BoxZoomTool\"},{\"attributes\":{\"data\":{\"class\":[1,1,1,1,1,1,1,1,1,1,1,1,1,1,1,1,1,1,1,1,1,1,1,1,1,1,1,1,1,1,1,1,1,1,1,1,1,1,1,1,1,1,1,1],\"freedom\":{\"__ndarray__\":\"9ihcj8L12D8j2/l+arzgP8dLN4lBYNU/tvP91Hjp3j85tMh2vp/SPxSuR+F6FN4/PzVeukkM4j/Xo3A9CtfbP8UgsHJokd0/lkOLbOf72T9t5/up8dLhP0w3iUFg5dA/JzEIrBxaxD+uR+F6FK7fPz0K16NwPdo/Rrbz/dR4yT+mm8QgsHLgP6jGSzeJQeA/x0s3iUFg1T9CYOXQItvhPz81XrpJDNI/TDeJQWDl2D8CK4cW2c7fPxSuR+F6FM4/9P3UeOkmsT+e76fGSzfZP+F6FK5H4dI/zczMzMzM3D9QjZduEoPgP65H4XoUrt8/EoPAyqFF3j9zaJHtfD/dP4lBYOXQIuM/g8DKoUW22z+BlUOLbOfbP4GVQ4ts59M/UI2XbhKD4D8tsp3vp8bTPy/dJAaBlds/rkfhehSu1z85tMh2vp+aPzm0yHa+n4o/JzEIrBxa3D/NzMzMzMzgPw==\",\"dtype\":\"float64\",\"order\":\"little\",\"shape\":[44]},\"gdp\":{\"__ndarray__\":\"qvHSTWIQ8D+WQ4ts5/vxP1YOLbKd7/M/sp3vp8ZL8z8CK4cW2c7zP4XrUbgehe8/VOOlm8Qg9D9oke18PzXmP2Q730+Nl/I/aJHtfD819D/NzMzMzMzwP8uhRbbz/fI/N4lBYOXQ9D+YbhKDwMrzP/hT46WbxPI/nu+nxks38z9cj8L1KFzrP/Cnxks3ifM/IbByaJHt8j9t5/up8dLpP6rx0k1iEPA/WmQ730+N3z89CtejcD3wP99PjZduEvE/TDeJQWDl8j+iRbbz/dTwP7bz/dR46fA/hxbZzvdT9T+WQ4ts5/v3PyuHFtnO9/U/GQRWDi2y9T/n+6nx0k30Pz81XrpJDPg/H4XrUbge8T/Jdr6fGi/1P0a28/3UePE//Knx0k1i8j/0/dR46SbRP+XQItv5fuI/46WbxCCwsj956SYxCKzUPwIrhxbZzuM/ppvEILByyD+4HoXrUbjmPw==\",\"dtype\":\"float64\",\"order\":\"little\",\"shape\":[44]}},\"selected\":{\"id\":\"1611\"},\"selection_policy\":{\"id\":\"1627\"}},\"id\":\"1610\",\"type\":\"ColumnDataSource\"},{\"attributes\":{},\"id\":\"1586\",\"type\":\"AllLabels\"},{\"attributes\":{},\"id\":\"1574\",\"type\":\"ResetTool\"},{\"attributes\":{\"label\":{\"value\":\"0\"},\"renderers\":[{\"id\":\"1595\"}]},\"id\":\"1608\",\"type\":\"LegendItem\"},{\"attributes\":{},\"id\":\"1611\",\"type\":\"Selection\"},{\"attributes\":{\"data\":{\"class\":[4,4,4,4,4,4,4,4,4,4,4,4,4,4,4,4,4,4,4,4,4,4,4,4],\"freedom\":{\"__ndarray__\":\"9P3UeOkm4T/VeOkmMQjUP1yPwvUoXM8/ObTIdr6f2j99PzVeuknUP90kBoGVQ9s/qMZLN4lB4D+Nl24Sg8DaP9nO91Pjpcs/x0s3iUFg4T9QjZduEoPYPxsv3SQGgeE/sHJoke184z9SuB6F61HQP+kmMQisHNI//Knx0k1i2D9iEFg5tMjWP5MYBFYOLcI/KVyPwvUozD+0yHa+nxrXPx+F61G4Ht0/w/UoXI/C4T/jpZvEILDaP7pJDAIrh9Y/\",\"dtype\":\"float64\",\"order\":\"little\",\"shape\":[24]},\"gdp\":{\"__ndarray__\":\"mG4Sg8DK9T9Ei2zn+6nlP+xRuB6F6+U/TmIQWDm08D+8dJMYBFbuPxKDwMqhReY/bxKDwMqh4T9vEoPAyqHpPy/dJAaBle8/g8DKoUW25z9iEFg5tMjqP6abxCCwcug/ke18PzVe4j/Jdr6fGi/VPzMzMzMzM+s/xSCwcmiR4T9zaJHtfD/VP/Cnxks3idE/WmQ730+Npz8GgZVDi2zXPw4tsp3vp/A/YOXQItv51j8QWDm0yHbeP2iR7Xw/NeI/\",\"dtype\":\"float64\",\"order\":\"little\",\"shape\":[24]}},\"selected\":{\"id\":\"1683\"},\"selection_policy\":{\"id\":\"1705\"}},\"id\":\"1682\",\"type\":\"ColumnDataSource\"},{\"attributes\":{\"data_source\":{\"id\":\"1656\"},\"glyph\":{\"id\":\"1659\"},\"hover_glyph\":null,\"muted_glyph\":{\"id\":\"1661\"},\"nonselection_glyph\":{\"id\":\"1660\"},\"selection_glyph\":{\"id\":\"1681\"},\"view\":{\"id\":\"1663\"}},\"id\":\"1662\",\"type\":\"GlyphRenderer\"},{\"attributes\":{\"click_policy\":\"mute\",\"items\":[{\"id\":\"1608\"},{\"id\":\"1630\"},{\"id\":\"1654\"},{\"id\":\"1680\"},{\"id\":\"1708\"}],\"location\":[0,0],\"title\":\"class\"},\"id\":\"1607\",\"type\":\"Legend\"},{\"attributes\":{\"fill_color\":{\"value\":\"#fc4f30\"},\"line_color\":{\"value\":\"#fc4f30\"},\"size\":{\"value\":5.477225575051661},\"x\":{\"field\":\"gdp\"},\"y\":{\"field\":\"freedom\"}},\"id\":\"1613\",\"type\":\"Scatter\"},{\"attributes\":{\"source\":{\"id\":\"1610\"}},\"id\":\"1617\",\"type\":\"CDSView\"}],\"root_ids\":[\"1544\"]},\"title\":\"Bokeh Application\",\"version\":\"2.3.2\"}};\n",
       "    var render_items = [{\"docid\":\"31100dda-c986-4c34-b2ab-682e2972741c\",\"root_ids\":[\"1544\"],\"roots\":{\"1544\":\"366a93e0-1386-473c-8d94-18b72c6974e5\"}}];\n",
       "    root.Bokeh.embed.embed_items_notebook(docs_json, render_items);\n",
       "  }\n",
       "  if (root.Bokeh !== undefined && root.Bokeh.Panel !== undefined) {\n",
       "    embed_document(root);\n",
       "  } else {\n",
       "    var attempts = 0;\n",
       "    var timer = setInterval(function(root) {\n",
       "      if (root.Bokeh !== undefined && root.Bokeh.Panel !== undefined) {\n",
       "        clearInterval(timer);\n",
       "        embed_document(root);\n",
       "      } else if (document.readyState == \"complete\") {\n",
       "        attempts++;\n",
       "        if (attempts > 200) {\n",
       "          clearInterval(timer);\n",
       "          console.log(\"Bokeh: ERROR: Unable to run BokehJS code because BokehJS library is missing\");\n",
       "        }\n",
       "      }\n",
       "    }, 25, root)\n",
       "  }\n",
       "})(window);</script>"
      ],
      "text/plain": [
       ":NdOverlay   [class]\n",
       "   :Scatter   [gdp]   (freedom)"
      ]
     },
     "execution_count": 34,
     "metadata": {
      "application/vnd.holoviews_exec.v0+json": {
       "id": "1544"
      }
     },
     "output_type": "execute_result"
    }
   ],
   "source": [
    "# Create a scatterplot of df_2019\n",
    "df_2019.hvplot.scatter(x=\"gdp\", y=\"freedom\", by=\"class\")"
   ]
  },
  {
   "cell_type": "code",
   "execution_count": 31,
   "id": "97d514ae",
   "metadata": {},
   "outputs": [
    {
     "data": {
      "application/vnd.plotly.v1+json": {
       "config": {
        "plotlyServerURL": "https://plot.ly"
       },
       "data": [
        {
         "hovertemplate": "class=%{marker.color}<br>gdp=%{x}<br>alcohol_liperyear=%{y}<br>trust=%{z}<br>generosity=%{marker.size}<extra></extra>",
         "legendgroup": "1",
         "marker": {
          "color": [
           1,
           1,
           1,
           1,
           1,
           1,
           1,
           1,
           1,
           1,
           1,
           1,
           1,
           1,
           1,
           1,
           1,
           1,
           1,
           1,
           1,
           1,
           1,
           1,
           1,
           1,
           1,
           1,
           1,
           1,
           1,
           1,
           1,
           1,
           1,
           1,
           1,
           1,
           1,
           1,
           1,
           1,
           1,
           1
          ],
          "coloraxis": "coloraxis",
          "size": [
           0.099,
           0.127,
           0.121,
           0.117,
           0.043,
           0.099,
           0.144,
           0.2,
           0.083,
           0.19,
           0.359,
           0.075,
           0.175,
           0.103,
           0.146,
           0.081,
           0.184,
           0.047,
           0.082,
           0.117,
           0.137,
           0.23,
           0.113,
           0.094,
           0,
           0.244,
           0.043,
           0.348,
           0.298,
           0.261,
           0.16,
           0.046,
           0.262,
           0.074,
           0.111,
           0.081,
           0.109,
           0.252,
           0.247,
           0.233,
           0.419,
           0.331,
           0.218,
           0.566
          ],
          "sizemode": "area",
          "sizeref": 0.0014149999999999998,
          "symbol": "circle"
         },
         "mode": "markers",
         "name": "1",
         "scene": "scene",
         "showlegend": true,
         "type": "scatter3d",
         "x": [
          1.004,
          1.124,
          1.246,
          1.206,
          1.238,
          0.985,
          1.258,
          0.694,
          1.162,
          1.263,
          1.05,
          1.187,
          1.301,
          1.237,
          1.173,
          1.201,
          0.855,
          1.221,
          1.183,
          0.807,
          1.004,
          0.493,
          1.015,
          1.067,
          1.181,
          1.052,
          1.057,
          1.333,
          1.499,
          1.373,
          1.356,
          1.269,
          1.503,
          1.07,
          1.324,
          1.092,
          1.149,
          0.268,
          0.578,
          0.073,
          0.323,
          0.619,
          0.191,
          0.71
         ],
         "y": [
          19.3,
          15.7,
          16.6,
          17.1,
          18.9,
          15.2,
          17.7,
          15.9,
          18.8,
          15.6,
          20.3,
          17.2,
          16,
          15.9,
          19.2,
          17.1,
          20.1,
          17.8,
          20.1,
          19.9,
          18.5,
          15.8,
          16,
          15.2,
          15.9,
          17.8,
          17.2,
          15.6,
          16,
          16.9,
          15.9,
          19.1,
          20.5,
          15.3,
          16.7,
          19.2,
          16.5,
          18.3,
          17.7,
          18.7,
          16.5,
          15.5,
          15.5,
          17.6
         ],
         "z": [
          0.086,
          0.15,
          0.014,
          0.05,
          0.042,
          0.034,
          0.057,
          0.127,
          0.005,
          0.041,
          0.028,
          0.064,
          0.056,
          0.161,
          0.096,
          0.02,
          0.08,
          0.025,
          0.031,
          0.107,
          0.039,
          0.144,
          0.101,
          0.142,
          0.034,
          0.028,
          0.055,
          0.278,
          0.31,
          0.265,
          0.21,
          0.036,
          0.182,
          0.073,
          0.183,
          0.004,
          0.054,
          0.045,
          0.087,
          0.033,
          0.11,
          0.141,
          0.089,
          0.172
         ]
        },
        {
         "hovertemplate": "class=%{marker.color}<br>gdp=%{x}<br>alcohol_liperyear=%{y}<br>trust=%{z}<br>generosity=%{marker.size}<extra></extra>",
         "legendgroup": "2",
         "marker": {
          "color": [
           2,
           2,
           2,
           2,
           2,
           2,
           2,
           2,
           2,
           2,
           2,
           2,
           2,
           2,
           2,
           2,
           2,
           2,
           2
          ],
          "coloraxis": "coloraxis",
          "size": [
           0.271,
           0.142,
           0.26,
           0.035,
           0.498,
           0.37,
           0.153,
           0.243,
           0.188,
           0.207,
           0.106,
           0.166,
           0.153,
           0.261,
           0.08,
           0.22,
           0.285,
           0.198,
           0.212
          ],
          "sizemode": "area",
          "sizeref": 0.0014149999999999998,
          "symbol": "diamond"
         },
         "mode": "markers",
         "name": "2",
         "scene": "scene",
         "showlegend": true,
         "type": "scatter3d",
         "x": [
          1.572,
          1.5,
          1.221,
          1.043,
          0.931,
          0.813,
          0.45,
          0,
          0.138,
          0.38,
          0.57,
          0.562,
          0.385,
          1.276,
          1.403,
          1.684,
          0.446,
          0.35,
          0.094
         ],
         "y": [
          2.9,
          1,
          3.1,
          3.7,
          3.4,
          1.9,
          3.5,
          1.5,
          2.5,
          5.8,
          3.8,
          0.9,
          5.7,
          7,
          3.8,
          4.4,
          7.4,
          6.9,
          7.1
         ],
         "z": [
          0.453,
          0.097,
          0.024,
          0.182,
          0.028,
          0.167,
          0.072,
          0.27,
          0.102,
          0.086,
          0.088,
          0.143,
          0.052,
          0.082,
          0.132,
          0.167,
          0.089,
          0.078,
          0.053
         ]
        },
        {
         "hovertemplate": "class=%{marker.color}<br>gdp=%{x}<br>alcohol_liperyear=%{y}<br>trust=%{z}<br>generosity=%{marker.size}<extra></extra>",
         "legendgroup": "0",
         "marker": {
          "color": [
           0,
           0,
           0,
           0,
           0,
           0,
           0,
           0,
           0,
           0,
           0,
           0,
           0,
           0,
           0,
           0,
           0,
           0,
           0,
           0,
           0,
           0,
           0,
           0,
           0,
           0,
           0,
           0,
           0,
           0,
           0,
           0,
           0,
           0,
           0,
           0,
           0,
           0,
           0,
           0,
           0,
           0,
           0,
           0,
           0,
           0,
           0,
           0,
           0,
           0,
           0,
           0
          ],
          "coloraxis": "coloraxis",
          "size": [
           0.093,
           0.158,
           0.322,
           0.066,
           0.126,
           0.107,
           0.215,
           0.069,
           0.246,
           0.137,
           0.083,
           0.142,
           0.119,
           0.263,
           0.058,
           0.175,
           0.178,
           0.064,
           0.269,
           0.372,
           0.197,
           0.148,
           0.153,
           0.252,
           0.271,
           0.354,
           0.322,
           0.263,
           0.267,
           0.33,
           0.285,
           0.244,
           0.332,
           0.144,
           0.194,
           0.28,
           0.375,
           0.187,
           0.175,
           0.245,
           0.153,
           0.244,
           0.187,
           0.209,
           0.076,
           0.177,
           0.2,
           0.169,
           0.108,
           0.235,
           0.105,
           0.185
          ],
          "sizemode": "area",
          "sizeref": 0.0014149999999999998,
          "symbol": "square"
         },
         "mode": "markers",
         "name": "0",
         "scene": "scene",
         "showlegend": true,
         "type": "scatter3d",
         "x": [
          0.794,
          1.294,
          0.745,
          1.092,
          0.912,
          0.831,
          1.12,
          1.327,
          0.642,
          0.776,
          0.96,
          1.051,
          1.155,
          0.945,
          1.029,
          0.393,
          0.947,
          0.96,
          0.308,
          0.512,
          0.204,
          1.043,
          1.34,
          1.383,
          1.488,
          1.38,
          1.396,
          1.452,
          1.387,
          1.303,
          1.365,
          1.376,
          1.372,
          1.034,
          1.609,
          1.433,
          1.3,
          1.159,
          0.8,
          0.611,
          1.286,
          0.949,
          0.82,
          0.336,
          0.913,
          0.275,
          0.755,
          0.274,
          0.287,
          0.026,
          0.673,
          1.231
         ],
         "y": [
          12.8,
          12,
          12.8,
          14.6,
          9.5,
          11.9,
          11.5,
          14.1,
          13.5,
          10.5,
          11.8,
          14.8,
          15,
          13.4,
          12.9,
          11.6,
          14.6,
          14.9,
          14.1,
          14.1,
          11.4,
          12.4,
          14.8,
          13.9,
          9.4,
          12.8,
          12,
          14.2,
          12.5,
          14.3,
          13.8,
          14.9,
          13.4,
          13,
          14.1,
          13.7,
          12.8,
          13.7,
          9,
          10.2,
          14.6,
          14.9,
          13.8,
          12.6,
          14.3,
          12,
          14.6,
          9.2,
          9.4,
          8.8,
          15.1,
          14.2
         ],
         "z": [
          0.074,
          0.03,
          0.24,
          0.05,
          0.087,
          0.028,
          0.06,
          0.14,
          0.078,
          0.064,
          0.027,
          0.08,
          0.022,
          0.006,
          0.1,
          0.082,
          0.027,
          0.047,
          0.167,
          0.053,
          0.138,
          0.089,
          0.393,
          0.41,
          0.341,
          0.118,
          0.298,
          0.343,
          0.373,
          0.38,
          0.308,
          0.226,
          0.29,
          0.093,
          0.316,
          0.128,
          0.151,
          0.056,
          0.078,
          0.04,
          0.079,
          0.047,
          0.01,
          0.1,
          0.067,
          0.085,
          0.085,
          0.041,
          0.077,
          0.035,
          0.093,
          0.016
         ]
        },
        {
         "hovertemplate": "class=%{marker.color}<br>gdp=%{x}<br>alcohol_liperyear=%{y}<br>trust=%{z}<br>generosity=%{marker.size}<extra></extra>",
         "legendgroup": "4",
         "marker": {
          "color": [
           4,
           4,
           4,
           4,
           4,
           4,
           4,
           4,
           4,
           4,
           4,
           4,
           4,
           4,
           4,
           4,
           4,
           4,
           4,
           4,
           4,
           4,
           4,
           4
          ],
          "coloraxis": "coloraxis",
          "size": [
           0.255,
           0.22,
           0.181,
           0.133,
           0.235,
           0.215,
           0.3,
           0.036,
           0.166,
           0.147,
           0.11,
           0.266,
           0.232,
           0.177,
           0.095,
           0.187,
           0.252,
           0.275,
           0.176,
           0.151,
           0.025,
           0.217,
           0.276,
           0.154
          ],
          "sizemode": "area",
          "sizeref": 0.0014149999999999998,
          "symbol": "x"
         },
         "mode": "markers",
         "name": "4",
         "scene": "scene",
         "showlegend": true,
         "type": "scatter3d",
         "x": [
          1.362,
          0.677,
          0.685,
          1.044,
          0.948,
          0.696,
          0.551,
          0.801,
          0.987,
          0.741,
          0.837,
          0.764,
          0.574,
          0.331,
          0.85,
          0.549,
          0.332,
          0.274,
          0.046,
          0.366,
          1.041,
          0.359,
          0.476,
          0.569
         ],
         "y": [
          22.1,
          26,
          22.8,
          26.4,
          21.9,
          25.5,
          24,
          24.5,
          25,
          22.8,
          24.6,
          25.9,
          21.7,
          22.2,
          21.3,
          22.6,
          26,
          22.3,
          23.7,
          27.2,
          26.2,
          25.6,
          25.8,
          21.7
         ],
         "z": [
          0.11,
          0.098,
          0,
          0.152,
          0.038,
          0.041,
          0.023,
          0.076,
          0.027,
          0.073,
          0.13,
          0.164,
          0.062,
          0.113,
          0.064,
          0.037,
          0.06,
          0.078,
          0.18,
          0.089,
          0.1,
          0.411,
          0.147,
          0.09
         ]
        },
        {
         "hovertemplate": "class=%{marker.color}<br>gdp=%{x}<br>alcohol_liperyear=%{y}<br>trust=%{z}<br>generosity=%{marker.size}<extra></extra>",
         "legendgroup": "3",
         "marker": {
          "color": [
           3,
           3,
           3,
           3,
           3,
           3,
           3,
           3,
           3,
           3
          ],
          "coloraxis": "coloraxis",
          "size": [
           0.083,
           0.073,
           0.13,
           0.07,
           0.27,
           0.043,
           0.059,
           0.074,
           0.107,
           0.158
          ],
          "sizemode": "area",
          "sizeref": 0.0014149999999999998,
          "symbol": "cross"
         },
         "mode": "markers",
         "name": "3",
         "scene": "scene",
         "showlegend": true,
         "type": "scatter3d",
         "x": [
          1.183,
          1.002,
          0.96,
          0.879,
          1.1,
          0.886,
          0.921,
          0.811,
          0.489,
          0.35
         ],
         "y": [
          28.5,
          29.1,
          29.9,
          32.4,
          28.4,
          27.9,
          36.6,
          34.4,
          28.2,
          33.5
         ],
         "z": [
          0.106,
          0.114,
          0.055,
          0.056,
          0.125,
          0.164,
          0.055,
          0.135,
          0.093,
          0.025
         ]
        }
       ],
       "layout": {
        "coloraxis": {
         "colorbar": {
          "title": {
           "text": "class"
          }
         },
         "colorscale": [
          [
           0,
           "#0d0887"
          ],
          [
           0.1111111111111111,
           "#46039f"
          ],
          [
           0.2222222222222222,
           "#7201a8"
          ],
          [
           0.3333333333333333,
           "#9c179e"
          ],
          [
           0.4444444444444444,
           "#bd3786"
          ],
          [
           0.5555555555555556,
           "#d8576b"
          ],
          [
           0.6666666666666666,
           "#ed7953"
          ],
          [
           0.7777777777777778,
           "#fb9f3a"
          ],
          [
           0.8888888888888888,
           "#fdca26"
          ],
          [
           1,
           "#f0f921"
          ]
         ]
        },
        "legend": {
         "itemsizing": "constant",
         "title": {
          "text": "class"
         },
         "tracegroupgap": 0,
         "x": 0,
         "y": 1
        },
        "margin": {
         "t": 60
        },
        "scene": {
         "domain": {
          "x": [
           0,
           1
          ],
          "y": [
           0,
           1
          ]
         },
         "xaxis": {
          "title": {
           "text": "gdp"
          }
         },
         "yaxis": {
          "title": {
           "text": "alcohol_liperyear"
          }
         },
         "zaxis": {
          "title": {
           "text": "trust"
          }
         }
        },
        "template": {
         "data": {
          "bar": [
           {
            "error_x": {
             "color": "#2a3f5f"
            },
            "error_y": {
             "color": "#2a3f5f"
            },
            "marker": {
             "line": {
              "color": "#E5ECF6",
              "width": 0.5
             }
            },
            "type": "bar"
           }
          ],
          "barpolar": [
           {
            "marker": {
             "line": {
              "color": "#E5ECF6",
              "width": 0.5
             }
            },
            "type": "barpolar"
           }
          ],
          "carpet": [
           {
            "aaxis": {
             "endlinecolor": "#2a3f5f",
             "gridcolor": "white",
             "linecolor": "white",
             "minorgridcolor": "white",
             "startlinecolor": "#2a3f5f"
            },
            "baxis": {
             "endlinecolor": "#2a3f5f",
             "gridcolor": "white",
             "linecolor": "white",
             "minorgridcolor": "white",
             "startlinecolor": "#2a3f5f"
            },
            "type": "carpet"
           }
          ],
          "choropleth": [
           {
            "colorbar": {
             "outlinewidth": 0,
             "ticks": ""
            },
            "type": "choropleth"
           }
          ],
          "contour": [
           {
            "colorbar": {
             "outlinewidth": 0,
             "ticks": ""
            },
            "colorscale": [
             [
              0,
              "#0d0887"
             ],
             [
              0.1111111111111111,
              "#46039f"
             ],
             [
              0.2222222222222222,
              "#7201a8"
             ],
             [
              0.3333333333333333,
              "#9c179e"
             ],
             [
              0.4444444444444444,
              "#bd3786"
             ],
             [
              0.5555555555555556,
              "#d8576b"
             ],
             [
              0.6666666666666666,
              "#ed7953"
             ],
             [
              0.7777777777777778,
              "#fb9f3a"
             ],
             [
              0.8888888888888888,
              "#fdca26"
             ],
             [
              1,
              "#f0f921"
             ]
            ],
            "type": "contour"
           }
          ],
          "contourcarpet": [
           {
            "colorbar": {
             "outlinewidth": 0,
             "ticks": ""
            },
            "type": "contourcarpet"
           }
          ],
          "heatmap": [
           {
            "colorbar": {
             "outlinewidth": 0,
             "ticks": ""
            },
            "colorscale": [
             [
              0,
              "#0d0887"
             ],
             [
              0.1111111111111111,
              "#46039f"
             ],
             [
              0.2222222222222222,
              "#7201a8"
             ],
             [
              0.3333333333333333,
              "#9c179e"
             ],
             [
              0.4444444444444444,
              "#bd3786"
             ],
             [
              0.5555555555555556,
              "#d8576b"
             ],
             [
              0.6666666666666666,
              "#ed7953"
             ],
             [
              0.7777777777777778,
              "#fb9f3a"
             ],
             [
              0.8888888888888888,
              "#fdca26"
             ],
             [
              1,
              "#f0f921"
             ]
            ],
            "type": "heatmap"
           }
          ],
          "heatmapgl": [
           {
            "colorbar": {
             "outlinewidth": 0,
             "ticks": ""
            },
            "colorscale": [
             [
              0,
              "#0d0887"
             ],
             [
              0.1111111111111111,
              "#46039f"
             ],
             [
              0.2222222222222222,
              "#7201a8"
             ],
             [
              0.3333333333333333,
              "#9c179e"
             ],
             [
              0.4444444444444444,
              "#bd3786"
             ],
             [
              0.5555555555555556,
              "#d8576b"
             ],
             [
              0.6666666666666666,
              "#ed7953"
             ],
             [
              0.7777777777777778,
              "#fb9f3a"
             ],
             [
              0.8888888888888888,
              "#fdca26"
             ],
             [
              1,
              "#f0f921"
             ]
            ],
            "type": "heatmapgl"
           }
          ],
          "histogram": [
           {
            "marker": {
             "colorbar": {
              "outlinewidth": 0,
              "ticks": ""
             }
            },
            "type": "histogram"
           }
          ],
          "histogram2d": [
           {
            "colorbar": {
             "outlinewidth": 0,
             "ticks": ""
            },
            "colorscale": [
             [
              0,
              "#0d0887"
             ],
             [
              0.1111111111111111,
              "#46039f"
             ],
             [
              0.2222222222222222,
              "#7201a8"
             ],
             [
              0.3333333333333333,
              "#9c179e"
             ],
             [
              0.4444444444444444,
              "#bd3786"
             ],
             [
              0.5555555555555556,
              "#d8576b"
             ],
             [
              0.6666666666666666,
              "#ed7953"
             ],
             [
              0.7777777777777778,
              "#fb9f3a"
             ],
             [
              0.8888888888888888,
              "#fdca26"
             ],
             [
              1,
              "#f0f921"
             ]
            ],
            "type": "histogram2d"
           }
          ],
          "histogram2dcontour": [
           {
            "colorbar": {
             "outlinewidth": 0,
             "ticks": ""
            },
            "colorscale": [
             [
              0,
              "#0d0887"
             ],
             [
              0.1111111111111111,
              "#46039f"
             ],
             [
              0.2222222222222222,
              "#7201a8"
             ],
             [
              0.3333333333333333,
              "#9c179e"
             ],
             [
              0.4444444444444444,
              "#bd3786"
             ],
             [
              0.5555555555555556,
              "#d8576b"
             ],
             [
              0.6666666666666666,
              "#ed7953"
             ],
             [
              0.7777777777777778,
              "#fb9f3a"
             ],
             [
              0.8888888888888888,
              "#fdca26"
             ],
             [
              1,
              "#f0f921"
             ]
            ],
            "type": "histogram2dcontour"
           }
          ],
          "mesh3d": [
           {
            "colorbar": {
             "outlinewidth": 0,
             "ticks": ""
            },
            "type": "mesh3d"
           }
          ],
          "parcoords": [
           {
            "line": {
             "colorbar": {
              "outlinewidth": 0,
              "ticks": ""
             }
            },
            "type": "parcoords"
           }
          ],
          "pie": [
           {
            "automargin": true,
            "type": "pie"
           }
          ],
          "scatter": [
           {
            "marker": {
             "colorbar": {
              "outlinewidth": 0,
              "ticks": ""
             }
            },
            "type": "scatter"
           }
          ],
          "scatter3d": [
           {
            "line": {
             "colorbar": {
              "outlinewidth": 0,
              "ticks": ""
             }
            },
            "marker": {
             "colorbar": {
              "outlinewidth": 0,
              "ticks": ""
             }
            },
            "type": "scatter3d"
           }
          ],
          "scattercarpet": [
           {
            "marker": {
             "colorbar": {
              "outlinewidth": 0,
              "ticks": ""
             }
            },
            "type": "scattercarpet"
           }
          ],
          "scattergeo": [
           {
            "marker": {
             "colorbar": {
              "outlinewidth": 0,
              "ticks": ""
             }
            },
            "type": "scattergeo"
           }
          ],
          "scattergl": [
           {
            "marker": {
             "colorbar": {
              "outlinewidth": 0,
              "ticks": ""
             }
            },
            "type": "scattergl"
           }
          ],
          "scattermapbox": [
           {
            "marker": {
             "colorbar": {
              "outlinewidth": 0,
              "ticks": ""
             }
            },
            "type": "scattermapbox"
           }
          ],
          "scatterpolar": [
           {
            "marker": {
             "colorbar": {
              "outlinewidth": 0,
              "ticks": ""
             }
            },
            "type": "scatterpolar"
           }
          ],
          "scatterpolargl": [
           {
            "marker": {
             "colorbar": {
              "outlinewidth": 0,
              "ticks": ""
             }
            },
            "type": "scatterpolargl"
           }
          ],
          "scatterternary": [
           {
            "marker": {
             "colorbar": {
              "outlinewidth": 0,
              "ticks": ""
             }
            },
            "type": "scatterternary"
           }
          ],
          "surface": [
           {
            "colorbar": {
             "outlinewidth": 0,
             "ticks": ""
            },
            "colorscale": [
             [
              0,
              "#0d0887"
             ],
             [
              0.1111111111111111,
              "#46039f"
             ],
             [
              0.2222222222222222,
              "#7201a8"
             ],
             [
              0.3333333333333333,
              "#9c179e"
             ],
             [
              0.4444444444444444,
              "#bd3786"
             ],
             [
              0.5555555555555556,
              "#d8576b"
             ],
             [
              0.6666666666666666,
              "#ed7953"
             ],
             [
              0.7777777777777778,
              "#fb9f3a"
             ],
             [
              0.8888888888888888,
              "#fdca26"
             ],
             [
              1,
              "#f0f921"
             ]
            ],
            "type": "surface"
           }
          ],
          "table": [
           {
            "cells": {
             "fill": {
              "color": "#EBF0F8"
             },
             "line": {
              "color": "white"
             }
            },
            "header": {
             "fill": {
              "color": "#C8D4E3"
             },
             "line": {
              "color": "white"
             }
            },
            "type": "table"
           }
          ]
         },
         "layout": {
          "annotationdefaults": {
           "arrowcolor": "#2a3f5f",
           "arrowhead": 0,
           "arrowwidth": 1
          },
          "autotypenumbers": "strict",
          "coloraxis": {
           "colorbar": {
            "outlinewidth": 0,
            "ticks": ""
           }
          },
          "colorscale": {
           "diverging": [
            [
             0,
             "#8e0152"
            ],
            [
             0.1,
             "#c51b7d"
            ],
            [
             0.2,
             "#de77ae"
            ],
            [
             0.3,
             "#f1b6da"
            ],
            [
             0.4,
             "#fde0ef"
            ],
            [
             0.5,
             "#f7f7f7"
            ],
            [
             0.6,
             "#e6f5d0"
            ],
            [
             0.7,
             "#b8e186"
            ],
            [
             0.8,
             "#7fbc41"
            ],
            [
             0.9,
             "#4d9221"
            ],
            [
             1,
             "#276419"
            ]
           ],
           "sequential": [
            [
             0,
             "#0d0887"
            ],
            [
             0.1111111111111111,
             "#46039f"
            ],
            [
             0.2222222222222222,
             "#7201a8"
            ],
            [
             0.3333333333333333,
             "#9c179e"
            ],
            [
             0.4444444444444444,
             "#bd3786"
            ],
            [
             0.5555555555555556,
             "#d8576b"
            ],
            [
             0.6666666666666666,
             "#ed7953"
            ],
            [
             0.7777777777777778,
             "#fb9f3a"
            ],
            [
             0.8888888888888888,
             "#fdca26"
            ],
            [
             1,
             "#f0f921"
            ]
           ],
           "sequentialminus": [
            [
             0,
             "#0d0887"
            ],
            [
             0.1111111111111111,
             "#46039f"
            ],
            [
             0.2222222222222222,
             "#7201a8"
            ],
            [
             0.3333333333333333,
             "#9c179e"
            ],
            [
             0.4444444444444444,
             "#bd3786"
            ],
            [
             0.5555555555555556,
             "#d8576b"
            ],
            [
             0.6666666666666666,
             "#ed7953"
            ],
            [
             0.7777777777777778,
             "#fb9f3a"
            ],
            [
             0.8888888888888888,
             "#fdca26"
            ],
            [
             1,
             "#f0f921"
            ]
           ]
          },
          "colorway": [
           "#636efa",
           "#EF553B",
           "#00cc96",
           "#ab63fa",
           "#FFA15A",
           "#19d3f3",
           "#FF6692",
           "#B6E880",
           "#FF97FF",
           "#FECB52"
          ],
          "font": {
           "color": "#2a3f5f"
          },
          "geo": {
           "bgcolor": "white",
           "lakecolor": "white",
           "landcolor": "#E5ECF6",
           "showlakes": true,
           "showland": true,
           "subunitcolor": "white"
          },
          "hoverlabel": {
           "align": "left"
          },
          "hovermode": "closest",
          "mapbox": {
           "style": "light"
          },
          "paper_bgcolor": "white",
          "plot_bgcolor": "#E5ECF6",
          "polar": {
           "angularaxis": {
            "gridcolor": "white",
            "linecolor": "white",
            "ticks": ""
           },
           "bgcolor": "#E5ECF6",
           "radialaxis": {
            "gridcolor": "white",
            "linecolor": "white",
            "ticks": ""
           }
          },
          "scene": {
           "xaxis": {
            "backgroundcolor": "#E5ECF6",
            "gridcolor": "white",
            "gridwidth": 2,
            "linecolor": "white",
            "showbackground": true,
            "ticks": "",
            "zerolinecolor": "white"
           },
           "yaxis": {
            "backgroundcolor": "#E5ECF6",
            "gridcolor": "white",
            "gridwidth": 2,
            "linecolor": "white",
            "showbackground": true,
            "ticks": "",
            "zerolinecolor": "white"
           },
           "zaxis": {
            "backgroundcolor": "#E5ECF6",
            "gridcolor": "white",
            "gridwidth": 2,
            "linecolor": "white",
            "showbackground": true,
            "ticks": "",
            "zerolinecolor": "white"
           }
          },
          "shapedefaults": {
           "line": {
            "color": "#2a3f5f"
           }
          },
          "ternary": {
           "aaxis": {
            "gridcolor": "white",
            "linecolor": "white",
            "ticks": ""
           },
           "baxis": {
            "gridcolor": "white",
            "linecolor": "white",
            "ticks": ""
           },
           "bgcolor": "#E5ECF6",
           "caxis": {
            "gridcolor": "white",
            "linecolor": "white",
            "ticks": ""
           }
          },
          "title": {
           "x": 0.05
          },
          "xaxis": {
           "automargin": true,
           "gridcolor": "white",
           "linecolor": "white",
           "ticks": "",
           "title": {
            "standoff": 15
           },
           "zerolinecolor": "white",
           "zerolinewidth": 2
          },
          "yaxis": {
           "automargin": true,
           "gridcolor": "white",
           "linecolor": "white",
           "ticks": "",
           "title": {
            "standoff": 15
           },
           "zerolinecolor": "white",
           "zerolinewidth": 2
          }
         }
        },
        "width": 800
       }
      },
      "text/html": [
       "<div>                            <div id=\"fc9fe813-92bb-4528-b953-ff01806864df\" class=\"plotly-graph-div\" style=\"height:525px; width:800px;\"></div>            <script type=\"text/javascript\">                require([\"plotly\"], function(Plotly) {                    window.PLOTLYENV=window.PLOTLYENV || {};                                    if (document.getElementById(\"fc9fe813-92bb-4528-b953-ff01806864df\")) {                    Plotly.newPlot(                        \"fc9fe813-92bb-4528-b953-ff01806864df\",                        [{\"hovertemplate\": \"class=%{marker.color}<br>gdp=%{x}<br>alcohol_liperyear=%{y}<br>trust=%{z}<br>generosity=%{marker.size}<extra></extra>\", \"legendgroup\": \"1\", \"marker\": {\"color\": [1, 1, 1, 1, 1, 1, 1, 1, 1, 1, 1, 1, 1, 1, 1, 1, 1, 1, 1, 1, 1, 1, 1, 1, 1, 1, 1, 1, 1, 1, 1, 1, 1, 1, 1, 1, 1, 1, 1, 1, 1, 1, 1, 1], \"coloraxis\": \"coloraxis\", \"size\": [0.099, 0.127, 0.121, 0.117, 0.043, 0.099, 0.144, 0.2, 0.083, 0.19, 0.359, 0.075, 0.175, 0.103, 0.146, 0.081, 0.184, 0.047, 0.082, 0.117, 0.137, 0.23, 0.113, 0.094, 0.0, 0.244, 0.043, 0.348, 0.298, 0.261, 0.16, 0.046, 0.262, 0.074, 0.111, 0.081, 0.109, 0.252, 0.247, 0.233, 0.419, 0.331, 0.218, 0.566], \"sizemode\": \"area\", \"sizeref\": 0.0014149999999999998, \"symbol\": \"circle\"}, \"mode\": \"markers\", \"name\": \"1\", \"scene\": \"scene\", \"showlegend\": true, \"type\": \"scatter3d\", \"x\": [1.004, 1.124, 1.246, 1.206, 1.238, 0.985, 1.258, 0.694, 1.162, 1.263, 1.05, 1.187, 1.301, 1.237, 1.173, 1.201, 0.855, 1.221, 1.183, 0.807, 1.004, 0.493, 1.015, 1.067, 1.181, 1.052, 1.057, 1.333, 1.499, 1.373, 1.356, 1.269, 1.503, 1.07, 1.324, 1.092, 1.149, 0.268, 0.578, 0.073, 0.323, 0.619, 0.191, 0.71], \"y\": [19.3, 15.7, 16.6, 17.1, 18.9, 15.2, 17.7, 15.9, 18.8, 15.6, 20.3, 17.2, 16.0, 15.9, 19.2, 17.1, 20.1, 17.8, 20.1, 19.9, 18.5, 15.8, 16.0, 15.2, 15.9, 17.8, 17.2, 15.6, 16.0, 16.9, 15.9, 19.1, 20.5, 15.3, 16.7, 19.2, 16.5, 18.3, 17.7, 18.7, 16.5, 15.5, 15.5, 17.6], \"z\": [0.086, 0.15, 0.014, 0.05, 0.042, 0.034, 0.057, 0.127, 0.005, 0.041, 0.028, 0.064, 0.056, 0.161, 0.096, 0.02, 0.08, 0.025, 0.031, 0.107, 0.039, 0.144, 0.101, 0.142, 0.034, 0.028, 0.055, 0.278, 0.31, 0.265, 0.21, 0.036, 0.182, 0.073, 0.183, 0.004, 0.054, 0.045, 0.087, 0.033, 0.11, 0.141, 0.089, 0.172]}, {\"hovertemplate\": \"class=%{marker.color}<br>gdp=%{x}<br>alcohol_liperyear=%{y}<br>trust=%{z}<br>generosity=%{marker.size}<extra></extra>\", \"legendgroup\": \"2\", \"marker\": {\"color\": [2, 2, 2, 2, 2, 2, 2, 2, 2, 2, 2, 2, 2, 2, 2, 2, 2, 2, 2], \"coloraxis\": \"coloraxis\", \"size\": [0.271, 0.142, 0.26, 0.035, 0.498, 0.37, 0.153, 0.243, 0.188, 0.207, 0.106, 0.166, 0.153, 0.261, 0.08, 0.22, 0.285, 0.198, 0.212], \"sizemode\": \"area\", \"sizeref\": 0.0014149999999999998, \"symbol\": \"diamond\"}, \"mode\": \"markers\", \"name\": \"2\", \"scene\": \"scene\", \"showlegend\": true, \"type\": \"scatter3d\", \"x\": [1.572, 1.5, 1.221, 1.043, 0.931, 0.813, 0.45, 0.0, 0.138, 0.38, 0.57, 0.562, 0.385, 1.276, 1.403, 1.684, 0.446, 0.35, 0.094], \"y\": [2.9, 1.0, 3.1, 3.7, 3.4, 1.9, 3.5, 1.5, 2.5, 5.8, 3.8, 0.9, 5.7, 7.0, 3.8, 4.4, 7.4, 6.9, 7.1], \"z\": [0.453, 0.097, 0.024, 0.182, 0.028, 0.167, 0.072, 0.27, 0.102, 0.086, 0.088, 0.143, 0.052, 0.082, 0.132, 0.167, 0.089, 0.078, 0.053]}, {\"hovertemplate\": \"class=%{marker.color}<br>gdp=%{x}<br>alcohol_liperyear=%{y}<br>trust=%{z}<br>generosity=%{marker.size}<extra></extra>\", \"legendgroup\": \"0\", \"marker\": {\"color\": [0, 0, 0, 0, 0, 0, 0, 0, 0, 0, 0, 0, 0, 0, 0, 0, 0, 0, 0, 0, 0, 0, 0, 0, 0, 0, 0, 0, 0, 0, 0, 0, 0, 0, 0, 0, 0, 0, 0, 0, 0, 0, 0, 0, 0, 0, 0, 0, 0, 0, 0, 0], \"coloraxis\": \"coloraxis\", \"size\": [0.093, 0.158, 0.322, 0.066, 0.126, 0.107, 0.215, 0.069, 0.246, 0.137, 0.083, 0.142, 0.119, 0.263, 0.058, 0.175, 0.178, 0.064, 0.269, 0.372, 0.197, 0.148, 0.153, 0.252, 0.271, 0.354, 0.322, 0.263, 0.267, 0.33, 0.285, 0.244, 0.332, 0.144, 0.194, 0.28, 0.375, 0.187, 0.175, 0.245, 0.153, 0.244, 0.187, 0.209, 0.076, 0.177, 0.2, 0.169, 0.108, 0.235, 0.105, 0.185], \"sizemode\": \"area\", \"sizeref\": 0.0014149999999999998, \"symbol\": \"square\"}, \"mode\": \"markers\", \"name\": \"0\", \"scene\": \"scene\", \"showlegend\": true, \"type\": \"scatter3d\", \"x\": [0.794, 1.294, 0.745, 1.092, 0.912, 0.831, 1.12, 1.327, 0.642, 0.776, 0.96, 1.051, 1.155, 0.945, 1.029, 0.393, 0.947, 0.96, 0.308, 0.512, 0.204, 1.043, 1.34, 1.383, 1.488, 1.38, 1.396, 1.452, 1.387, 1.303, 1.365, 1.376, 1.372, 1.034, 1.609, 1.433, 1.3, 1.159, 0.8, 0.611, 1.286, 0.949, 0.82, 0.336, 0.913, 0.275, 0.755, 0.274, 0.287, 0.026, 0.673, 1.231], \"y\": [12.8, 12.0, 12.8, 14.6, 9.5, 11.9, 11.5, 14.1, 13.5, 10.5, 11.8, 14.8, 15.0, 13.4, 12.9, 11.6, 14.6, 14.9, 14.1, 14.1, 11.4, 12.4, 14.8, 13.9, 9.4, 12.8, 12.0, 14.2, 12.5, 14.3, 13.8, 14.9, 13.4, 13.0, 14.1, 13.7, 12.8, 13.7, 9.0, 10.2, 14.6, 14.9, 13.8, 12.6, 14.3, 12.0, 14.6, 9.2, 9.4, 8.8, 15.1, 14.2], \"z\": [0.074, 0.03, 0.24, 0.05, 0.087, 0.028, 0.06, 0.14, 0.078, 0.064, 0.027, 0.08, 0.022, 0.006, 0.1, 0.082, 0.027, 0.047, 0.167, 0.053, 0.138, 0.089, 0.393, 0.41, 0.341, 0.118, 0.298, 0.343, 0.373, 0.38, 0.308, 0.226, 0.29, 0.093, 0.316, 0.128, 0.151, 0.056, 0.078, 0.04, 0.079, 0.047, 0.01, 0.1, 0.067, 0.085, 0.085, 0.041, 0.077, 0.035, 0.093, 0.016]}, {\"hovertemplate\": \"class=%{marker.color}<br>gdp=%{x}<br>alcohol_liperyear=%{y}<br>trust=%{z}<br>generosity=%{marker.size}<extra></extra>\", \"legendgroup\": \"4\", \"marker\": {\"color\": [4, 4, 4, 4, 4, 4, 4, 4, 4, 4, 4, 4, 4, 4, 4, 4, 4, 4, 4, 4, 4, 4, 4, 4], \"coloraxis\": \"coloraxis\", \"size\": [0.255, 0.22, 0.181, 0.133, 0.235, 0.215, 0.3, 0.036, 0.166, 0.147, 0.11, 0.266, 0.232, 0.177, 0.095, 0.187, 0.252, 0.275, 0.176, 0.151, 0.025, 0.217, 0.276, 0.154], \"sizemode\": \"area\", \"sizeref\": 0.0014149999999999998, \"symbol\": \"x\"}, \"mode\": \"markers\", \"name\": \"4\", \"scene\": \"scene\", \"showlegend\": true, \"type\": \"scatter3d\", \"x\": [1.362, 0.677, 0.685, 1.044, 0.948, 0.696, 0.551, 0.801, 0.987, 0.741, 0.837, 0.764, 0.574, 0.331, 0.85, 0.549, 0.332, 0.274, 0.046, 0.366, 1.041, 0.359, 0.476, 0.569], \"y\": [22.1, 26.0, 22.8, 26.4, 21.9, 25.5, 24.0, 24.5, 25.0, 22.8, 24.6, 25.9, 21.7, 22.2, 21.3, 22.6, 26.0, 22.3, 23.7, 27.2, 26.2, 25.6, 25.8, 21.7], \"z\": [0.11, 0.098, 0.0, 0.152, 0.038, 0.041, 0.023, 0.076, 0.027, 0.073, 0.13, 0.164, 0.062, 0.113, 0.064, 0.037, 0.06, 0.078, 0.18, 0.089, 0.1, 0.411, 0.147, 0.09]}, {\"hovertemplate\": \"class=%{marker.color}<br>gdp=%{x}<br>alcohol_liperyear=%{y}<br>trust=%{z}<br>generosity=%{marker.size}<extra></extra>\", \"legendgroup\": \"3\", \"marker\": {\"color\": [3, 3, 3, 3, 3, 3, 3, 3, 3, 3], \"coloraxis\": \"coloraxis\", \"size\": [0.083, 0.073, 0.13, 0.07, 0.27, 0.043, 0.059, 0.074, 0.107, 0.158], \"sizemode\": \"area\", \"sizeref\": 0.0014149999999999998, \"symbol\": \"cross\"}, \"mode\": \"markers\", \"name\": \"3\", \"scene\": \"scene\", \"showlegend\": true, \"type\": \"scatter3d\", \"x\": [1.183, 1.002, 0.96, 0.879, 1.1, 0.886, 0.921, 0.811, 0.489, 0.35], \"y\": [28.5, 29.1, 29.9, 32.4, 28.4, 27.9, 36.6, 34.4, 28.2, 33.5], \"z\": [0.106, 0.114, 0.055, 0.056, 0.125, 0.164, 0.055, 0.135, 0.093, 0.025]}],                        {\"coloraxis\": {\"colorbar\": {\"title\": {\"text\": \"class\"}}, \"colorscale\": [[0.0, \"#0d0887\"], [0.1111111111111111, \"#46039f\"], [0.2222222222222222, \"#7201a8\"], [0.3333333333333333, \"#9c179e\"], [0.4444444444444444, \"#bd3786\"], [0.5555555555555556, \"#d8576b\"], [0.6666666666666666, \"#ed7953\"], [0.7777777777777778, \"#fb9f3a\"], [0.8888888888888888, \"#fdca26\"], [1.0, \"#f0f921\"]]}, \"legend\": {\"itemsizing\": \"constant\", \"title\": {\"text\": \"class\"}, \"tracegroupgap\": 0, \"x\": 0, \"y\": 1}, \"margin\": {\"t\": 60}, \"scene\": {\"domain\": {\"x\": [0.0, 1.0], \"y\": [0.0, 1.0]}, \"xaxis\": {\"title\": {\"text\": \"gdp\"}}, \"yaxis\": {\"title\": {\"text\": \"alcohol_liperyear\"}}, \"zaxis\": {\"title\": {\"text\": \"trust\"}}}, \"template\": {\"data\": {\"bar\": [{\"error_x\": {\"color\": \"#2a3f5f\"}, \"error_y\": {\"color\": \"#2a3f5f\"}, \"marker\": {\"line\": {\"color\": \"#E5ECF6\", \"width\": 0.5}}, \"type\": \"bar\"}], \"barpolar\": [{\"marker\": {\"line\": {\"color\": \"#E5ECF6\", \"width\": 0.5}}, \"type\": \"barpolar\"}], \"carpet\": [{\"aaxis\": {\"endlinecolor\": \"#2a3f5f\", \"gridcolor\": \"white\", \"linecolor\": \"white\", \"minorgridcolor\": \"white\", \"startlinecolor\": \"#2a3f5f\"}, \"baxis\": {\"endlinecolor\": \"#2a3f5f\", \"gridcolor\": \"white\", \"linecolor\": \"white\", \"minorgridcolor\": \"white\", \"startlinecolor\": \"#2a3f5f\"}, \"type\": \"carpet\"}], \"choropleth\": [{\"colorbar\": {\"outlinewidth\": 0, \"ticks\": \"\"}, \"type\": \"choropleth\"}], \"contour\": [{\"colorbar\": {\"outlinewidth\": 0, \"ticks\": \"\"}, \"colorscale\": [[0.0, \"#0d0887\"], [0.1111111111111111, \"#46039f\"], [0.2222222222222222, \"#7201a8\"], [0.3333333333333333, \"#9c179e\"], [0.4444444444444444, \"#bd3786\"], [0.5555555555555556, \"#d8576b\"], [0.6666666666666666, \"#ed7953\"], [0.7777777777777778, \"#fb9f3a\"], [0.8888888888888888, \"#fdca26\"], [1.0, \"#f0f921\"]], \"type\": \"contour\"}], \"contourcarpet\": [{\"colorbar\": {\"outlinewidth\": 0, \"ticks\": \"\"}, \"type\": \"contourcarpet\"}], \"heatmap\": [{\"colorbar\": {\"outlinewidth\": 0, \"ticks\": \"\"}, \"colorscale\": [[0.0, \"#0d0887\"], [0.1111111111111111, \"#46039f\"], [0.2222222222222222, \"#7201a8\"], [0.3333333333333333, \"#9c179e\"], [0.4444444444444444, \"#bd3786\"], [0.5555555555555556, \"#d8576b\"], [0.6666666666666666, \"#ed7953\"], [0.7777777777777778, \"#fb9f3a\"], [0.8888888888888888, \"#fdca26\"], [1.0, \"#f0f921\"]], \"type\": \"heatmap\"}], \"heatmapgl\": [{\"colorbar\": {\"outlinewidth\": 0, \"ticks\": \"\"}, \"colorscale\": [[0.0, \"#0d0887\"], [0.1111111111111111, \"#46039f\"], [0.2222222222222222, \"#7201a8\"], [0.3333333333333333, \"#9c179e\"], [0.4444444444444444, \"#bd3786\"], [0.5555555555555556, \"#d8576b\"], [0.6666666666666666, \"#ed7953\"], [0.7777777777777778, \"#fb9f3a\"], [0.8888888888888888, \"#fdca26\"], [1.0, \"#f0f921\"]], \"type\": \"heatmapgl\"}], \"histogram\": [{\"marker\": {\"colorbar\": {\"outlinewidth\": 0, \"ticks\": \"\"}}, \"type\": \"histogram\"}], \"histogram2d\": [{\"colorbar\": {\"outlinewidth\": 0, \"ticks\": \"\"}, \"colorscale\": [[0.0, \"#0d0887\"], [0.1111111111111111, \"#46039f\"], [0.2222222222222222, \"#7201a8\"], [0.3333333333333333, \"#9c179e\"], [0.4444444444444444, \"#bd3786\"], [0.5555555555555556, \"#d8576b\"], [0.6666666666666666, \"#ed7953\"], [0.7777777777777778, \"#fb9f3a\"], [0.8888888888888888, \"#fdca26\"], [1.0, \"#f0f921\"]], \"type\": \"histogram2d\"}], \"histogram2dcontour\": [{\"colorbar\": {\"outlinewidth\": 0, \"ticks\": \"\"}, \"colorscale\": [[0.0, \"#0d0887\"], [0.1111111111111111, \"#46039f\"], [0.2222222222222222, \"#7201a8\"], [0.3333333333333333, \"#9c179e\"], [0.4444444444444444, \"#bd3786\"], [0.5555555555555556, \"#d8576b\"], [0.6666666666666666, \"#ed7953\"], [0.7777777777777778, \"#fb9f3a\"], [0.8888888888888888, \"#fdca26\"], [1.0, \"#f0f921\"]], \"type\": \"histogram2dcontour\"}], \"mesh3d\": [{\"colorbar\": {\"outlinewidth\": 0, \"ticks\": \"\"}, \"type\": \"mesh3d\"}], \"parcoords\": [{\"line\": {\"colorbar\": {\"outlinewidth\": 0, \"ticks\": \"\"}}, \"type\": \"parcoords\"}], \"pie\": [{\"automargin\": true, \"type\": \"pie\"}], \"scatter\": [{\"marker\": {\"colorbar\": {\"outlinewidth\": 0, \"ticks\": \"\"}}, \"type\": \"scatter\"}], \"scatter3d\": [{\"line\": {\"colorbar\": {\"outlinewidth\": 0, \"ticks\": \"\"}}, \"marker\": {\"colorbar\": {\"outlinewidth\": 0, \"ticks\": \"\"}}, \"type\": \"scatter3d\"}], \"scattercarpet\": [{\"marker\": {\"colorbar\": {\"outlinewidth\": 0, \"ticks\": \"\"}}, \"type\": \"scattercarpet\"}], \"scattergeo\": [{\"marker\": {\"colorbar\": {\"outlinewidth\": 0, \"ticks\": \"\"}}, \"type\": \"scattergeo\"}], \"scattergl\": [{\"marker\": {\"colorbar\": {\"outlinewidth\": 0, \"ticks\": \"\"}}, \"type\": \"scattergl\"}], \"scattermapbox\": [{\"marker\": {\"colorbar\": {\"outlinewidth\": 0, \"ticks\": \"\"}}, \"type\": \"scattermapbox\"}], \"scatterpolar\": [{\"marker\": {\"colorbar\": {\"outlinewidth\": 0, \"ticks\": \"\"}}, \"type\": \"scatterpolar\"}], \"scatterpolargl\": [{\"marker\": {\"colorbar\": {\"outlinewidth\": 0, \"ticks\": \"\"}}, \"type\": \"scatterpolargl\"}], \"scatterternary\": [{\"marker\": {\"colorbar\": {\"outlinewidth\": 0, \"ticks\": \"\"}}, \"type\": \"scatterternary\"}], \"surface\": [{\"colorbar\": {\"outlinewidth\": 0, \"ticks\": \"\"}, \"colorscale\": [[0.0, \"#0d0887\"], [0.1111111111111111, \"#46039f\"], [0.2222222222222222, \"#7201a8\"], [0.3333333333333333, \"#9c179e\"], [0.4444444444444444, \"#bd3786\"], [0.5555555555555556, \"#d8576b\"], [0.6666666666666666, \"#ed7953\"], [0.7777777777777778, \"#fb9f3a\"], [0.8888888888888888, \"#fdca26\"], [1.0, \"#f0f921\"]], \"type\": \"surface\"}], \"table\": [{\"cells\": {\"fill\": {\"color\": \"#EBF0F8\"}, \"line\": {\"color\": \"white\"}}, \"header\": {\"fill\": {\"color\": \"#C8D4E3\"}, \"line\": {\"color\": \"white\"}}, \"type\": \"table\"}]}, \"layout\": {\"annotationdefaults\": {\"arrowcolor\": \"#2a3f5f\", \"arrowhead\": 0, \"arrowwidth\": 1}, \"autotypenumbers\": \"strict\", \"coloraxis\": {\"colorbar\": {\"outlinewidth\": 0, \"ticks\": \"\"}}, \"colorscale\": {\"diverging\": [[0, \"#8e0152\"], [0.1, \"#c51b7d\"], [0.2, \"#de77ae\"], [0.3, \"#f1b6da\"], [0.4, \"#fde0ef\"], [0.5, \"#f7f7f7\"], [0.6, \"#e6f5d0\"], [0.7, \"#b8e186\"], [0.8, \"#7fbc41\"], [0.9, \"#4d9221\"], [1, \"#276419\"]], \"sequential\": [[0.0, \"#0d0887\"], [0.1111111111111111, \"#46039f\"], [0.2222222222222222, \"#7201a8\"], [0.3333333333333333, \"#9c179e\"], [0.4444444444444444, \"#bd3786\"], [0.5555555555555556, \"#d8576b\"], [0.6666666666666666, \"#ed7953\"], [0.7777777777777778, \"#fb9f3a\"], [0.8888888888888888, \"#fdca26\"], [1.0, \"#f0f921\"]], \"sequentialminus\": [[0.0, \"#0d0887\"], [0.1111111111111111, \"#46039f\"], [0.2222222222222222, \"#7201a8\"], [0.3333333333333333, \"#9c179e\"], [0.4444444444444444, \"#bd3786\"], [0.5555555555555556, \"#d8576b\"], [0.6666666666666666, \"#ed7953\"], [0.7777777777777778, \"#fb9f3a\"], [0.8888888888888888, \"#fdca26\"], [1.0, \"#f0f921\"]]}, \"colorway\": [\"#636efa\", \"#EF553B\", \"#00cc96\", \"#ab63fa\", \"#FFA15A\", \"#19d3f3\", \"#FF6692\", \"#B6E880\", \"#FF97FF\", \"#FECB52\"], \"font\": {\"color\": \"#2a3f5f\"}, \"geo\": {\"bgcolor\": \"white\", \"lakecolor\": \"white\", \"landcolor\": \"#E5ECF6\", \"showlakes\": true, \"showland\": true, \"subunitcolor\": \"white\"}, \"hoverlabel\": {\"align\": \"left\"}, \"hovermode\": \"closest\", \"mapbox\": {\"style\": \"light\"}, \"paper_bgcolor\": \"white\", \"plot_bgcolor\": \"#E5ECF6\", \"polar\": {\"angularaxis\": {\"gridcolor\": \"white\", \"linecolor\": \"white\", \"ticks\": \"\"}, \"bgcolor\": \"#E5ECF6\", \"radialaxis\": {\"gridcolor\": \"white\", \"linecolor\": \"white\", \"ticks\": \"\"}}, \"scene\": {\"xaxis\": {\"backgroundcolor\": \"#E5ECF6\", \"gridcolor\": \"white\", \"gridwidth\": 2, \"linecolor\": \"white\", \"showbackground\": true, \"ticks\": \"\", \"zerolinecolor\": \"white\"}, \"yaxis\": {\"backgroundcolor\": \"#E5ECF6\", \"gridcolor\": \"white\", \"gridwidth\": 2, \"linecolor\": \"white\", \"showbackground\": true, \"ticks\": \"\", \"zerolinecolor\": \"white\"}, \"zaxis\": {\"backgroundcolor\": \"#E5ECF6\", \"gridcolor\": \"white\", \"gridwidth\": 2, \"linecolor\": \"white\", \"showbackground\": true, \"ticks\": \"\", \"zerolinecolor\": \"white\"}}, \"shapedefaults\": {\"line\": {\"color\": \"#2a3f5f\"}}, \"ternary\": {\"aaxis\": {\"gridcolor\": \"white\", \"linecolor\": \"white\", \"ticks\": \"\"}, \"baxis\": {\"gridcolor\": \"white\", \"linecolor\": \"white\", \"ticks\": \"\"}, \"bgcolor\": \"#E5ECF6\", \"caxis\": {\"gridcolor\": \"white\", \"linecolor\": \"white\", \"ticks\": \"\"}}, \"title\": {\"x\": 0.05}, \"xaxis\": {\"automargin\": true, \"gridcolor\": \"white\", \"linecolor\": \"white\", \"ticks\": \"\", \"title\": {\"standoff\": 15}, \"zerolinecolor\": \"white\", \"zerolinewidth\": 2}, \"yaxis\": {\"automargin\": true, \"gridcolor\": \"white\", \"linecolor\": \"white\", \"ticks\": \"\", \"title\": {\"standoff\": 15}, \"zerolinecolor\": \"white\", \"zerolinewidth\": 2}}}, \"width\": 800},                        {\"responsive\": true}                    ).then(function(){\n",
       "                            \n",
       "var gd = document.getElementById('fc9fe813-92bb-4528-b953-ff01806864df');\n",
       "var x = new MutationObserver(function (mutations, observer) {{\n",
       "        var display = window.getComputedStyle(gd).display;\n",
       "        if (!display || display === 'none') {{\n",
       "            console.log([gd, 'removed!']);\n",
       "            Plotly.purge(gd);\n",
       "            observer.disconnect();\n",
       "        }}\n",
       "}});\n",
       "\n",
       "// Listen for the removal of the full notebook cells\n",
       "var notebookContainer = gd.closest('#notebook-container');\n",
       "if (notebookContainer) {{\n",
       "    x.observe(notebookContainer, {childList: true});\n",
       "}}\n",
       "\n",
       "// Listen for the clearing of the current output cell\n",
       "var outputEl = gd.closest('.output');\n",
       "if (outputEl) {{\n",
       "    x.observe(outputEl, {childList: true});\n",
       "}}\n",
       "\n",
       "                        })                };                });            </script>        </div>"
      ]
     },
     "metadata": {},
     "output_type": "display_data"
    }
   ],
   "source": [
    "# Plotting the clusters with three features\n",
    "fig = px.scatter_3d(df_2019, x=\"gdp\", y=\"alcohol_liperyear\", z=\"trust\", color=\"class\", symbol=\"class\", size=\"generosity\",width=800)\n",
    "fig.update_layout(legend=dict(x=0,y=1))\n",
    "fig.show()"
   ]
  },
  {
   "cell_type": "markdown",
   "id": "712d0196",
   "metadata": {},
   "source": [
    "### Trial and Error"
   ]
  },
  {
   "cell_type": "code",
   "execution_count": 47,
   "id": "fb77f5b7",
   "metadata": {},
   "outputs": [
    {
     "data": {},
     "metadata": {},
     "output_type": "display_data"
    },
    {
     "data": {
      "application/vnd.holoviews_exec.v0+json": "",
      "text/html": [
       "<div id='3232'>\n",
       "\n",
       "\n",
       "\n",
       "\n",
       "\n",
       "  <div class=\"bk-root\" id=\"7f62fc33-9d72-4bff-9526-42b6190f0bcd\" data-root-id=\"3232\"></div>\n",
       "</div>\n",
       "<script type=\"application/javascript\">(function(root) {\n",
       "  function embed_document(root) {\n",
       "    var docs_json = {\"268e021e-f2e1-49d9-80df-7c2864d70da1\":{\"defs\":[{\"extends\":null,\"module\":null,\"name\":\"ReactiveHTML1\",\"overrides\":[],\"properties\":[]},{\"extends\":null,\"module\":null,\"name\":\"FlexBox1\",\"overrides\":[],\"properties\":[{\"default\":\"flex-start\",\"kind\":null,\"name\":\"align_content\"},{\"default\":\"flex-start\",\"kind\":null,\"name\":\"align_items\"},{\"default\":\"row\",\"kind\":null,\"name\":\"flex_direction\"},{\"default\":\"wrap\",\"kind\":null,\"name\":\"flex_wrap\"},{\"default\":\"flex-start\",\"kind\":null,\"name\":\"justify_content\"}]},{\"extends\":null,\"module\":null,\"name\":\"TemplateActions1\",\"overrides\":[],\"properties\":[{\"default\":0,\"kind\":null,\"name\":\"open_modal\"},{\"default\":0,\"kind\":null,\"name\":\"close_modal\"}]},{\"extends\":null,\"module\":null,\"name\":\"MaterialTemplateActions1\",\"overrides\":[],\"properties\":[{\"default\":0,\"kind\":null,\"name\":\"open_modal\"},{\"default\":0,\"kind\":null,\"name\":\"close_modal\"}]}],\"roots\":{\"references\":[{\"attributes\":{\"axis_label\":\"gdp\",\"formatter\":{\"id\":\"3278\"},\"major_label_policy\":{\"id\":\"3276\"},\"ticker\":{\"id\":\"3247\"}},\"id\":\"3246\",\"type\":\"LinearAxis\"},{\"attributes\":{},\"id\":\"3258\",\"type\":\"ResetTool\"},{\"attributes\":{\"axis\":{\"id\":\"3250\"},\"dimension\":1,\"grid_line_color\":null,\"ticker\":null},\"id\":\"3253\",\"type\":\"Grid\"},{\"attributes\":{\"angle\":{\"value\":0.0},\"fill_alpha\":{\"value\":1.0},\"fill_color\":{\"value\":\"#30a2da\"},\"hatch_alpha\":{\"value\":1.0},\"hatch_color\":{\"value\":\"black\"},\"hatch_scale\":{\"value\":12.0},\"hatch_weight\":{\"value\":1.0},\"line_alpha\":{\"value\":1.0},\"line_cap\":{\"value\":\"butt\"},\"line_color\":{\"value\":\"#30a2da\"},\"line_dash\":{\"value\":[]},\"line_dash_offset\":{\"value\":0},\"line_join\":{\"value\":\"bevel\"},\"line_width\":{\"value\":1},\"marker\":{\"value\":\"circle\"},\"size\":{\"value\":5.477225575051661},\"x\":{\"field\":\"gdp\"},\"y\":{\"field\":\"family\"}},\"id\":\"3275\",\"type\":\"Scatter\"},{\"attributes\":{\"end\":1.7561714285714285,\"reset_end\":1.7561714285714285,\"reset_start\":-0.07217142857142857,\"start\":-0.07217142857142857,\"tags\":[[[\"gdp\",\"gdp\",null]]]},\"id\":\"3234\",\"type\":\"Range1d\"},{\"attributes\":{},\"id\":\"3279\",\"type\":\"AllLabels\"},{\"attributes\":{},\"id\":\"3256\",\"type\":\"WheelZoomTool\"},{\"attributes\":{},\"id\":\"3244\",\"type\":\"LinearScale\"},{\"attributes\":{\"axis\":{\"id\":\"3246\"},\"grid_line_color\":null,\"ticker\":null},\"id\":\"3249\",\"type\":\"Grid\"},{\"attributes\":{\"data\":{\"family\":{\"__ndarray__\":\"oBov3SQG9z9xPQrXo3D3P5zEILByaPc/rBxaZDvf8z8CK4cW2c73PxfZzvdT4/U/qvHSTWIQ+D81XrpJDAL3PxBYObTIdvg/PQrXo3A9+D+PwvUoXI/2P5HtfD81Xvg/MzMzMzMz9T+28/3UeOn2P4PAyqFFtvM/xSCwcmiR8z/LoUW28/30P7TIdr6fGvU/JQaBlUOL9j9xPQrXo3D3Pxsv3SQGgfM/ppvEILBy+D/ZzvdT46X3PzvfT42XbvY/TmIQWDm09j8tsp3vp8bzP1TjpZvEIPg/8tJNYhBY8z+PwvUoXI/2P5qZmZmZmfc//Knx0k1i9D9MN4lBYOX2PycxCKwcWuw/CKwcWmQ79z/jpZvEILD0P1TjpZvEIPY/c2iR7Xw/9T8MAiuHFtn0Py2yne+nxvU/xSCwcmiR8T+oxks3iUH0P9Ei2/l+avY/MQisHFpk8z/D9Shcj8L1PyPb+X5qvPI/cT0K16Nw9z/l0CLb+X7yP+XQItv5fvg/LbKd76fG8T81XrpJDAL3P8/3U+Olm/g/j8L1KFyP8j+gGi/dJAbpPycxCKwcWvI/L90kBoGV8z9zaJHtfD/zPwAAAAAAAPI/8KfGSzeJ9T+JQWDl0CL1P5qZmZmZmfM/K4cW2c732z8hsHJoke3yP3sUrkfhevA/BFYOLbKd9T+JQWDl0CLrP6JFtvP91PY/wcqhRbbz8T++nxov3STyP7x0kxgEVuY/NV66SQwC9T/4U+Olm8ToP0w3iUFg5fA/4XoUrkfh8D+LbOf7qfHqP7pJDAIrh+o/HVpkO99P5T8/NV66SQzuP9v5fmq8dO8/eekmMQis8j9aZDvfT43vPwAAAAAAAPA/GQRWDi2y7T9cj8L1KFzvP65H4XoUrvE/MQisHFpk+T9eukkMAiv5Px1aZDvfT/k/lkOLbOf7+T8nMQisHFr4P9Ei2/l+avg/mG4Sg8DK9z+28/3UeOn4PxSuR+F6FPg/mpmZmZmZ9z/4U+Olm8T4P3WTGARWDvc/SOF6FK5H9z9Ei2zn+6n3P8/3U+Olm/g/DAIrhxbZ+D/dJAaBlUP3P6rx0k1iEPg/HVpkO99P9z+YbhKDwMr3P/YoXI/C9fQ/UrgehetR+D9eukkMAiv1P1pkO99Pjfc/gZVDi2zn9T/n+6nx0k30P4PAyqFFtvU/NV66SQwC9T8fhetRuB7tP2iR7Xw/Nfg/LbKd76fG6z8EVg4tsp3zP1g5tMh2vvc/30+Nl24S9z+28/3UeOnqPz0K16NwPfQ/UI2XbhKD6D89CtejcD32P7pJDAIrh/A//Knx0k1i8j+0yHa+nxrxPzm0yHa+n/A/IbByaJHt8D/n+6nx0k3iP3sUrkfheug/Gy/dJAaB7T/TTWIQWDnoPx1aZDvfT+0/TmIQWDm08j/P91PjpZvcP23n+6nx0vE/arx0kxgE5j9SuB6F61HyP/7UeOkmMdg/7FG4HoXr4T/P91PjpZvyP42XbhKDwOY/UrgehetR7D8lBoGVQ4vgPwAAAAAAAAAAxSCwcmiR6T8AAAAAAADyP0Jg5dAi2+k/TDeJQWDl8j9vEoPAyqH3Pw==\",\"dtype\":\"float64\",\"order\":\"little\",\"shape\":[149]},\"gdp\":{\"__ndarray__\":\"qvHSTWIQ8D+WQ4ts5/vxP/T91HjpJvk/nMQgsHJo6T9OYhBYObT0P5huEoPAyvU/Vg4tsp3v8z+yne+nxkvzP9ejcD0K1+c/AiuHFtnO8z+F61G4HoXvP1TjpZvEIPQ/aJHtfD815j9GtvP91HjxP2Q730+Nl/I/aJHtfD819D/Jdr6fGi/tPwAAAAAAAPg/zczMzMzM8D/LoUW28/3yPzeJQWDl0PQ/mG4Sg8DK8z9kO99PjZfqP+xRuB6F6/E/CKwcWmQ79T8lBoGVQ4vkP/hT46WbxPI/okW28/3U6D+e76fGSzfzP1yPwvUoXOs/uB6F61G47j/wp8ZLN4nzP0SLbOf7qeU/IbByaJHt8j9t5/up8dLpP6rx0k1iEPA/7FG4HoXr5T9OYhBYObTwPzeJQWDl0PA/WmQ730+N3z97FK5H4XryPz0K16NwPfA/PQrXo3A97j8hsHJoke3yP/Cnxks3ifM/30+Nl24S8T9MN4lBYOXyP7x0kxgEVu4/EoPAyqFF5j9vEoPAyqHhP6JFtvP91PA/1XjpJjEI8D9vEoPAyqHpP+Olm8QgsPA/L90kBoGV7z+YbhKDwMrtPxBYObTIdvA/g8DKoUW25z9qvHSTGATqP2IQWDm0yOo/9P3UeOkm2T+28/3UeOnwP6abxCCwcug/uB6F61G47j/n+6nx0k3uP7gehetRuO4/ke18PzVe4j/NzMzMzMzcPwAAAAAAAAAAVOOlm8Qg7D9Ei2zn+6nBP8l2vp8aL9U/MzMzMzMz6z+amZmZmZnxP1K4HoXrUdg/JzEIrBxa7D+DwMqhRbbTP/yp8dJNYuA/PQrXo3A94j/pJjEIrBzKP0a28/3UeO0/lkOLbOf74T/jpZvEILDwP6RwPQrXo9g/cT0K16Nw9T9U46WbxCD2PwIrhxbZzvc/FK5H4XoU9j+8dJMYBFb2PwisHFpkO/c//tR46SYx9j8MAiuHFtn0P9ejcD0K1/U/arx0kxgE9j/ByqFFtvP1PyUGgZVDi/A/0SLb+X5q9D9YObTIdr75P4cW2c73U/U/lkOLbOf79z8rhxbZzvf1PxkEVg4tsvU/IbByaJHt9j/n+6nx0k30Pz81XrpJDPg/zczMzMzM9D8fhetRuB7xP8l2vp8aL/U/JQaBlUOL8j+amZmZmZnpP6abxCCwcvY/i2zn+6nx+j/FILByaJHhP0a28/3UePE/WmQ730+N4z8lBoGVQ4vcP/p+arx0k/Q//Knx0k1i8j/0/dR46SbRP5HtfD81Xu4/ZmZmZmZm1j89CtejcD3qPxsv3SQGgdU/wcqhRbbz6T9zaJHtfD/VP57vp8ZLN+0/5dAi2/l+4j+amZmZmZnRPylcj8L1KOg/46WbxCCwsj/wp8ZLN4nRP/Cnxks3idE/sp3vp8ZL3z9aZDvfT42nPwaBlUOLbNc/eekmMQis1D8OLbKd76fwPwIrhxbZzuM/ppvEILByyD+R7Xw/NV7SP2Dl0CLb+dY/EFg5tMh23j9mZmZmZmbWPzm0yHa+n5o/8KfGSzeJ5T+q8dJNYhC4P2iR7Xw/NeI/uB6F61G45j8ZBFYOLbLzPw==\",\"dtype\":\"float64\",\"order\":\"little\",\"shape\":[149]}},\"selected\":{\"id\":\"3268\"},\"selection_policy\":{\"id\":\"3289\"}},\"id\":\"3267\",\"type\":\"ColumnDataSource\"},{\"attributes\":{},\"id\":\"3247\",\"type\":\"BasicTicker\"},{\"attributes\":{\"below\":[{\"id\":\"3246\"}],\"center\":[{\"id\":\"3249\"},{\"id\":\"3253\"}],\"height\":300,\"left\":[{\"id\":\"3250\"}],\"margin\":[5,5,5,5],\"min_border_bottom\":10,\"min_border_left\":10,\"min_border_right\":10,\"min_border_top\":10,\"renderers\":[{\"id\":\"3273\"}],\"sizing_mode\":\"fixed\",\"title\":{\"id\":\"3238\"},\"toolbar\":{\"id\":\"3260\"},\"width\":700,\"x_range\":{\"id\":\"3234\"},\"x_scale\":{\"id\":\"3242\"},\"y_range\":{\"id\":\"3235\"},\"y_scale\":{\"id\":\"3244\"}},\"id\":\"3237\",\"subtype\":\"Figure\",\"type\":\"Plot\"},{\"attributes\":{\"axis_label\":\"family\",\"formatter\":{\"id\":\"3281\"},\"major_label_policy\":{\"id\":\"3279\"},\"ticker\":{\"id\":\"3251\"}},\"id\":\"3250\",\"type\":\"LinearAxis\"},{\"attributes\":{},\"id\":\"3289\",\"type\":\"UnionRenderers\"},{\"attributes\":{},\"id\":\"3251\",\"type\":\"BasicTicker\"},{\"attributes\":{\"margin\":[5,5,5,5],\"name\":\"HSpacer06536\",\"sizing_mode\":\"stretch_width\"},\"id\":\"3302\",\"type\":\"Spacer\"},{\"attributes\":{\"fill_alpha\":{\"value\":0.2},\"fill_color\":{\"value\":\"#30a2da\"},\"line_alpha\":{\"value\":0.2},\"line_color\":{\"value\":\"#30a2da\"},\"size\":{\"value\":5.477225575051661},\"x\":{\"field\":\"gdp\"},\"y\":{\"field\":\"family\"}},\"id\":\"3272\",\"type\":\"Scatter\"},{\"attributes\":{\"end\":1.7864000000000002,\"reset_end\":1.7864000000000002,\"reset_start\":-0.16240000000000002,\"start\":-0.16240000000000002,\"tags\":[[[\"family\",\"family\",null]]]},\"id\":\"3235\",\"type\":\"Range1d\"},{\"attributes\":{\"bottom_units\":\"screen\",\"fill_alpha\":0.5,\"fill_color\":\"lightgrey\",\"left_units\":\"screen\",\"level\":\"overlay\",\"line_alpha\":1.0,\"line_color\":\"black\",\"line_dash\":[4,4],\"line_width\":2,\"right_units\":\"screen\",\"syncable\":false,\"top_units\":\"screen\"},\"id\":\"3259\",\"type\":\"BoxAnnotation\"},{\"attributes\":{\"active_multi\":null,\"tools\":[{\"id\":\"3236\"},{\"id\":\"3254\"},{\"id\":\"3255\"},{\"id\":\"3256\"},{\"id\":\"3257\"},{\"id\":\"3258\"}]},\"id\":\"3260\",\"type\":\"Toolbar\"},{\"attributes\":{},\"id\":\"3268\",\"type\":\"Selection\"},{\"attributes\":{\"source\":{\"id\":\"3267\"}},\"id\":\"3274\",\"type\":\"CDSView\"},{\"attributes\":{\"fill_alpha\":{\"value\":0.1},\"fill_color\":{\"value\":\"#30a2da\"},\"line_alpha\":{\"value\":0.1},\"line_color\":{\"value\":\"#30a2da\"},\"size\":{\"value\":5.477225575051661},\"x\":{\"field\":\"gdp\"},\"y\":{\"field\":\"family\"}},\"id\":\"3271\",\"type\":\"Scatter\"},{\"attributes\":{\"data_source\":{\"id\":\"3267\"},\"glyph\":{\"id\":\"3270\"},\"hover_glyph\":null,\"muted_glyph\":{\"id\":\"3272\"},\"nonselection_glyph\":{\"id\":\"3271\"},\"selection_glyph\":{\"id\":\"3275\"},\"view\":{\"id\":\"3274\"}},\"id\":\"3273\",\"type\":\"GlyphRenderer\"},{\"attributes\":{},\"id\":\"3276\",\"type\":\"AllLabels\"},{\"attributes\":{\"fill_color\":{\"value\":\"#30a2da\"},\"line_color\":{\"value\":\"#30a2da\"},\"size\":{\"value\":5.477225575051661},\"x\":{\"field\":\"gdp\"},\"y\":{\"field\":\"family\"}},\"id\":\"3270\",\"type\":\"Scatter\"},{\"attributes\":{},\"id\":\"3281\",\"type\":\"BasicTickFormatter\"},{\"attributes\":{\"children\":[{\"id\":\"3233\"},{\"id\":\"3237\"},{\"id\":\"3302\"}],\"margin\":[0,0,0,0],\"name\":\"Row06531\",\"tags\":[\"embedded\"]},\"id\":\"3232\",\"type\":\"Row\"},{\"attributes\":{\"callback\":null,\"renderers\":[{\"id\":\"3273\"}],\"tags\":[\"hv_created\"],\"tooltips\":[[\"gdp\",\"@{gdp}\"],[\"family\",\"@{family}\"]]},\"id\":\"3236\",\"type\":\"HoverTool\"},{\"attributes\":{\"margin\":[5,5,5,5],\"name\":\"HSpacer06535\",\"sizing_mode\":\"stretch_width\"},\"id\":\"3233\",\"type\":\"Spacer\"},{\"attributes\":{},\"id\":\"3255\",\"type\":\"PanTool\"},{\"attributes\":{\"text_color\":\"black\",\"text_font_size\":\"12pt\"},\"id\":\"3238\",\"type\":\"Title\"},{\"attributes\":{},\"id\":\"3254\",\"type\":\"SaveTool\"},{\"attributes\":{\"overlay\":{\"id\":\"3259\"}},\"id\":\"3257\",\"type\":\"BoxZoomTool\"},{\"attributes\":{},\"id\":\"3242\",\"type\":\"LinearScale\"},{\"attributes\":{},\"id\":\"3278\",\"type\":\"BasicTickFormatter\"}],\"root_ids\":[\"3232\"]},\"title\":\"Bokeh Application\",\"version\":\"2.3.2\"}};\n",
       "    var render_items = [{\"docid\":\"268e021e-f2e1-49d9-80df-7c2864d70da1\",\"root_ids\":[\"3232\"],\"roots\":{\"3232\":\"7f62fc33-9d72-4bff-9526-42b6190f0bcd\"}}];\n",
       "    root.Bokeh.embed.embed_items_notebook(docs_json, render_items);\n",
       "  }\n",
       "  if (root.Bokeh !== undefined && root.Bokeh.Panel !== undefined) {\n",
       "    embed_document(root);\n",
       "  } else {\n",
       "    var attempts = 0;\n",
       "    var timer = setInterval(function(root) {\n",
       "      if (root.Bokeh !== undefined && root.Bokeh.Panel !== undefined) {\n",
       "        clearInterval(timer);\n",
       "        embed_document(root);\n",
       "      } else if (document.readyState == \"complete\") {\n",
       "        attempts++;\n",
       "        if (attempts > 200) {\n",
       "          clearInterval(timer);\n",
       "          console.log(\"Bokeh: ERROR: Unable to run BokehJS code because BokehJS library is missing\");\n",
       "        }\n",
       "      }\n",
       "    }, 25, root)\n",
       "  }\n",
       "})(window);</script>"
      ],
      "text/plain": [
       ":Scatter   [gdp]   (family)"
      ]
     },
     "execution_count": 47,
     "metadata": {
      "application/vnd.holoviews_exec.v0+json": {
       "id": "3232"
      }
     },
     "output_type": "execute_result"
    }
   ],
   "source": [
    "# 2D Scatter plot\n",
    "df_2019.hvplot.scatter(x=\"gdp\", y=\"family\")\n"
   ]
  },
  {
   "cell_type": "code",
   "execution_count": 48,
   "id": "a79ca986",
   "metadata": {},
   "outputs": [],
   "source": [
    "# Function to cluster and plot dataset\n",
    "def test_cluster_amount(df, clusters):\n",
    "    model = KMeans(n_clusters=clusters, random_state=5)\n",
    "    model\n",
    "\n",
    "    # Fitting model\n",
    "    model.fit(df)\n",
    "\n",
    "    # Add a new class column to df_2019\n",
    "    df[\"class\"] = model.labels_"
   ]
  },
  {
   "cell_type": "code",
   "execution_count": 49,
   "id": "7237c082",
   "metadata": {},
   "outputs": [
    {
     "data": {
      "text/html": [
       "<div>\n",
       "<style scoped>\n",
       "    .dataframe tbody tr th:only-of-type {\n",
       "        vertical-align: middle;\n",
       "    }\n",
       "\n",
       "    .dataframe tbody tr th {\n",
       "        vertical-align: top;\n",
       "    }\n",
       "\n",
       "    .dataframe thead th {\n",
       "        text-align: right;\n",
       "    }\n",
       "</style>\n",
       "<table border=\"1\" class=\"dataframe\">\n",
       "  <thead>\n",
       "    <tr style=\"text-align: right;\">\n",
       "      <th></th>\n",
       "      <th>gdp</th>\n",
       "      <th>family</th>\n",
       "      <th>lifeexpectancy</th>\n",
       "      <th>freedom</th>\n",
       "      <th>generosity</th>\n",
       "      <th>trust</th>\n",
       "      <th>alcohol_liperyear</th>\n",
       "      <th>class</th>\n",
       "    </tr>\n",
       "  </thead>\n",
       "  <tbody>\n",
       "    <tr>\n",
       "      <th>0</th>\n",
       "      <td>1.004</td>\n",
       "      <td>1.439</td>\n",
       "      <td>0.802</td>\n",
       "      <td>0.390</td>\n",
       "      <td>0.099</td>\n",
       "      <td>0.086</td>\n",
       "      <td>19.3</td>\n",
       "      <td>2</td>\n",
       "    </tr>\n",
       "    <tr>\n",
       "      <th>1</th>\n",
       "      <td>1.124</td>\n",
       "      <td>1.465</td>\n",
       "      <td>0.891</td>\n",
       "      <td>0.523</td>\n",
       "      <td>0.127</td>\n",
       "      <td>0.150</td>\n",
       "      <td>15.7</td>\n",
       "      <td>0</td>\n",
       "    </tr>\n",
       "    <tr>\n",
       "      <th>2</th>\n",
       "      <td>1.572</td>\n",
       "      <td>1.463</td>\n",
       "      <td>1.141</td>\n",
       "      <td>0.556</td>\n",
       "      <td>0.271</td>\n",
       "      <td>0.453</td>\n",
       "      <td>2.9</td>\n",
       "      <td>3</td>\n",
       "    </tr>\n",
       "    <tr>\n",
       "      <th>3</th>\n",
       "      <td>0.794</td>\n",
       "      <td>1.242</td>\n",
       "      <td>0.789</td>\n",
       "      <td>0.430</td>\n",
       "      <td>0.093</td>\n",
       "      <td>0.074</td>\n",
       "      <td>12.8</td>\n",
       "      <td>0</td>\n",
       "    </tr>\n",
       "    <tr>\n",
       "      <th>4</th>\n",
       "      <td>1.294</td>\n",
       "      <td>1.488</td>\n",
       "      <td>1.039</td>\n",
       "      <td>0.231</td>\n",
       "      <td>0.158</td>\n",
       "      <td>0.030</td>\n",
       "      <td>12.0</td>\n",
       "      <td>0</td>\n",
       "    </tr>\n",
       "  </tbody>\n",
       "</table>\n",
       "</div>"
      ],
      "text/plain": [
       "     gdp  family  lifeexpectancy  freedom  generosity  trust  \\\n",
       "0  1.004   1.439           0.802    0.390       0.099  0.086   \n",
       "1  1.124   1.465           0.891    0.523       0.127  0.150   \n",
       "2  1.572   1.463           1.141    0.556       0.271  0.453   \n",
       "3  0.794   1.242           0.789    0.430       0.093  0.074   \n",
       "4  1.294   1.488           1.039    0.231       0.158  0.030   \n",
       "\n",
       "   alcohol_liperyear  class  \n",
       "0               19.3      2  \n",
       "1               15.7      0  \n",
       "2                2.9      3  \n",
       "3               12.8      0  \n",
       "4               12.0      0  "
      ]
     },
     "execution_count": 49,
     "metadata": {},
     "output_type": "execute_result"
    }
   ],
   "source": [
    "df_2019.head()"
   ]
  },
  {
   "cell_type": "code",
   "execution_count": 53,
   "id": "fc99314d",
   "metadata": {},
   "outputs": [
    {
     "data": {},
     "metadata": {},
     "output_type": "display_data"
    },
    {
     "data": {
      "application/vnd.holoviews_exec.v0+json": "",
      "text/html": [
       "<div id='3609'>\n",
       "\n",
       "\n",
       "\n",
       "\n",
       "\n",
       "  <div class=\"bk-root\" id=\"95efe7d5-1f66-47d9-ad8f-c5f900b70c38\" data-root-id=\"3609\"></div>\n",
       "</div>\n",
       "<script type=\"application/javascript\">(function(root) {\n",
       "  function embed_document(root) {\n",
       "    var docs_json = {\"5f626b1b-83ab-46a2-99f0-b07325924e37\":{\"defs\":[{\"extends\":null,\"module\":null,\"name\":\"ReactiveHTML1\",\"overrides\":[],\"properties\":[]},{\"extends\":null,\"module\":null,\"name\":\"FlexBox1\",\"overrides\":[],\"properties\":[{\"default\":\"flex-start\",\"kind\":null,\"name\":\"align_content\"},{\"default\":\"flex-start\",\"kind\":null,\"name\":\"align_items\"},{\"default\":\"row\",\"kind\":null,\"name\":\"flex_direction\"},{\"default\":\"wrap\",\"kind\":null,\"name\":\"flex_wrap\"},{\"default\":\"flex-start\",\"kind\":null,\"name\":\"justify_content\"}]},{\"extends\":null,\"module\":null,\"name\":\"TemplateActions1\",\"overrides\":[],\"properties\":[{\"default\":0,\"kind\":null,\"name\":\"open_modal\"},{\"default\":0,\"kind\":null,\"name\":\"close_modal\"}]},{\"extends\":null,\"module\":null,\"name\":\"MaterialTemplateActions1\",\"overrides\":[],\"properties\":[{\"default\":0,\"kind\":null,\"name\":\"open_modal\"},{\"default\":0,\"kind\":null,\"name\":\"close_modal\"}]}],\"roots\":{\"references\":[{\"attributes\":{},\"id\":\"3635\",\"type\":\"SaveTool\"},{\"attributes\":{\"label\":{\"value\":\"2\"},\"renderers\":[{\"id\":\"3703\"}]},\"id\":\"3719\",\"type\":\"LegendItem\"},{\"attributes\":{},\"id\":\"3748\",\"type\":\"Selection\"},{\"attributes\":{},\"id\":\"3636\",\"type\":\"PanTool\"},{\"attributes\":{},\"id\":\"3716\",\"type\":\"UnionRenderers\"},{\"attributes\":{},\"id\":\"3637\",\"type\":\"WheelZoomTool\"},{\"attributes\":{\"fill_color\":{\"value\":\"#8b8b8b\"},\"line_color\":{\"value\":\"#8b8b8b\"},\"size\":{\"value\":5.477225575051661},\"x\":{\"field\":\"gdp\"},\"y\":{\"field\":\"family\"}},\"id\":\"3750\",\"type\":\"Scatter\"},{\"attributes\":{\"angle\":{\"value\":0.0},\"fill_alpha\":{\"value\":1.0},\"fill_color\":{\"value\":\"#e5ae38\"},\"hatch_alpha\":{\"value\":1.0},\"hatch_color\":{\"value\":\"black\"},\"hatch_scale\":{\"value\":12.0},\"hatch_weight\":{\"value\":1.0},\"line_alpha\":{\"value\":1.0},\"line_cap\":{\"value\":\"butt\"},\"line_color\":{\"value\":\"#e5ae38\"},\"line_dash\":{\"value\":[]},\"line_dash_offset\":{\"value\":0},\"line_join\":{\"value\":\"bevel\"},\"line_width\":{\"value\":1},\"marker\":{\"value\":\"circle\"},\"size\":{\"value\":5.477225575051661},\"x\":{\"field\":\"gdp\"},\"y\":{\"field\":\"family\"}},\"id\":\"3720\",\"type\":\"Scatter\"},{\"attributes\":{\"overlay\":{\"id\":\"3640\"}},\"id\":\"3638\",\"type\":\"BoxZoomTool\"},{\"attributes\":{\"fill_alpha\":{\"value\":0.2},\"fill_color\":{\"value\":\"#6d904f\"},\"line_alpha\":{\"value\":0.2},\"line_color\":{\"value\":\"#6d904f\"},\"size\":{\"value\":5.477225575051661},\"x\":{\"field\":\"gdp\"},\"y\":{\"field\":\"family\"}},\"id\":\"3726\",\"type\":\"Scatter\"},{\"attributes\":{\"fill_alpha\":{\"value\":0.1},\"fill_color\":{\"value\":\"#30a2da\"},\"line_alpha\":{\"value\":0.1},\"line_color\":{\"value\":\"#30a2da\"},\"size\":{\"value\":5.477225575051661},\"x\":{\"field\":\"gdp\"},\"y\":{\"field\":\"family\"}},\"id\":\"3658\",\"type\":\"Scatter\"},{\"attributes\":{},\"id\":\"3655\",\"type\":\"Selection\"},{\"attributes\":{},\"id\":\"3722\",\"type\":\"Selection\"},{\"attributes\":{},\"id\":\"3639\",\"type\":\"ResetTool\"},{\"attributes\":{\"fill_alpha\":{\"value\":0.2},\"fill_color\":{\"value\":\"#30a2da\"},\"line_alpha\":{\"value\":0.2},\"line_color\":{\"value\":\"#30a2da\"},\"size\":{\"value\":5.477225575051661},\"x\":{\"field\":\"gdp\"},\"y\":{\"field\":\"family\"}},\"id\":\"3659\",\"type\":\"Scatter\"},{\"attributes\":{\"fill_alpha\":{\"value\":0.1},\"fill_color\":{\"value\":\"#fc4f30\"},\"line_alpha\":{\"value\":0.1},\"line_color\":{\"value\":\"#fc4f30\"},\"size\":{\"value\":5.477225575051661},\"x\":{\"field\":\"gdp\"},\"y\":{\"field\":\"family\"}},\"id\":\"3679\",\"type\":\"Scatter\"},{\"attributes\":{\"source\":{\"id\":\"3721\"}},\"id\":\"3728\",\"type\":\"CDSView\"},{\"attributes\":{\"fill_color\":{\"value\":\"#e5ae38\"},\"line_color\":{\"value\":\"#e5ae38\"},\"size\":{\"value\":5.477225575051661},\"x\":{\"field\":\"gdp\"},\"y\":{\"field\":\"family\"}},\"id\":\"3700\",\"type\":\"Scatter\"},{\"attributes\":{\"data\":{\"class\":[3,3,3,3,3,3,3,3,3,3],\"family\":{\"__ndarray__\":\"w/UoXI/C9T+PwvUoXI/yPwRWDi2ynfU/NV66SQwC9T+LbOf7qfHqPx1aZDvfT+U/AAAAAAAA8D/8qfHSTWLyP05iEFg5tPI/JQaBlUOL4D8=\",\"dtype\":\"float64\",\"order\":\"little\",\"shape\":[10]},\"gdp\":{\"__ndarray__\":\"IbByaJHt8j/VeOkmMQjwP7gehetRuO4/VOOlm8Qg7D+amZmZmZnxPycxCKwcWuw/Rrbz/dR47T/ByqFFtvPpP7Kd76fGS98/ZmZmZmZm1j8=\",\"dtype\":\"float64\",\"order\":\"little\",\"shape\":[10]}},\"selected\":{\"id\":\"3722\"},\"selection_policy\":{\"id\":\"3742\"}},\"id\":\"3721\",\"type\":\"ColumnDataSource\"},{\"attributes\":{\"data_source\":{\"id\":\"3654\"},\"glyph\":{\"id\":\"3657\"},\"hover_glyph\":null,\"muted_glyph\":{\"id\":\"3659\"},\"nonselection_glyph\":{\"id\":\"3658\"},\"selection_glyph\":{\"id\":\"3674\"},\"view\":{\"id\":\"3661\"}},\"id\":\"3660\",\"type\":\"GlyphRenderer\"},{\"attributes\":{\"label\":{\"value\":\"1\"},\"renderers\":[{\"id\":\"3681\"}]},\"id\":\"3695\",\"type\":\"LegendItem\"},{\"attributes\":{\"data_source\":{\"id\":\"3721\"},\"glyph\":{\"id\":\"3724\"},\"hover_glyph\":null,\"muted_glyph\":{\"id\":\"3726\"},\"nonselection_glyph\":{\"id\":\"3725\"},\"selection_glyph\":{\"id\":\"3746\"},\"view\":{\"id\":\"3728\"}},\"id\":\"3727\",\"type\":\"GlyphRenderer\"},{\"attributes\":{},\"id\":\"3692\",\"type\":\"UnionRenderers\"},{\"attributes\":{\"children\":[{\"id\":\"3610\"},{\"id\":\"3618\"},{\"id\":\"3937\"}],\"margin\":[0,0,0,0],\"name\":\"Row07265\",\"tags\":[\"embedded\"]},\"id\":\"3609\",\"type\":\"Row\"},{\"attributes\":{\"fill_color\":{\"value\":\"#6d904f\"},\"line_color\":{\"value\":\"#6d904f\"},\"size\":{\"value\":5.477225575051661},\"x\":{\"field\":\"gdp\"},\"y\":{\"field\":\"family\"}},\"id\":\"3724\",\"type\":\"Scatter\"},{\"attributes\":{\"fill_alpha\":{\"value\":0.1},\"fill_color\":{\"value\":\"#e5ae38\"},\"line_alpha\":{\"value\":0.1},\"line_color\":{\"value\":\"#e5ae38\"},\"size\":{\"value\":5.477225575051661},\"x\":{\"field\":\"gdp\"},\"y\":{\"field\":\"family\"}},\"id\":\"3701\",\"type\":\"Scatter\"},{\"attributes\":{\"angle\":{\"value\":0.0},\"fill_alpha\":{\"value\":1.0},\"fill_color\":{\"value\":\"#fc4f30\"},\"hatch_alpha\":{\"value\":1.0},\"hatch_color\":{\"value\":\"black\"},\"hatch_scale\":{\"value\":12.0},\"hatch_weight\":{\"value\":1.0},\"line_alpha\":{\"value\":1.0},\"line_cap\":{\"value\":\"butt\"},\"line_color\":{\"value\":\"#fc4f30\"},\"line_dash\":{\"value\":[]},\"line_dash_offset\":{\"value\":0},\"line_join\":{\"value\":\"bevel\"},\"line_width\":{\"value\":1},\"marker\":{\"value\":\"circle\"},\"size\":{\"value\":5.477225575051661},\"x\":{\"field\":\"gdp\"},\"y\":{\"field\":\"family\"}},\"id\":\"3696\",\"type\":\"Scatter\"},{\"attributes\":{\"fill_alpha\":{\"value\":0.1},\"fill_color\":{\"value\":\"#6d904f\"},\"line_alpha\":{\"value\":0.1},\"line_color\":{\"value\":\"#6d904f\"},\"size\":{\"value\":5.477225575051661},\"x\":{\"field\":\"gdp\"},\"y\":{\"field\":\"family\"}},\"id\":\"3725\",\"type\":\"Scatter\"},{\"attributes\":{\"data\":{\"class\":[1,1,1,1,1,1,1,1,1,1,1,1,1,1,1,1,1,1,1,1,1,1,1,1],\"family\":{\"__ndarray__\":\"F9nO91Pj9T8nMQisHFrsP3Noke18P/U/DAIrhxbZ9D/l0CLb+X74Py2yne+nxvE/NV66SQwC9z+gGi/dJAbpPy/dJAaBlfM/8KfGSzeJ9T+amZmZmZnzP3sUrkfhevA/wcqhRbbz8T9MN4lBYOXwP+F6FK5H4fA/H4XrUbge7T+0yHa+nxrxP9NNYhBYOeg/z/dT46Wb3D9t5/up8dLxP1K4HoXrUfI/jZduEoPA5j9SuB6F61HsP0Jg5dAi2+k/\",\"dtype\":\"float64\",\"order\":\"little\",\"shape\":[24]},\"gdp\":{\"__ndarray__\":\"mG4Sg8DK9T9Ei2zn+6nlP+xRuB6F6+U/TmIQWDm08D+8dJMYBFbuPxKDwMqhReY/bxKDwMqh4T9vEoPAyqHpPy/dJAaBle8/g8DKoUW25z9iEFg5tMjqP6abxCCwcug/ke18PzVe4j/Jdr6fGi/VPzMzMzMzM+s/xSCwcmiR4T9zaJHtfD/VP/Cnxks3idE/WmQ730+Npz8GgZVDi2zXPw4tsp3vp/A/YOXQItv51j8QWDm0yHbeP2iR7Xw/NeI/\",\"dtype\":\"float64\",\"order\":\"little\",\"shape\":[24]}},\"selected\":{\"id\":\"3676\"},\"selection_policy\":{\"id\":\"3692\"}},\"id\":\"3675\",\"type\":\"ColumnDataSource\"},{\"attributes\":{\"margin\":[5,5,5,5],\"name\":\"HSpacer07270\",\"sizing_mode\":\"stretch_width\"},\"id\":\"3937\",\"type\":\"Spacer\"},{\"attributes\":{\"data_source\":{\"id\":\"3675\"},\"glyph\":{\"id\":\"3678\"},\"hover_glyph\":null,\"muted_glyph\":{\"id\":\"3680\"},\"nonselection_glyph\":{\"id\":\"3679\"},\"selection_glyph\":{\"id\":\"3696\"},\"view\":{\"id\":\"3682\"}},\"id\":\"3681\",\"type\":\"GlyphRenderer\"},{\"attributes\":{\"margin\":[5,5,5,5],\"name\":\"HSpacer07269\",\"sizing_mode\":\"stretch_width\"},\"id\":\"3610\",\"type\":\"Spacer\"},{\"attributes\":{\"angle\":{\"value\":0.0},\"fill_alpha\":{\"value\":1.0},\"fill_color\":{\"value\":\"#6d904f\"},\"hatch_alpha\":{\"value\":1.0},\"hatch_color\":{\"value\":\"black\"},\"hatch_scale\":{\"value\":12.0},\"hatch_weight\":{\"value\":1.0},\"line_alpha\":{\"value\":1.0},\"line_cap\":{\"value\":\"butt\"},\"line_color\":{\"value\":\"#6d904f\"},\"line_dash\":{\"value\":[]},\"line_dash_offset\":{\"value\":0},\"line_join\":{\"value\":\"bevel\"},\"line_width\":{\"value\":1},\"marker\":{\"value\":\"circle\"},\"size\":{\"value\":5.477225575051661},\"x\":{\"field\":\"gdp\"},\"y\":{\"field\":\"family\"}},\"id\":\"3746\",\"type\":\"Scatter\"},{\"attributes\":{\"bottom_units\":\"screen\",\"fill_alpha\":0.5,\"fill_color\":\"lightgrey\",\"left_units\":\"screen\",\"level\":\"overlay\",\"line_alpha\":1.0,\"line_color\":\"black\",\"line_dash\":[4,4],\"line_width\":2,\"right_units\":\"screen\",\"syncable\":false,\"top_units\":\"screen\"},\"id\":\"3640\",\"type\":\"BoxAnnotation\"},{\"attributes\":{},\"id\":\"3648\",\"type\":\"AllLabels\"},{\"attributes\":{\"data\":{\"class\":[4,4,4,4,4,4,4,4,4,4,4,4,4,4,4,4,4,4,4,4,4,4,4,4,4,4,4,4,4,4,4,4,4,4,4,4,4,4,4,4,4,4],\"family\":{\"__ndarray__\":\"oBov3SQG9z9xPQrXo3D3P6rx0k1iEPg/NV66SQwC9z89CtejcD34P5HtfD81Xvg/MzMzMzMz9T+DwMqhRbbzP8UgsHJokfM/JQaBlUOL9j9xPQrXo3D3Pxsv3SQGgfM/ppvEILBy+D9U46WbxCD4P4/C9Shcj/Y/mpmZmZmZ9z9MN4lBYOX2PwisHFpkO/c/46WbxCCw9D9U46WbxCD2P8UgsHJokfE/0SLb+X5q9j/l0CLb+X7yP8/3U+Olm/g/IbByaJHt8j/P91PjpZv4PwwCK4cW2fg/3SQGgZVD9z+q8dJNYhD4P5huEoPAyvc/9ihcj8L19D9eukkMAiv1P1pkO99Pjfc/aJHtfD81+D/fT42XbhL3P7bz/dR46eo/IbByaJHt8D8bL90kBoHtP2q8dJMYBOY//tR46SYx2D/sUbgehevhP0w3iUFg5fI/\",\"dtype\":\"float64\",\"order\":\"little\",\"shape\":[42]},\"gdp\":{\"__ndarray__\":\"qvHSTWIQ8D+WQ4ts5/vxP1YOLbKd7/M/sp3vp8ZL8z8CK4cW2c7zP1TjpZvEIPQ/aJHtfD815j9kO99PjZfyP2iR7Xw/NfQ/zczMzMzM8D/LoUW28/3yPzeJQWDl0PQ/mG4Sg8DK8z/4U+Olm8TyP57vp8ZLN/M/XI/C9Shc6z/wp8ZLN4nzPyGwcmiR7fI/bef7qfHS6T+q8dJNYhDwP1pkO99Pjd8/PQrXo3A98D9MN4lBYOXyP6JFtvP91PA/tvP91Hjp8D+HFtnO91P1P5ZDi2zn+/c/K4cW2c739T8ZBFYOLbL1P+f7qfHSTfQ/PzVeukkM+D8fhetRuB7xP8l2vp8aL/U/Rrbz/dR48T/8qfHSTWLyP/T91HjpJtE/5dAi2/l+4j/jpZvEILCyP3npJjEIrNQ/AiuHFtnO4z+mm8QgsHLIP7gehetRuOY/\",\"dtype\":\"float64\",\"order\":\"little\",\"shape\":[42]}},\"selected\":{\"id\":\"3748\"},\"selection_policy\":{\"id\":\"3770\"}},\"id\":\"3747\",\"type\":\"ColumnDataSource\"},{\"attributes\":{},\"id\":\"3742\",\"type\":\"UnionRenderers\"},{\"attributes\":{\"active_multi\":null,\"tools\":[{\"id\":\"3613\"},{\"id\":\"3635\"},{\"id\":\"3636\"},{\"id\":\"3637\"},{\"id\":\"3638\"},{\"id\":\"3639\"}]},\"id\":\"3641\",\"type\":\"Toolbar\"},{\"attributes\":{\"source\":{\"id\":\"3675\"}},\"id\":\"3682\",\"type\":\"CDSView\"},{\"attributes\":{},\"id\":\"3770\",\"type\":\"UnionRenderers\"},{\"attributes\":{\"fill_alpha\":{\"value\":0.1},\"fill_color\":{\"value\":\"#8b8b8b\"},\"line_alpha\":{\"value\":0.1},\"line_color\":{\"value\":\"#8b8b8b\"},\"size\":{\"value\":5.477225575051661},\"x\":{\"field\":\"gdp\"},\"y\":{\"field\":\"family\"}},\"id\":\"3751\",\"type\":\"Scatter\"},{\"attributes\":{},\"id\":\"3669\",\"type\":\"UnionRenderers\"},{\"attributes\":{},\"id\":\"3676\",\"type\":\"Selection\"},{\"attributes\":{},\"id\":\"3628\",\"type\":\"BasicTicker\"},{\"attributes\":{\"fill_alpha\":{\"value\":0.2},\"fill_color\":{\"value\":\"#8b8b8b\"},\"line_alpha\":{\"value\":0.2},\"line_color\":{\"value\":\"#8b8b8b\"},\"size\":{\"value\":5.477225575051661},\"x\":{\"field\":\"gdp\"},\"y\":{\"field\":\"family\"}},\"id\":\"3752\",\"type\":\"Scatter\"},{\"attributes\":{\"axis\":{\"id\":\"3627\"},\"grid_line_color\":null,\"ticker\":null},\"id\":\"3630\",\"type\":\"Grid\"},{\"attributes\":{\"data_source\":{\"id\":\"3697\"},\"glyph\":{\"id\":\"3700\"},\"hover_glyph\":null,\"muted_glyph\":{\"id\":\"3702\"},\"nonselection_glyph\":{\"id\":\"3701\"},\"selection_glyph\":{\"id\":\"3720\"},\"view\":{\"id\":\"3704\"}},\"id\":\"3703\",\"type\":\"GlyphRenderer\"},{\"attributes\":{\"text_color\":\"black\",\"text_font_size\":\"12pt\"},\"id\":\"3619\",\"type\":\"Title\"},{\"attributes\":{\"label\":{\"value\":\"0\"},\"renderers\":[{\"id\":\"3660\"}]},\"id\":\"3673\",\"type\":\"LegendItem\"},{\"attributes\":{\"source\":{\"id\":\"3747\"}},\"id\":\"3754\",\"type\":\"CDSView\"},{\"attributes\":{\"below\":[{\"id\":\"3627\"}],\"center\":[{\"id\":\"3630\"},{\"id\":\"3634\"}],\"height\":300,\"left\":[{\"id\":\"3631\"}],\"margin\":[5,5,5,5],\"min_border_bottom\":10,\"min_border_left\":10,\"min_border_right\":10,\"min_border_top\":10,\"renderers\":[{\"id\":\"3660\"},{\"id\":\"3681\"},{\"id\":\"3703\"},{\"id\":\"3727\"},{\"id\":\"3753\"}],\"right\":[{\"id\":\"3672\"}],\"sizing_mode\":\"fixed\",\"title\":{\"id\":\"3619\"},\"toolbar\":{\"id\":\"3641\"},\"width\":700,\"x_range\":{\"id\":\"3611\"},\"x_scale\":{\"id\":\"3623\"},\"y_range\":{\"id\":\"3612\"},\"y_scale\":{\"id\":\"3625\"}},\"id\":\"3618\",\"subtype\":\"Figure\",\"type\":\"Plot\"},{\"attributes\":{\"fill_color\":{\"value\":\"#fc4f30\"},\"line_color\":{\"value\":\"#fc4f30\"},\"size\":{\"value\":5.477225575051661},\"x\":{\"field\":\"gdp\"},\"y\":{\"field\":\"family\"}},\"id\":\"3678\",\"type\":\"Scatter\"},{\"attributes\":{\"callback\":null,\"renderers\":[{\"id\":\"3660\"},{\"id\":\"3681\"},{\"id\":\"3703\"},{\"id\":\"3727\"},{\"id\":\"3753\"}],\"tags\":[\"hv_created\"],\"tooltips\":[[\"class\",\"@{class}\"],[\"gdp\",\"@{gdp}\"],[\"family\",\"@{family}\"]]},\"id\":\"3613\",\"type\":\"HoverTool\"},{\"attributes\":{\"data_source\":{\"id\":\"3747\"},\"glyph\":{\"id\":\"3750\"},\"hover_glyph\":null,\"muted_glyph\":{\"id\":\"3752\"},\"nonselection_glyph\":{\"id\":\"3751\"},\"selection_glyph\":{\"id\":\"3774\"},\"view\":{\"id\":\"3754\"}},\"id\":\"3753\",\"type\":\"GlyphRenderer\"},{\"attributes\":{\"label\":{\"value\":\"4\"},\"renderers\":[{\"id\":\"3753\"}]},\"id\":\"3773\",\"type\":\"LegendItem\"},{\"attributes\":{\"axis_label\":\"gdp\",\"formatter\":{\"id\":\"3650\"},\"major_label_policy\":{\"id\":\"3648\"},\"ticker\":{\"id\":\"3628\"}},\"id\":\"3627\",\"type\":\"LinearAxis\"},{\"attributes\":{\"fill_alpha\":{\"value\":0.2},\"fill_color\":{\"value\":\"#fc4f30\"},\"line_alpha\":{\"value\":0.2},\"line_color\":{\"value\":\"#fc4f30\"},\"size\":{\"value\":5.477225575051661},\"x\":{\"field\":\"gdp\"},\"y\":{\"field\":\"family\"}},\"id\":\"3680\",\"type\":\"Scatter\"},{\"attributes\":{\"axis\":{\"id\":\"3631\"},\"dimension\":1,\"grid_line_color\":null,\"ticker\":null},\"id\":\"3634\",\"type\":\"Grid\"},{\"attributes\":{\"source\":{\"id\":\"3654\"}},\"id\":\"3661\",\"type\":\"CDSView\"},{\"attributes\":{\"angle\":{\"value\":0.0},\"fill_alpha\":{\"value\":1.0},\"fill_color\":{\"value\":\"#30a2da\"},\"hatch_alpha\":{\"value\":1.0},\"hatch_color\":{\"value\":\"black\"},\"hatch_scale\":{\"value\":12.0},\"hatch_weight\":{\"value\":1.0},\"line_alpha\":{\"value\":1.0},\"line_cap\":{\"value\":\"butt\"},\"line_color\":{\"value\":\"#30a2da\"},\"line_dash\":{\"value\":[]},\"line_dash_offset\":{\"value\":0},\"line_join\":{\"value\":\"bevel\"},\"line_width\":{\"value\":1},\"marker\":{\"value\":\"circle\"},\"size\":{\"value\":5.477225575051661},\"x\":{\"field\":\"gdp\"},\"y\":{\"field\":\"family\"}},\"id\":\"3674\",\"type\":\"Scatter\"},{\"attributes\":{\"data\":{\"class\":[2,2,2,2,2,2,2,2,2,2,2,2,2,2,2,2,2,2,2],\"family\":{\"__ndarray__\":\"nMQgsHJo9z+0yHa+nxr1PyPb+X5qvPI/JzEIrBxa8j9zaJHtfD/zP4lBYOXQIvU/vp8aL90k8j+8dJMYBFbmP/hT46WbxOg/ukkMAiuH6j956SYxCKzyPxkEVg4tsu0/rkfhehSu8T9I4XoUrkf3P4PAyqFFtvU/NV66SQwC9T8EVg4tsp3zP1CNl24Sg+g/AAAAAAAA8j8=\",\"dtype\":\"float64\",\"order\":\"little\",\"shape\":[19]},\"gdp\":{\"__ndarray__\":\"9P3UeOkm+T8AAAAAAAD4P/Cnxks3ifM/46WbxCCw8D+YbhKDwMrtP2q8dJMYBOo/zczMzMzM3D8AAAAAAAAAAESLbOf7qcE/UrgehetR2D89CtejcD3iP5ZDi2zn++E/pHA9Ctej2D/RItv5fmr0P6abxCCwcvY/i2zn+6nx+j8lBoGVQ4vcP2ZmZmZmZtY/qvHSTWIQuD8=\",\"dtype\":\"float64\",\"order\":\"little\",\"shape\":[19]}},\"selected\":{\"id\":\"3698\"},\"selection_policy\":{\"id\":\"3716\"}},\"id\":\"3697\",\"type\":\"ColumnDataSource\"},{\"attributes\":{},\"id\":\"3623\",\"type\":\"LinearScale\"},{\"attributes\":{\"click_policy\":\"mute\",\"items\":[{\"id\":\"3673\"},{\"id\":\"3695\"},{\"id\":\"3719\"},{\"id\":\"3745\"},{\"id\":\"3773\"}],\"location\":[0,0],\"title\":\"class\"},\"id\":\"3672\",\"type\":\"Legend\"},{\"attributes\":{},\"id\":\"3625\",\"type\":\"LinearScale\"},{\"attributes\":{\"angle\":{\"value\":0.0},\"fill_alpha\":{\"value\":1.0},\"fill_color\":{\"value\":\"#8b8b8b\"},\"hatch_alpha\":{\"value\":1.0},\"hatch_color\":{\"value\":\"black\"},\"hatch_scale\":{\"value\":12.0},\"hatch_weight\":{\"value\":1.0},\"line_alpha\":{\"value\":1.0},\"line_cap\":{\"value\":\"butt\"},\"line_color\":{\"value\":\"#8b8b8b\"},\"line_dash\":{\"value\":[]},\"line_dash_offset\":{\"value\":0},\"line_join\":{\"value\":\"bevel\"},\"line_width\":{\"value\":1},\"marker\":{\"value\":\"circle\"},\"size\":{\"value\":5.477225575051661},\"x\":{\"field\":\"gdp\"},\"y\":{\"field\":\"family\"}},\"id\":\"3774\",\"type\":\"Scatter\"},{\"attributes\":{\"fill_alpha\":{\"value\":0.2},\"fill_color\":{\"value\":\"#e5ae38\"},\"line_alpha\":{\"value\":0.2},\"line_color\":{\"value\":\"#e5ae38\"},\"size\":{\"value\":5.477225575051661},\"x\":{\"field\":\"gdp\"},\"y\":{\"field\":\"family\"}},\"id\":\"3702\",\"type\":\"Scatter\"},{\"attributes\":{},\"id\":\"3632\",\"type\":\"BasicTicker\"},{\"attributes\":{\"axis_label\":\"family\",\"formatter\":{\"id\":\"3653\"},\"major_label_policy\":{\"id\":\"3651\"},\"ticker\":{\"id\":\"3632\"}},\"id\":\"3631\",\"type\":\"LinearAxis\"},{\"attributes\":{\"end\":1.7561714285714285,\"reset_end\":1.7561714285714285,\"reset_start\":-0.07217142857142857,\"start\":-0.07217142857142857,\"tags\":[[[\"gdp\",\"gdp\",null]]]},\"id\":\"3611\",\"type\":\"Range1d\"},{\"attributes\":{\"source\":{\"id\":\"3697\"}},\"id\":\"3704\",\"type\":\"CDSView\"},{\"attributes\":{},\"id\":\"3653\",\"type\":\"BasicTickFormatter\"},{\"attributes\":{},\"id\":\"3650\",\"type\":\"BasicTickFormatter\"},{\"attributes\":{\"end\":1.7864000000000002,\"reset_end\":1.7864000000000002,\"reset_start\":-0.16240000000000002,\"start\":-0.16240000000000002,\"tags\":[[[\"family\",\"family\",null]]]},\"id\":\"3612\",\"type\":\"Range1d\"},{\"attributes\":{\"label\":{\"value\":\"3\"},\"renderers\":[{\"id\":\"3727\"}]},\"id\":\"3745\",\"type\":\"LegendItem\"},{\"attributes\":{\"fill_color\":{\"value\":\"#30a2da\"},\"line_color\":{\"value\":\"#30a2da\"},\"size\":{\"value\":5.477225575051661},\"x\":{\"field\":\"gdp\"},\"y\":{\"field\":\"family\"}},\"id\":\"3657\",\"type\":\"Scatter\"},{\"attributes\":{\"data\":{\"class\":[0,0,0,0,0,0,0,0,0,0,0,0,0,0,0,0,0,0,0,0,0,0,0,0,0,0,0,0,0,0,0,0,0,0,0,0,0,0,0,0,0,0,0,0,0,0,0,0,0,0,0,0,0,0],\"family\":{\"__ndarray__\":\"rBxaZDvf8z8CK4cW2c73PxBYObTIdvg/j8L1KFyP9j+28/3UeOn2P8uhRbbz/fQ/2c73U+Ol9z8730+Nl272P05iEFg5tPY/LbKd76fG8z/y0k1iEFjzP/yp8dJNYvQ/LbKd76fG9T+oxks3iUH0PzEIrBxaZPM/cT0K16Nw9z8AAAAAAADyPyuHFtnO99s/iUFg5dAi6z+iRbbz/dT2Pz81XrpJDO4/2/l+arx07z9aZDvfT43vP1yPwvUoXO8/MQisHFpk+T9eukkMAiv5Px1aZDvfT/k/lkOLbOf7+T8nMQisHFr4P9Ei2/l+avg/mG4Sg8DK9z+28/3UeOn4PxSuR+F6FPg/mpmZmZmZ9z/4U+Olm8T4P3WTGARWDvc/RIts5/up9z8dWmQ730/3P1K4HoXrUfg/gZVDi2zn9T/n+6nx0k30Py2yne+nxus/WDm0yHa+9z89CtejcD30Pz0K16NwPfY/ukkMAiuH8D85tMh2vp/wP+f7qfHSTeI/exSuR+F66D8dWmQ730/tP8/3U+Olm/I/AAAAAAAAAADFILByaJHpP28Sg8DKofc/\",\"dtype\":\"float64\",\"order\":\"little\",\"shape\":[54]},\"gdp\":{\"__ndarray__\":\"nMQgsHJo6T9OYhBYObT0P9ejcD0K1+c/hetRuB6F7z9GtvP91HjxP8l2vp8aL+0/ZDvfT42X6j/sUbgehevxPwisHFpkO/U/JQaBlUOL5D+iRbbz/dToP7gehetRuO4/N4lBYOXQ8D97FK5H4XryPz0K16NwPe4/30+Nl24S8T8QWDm0yHbwP/T91HjpJtk/5/up8dJN7j+4HoXrUbjuP4PAyqFFttM//Knx0k1i4D/pJjEIrBzKP+Olm8QgsPA/cT0K16Nw9T9U46WbxCD2PwIrhxbZzvc/FK5H4XoU9j+8dJMYBFb2PwisHFpkO/c//tR46SYx9j8MAiuHFtn0P9ejcD0K1/U/arx0kxgE9j/ByqFFtvP1PyUGgZVDi/A/WDm0yHa++T8hsHJoke32P83MzMzMzPQ/JQaBlUOL8j+amZmZmZnpP1pkO99PjeM/+n5qvHST9D+R7Xw/NV7uPz0K16NwPeo/Gy/dJAaB1T+e76fGSzftP5qZmZmZmdE/KVyPwvUo6D/wp8ZLN4nRP5HtfD81XtI/ObTIdr6fmj/wp8ZLN4nlPxkEVg4tsvM/\",\"dtype\":\"float64\",\"order\":\"little\",\"shape\":[54]}},\"selected\":{\"id\":\"3655\"},\"selection_policy\":{\"id\":\"3669\"}},\"id\":\"3654\",\"type\":\"ColumnDataSource\"},{\"attributes\":{},\"id\":\"3651\",\"type\":\"AllLabels\"},{\"attributes\":{},\"id\":\"3698\",\"type\":\"Selection\"}],\"root_ids\":[\"3609\"]},\"title\":\"Bokeh Application\",\"version\":\"2.3.2\"}};\n",
       "    var render_items = [{\"docid\":\"5f626b1b-83ab-46a2-99f0-b07325924e37\",\"root_ids\":[\"3609\"],\"roots\":{\"3609\":\"95efe7d5-1f66-47d9-ad8f-c5f900b70c38\"}}];\n",
       "    root.Bokeh.embed.embed_items_notebook(docs_json, render_items);\n",
       "  }\n",
       "  if (root.Bokeh !== undefined && root.Bokeh.Panel !== undefined) {\n",
       "    embed_document(root);\n",
       "  } else {\n",
       "    var attempts = 0;\n",
       "    var timer = setInterval(function(root) {\n",
       "      if (root.Bokeh !== undefined && root.Bokeh.Panel !== undefined) {\n",
       "        clearInterval(timer);\n",
       "        embed_document(root);\n",
       "      } else if (document.readyState == \"complete\") {\n",
       "        attempts++;\n",
       "        if (attempts > 200) {\n",
       "          clearInterval(timer);\n",
       "          console.log(\"Bokeh: ERROR: Unable to run BokehJS code because BokehJS library is missing\");\n",
       "        }\n",
       "      }\n",
       "    }, 25, root)\n",
       "  }\n",
       "})(window);</script>"
      ],
      "text/plain": [
       ":NdOverlay   [class]\n",
       "   :Scatter   [gdp]   (family)"
      ]
     },
     "execution_count": 53,
     "metadata": {
      "application/vnd.holoviews_exec.v0+json": {
       "id": "3609"
      }
     },
     "output_type": "execute_result"
    }
   ],
   "source": [
    "# Take a DataFrame and the number of clusters to make as arguments.\n",
    "test_cluster_amount(df_2019, 5)\n",
    "df_2019.hvplot.scatter(x=\"gdp\", y=\"family\", by=\"class\")"
   ]
  },
  {
   "cell_type": "code",
   "execution_count": 56,
   "id": "77349697",
   "metadata": {},
   "outputs": [
    {
     "data": {
      "application/vnd.plotly.v1+json": {
       "config": {
        "plotlyServerURL": "https://plot.ly"
       },
       "data": [
        {
         "hovertemplate": "class=%{marker.color}<br>gdp=%{x}<br>family=%{y}<br>alcohol_liperyear=%{z}<extra></extra>",
         "legendgroup": "4",
         "marker": {
          "color": [
           4,
           4,
           4,
           4,
           4,
           4,
           4,
           4,
           4,
           4,
           4,
           4,
           4,
           4,
           4,
           4,
           4,
           4,
           4,
           4,
           4,
           4,
           4,
           4,
           4,
           4,
           4,
           4,
           4,
           4,
           4,
           4,
           4,
           4,
           4,
           4,
           4,
           4,
           4,
           4,
           4,
           4
          ],
          "coloraxis": "coloraxis",
          "symbol": "circle"
         },
         "mode": "markers",
         "name": "4",
         "scene": "scene",
         "showlegend": true,
         "type": "scatter3d",
         "x": [
          1.004,
          1.124,
          1.246,
          1.206,
          1.238,
          1.258,
          0.694,
          1.162,
          1.263,
          1.05,
          1.187,
          1.301,
          1.237,
          1.173,
          1.201,
          0.855,
          1.221,
          1.183,
          0.807,
          1.004,
          0.493,
          1.015,
          1.181,
          1.052,
          1.057,
          1.333,
          1.499,
          1.373,
          1.356,
          1.269,
          1.503,
          1.07,
          1.324,
          1.092,
          1.149,
          0.268,
          0.578,
          0.073,
          0.323,
          0.619,
          0.191,
          0.71
         ],
         "y": [
          1.439,
          1.465,
          1.504,
          1.438,
          1.515,
          1.523,
          1.325,
          1.232,
          1.223,
          1.409,
          1.465,
          1.219,
          1.528,
          1.508,
          1.41,
          1.475,
          1.431,
          1.452,
          1.293,
          1.383,
          1.098,
          1.401,
          1.156,
          1.538,
          1.183,
          1.538,
          1.553,
          1.454,
          1.504,
          1.487,
          1.31,
          1.323,
          1.472,
          1.513,
          1.442,
          0.841,
          1.058,
          0.922,
          0.688,
          0.378,
          0.56,
          1.181
         ],
         "z": [
          19.3,
          15.7,
          16.6,
          17.1,
          18.9,
          17.7,
          15.9,
          18.8,
          15.6,
          20.3,
          17.2,
          16,
          15.9,
          19.2,
          17.1,
          20.1,
          17.8,
          20.1,
          19.9,
          18.5,
          15.8,
          16,
          15.9,
          17.8,
          17.2,
          15.6,
          16,
          16.9,
          15.9,
          19.1,
          20.5,
          15.3,
          16.7,
          19.2,
          16.5,
          18.3,
          17.7,
          18.7,
          16.5,
          15.5,
          15.5,
          17.6
         ]
        },
        {
         "hovertemplate": "class=%{marker.color}<br>gdp=%{x}<br>family=%{y}<br>alcohol_liperyear=%{z}<extra></extra>",
         "legendgroup": "2",
         "marker": {
          "color": [
           2,
           2,
           2,
           2,
           2,
           2,
           2,
           2,
           2,
           2,
           2,
           2,
           2,
           2,
           2,
           2,
           2,
           2,
           2
          ],
          "coloraxis": "coloraxis",
          "symbol": "diamond"
         },
         "mode": "markers",
         "name": "2",
         "scene": "scene",
         "showlegend": true,
         "type": "scatter3d",
         "x": [
          1.572,
          1.5,
          1.221,
          1.043,
          0.931,
          0.813,
          0.45,
          0,
          0.138,
          0.38,
          0.57,
          0.562,
          0.385,
          1.276,
          1.403,
          1.684,
          0.446,
          0.35,
          0.094
         ],
         "y": [
          1.463,
          1.319,
          1.171,
          1.147,
          1.203,
          1.321,
          1.134,
          0.698,
          0.774,
          0.829,
          1.167,
          0.928,
          1.105,
          1.455,
          1.357,
          1.313,
          1.226,
          0.766,
          1.125
         ],
         "z": [
          2.9,
          1,
          3.1,
          3.7,
          3.4,
          1.9,
          3.5,
          1.5,
          2.5,
          5.8,
          3.8,
          0.9,
          5.7,
          7,
          3.8,
          4.4,
          7.4,
          6.9,
          7.1
         ]
        },
        {
         "hovertemplate": "class=%{marker.color}<br>gdp=%{x}<br>family=%{y}<br>alcohol_liperyear=%{z}<extra></extra>",
         "legendgroup": "0",
         "marker": {
          "color": [
           0,
           0,
           0,
           0,
           0,
           0,
           0,
           0,
           0,
           0,
           0,
           0,
           0,
           0,
           0,
           0,
           0,
           0,
           0,
           0,
           0,
           0,
           0,
           0,
           0,
           0,
           0,
           0,
           0,
           0,
           0,
           0,
           0,
           0,
           0,
           0,
           0,
           0,
           0,
           0,
           0,
           0,
           0,
           0,
           0,
           0,
           0,
           0,
           0,
           0,
           0,
           0,
           0,
           0
          ],
          "coloraxis": "coloraxis",
          "symbol": "square"
         },
         "mode": "markers",
         "name": "0",
         "scene": "scene",
         "showlegend": true,
         "type": "scatter3d",
         "x": [
          0.794,
          1.294,
          0.745,
          0.985,
          1.092,
          0.912,
          0.831,
          1.12,
          1.327,
          0.642,
          0.776,
          0.96,
          1.051,
          1.155,
          0.945,
          1.067,
          1.029,
          0.393,
          0.947,
          0.96,
          0.308,
          0.512,
          0.204,
          1.043,
          1.34,
          1.383,
          1.488,
          1.38,
          1.396,
          1.452,
          1.387,
          1.303,
          1.365,
          1.376,
          1.372,
          1.034,
          1.609,
          1.433,
          1.3,
          1.159,
          0.8,
          0.611,
          1.286,
          0.949,
          0.82,
          0.336,
          0.913,
          0.275,
          0.755,
          0.274,
          0.287,
          0.026,
          0.673,
          1.231
         ],
         "y": [
          1.242,
          1.488,
          1.529,
          1.41,
          1.432,
          1.312,
          1.478,
          1.402,
          1.419,
          1.236,
          1.209,
          1.274,
          1.361,
          1.266,
          1.212,
          1.465,
          1.125,
          0.437,
          0.848,
          1.427,
          0.939,
          0.983,
          0.986,
          0.98,
          1.587,
          1.573,
          1.582,
          1.624,
          1.522,
          1.526,
          1.487,
          1.557,
          1.505,
          1.475,
          1.548,
          1.441,
          1.479,
          1.457,
          1.52,
          1.369,
          1.269,
          0.868,
          1.484,
          1.265,
          1.39,
          1.033,
          1.039,
          0.572,
          0.765,
          0.916,
          1.163,
          0,
          0.799,
          1.477
         ],
         "z": [
          12.8,
          12,
          12.8,
          15.2,
          14.6,
          9.5,
          11.9,
          11.5,
          14.1,
          13.5,
          10.5,
          11.8,
          14.8,
          15,
          13.4,
          15.2,
          12.9,
          11.6,
          14.6,
          14.9,
          14.1,
          14.1,
          11.4,
          12.4,
          14.8,
          13.9,
          9.4,
          12.8,
          12,
          14.2,
          12.5,
          14.3,
          13.8,
          14.9,
          13.4,
          13,
          14.1,
          13.7,
          12.8,
          13.7,
          9,
          10.2,
          14.6,
          14.9,
          13.8,
          12.6,
          14.3,
          12,
          14.6,
          9.2,
          9.4,
          8.8,
          15.1,
          14.2
         ]
        },
        {
         "hovertemplate": "class=%{marker.color}<br>gdp=%{x}<br>family=%{y}<br>alcohol_liperyear=%{z}<extra></extra>",
         "legendgroup": "1",
         "marker": {
          "color": [
           1,
           1,
           1,
           1,
           1,
           1,
           1,
           1,
           1,
           1,
           1,
           1,
           1,
           1,
           1,
           1,
           1,
           1,
           1,
           1,
           1,
           1,
           1,
           1
          ],
          "coloraxis": "coloraxis",
          "symbol": "x"
         },
         "mode": "markers",
         "name": "1",
         "scene": "scene",
         "showlegend": true,
         "type": "scatter3d",
         "x": [
          1.362,
          0.677,
          0.685,
          1.044,
          0.948,
          0.696,
          0.551,
          0.801,
          0.987,
          0.741,
          0.837,
          0.764,
          0.574,
          0.331,
          0.85,
          0.549,
          0.332,
          0.274,
          0.046,
          0.366,
          1.041,
          0.359,
          0.476,
          0.569
         ],
         "y": [
          1.368,
          0.886,
          1.328,
          1.303,
          1.531,
          1.111,
          1.438,
          0.782,
          1.224,
          1.346,
          1.225,
          1.03,
          1.122,
          1.056,
          1.055,
          0.91,
          1.069,
          0.757,
          0.447,
          1.114,
          1.145,
          0.711,
          0.885,
          0.808
         ],
         "z": [
          22.1,
          26,
          22.8,
          26.4,
          21.9,
          25.5,
          24,
          24.5,
          25,
          22.8,
          24.6,
          25.9,
          21.7,
          22.2,
          21.3,
          22.6,
          26,
          22.3,
          23.7,
          27.2,
          26.2,
          25.6,
          25.8,
          21.7
         ]
        },
        {
         "hovertemplate": "class=%{marker.color}<br>gdp=%{x}<br>family=%{y}<br>alcohol_liperyear=%{z}<extra></extra>",
         "legendgroup": "3",
         "marker": {
          "color": [
           3,
           3,
           3,
           3,
           3,
           3,
           3,
           3,
           3,
           3
          ],
          "coloraxis": "coloraxis",
          "symbol": "cross"
         },
         "mode": "markers",
         "name": "3",
         "scene": "scene",
         "showlegend": true,
         "type": "scatter3d",
         "x": [
          1.183,
          1.002,
          0.96,
          0.879,
          1.1,
          0.886,
          0.921,
          0.811,
          0.489,
          0.35
         ],
         "y": [
          1.36,
          1.16,
          1.351,
          1.313,
          0.842,
          0.666,
          1,
          1.149,
          1.169,
          0.517
         ],
         "z": [
          28.5,
          29.1,
          29.9,
          32.4,
          28.4,
          27.9,
          36.6,
          34.4,
          28.2,
          33.5
         ]
        }
       ],
       "layout": {
        "coloraxis": {
         "colorbar": {
          "title": {
           "text": "class"
          }
         },
         "colorscale": [
          [
           0,
           "#0d0887"
          ],
          [
           0.1111111111111111,
           "#46039f"
          ],
          [
           0.2222222222222222,
           "#7201a8"
          ],
          [
           0.3333333333333333,
           "#9c179e"
          ],
          [
           0.4444444444444444,
           "#bd3786"
          ],
          [
           0.5555555555555556,
           "#d8576b"
          ],
          [
           0.6666666666666666,
           "#ed7953"
          ],
          [
           0.7777777777777778,
           "#fb9f3a"
          ],
          [
           0.8888888888888888,
           "#fdca26"
          ],
          [
           1,
           "#f0f921"
          ]
         ]
        },
        "legend": {
         "title": {
          "text": "class"
         },
         "tracegroupgap": 0,
         "x": 0,
         "y": 1
        },
        "margin": {
         "t": 60
        },
        "scene": {
         "domain": {
          "x": [
           0,
           1
          ],
          "y": [
           0,
           1
          ]
         },
         "xaxis": {
          "title": {
           "text": "gdp"
          }
         },
         "yaxis": {
          "title": {
           "text": "family"
          }
         },
         "zaxis": {
          "title": {
           "text": "alcohol_liperyear"
          }
         }
        },
        "template": {
         "data": {
          "bar": [
           {
            "error_x": {
             "color": "#2a3f5f"
            },
            "error_y": {
             "color": "#2a3f5f"
            },
            "marker": {
             "line": {
              "color": "#E5ECF6",
              "width": 0.5
             }
            },
            "type": "bar"
           }
          ],
          "barpolar": [
           {
            "marker": {
             "line": {
              "color": "#E5ECF6",
              "width": 0.5
             }
            },
            "type": "barpolar"
           }
          ],
          "carpet": [
           {
            "aaxis": {
             "endlinecolor": "#2a3f5f",
             "gridcolor": "white",
             "linecolor": "white",
             "minorgridcolor": "white",
             "startlinecolor": "#2a3f5f"
            },
            "baxis": {
             "endlinecolor": "#2a3f5f",
             "gridcolor": "white",
             "linecolor": "white",
             "minorgridcolor": "white",
             "startlinecolor": "#2a3f5f"
            },
            "type": "carpet"
           }
          ],
          "choropleth": [
           {
            "colorbar": {
             "outlinewidth": 0,
             "ticks": ""
            },
            "type": "choropleth"
           }
          ],
          "contour": [
           {
            "colorbar": {
             "outlinewidth": 0,
             "ticks": ""
            },
            "colorscale": [
             [
              0,
              "#0d0887"
             ],
             [
              0.1111111111111111,
              "#46039f"
             ],
             [
              0.2222222222222222,
              "#7201a8"
             ],
             [
              0.3333333333333333,
              "#9c179e"
             ],
             [
              0.4444444444444444,
              "#bd3786"
             ],
             [
              0.5555555555555556,
              "#d8576b"
             ],
             [
              0.6666666666666666,
              "#ed7953"
             ],
             [
              0.7777777777777778,
              "#fb9f3a"
             ],
             [
              0.8888888888888888,
              "#fdca26"
             ],
             [
              1,
              "#f0f921"
             ]
            ],
            "type": "contour"
           }
          ],
          "contourcarpet": [
           {
            "colorbar": {
             "outlinewidth": 0,
             "ticks": ""
            },
            "type": "contourcarpet"
           }
          ],
          "heatmap": [
           {
            "colorbar": {
             "outlinewidth": 0,
             "ticks": ""
            },
            "colorscale": [
             [
              0,
              "#0d0887"
             ],
             [
              0.1111111111111111,
              "#46039f"
             ],
             [
              0.2222222222222222,
              "#7201a8"
             ],
             [
              0.3333333333333333,
              "#9c179e"
             ],
             [
              0.4444444444444444,
              "#bd3786"
             ],
             [
              0.5555555555555556,
              "#d8576b"
             ],
             [
              0.6666666666666666,
              "#ed7953"
             ],
             [
              0.7777777777777778,
              "#fb9f3a"
             ],
             [
              0.8888888888888888,
              "#fdca26"
             ],
             [
              1,
              "#f0f921"
             ]
            ],
            "type": "heatmap"
           }
          ],
          "heatmapgl": [
           {
            "colorbar": {
             "outlinewidth": 0,
             "ticks": ""
            },
            "colorscale": [
             [
              0,
              "#0d0887"
             ],
             [
              0.1111111111111111,
              "#46039f"
             ],
             [
              0.2222222222222222,
              "#7201a8"
             ],
             [
              0.3333333333333333,
              "#9c179e"
             ],
             [
              0.4444444444444444,
              "#bd3786"
             ],
             [
              0.5555555555555556,
              "#d8576b"
             ],
             [
              0.6666666666666666,
              "#ed7953"
             ],
             [
              0.7777777777777778,
              "#fb9f3a"
             ],
             [
              0.8888888888888888,
              "#fdca26"
             ],
             [
              1,
              "#f0f921"
             ]
            ],
            "type": "heatmapgl"
           }
          ],
          "histogram": [
           {
            "marker": {
             "colorbar": {
              "outlinewidth": 0,
              "ticks": ""
             }
            },
            "type": "histogram"
           }
          ],
          "histogram2d": [
           {
            "colorbar": {
             "outlinewidth": 0,
             "ticks": ""
            },
            "colorscale": [
             [
              0,
              "#0d0887"
             ],
             [
              0.1111111111111111,
              "#46039f"
             ],
             [
              0.2222222222222222,
              "#7201a8"
             ],
             [
              0.3333333333333333,
              "#9c179e"
             ],
             [
              0.4444444444444444,
              "#bd3786"
             ],
             [
              0.5555555555555556,
              "#d8576b"
             ],
             [
              0.6666666666666666,
              "#ed7953"
             ],
             [
              0.7777777777777778,
              "#fb9f3a"
             ],
             [
              0.8888888888888888,
              "#fdca26"
             ],
             [
              1,
              "#f0f921"
             ]
            ],
            "type": "histogram2d"
           }
          ],
          "histogram2dcontour": [
           {
            "colorbar": {
             "outlinewidth": 0,
             "ticks": ""
            },
            "colorscale": [
             [
              0,
              "#0d0887"
             ],
             [
              0.1111111111111111,
              "#46039f"
             ],
             [
              0.2222222222222222,
              "#7201a8"
             ],
             [
              0.3333333333333333,
              "#9c179e"
             ],
             [
              0.4444444444444444,
              "#bd3786"
             ],
             [
              0.5555555555555556,
              "#d8576b"
             ],
             [
              0.6666666666666666,
              "#ed7953"
             ],
             [
              0.7777777777777778,
              "#fb9f3a"
             ],
             [
              0.8888888888888888,
              "#fdca26"
             ],
             [
              1,
              "#f0f921"
             ]
            ],
            "type": "histogram2dcontour"
           }
          ],
          "mesh3d": [
           {
            "colorbar": {
             "outlinewidth": 0,
             "ticks": ""
            },
            "type": "mesh3d"
           }
          ],
          "parcoords": [
           {
            "line": {
             "colorbar": {
              "outlinewidth": 0,
              "ticks": ""
             }
            },
            "type": "parcoords"
           }
          ],
          "pie": [
           {
            "automargin": true,
            "type": "pie"
           }
          ],
          "scatter": [
           {
            "marker": {
             "colorbar": {
              "outlinewidth": 0,
              "ticks": ""
             }
            },
            "type": "scatter"
           }
          ],
          "scatter3d": [
           {
            "line": {
             "colorbar": {
              "outlinewidth": 0,
              "ticks": ""
             }
            },
            "marker": {
             "colorbar": {
              "outlinewidth": 0,
              "ticks": ""
             }
            },
            "type": "scatter3d"
           }
          ],
          "scattercarpet": [
           {
            "marker": {
             "colorbar": {
              "outlinewidth": 0,
              "ticks": ""
             }
            },
            "type": "scattercarpet"
           }
          ],
          "scattergeo": [
           {
            "marker": {
             "colorbar": {
              "outlinewidth": 0,
              "ticks": ""
             }
            },
            "type": "scattergeo"
           }
          ],
          "scattergl": [
           {
            "marker": {
             "colorbar": {
              "outlinewidth": 0,
              "ticks": ""
             }
            },
            "type": "scattergl"
           }
          ],
          "scattermapbox": [
           {
            "marker": {
             "colorbar": {
              "outlinewidth": 0,
              "ticks": ""
             }
            },
            "type": "scattermapbox"
           }
          ],
          "scatterpolar": [
           {
            "marker": {
             "colorbar": {
              "outlinewidth": 0,
              "ticks": ""
             }
            },
            "type": "scatterpolar"
           }
          ],
          "scatterpolargl": [
           {
            "marker": {
             "colorbar": {
              "outlinewidth": 0,
              "ticks": ""
             }
            },
            "type": "scatterpolargl"
           }
          ],
          "scatterternary": [
           {
            "marker": {
             "colorbar": {
              "outlinewidth": 0,
              "ticks": ""
             }
            },
            "type": "scatterternary"
           }
          ],
          "surface": [
           {
            "colorbar": {
             "outlinewidth": 0,
             "ticks": ""
            },
            "colorscale": [
             [
              0,
              "#0d0887"
             ],
             [
              0.1111111111111111,
              "#46039f"
             ],
             [
              0.2222222222222222,
              "#7201a8"
             ],
             [
              0.3333333333333333,
              "#9c179e"
             ],
             [
              0.4444444444444444,
              "#bd3786"
             ],
             [
              0.5555555555555556,
              "#d8576b"
             ],
             [
              0.6666666666666666,
              "#ed7953"
             ],
             [
              0.7777777777777778,
              "#fb9f3a"
             ],
             [
              0.8888888888888888,
              "#fdca26"
             ],
             [
              1,
              "#f0f921"
             ]
            ],
            "type": "surface"
           }
          ],
          "table": [
           {
            "cells": {
             "fill": {
              "color": "#EBF0F8"
             },
             "line": {
              "color": "white"
             }
            },
            "header": {
             "fill": {
              "color": "#C8D4E3"
             },
             "line": {
              "color": "white"
             }
            },
            "type": "table"
           }
          ]
         },
         "layout": {
          "annotationdefaults": {
           "arrowcolor": "#2a3f5f",
           "arrowhead": 0,
           "arrowwidth": 1
          },
          "autotypenumbers": "strict",
          "coloraxis": {
           "colorbar": {
            "outlinewidth": 0,
            "ticks": ""
           }
          },
          "colorscale": {
           "diverging": [
            [
             0,
             "#8e0152"
            ],
            [
             0.1,
             "#c51b7d"
            ],
            [
             0.2,
             "#de77ae"
            ],
            [
             0.3,
             "#f1b6da"
            ],
            [
             0.4,
             "#fde0ef"
            ],
            [
             0.5,
             "#f7f7f7"
            ],
            [
             0.6,
             "#e6f5d0"
            ],
            [
             0.7,
             "#b8e186"
            ],
            [
             0.8,
             "#7fbc41"
            ],
            [
             0.9,
             "#4d9221"
            ],
            [
             1,
             "#276419"
            ]
           ],
           "sequential": [
            [
             0,
             "#0d0887"
            ],
            [
             0.1111111111111111,
             "#46039f"
            ],
            [
             0.2222222222222222,
             "#7201a8"
            ],
            [
             0.3333333333333333,
             "#9c179e"
            ],
            [
             0.4444444444444444,
             "#bd3786"
            ],
            [
             0.5555555555555556,
             "#d8576b"
            ],
            [
             0.6666666666666666,
             "#ed7953"
            ],
            [
             0.7777777777777778,
             "#fb9f3a"
            ],
            [
             0.8888888888888888,
             "#fdca26"
            ],
            [
             1,
             "#f0f921"
            ]
           ],
           "sequentialminus": [
            [
             0,
             "#0d0887"
            ],
            [
             0.1111111111111111,
             "#46039f"
            ],
            [
             0.2222222222222222,
             "#7201a8"
            ],
            [
             0.3333333333333333,
             "#9c179e"
            ],
            [
             0.4444444444444444,
             "#bd3786"
            ],
            [
             0.5555555555555556,
             "#d8576b"
            ],
            [
             0.6666666666666666,
             "#ed7953"
            ],
            [
             0.7777777777777778,
             "#fb9f3a"
            ],
            [
             0.8888888888888888,
             "#fdca26"
            ],
            [
             1,
             "#f0f921"
            ]
           ]
          },
          "colorway": [
           "#636efa",
           "#EF553B",
           "#00cc96",
           "#ab63fa",
           "#FFA15A",
           "#19d3f3",
           "#FF6692",
           "#B6E880",
           "#FF97FF",
           "#FECB52"
          ],
          "font": {
           "color": "#2a3f5f"
          },
          "geo": {
           "bgcolor": "white",
           "lakecolor": "white",
           "landcolor": "#E5ECF6",
           "showlakes": true,
           "showland": true,
           "subunitcolor": "white"
          },
          "hoverlabel": {
           "align": "left"
          },
          "hovermode": "closest",
          "mapbox": {
           "style": "light"
          },
          "paper_bgcolor": "white",
          "plot_bgcolor": "#E5ECF6",
          "polar": {
           "angularaxis": {
            "gridcolor": "white",
            "linecolor": "white",
            "ticks": ""
           },
           "bgcolor": "#E5ECF6",
           "radialaxis": {
            "gridcolor": "white",
            "linecolor": "white",
            "ticks": ""
           }
          },
          "scene": {
           "xaxis": {
            "backgroundcolor": "#E5ECF6",
            "gridcolor": "white",
            "gridwidth": 2,
            "linecolor": "white",
            "showbackground": true,
            "ticks": "",
            "zerolinecolor": "white"
           },
           "yaxis": {
            "backgroundcolor": "#E5ECF6",
            "gridcolor": "white",
            "gridwidth": 2,
            "linecolor": "white",
            "showbackground": true,
            "ticks": "",
            "zerolinecolor": "white"
           },
           "zaxis": {
            "backgroundcolor": "#E5ECF6",
            "gridcolor": "white",
            "gridwidth": 2,
            "linecolor": "white",
            "showbackground": true,
            "ticks": "",
            "zerolinecolor": "white"
           }
          },
          "shapedefaults": {
           "line": {
            "color": "#2a3f5f"
           }
          },
          "ternary": {
           "aaxis": {
            "gridcolor": "white",
            "linecolor": "white",
            "ticks": ""
           },
           "baxis": {
            "gridcolor": "white",
            "linecolor": "white",
            "ticks": ""
           },
           "bgcolor": "#E5ECF6",
           "caxis": {
            "gridcolor": "white",
            "linecolor": "white",
            "ticks": ""
           }
          },
          "title": {
           "x": 0.05
          },
          "xaxis": {
           "automargin": true,
           "gridcolor": "white",
           "linecolor": "white",
           "ticks": "",
           "title": {
            "standoff": 15
           },
           "zerolinecolor": "white",
           "zerolinewidth": 2
          },
          "yaxis": {
           "automargin": true,
           "gridcolor": "white",
           "linecolor": "white",
           "ticks": "",
           "title": {
            "standoff": 15
           },
           "zerolinecolor": "white",
           "zerolinewidth": 2
          }
         }
        },
        "width": 800
       }
      },
      "text/html": [
       "<div>                            <div id=\"9e452f09-5595-4435-b2f1-1a1d21071214\" class=\"plotly-graph-div\" style=\"height:525px; width:800px;\"></div>            <script type=\"text/javascript\">                require([\"plotly\"], function(Plotly) {                    window.PLOTLYENV=window.PLOTLYENV || {};                                    if (document.getElementById(\"9e452f09-5595-4435-b2f1-1a1d21071214\")) {                    Plotly.newPlot(                        \"9e452f09-5595-4435-b2f1-1a1d21071214\",                        [{\"hovertemplate\": \"class=%{marker.color}<br>gdp=%{x}<br>family=%{y}<br>alcohol_liperyear=%{z}<extra></extra>\", \"legendgroup\": \"4\", \"marker\": {\"color\": [4, 4, 4, 4, 4, 4, 4, 4, 4, 4, 4, 4, 4, 4, 4, 4, 4, 4, 4, 4, 4, 4, 4, 4, 4, 4, 4, 4, 4, 4, 4, 4, 4, 4, 4, 4, 4, 4, 4, 4, 4, 4], \"coloraxis\": \"coloraxis\", \"symbol\": \"circle\"}, \"mode\": \"markers\", \"name\": \"4\", \"scene\": \"scene\", \"showlegend\": true, \"type\": \"scatter3d\", \"x\": [1.004, 1.124, 1.246, 1.206, 1.238, 1.258, 0.694, 1.162, 1.263, 1.05, 1.187, 1.301, 1.237, 1.173, 1.201, 0.855, 1.221, 1.183, 0.807, 1.004, 0.493, 1.015, 1.181, 1.052, 1.057, 1.333, 1.499, 1.373, 1.356, 1.269, 1.503, 1.07, 1.324, 1.092, 1.149, 0.268, 0.578, 0.073, 0.323, 0.619, 0.191, 0.71], \"y\": [1.439, 1.465, 1.504, 1.438, 1.515, 1.523, 1.325, 1.232, 1.223, 1.409, 1.465, 1.219, 1.528, 1.508, 1.41, 1.475, 1.431, 1.452, 1.293, 1.383, 1.098, 1.401, 1.156, 1.538, 1.183, 1.538, 1.553, 1.454, 1.504, 1.487, 1.31, 1.323, 1.472, 1.513, 1.442, 0.841, 1.058, 0.922, 0.688, 0.378, 0.56, 1.181], \"z\": [19.3, 15.7, 16.6, 17.1, 18.9, 17.7, 15.9, 18.8, 15.6, 20.3, 17.2, 16.0, 15.9, 19.2, 17.1, 20.1, 17.8, 20.1, 19.9, 18.5, 15.8, 16.0, 15.9, 17.8, 17.2, 15.6, 16.0, 16.9, 15.9, 19.1, 20.5, 15.3, 16.7, 19.2, 16.5, 18.3, 17.7, 18.7, 16.5, 15.5, 15.5, 17.6]}, {\"hovertemplate\": \"class=%{marker.color}<br>gdp=%{x}<br>family=%{y}<br>alcohol_liperyear=%{z}<extra></extra>\", \"legendgroup\": \"2\", \"marker\": {\"color\": [2, 2, 2, 2, 2, 2, 2, 2, 2, 2, 2, 2, 2, 2, 2, 2, 2, 2, 2], \"coloraxis\": \"coloraxis\", \"symbol\": \"diamond\"}, \"mode\": \"markers\", \"name\": \"2\", \"scene\": \"scene\", \"showlegend\": true, \"type\": \"scatter3d\", \"x\": [1.572, 1.5, 1.221, 1.043, 0.931, 0.813, 0.45, 0.0, 0.138, 0.38, 0.57, 0.562, 0.385, 1.276, 1.403, 1.684, 0.446, 0.35, 0.094], \"y\": [1.463, 1.319, 1.171, 1.147, 1.203, 1.321, 1.134, 0.698, 0.774, 0.829, 1.167, 0.928, 1.105, 1.455, 1.357, 1.313, 1.226, 0.766, 1.125], \"z\": [2.9, 1.0, 3.1, 3.7, 3.4, 1.9, 3.5, 1.5, 2.5, 5.8, 3.8, 0.9, 5.7, 7.0, 3.8, 4.4, 7.4, 6.9, 7.1]}, {\"hovertemplate\": \"class=%{marker.color}<br>gdp=%{x}<br>family=%{y}<br>alcohol_liperyear=%{z}<extra></extra>\", \"legendgroup\": \"0\", \"marker\": {\"color\": [0, 0, 0, 0, 0, 0, 0, 0, 0, 0, 0, 0, 0, 0, 0, 0, 0, 0, 0, 0, 0, 0, 0, 0, 0, 0, 0, 0, 0, 0, 0, 0, 0, 0, 0, 0, 0, 0, 0, 0, 0, 0, 0, 0, 0, 0, 0, 0, 0, 0, 0, 0, 0, 0], \"coloraxis\": \"coloraxis\", \"symbol\": \"square\"}, \"mode\": \"markers\", \"name\": \"0\", \"scene\": \"scene\", \"showlegend\": true, \"type\": \"scatter3d\", \"x\": [0.794, 1.294, 0.745, 0.985, 1.092, 0.912, 0.831, 1.12, 1.327, 0.642, 0.776, 0.96, 1.051, 1.155, 0.945, 1.067, 1.029, 0.393, 0.947, 0.96, 0.308, 0.512, 0.204, 1.043, 1.34, 1.383, 1.488, 1.38, 1.396, 1.452, 1.387, 1.303, 1.365, 1.376, 1.372, 1.034, 1.609, 1.433, 1.3, 1.159, 0.8, 0.611, 1.286, 0.949, 0.82, 0.336, 0.913, 0.275, 0.755, 0.274, 0.287, 0.026, 0.673, 1.231], \"y\": [1.242, 1.488, 1.529, 1.41, 1.432, 1.312, 1.478, 1.402, 1.419, 1.236, 1.209, 1.274, 1.361, 1.266, 1.212, 1.465, 1.125, 0.437, 0.848, 1.427, 0.939, 0.983, 0.986, 0.98, 1.587, 1.573, 1.582, 1.624, 1.522, 1.526, 1.487, 1.557, 1.505, 1.475, 1.548, 1.441, 1.479, 1.457, 1.52, 1.369, 1.269, 0.868, 1.484, 1.265, 1.39, 1.033, 1.039, 0.572, 0.765, 0.916, 1.163, 0.0, 0.799, 1.477], \"z\": [12.8, 12.0, 12.8, 15.2, 14.6, 9.5, 11.9, 11.5, 14.1, 13.5, 10.5, 11.8, 14.8, 15.0, 13.4, 15.2, 12.9, 11.6, 14.6, 14.9, 14.1, 14.1, 11.4, 12.4, 14.8, 13.9, 9.4, 12.8, 12.0, 14.2, 12.5, 14.3, 13.8, 14.9, 13.4, 13.0, 14.1, 13.7, 12.8, 13.7, 9.0, 10.2, 14.6, 14.9, 13.8, 12.6, 14.3, 12.0, 14.6, 9.2, 9.4, 8.8, 15.1, 14.2]}, {\"hovertemplate\": \"class=%{marker.color}<br>gdp=%{x}<br>family=%{y}<br>alcohol_liperyear=%{z}<extra></extra>\", \"legendgroup\": \"1\", \"marker\": {\"color\": [1, 1, 1, 1, 1, 1, 1, 1, 1, 1, 1, 1, 1, 1, 1, 1, 1, 1, 1, 1, 1, 1, 1, 1], \"coloraxis\": \"coloraxis\", \"symbol\": \"x\"}, \"mode\": \"markers\", \"name\": \"1\", \"scene\": \"scene\", \"showlegend\": true, \"type\": \"scatter3d\", \"x\": [1.362, 0.677, 0.685, 1.044, 0.948, 0.696, 0.551, 0.801, 0.987, 0.741, 0.837, 0.764, 0.574, 0.331, 0.85, 0.549, 0.332, 0.274, 0.046, 0.366, 1.041, 0.359, 0.476, 0.569], \"y\": [1.368, 0.886, 1.328, 1.303, 1.531, 1.111, 1.438, 0.782, 1.224, 1.346, 1.225, 1.03, 1.122, 1.056, 1.055, 0.91, 1.069, 0.757, 0.447, 1.114, 1.145, 0.711, 0.885, 0.808], \"z\": [22.1, 26.0, 22.8, 26.4, 21.9, 25.5, 24.0, 24.5, 25.0, 22.8, 24.6, 25.9, 21.7, 22.2, 21.3, 22.6, 26.0, 22.3, 23.7, 27.2, 26.2, 25.6, 25.8, 21.7]}, {\"hovertemplate\": \"class=%{marker.color}<br>gdp=%{x}<br>family=%{y}<br>alcohol_liperyear=%{z}<extra></extra>\", \"legendgroup\": \"3\", \"marker\": {\"color\": [3, 3, 3, 3, 3, 3, 3, 3, 3, 3], \"coloraxis\": \"coloraxis\", \"symbol\": \"cross\"}, \"mode\": \"markers\", \"name\": \"3\", \"scene\": \"scene\", \"showlegend\": true, \"type\": \"scatter3d\", \"x\": [1.183, 1.002, 0.96, 0.879, 1.1, 0.886, 0.921, 0.811, 0.489, 0.35], \"y\": [1.36, 1.16, 1.351, 1.313, 0.842, 0.666, 1.0, 1.149, 1.169, 0.517], \"z\": [28.5, 29.1, 29.9, 32.4, 28.4, 27.9, 36.6, 34.4, 28.2, 33.5]}],                        {\"coloraxis\": {\"colorbar\": {\"title\": {\"text\": \"class\"}}, \"colorscale\": [[0.0, \"#0d0887\"], [0.1111111111111111, \"#46039f\"], [0.2222222222222222, \"#7201a8\"], [0.3333333333333333, \"#9c179e\"], [0.4444444444444444, \"#bd3786\"], [0.5555555555555556, \"#d8576b\"], [0.6666666666666666, \"#ed7953\"], [0.7777777777777778, \"#fb9f3a\"], [0.8888888888888888, \"#fdca26\"], [1.0, \"#f0f921\"]]}, \"legend\": {\"title\": {\"text\": \"class\"}, \"tracegroupgap\": 0, \"x\": 0, \"y\": 1}, \"margin\": {\"t\": 60}, \"scene\": {\"domain\": {\"x\": [0.0, 1.0], \"y\": [0.0, 1.0]}, \"xaxis\": {\"title\": {\"text\": \"gdp\"}}, \"yaxis\": {\"title\": {\"text\": \"family\"}}, \"zaxis\": {\"title\": {\"text\": \"alcohol_liperyear\"}}}, \"template\": {\"data\": {\"bar\": [{\"error_x\": {\"color\": \"#2a3f5f\"}, \"error_y\": {\"color\": \"#2a3f5f\"}, \"marker\": {\"line\": {\"color\": \"#E5ECF6\", \"width\": 0.5}}, \"type\": \"bar\"}], \"barpolar\": [{\"marker\": {\"line\": {\"color\": \"#E5ECF6\", \"width\": 0.5}}, \"type\": \"barpolar\"}], \"carpet\": [{\"aaxis\": {\"endlinecolor\": \"#2a3f5f\", \"gridcolor\": \"white\", \"linecolor\": \"white\", \"minorgridcolor\": \"white\", \"startlinecolor\": \"#2a3f5f\"}, \"baxis\": {\"endlinecolor\": \"#2a3f5f\", \"gridcolor\": \"white\", \"linecolor\": \"white\", \"minorgridcolor\": \"white\", \"startlinecolor\": \"#2a3f5f\"}, \"type\": \"carpet\"}], \"choropleth\": [{\"colorbar\": {\"outlinewidth\": 0, \"ticks\": \"\"}, \"type\": \"choropleth\"}], \"contour\": [{\"colorbar\": {\"outlinewidth\": 0, \"ticks\": \"\"}, \"colorscale\": [[0.0, \"#0d0887\"], [0.1111111111111111, \"#46039f\"], [0.2222222222222222, \"#7201a8\"], [0.3333333333333333, \"#9c179e\"], [0.4444444444444444, \"#bd3786\"], [0.5555555555555556, \"#d8576b\"], [0.6666666666666666, \"#ed7953\"], [0.7777777777777778, \"#fb9f3a\"], [0.8888888888888888, \"#fdca26\"], [1.0, \"#f0f921\"]], \"type\": \"contour\"}], \"contourcarpet\": [{\"colorbar\": {\"outlinewidth\": 0, \"ticks\": \"\"}, \"type\": \"contourcarpet\"}], \"heatmap\": [{\"colorbar\": {\"outlinewidth\": 0, \"ticks\": \"\"}, \"colorscale\": [[0.0, \"#0d0887\"], [0.1111111111111111, \"#46039f\"], [0.2222222222222222, \"#7201a8\"], [0.3333333333333333, \"#9c179e\"], [0.4444444444444444, \"#bd3786\"], [0.5555555555555556, \"#d8576b\"], [0.6666666666666666, \"#ed7953\"], [0.7777777777777778, \"#fb9f3a\"], [0.8888888888888888, \"#fdca26\"], [1.0, \"#f0f921\"]], \"type\": \"heatmap\"}], \"heatmapgl\": [{\"colorbar\": {\"outlinewidth\": 0, \"ticks\": \"\"}, \"colorscale\": [[0.0, \"#0d0887\"], [0.1111111111111111, \"#46039f\"], [0.2222222222222222, \"#7201a8\"], [0.3333333333333333, \"#9c179e\"], [0.4444444444444444, \"#bd3786\"], [0.5555555555555556, \"#d8576b\"], [0.6666666666666666, \"#ed7953\"], [0.7777777777777778, \"#fb9f3a\"], [0.8888888888888888, \"#fdca26\"], [1.0, \"#f0f921\"]], \"type\": \"heatmapgl\"}], \"histogram\": [{\"marker\": {\"colorbar\": {\"outlinewidth\": 0, \"ticks\": \"\"}}, \"type\": \"histogram\"}], \"histogram2d\": [{\"colorbar\": {\"outlinewidth\": 0, \"ticks\": \"\"}, \"colorscale\": [[0.0, \"#0d0887\"], [0.1111111111111111, \"#46039f\"], [0.2222222222222222, \"#7201a8\"], [0.3333333333333333, \"#9c179e\"], [0.4444444444444444, \"#bd3786\"], [0.5555555555555556, \"#d8576b\"], [0.6666666666666666, \"#ed7953\"], [0.7777777777777778, \"#fb9f3a\"], [0.8888888888888888, \"#fdca26\"], [1.0, \"#f0f921\"]], \"type\": \"histogram2d\"}], \"histogram2dcontour\": [{\"colorbar\": {\"outlinewidth\": 0, \"ticks\": \"\"}, \"colorscale\": [[0.0, \"#0d0887\"], [0.1111111111111111, \"#46039f\"], [0.2222222222222222, \"#7201a8\"], [0.3333333333333333, \"#9c179e\"], [0.4444444444444444, \"#bd3786\"], [0.5555555555555556, \"#d8576b\"], [0.6666666666666666, \"#ed7953\"], [0.7777777777777778, \"#fb9f3a\"], [0.8888888888888888, \"#fdca26\"], [1.0, \"#f0f921\"]], \"type\": \"histogram2dcontour\"}], \"mesh3d\": [{\"colorbar\": {\"outlinewidth\": 0, \"ticks\": \"\"}, \"type\": \"mesh3d\"}], \"parcoords\": [{\"line\": {\"colorbar\": {\"outlinewidth\": 0, \"ticks\": \"\"}}, \"type\": \"parcoords\"}], \"pie\": [{\"automargin\": true, \"type\": \"pie\"}], \"scatter\": [{\"marker\": {\"colorbar\": {\"outlinewidth\": 0, \"ticks\": \"\"}}, \"type\": \"scatter\"}], \"scatter3d\": [{\"line\": {\"colorbar\": {\"outlinewidth\": 0, \"ticks\": \"\"}}, \"marker\": {\"colorbar\": {\"outlinewidth\": 0, \"ticks\": \"\"}}, \"type\": \"scatter3d\"}], \"scattercarpet\": [{\"marker\": {\"colorbar\": {\"outlinewidth\": 0, \"ticks\": \"\"}}, \"type\": \"scattercarpet\"}], \"scattergeo\": [{\"marker\": {\"colorbar\": {\"outlinewidth\": 0, \"ticks\": \"\"}}, \"type\": \"scattergeo\"}], \"scattergl\": [{\"marker\": {\"colorbar\": {\"outlinewidth\": 0, \"ticks\": \"\"}}, \"type\": \"scattergl\"}], \"scattermapbox\": [{\"marker\": {\"colorbar\": {\"outlinewidth\": 0, \"ticks\": \"\"}}, \"type\": \"scattermapbox\"}], \"scatterpolar\": [{\"marker\": {\"colorbar\": {\"outlinewidth\": 0, \"ticks\": \"\"}}, \"type\": \"scatterpolar\"}], \"scatterpolargl\": [{\"marker\": {\"colorbar\": {\"outlinewidth\": 0, \"ticks\": \"\"}}, \"type\": \"scatterpolargl\"}], \"scatterternary\": [{\"marker\": {\"colorbar\": {\"outlinewidth\": 0, \"ticks\": \"\"}}, \"type\": \"scatterternary\"}], \"surface\": [{\"colorbar\": {\"outlinewidth\": 0, \"ticks\": \"\"}, \"colorscale\": [[0.0, \"#0d0887\"], [0.1111111111111111, \"#46039f\"], [0.2222222222222222, \"#7201a8\"], [0.3333333333333333, \"#9c179e\"], [0.4444444444444444, \"#bd3786\"], [0.5555555555555556, \"#d8576b\"], [0.6666666666666666, \"#ed7953\"], [0.7777777777777778, \"#fb9f3a\"], [0.8888888888888888, \"#fdca26\"], [1.0, \"#f0f921\"]], \"type\": \"surface\"}], \"table\": [{\"cells\": {\"fill\": {\"color\": \"#EBF0F8\"}, \"line\": {\"color\": \"white\"}}, \"header\": {\"fill\": {\"color\": \"#C8D4E3\"}, \"line\": {\"color\": \"white\"}}, \"type\": \"table\"}]}, \"layout\": {\"annotationdefaults\": {\"arrowcolor\": \"#2a3f5f\", \"arrowhead\": 0, \"arrowwidth\": 1}, \"autotypenumbers\": \"strict\", \"coloraxis\": {\"colorbar\": {\"outlinewidth\": 0, \"ticks\": \"\"}}, \"colorscale\": {\"diverging\": [[0, \"#8e0152\"], [0.1, \"#c51b7d\"], [0.2, \"#de77ae\"], [0.3, \"#f1b6da\"], [0.4, \"#fde0ef\"], [0.5, \"#f7f7f7\"], [0.6, \"#e6f5d0\"], [0.7, \"#b8e186\"], [0.8, \"#7fbc41\"], [0.9, \"#4d9221\"], [1, \"#276419\"]], \"sequential\": [[0.0, \"#0d0887\"], [0.1111111111111111, \"#46039f\"], [0.2222222222222222, \"#7201a8\"], [0.3333333333333333, \"#9c179e\"], [0.4444444444444444, \"#bd3786\"], [0.5555555555555556, \"#d8576b\"], [0.6666666666666666, \"#ed7953\"], [0.7777777777777778, \"#fb9f3a\"], [0.8888888888888888, \"#fdca26\"], [1.0, \"#f0f921\"]], \"sequentialminus\": [[0.0, \"#0d0887\"], [0.1111111111111111, \"#46039f\"], [0.2222222222222222, \"#7201a8\"], [0.3333333333333333, \"#9c179e\"], [0.4444444444444444, \"#bd3786\"], [0.5555555555555556, \"#d8576b\"], [0.6666666666666666, \"#ed7953\"], [0.7777777777777778, \"#fb9f3a\"], [0.8888888888888888, \"#fdca26\"], [1.0, \"#f0f921\"]]}, \"colorway\": [\"#636efa\", \"#EF553B\", \"#00cc96\", \"#ab63fa\", \"#FFA15A\", \"#19d3f3\", \"#FF6692\", \"#B6E880\", \"#FF97FF\", \"#FECB52\"], \"font\": {\"color\": \"#2a3f5f\"}, \"geo\": {\"bgcolor\": \"white\", \"lakecolor\": \"white\", \"landcolor\": \"#E5ECF6\", \"showlakes\": true, \"showland\": true, \"subunitcolor\": \"white\"}, \"hoverlabel\": {\"align\": \"left\"}, \"hovermode\": \"closest\", \"mapbox\": {\"style\": \"light\"}, \"paper_bgcolor\": \"white\", \"plot_bgcolor\": \"#E5ECF6\", \"polar\": {\"angularaxis\": {\"gridcolor\": \"white\", \"linecolor\": \"white\", \"ticks\": \"\"}, \"bgcolor\": \"#E5ECF6\", \"radialaxis\": {\"gridcolor\": \"white\", \"linecolor\": \"white\", \"ticks\": \"\"}}, \"scene\": {\"xaxis\": {\"backgroundcolor\": \"#E5ECF6\", \"gridcolor\": \"white\", \"gridwidth\": 2, \"linecolor\": \"white\", \"showbackground\": true, \"ticks\": \"\", \"zerolinecolor\": \"white\"}, \"yaxis\": {\"backgroundcolor\": \"#E5ECF6\", \"gridcolor\": \"white\", \"gridwidth\": 2, \"linecolor\": \"white\", \"showbackground\": true, \"ticks\": \"\", \"zerolinecolor\": \"white\"}, \"zaxis\": {\"backgroundcolor\": \"#E5ECF6\", \"gridcolor\": \"white\", \"gridwidth\": 2, \"linecolor\": \"white\", \"showbackground\": true, \"ticks\": \"\", \"zerolinecolor\": \"white\"}}, \"shapedefaults\": {\"line\": {\"color\": \"#2a3f5f\"}}, \"ternary\": {\"aaxis\": {\"gridcolor\": \"white\", \"linecolor\": \"white\", \"ticks\": \"\"}, \"baxis\": {\"gridcolor\": \"white\", \"linecolor\": \"white\", \"ticks\": \"\"}, \"bgcolor\": \"#E5ECF6\", \"caxis\": {\"gridcolor\": \"white\", \"linecolor\": \"white\", \"ticks\": \"\"}}, \"title\": {\"x\": 0.05}, \"xaxis\": {\"automargin\": true, \"gridcolor\": \"white\", \"linecolor\": \"white\", \"ticks\": \"\", \"title\": {\"standoff\": 15}, \"zerolinecolor\": \"white\", \"zerolinewidth\": 2}, \"yaxis\": {\"automargin\": true, \"gridcolor\": \"white\", \"linecolor\": \"white\", \"ticks\": \"\", \"title\": {\"standoff\": 15}, \"zerolinecolor\": \"white\", \"zerolinewidth\": 2}}}, \"width\": 800},                        {\"responsive\": true}                    ).then(function(){\n",
       "                            \n",
       "var gd = document.getElementById('9e452f09-5595-4435-b2f1-1a1d21071214');\n",
       "var x = new MutationObserver(function (mutations, observer) {{\n",
       "        var display = window.getComputedStyle(gd).display;\n",
       "        if (!display || display === 'none') {{\n",
       "            console.log([gd, 'removed!']);\n",
       "            Plotly.purge(gd);\n",
       "            observer.disconnect();\n",
       "        }}\n",
       "}});\n",
       "\n",
       "// Listen for the removal of the full notebook cells\n",
       "var notebookContainer = gd.closest('#notebook-container');\n",
       "if (notebookContainer) {{\n",
       "    x.observe(notebookContainer, {childList: true});\n",
       "}}\n",
       "\n",
       "// Listen for the clearing of the current output cell\n",
       "var outputEl = gd.closest('.output');\n",
       "if (outputEl) {{\n",
       "    x.observe(outputEl, {childList: true});\n",
       "}}\n",
       "\n",
       "                        })                };                });            </script>        </div>"
      ]
     },
     "metadata": {},
     "output_type": "display_data"
    }
   ],
   "source": [
    "# Plot the DataFrame with a third axis  \n",
    "fig = px.scatter_3d(\n",
    "    df_2019,\n",
    "x=\"gdp\",\n",
    "    y=\"family\",\n",
    "    z=\"alcohol_liperyear\",\n",
    "color=\"class\",\n",
    "    symbol=\"class\",\n",
    "    width=800,\n",
    ")\n",
    "fig.update_layout(legend=dict(x=0, y=1))\n",
    "fig.show()"
   ]
  },
  {
   "cell_type": "markdown",
   "id": "e71e9fa3",
   "metadata": {},
   "source": [
    "### Elbow Curve"
   ]
  },
  {
   "cell_type": "code",
   "execution_count": 57,
   "id": "db4108de",
   "metadata": {},
   "outputs": [
    {
     "data": {
      "text/html": [
       "<div>\n",
       "<style scoped>\n",
       "    .dataframe tbody tr th:only-of-type {\n",
       "        vertical-align: middle;\n",
       "    }\n",
       "\n",
       "    .dataframe tbody tr th {\n",
       "        vertical-align: top;\n",
       "    }\n",
       "\n",
       "    .dataframe thead th {\n",
       "        text-align: right;\n",
       "    }\n",
       "</style>\n",
       "<table border=\"1\" class=\"dataframe\">\n",
       "  <thead>\n",
       "    <tr style=\"text-align: right;\">\n",
       "      <th></th>\n",
       "      <th>gdp</th>\n",
       "      <th>family</th>\n",
       "      <th>lifeexpectancy</th>\n",
       "      <th>freedom</th>\n",
       "      <th>generosity</th>\n",
       "      <th>trust</th>\n",
       "      <th>alcohol_liperyear</th>\n",
       "    </tr>\n",
       "  </thead>\n",
       "  <tbody>\n",
       "    <tr>\n",
       "      <th>0</th>\n",
       "      <td>1.004</td>\n",
       "      <td>1.439</td>\n",
       "      <td>0.802</td>\n",
       "      <td>0.390</td>\n",
       "      <td>0.099</td>\n",
       "      <td>0.086</td>\n",
       "      <td>19.3</td>\n",
       "    </tr>\n",
       "    <tr>\n",
       "      <th>1</th>\n",
       "      <td>1.124</td>\n",
       "      <td>1.465</td>\n",
       "      <td>0.891</td>\n",
       "      <td>0.523</td>\n",
       "      <td>0.127</td>\n",
       "      <td>0.150</td>\n",
       "      <td>15.7</td>\n",
       "    </tr>\n",
       "    <tr>\n",
       "      <th>2</th>\n",
       "      <td>1.572</td>\n",
       "      <td>1.463</td>\n",
       "      <td>1.141</td>\n",
       "      <td>0.556</td>\n",
       "      <td>0.271</td>\n",
       "      <td>0.453</td>\n",
       "      <td>2.9</td>\n",
       "    </tr>\n",
       "    <tr>\n",
       "      <th>3</th>\n",
       "      <td>0.794</td>\n",
       "      <td>1.242</td>\n",
       "      <td>0.789</td>\n",
       "      <td>0.430</td>\n",
       "      <td>0.093</td>\n",
       "      <td>0.074</td>\n",
       "      <td>12.8</td>\n",
       "    </tr>\n",
       "    <tr>\n",
       "      <th>4</th>\n",
       "      <td>1.294</td>\n",
       "      <td>1.488</td>\n",
       "      <td>1.039</td>\n",
       "      <td>0.231</td>\n",
       "      <td>0.158</td>\n",
       "      <td>0.030</td>\n",
       "      <td>12.0</td>\n",
       "    </tr>\n",
       "    <tr>\n",
       "      <th>5</th>\n",
       "      <td>1.362</td>\n",
       "      <td>1.368</td>\n",
       "      <td>0.871</td>\n",
       "      <td>0.536</td>\n",
       "      <td>0.255</td>\n",
       "      <td>0.110</td>\n",
       "      <td>22.1</td>\n",
       "    </tr>\n",
       "    <tr>\n",
       "      <th>6</th>\n",
       "      <td>1.246</td>\n",
       "      <td>1.504</td>\n",
       "      <td>0.881</td>\n",
       "      <td>0.334</td>\n",
       "      <td>0.121</td>\n",
       "      <td>0.014</td>\n",
       "      <td>16.6</td>\n",
       "    </tr>\n",
       "    <tr>\n",
       "      <th>7</th>\n",
       "      <td>1.206</td>\n",
       "      <td>1.438</td>\n",
       "      <td>0.884</td>\n",
       "      <td>0.483</td>\n",
       "      <td>0.117</td>\n",
       "      <td>0.050</td>\n",
       "      <td>17.1</td>\n",
       "    </tr>\n",
       "    <tr>\n",
       "      <th>8</th>\n",
       "      <td>0.745</td>\n",
       "      <td>1.529</td>\n",
       "      <td>0.756</td>\n",
       "      <td>0.631</td>\n",
       "      <td>0.322</td>\n",
       "      <td>0.240</td>\n",
       "      <td>12.8</td>\n",
       "    </tr>\n",
       "    <tr>\n",
       "      <th>9</th>\n",
       "      <td>1.238</td>\n",
       "      <td>1.515</td>\n",
       "      <td>0.818</td>\n",
       "      <td>0.291</td>\n",
       "      <td>0.043</td>\n",
       "      <td>0.042</td>\n",
       "      <td>18.9</td>\n",
       "    </tr>\n",
       "  </tbody>\n",
       "</table>\n",
       "</div>"
      ],
      "text/plain": [
       "     gdp  family  lifeexpectancy  freedom  generosity  trust  \\\n",
       "0  1.004   1.439           0.802    0.390       0.099  0.086   \n",
       "1  1.124   1.465           0.891    0.523       0.127  0.150   \n",
       "2  1.572   1.463           1.141    0.556       0.271  0.453   \n",
       "3  0.794   1.242           0.789    0.430       0.093  0.074   \n",
       "4  1.294   1.488           1.039    0.231       0.158  0.030   \n",
       "5  1.362   1.368           0.871    0.536       0.255  0.110   \n",
       "6  1.246   1.504           0.881    0.334       0.121  0.014   \n",
       "7  1.206   1.438           0.884    0.483       0.117  0.050   \n",
       "8  0.745   1.529           0.756    0.631       0.322  0.240   \n",
       "9  1.238   1.515           0.818    0.291       0.043  0.042   \n",
       "\n",
       "   alcohol_liperyear  \n",
       "0               19.3  \n",
       "1               15.7  \n",
       "2                2.9  \n",
       "3               12.8  \n",
       "4               12.0  \n",
       "5               22.1  \n",
       "6               16.6  \n",
       "7               17.1  \n",
       "8               12.8  \n",
       "9               18.9  "
      ]
     },
     "execution_count": 57,
     "metadata": {},
     "output_type": "execute_result"
    }
   ],
   "source": [
    "# Loading UML_2019.csv file \n",
    "file_path = \"../Resources/UML_2019.csv\"\n",
    "df_ElbowCurve = pd.read_csv(file_path)\n",
    "df_ElbowCurve.head(10)"
   ]
  },
  {
   "cell_type": "code",
   "execution_count": 58,
   "id": "e8a5a288",
   "metadata": {},
   "outputs": [],
   "source": [
    "# Create an empty list to hold inertia values\n",
    "# store a range of K values we want to test\n",
    "inertia = []\n",
    "k = list(range(1, 11))\n",
    "# Calculate the inertia for the range of K values\n",
    "for i in k:\n",
    "   km = KMeans(n_clusters=i, random_state=0)\n",
    "   km.fit(df_ElbowCurve)\n",
    "   inertia.append(km.inertia_)"
   ]
  },
  {
   "cell_type": "code",
   "execution_count": 59,
   "id": "78bc2374",
   "metadata": {},
   "outputs": [
    {
     "data": {},
     "metadata": {},
     "output_type": "display_data"
    },
    {
     "data": {
      "application/vnd.holoviews_exec.v0+json": "",
      "text/html": [
       "<div id='4029'>\n",
       "\n",
       "\n",
       "\n",
       "\n",
       "\n",
       "  <div class=\"bk-root\" id=\"bcb4abc8-85e7-4bed-9f46-d04a850238c5\" data-root-id=\"4029\"></div>\n",
       "</div>\n",
       "<script type=\"application/javascript\">(function(root) {\n",
       "  function embed_document(root) {\n",
       "    var docs_json = {\"63d2f6bd-0eaa-4f14-9a7f-86cdad7c523c\":{\"defs\":[{\"extends\":null,\"module\":null,\"name\":\"ReactiveHTML1\",\"overrides\":[],\"properties\":[]},{\"extends\":null,\"module\":null,\"name\":\"FlexBox1\",\"overrides\":[],\"properties\":[{\"default\":\"flex-start\",\"kind\":null,\"name\":\"align_content\"},{\"default\":\"flex-start\",\"kind\":null,\"name\":\"align_items\"},{\"default\":\"row\",\"kind\":null,\"name\":\"flex_direction\"},{\"default\":\"wrap\",\"kind\":null,\"name\":\"flex_wrap\"},{\"default\":\"flex-start\",\"kind\":null,\"name\":\"justify_content\"}]},{\"extends\":null,\"module\":null,\"name\":\"TemplateActions1\",\"overrides\":[],\"properties\":[{\"default\":0,\"kind\":null,\"name\":\"open_modal\"},{\"default\":0,\"kind\":null,\"name\":\"close_modal\"}]},{\"extends\":null,\"module\":null,\"name\":\"MaterialTemplateActions1\",\"overrides\":[],\"properties\":[{\"default\":0,\"kind\":null,\"name\":\"open_modal\"},{\"default\":0,\"kind\":null,\"name\":\"close_modal\"}]}],\"roots\":{\"references\":[{\"attributes\":{},\"id\":\"4039\",\"type\":\"LinearScale\"},{\"attributes\":{},\"id\":\"4088\",\"type\":\"UnionRenderers\"},{\"attributes\":{\"axis\":{\"id\":\"4043\"},\"grid_line_color\":null,\"ticker\":null},\"id\":\"4046\",\"type\":\"Grid\"},{\"attributes\":{},\"id\":\"4041\",\"type\":\"LinearScale\"},{\"attributes\":{\"data_source\":{\"id\":\"4064\"},\"glyph\":{\"id\":\"4067\"},\"hover_glyph\":null,\"muted_glyph\":{\"id\":\"4069\"},\"nonselection_glyph\":{\"id\":\"4068\"},\"selection_glyph\":{\"id\":\"4072\"},\"view\":{\"id\":\"4071\"}},\"id\":\"4070\",\"type\":\"GlyphRenderer\"},{\"attributes\":{},\"id\":\"4074\",\"type\":\"AllLabels\"},{\"attributes\":{\"margin\":[5,5,5,5],\"name\":\"HSpacer08092\",\"sizing_mode\":\"stretch_width\"},\"id\":\"4100\",\"type\":\"Spacer\"},{\"attributes\":{\"end\":8412.65366136515,\"reset_end\":8412.65366136515,\"reset_start\":-601.2790693790447,\"start\":-601.2790693790447,\"tags\":[[[\"inertia\",\"inertia\",null]]]},\"id\":\"4032\",\"type\":\"Range1d\"},{\"attributes\":{\"bottom_units\":\"screen\",\"fill_alpha\":0.5,\"fill_color\":\"lightgrey\",\"left_units\":\"screen\",\"level\":\"overlay\",\"line_alpha\":1.0,\"line_color\":\"black\",\"line_dash\":[4,4],\"line_width\":2,\"right_units\":\"screen\",\"syncable\":false,\"top_units\":\"screen\"},\"id\":\"4056\",\"type\":\"BoxAnnotation\"},{\"attributes\":{\"line_color\":\"#30a2da\",\"line_width\":2,\"x\":{\"field\":\"k\"},\"y\":{\"field\":\"inertia\"}},\"id\":\"4072\",\"type\":\"Line\"},{\"attributes\":{\"data\":{\"inertia\":{\"__ndarray__\":\"yXsQG37tvUD50m9kZxWoQJceo8Mz5ZNAPUACzv0liUBoBwoVc++BQHmWKTjXZ3hAugMboDy2cUDMrxBPdiRrQDivBbQ6yGZAH7xFRjm8YkA=\",\"dtype\":\"float64\",\"order\":\"little\",\"shape\":[10]},\"k\":[1,2,3,4,5,6,7,8,9,10]},\"selected\":{\"id\":\"4065\"},\"selection_policy\":{\"id\":\"4088\"}},\"id\":\"4064\",\"type\":\"ColumnDataSource\"},{\"attributes\":{\"source\":{\"id\":\"4064\"}},\"id\":\"4071\",\"type\":\"CDSView\"},{\"attributes\":{\"line_alpha\":0.1,\"line_color\":\"#30a2da\",\"line_width\":2,\"x\":{\"field\":\"k\"},\"y\":{\"field\":\"inertia\"}},\"id\":\"4068\",\"type\":\"Line\"},{\"attributes\":{\"margin\":[5,5,5,5],\"name\":\"HSpacer08091\",\"sizing_mode\":\"stretch_width\"},\"id\":\"4030\",\"type\":\"Spacer\"},{\"attributes\":{\"text\":\"Elbow Curve\",\"text_color\":\"black\",\"text_font_size\":\"12pt\"},\"id\":\"4035\",\"type\":\"Title\"},{\"attributes\":{\"axis\":{\"id\":\"4047\"},\"dimension\":1,\"grid_line_color\":null,\"ticker\":null},\"id\":\"4050\",\"type\":\"Grid\"},{\"attributes\":{},\"id\":\"4079\",\"type\":\"AllLabels\"},{\"attributes\":{\"line_alpha\":0.2,\"line_color\":\"#30a2da\",\"line_width\":2,\"x\":{\"field\":\"k\"},\"y\":{\"field\":\"inertia\"}},\"id\":\"4069\",\"type\":\"Line\"},{\"attributes\":{\"active_multi\":null,\"tools\":[{\"id\":\"4033\"},{\"id\":\"4051\"},{\"id\":\"4052\"},{\"id\":\"4053\"},{\"id\":\"4054\"},{\"id\":\"4055\"}]},\"id\":\"4057\",\"type\":\"Toolbar\"},{\"attributes\":{},\"id\":\"4065\",\"type\":\"Selection\"},{\"attributes\":{\"axis_label\":\"inertia\",\"formatter\":{\"id\":\"4081\"},\"major_label_policy\":{\"id\":\"4079\"},\"ticker\":{\"id\":\"4048\"}},\"id\":\"4047\",\"type\":\"LinearAxis\"},{\"attributes\":{},\"id\":\"4076\",\"type\":\"BasicTickFormatter\"},{\"attributes\":{},\"id\":\"4051\",\"type\":\"SaveTool\"},{\"attributes\":{},\"id\":\"4081\",\"type\":\"BasicTickFormatter\"},{\"attributes\":{\"callback\":null,\"renderers\":[{\"id\":\"4070\"}],\"tags\":[\"hv_created\"],\"tooltips\":[[\"k\",\"@{k}\"],[\"inertia\",\"@{inertia}\"]]},\"id\":\"4033\",\"type\":\"HoverTool\"},{\"attributes\":{},\"id\":\"4053\",\"type\":\"WheelZoomTool\"},{\"attributes\":{\"overlay\":{\"id\":\"4056\"}},\"id\":\"4054\",\"type\":\"BoxZoomTool\"},{\"attributes\":{\"axis_label\":\"k\",\"formatter\":{\"id\":\"4076\"},\"major_label_policy\":{\"id\":\"4074\"},\"ticker\":{\"id\":\"4073\"}},\"id\":\"4043\",\"type\":\"LinearAxis\"},{\"attributes\":{\"children\":[{\"id\":\"4030\"},{\"id\":\"4034\"},{\"id\":\"4100\"}],\"margin\":[0,0,0,0],\"name\":\"Row08087\",\"tags\":[\"embedded\"]},\"id\":\"4029\",\"type\":\"Row\"},{\"attributes\":{\"ticks\":[1,2,3,4,5,6,7,8,9,10]},\"id\":\"4073\",\"type\":\"FixedTicker\"},{\"attributes\":{\"line_color\":\"#30a2da\",\"line_width\":2,\"x\":{\"field\":\"k\"},\"y\":{\"field\":\"inertia\"}},\"id\":\"4067\",\"type\":\"Line\"},{\"attributes\":{\"end\":10.0,\"reset_end\":10.0,\"reset_start\":1.0,\"start\":1.0,\"tags\":[[[\"k\",\"k\",null]]]},\"id\":\"4031\",\"type\":\"Range1d\"},{\"attributes\":{},\"id\":\"4048\",\"type\":\"BasicTicker\"},{\"attributes\":{},\"id\":\"4055\",\"type\":\"ResetTool\"},{\"attributes\":{},\"id\":\"4052\",\"type\":\"PanTool\"},{\"attributes\":{\"below\":[{\"id\":\"4043\"}],\"center\":[{\"id\":\"4046\"},{\"id\":\"4050\"}],\"height\":300,\"left\":[{\"id\":\"4047\"}],\"margin\":[5,5,5,5],\"min_border_bottom\":10,\"min_border_left\":10,\"min_border_right\":10,\"min_border_top\":10,\"renderers\":[{\"id\":\"4070\"}],\"sizing_mode\":\"fixed\",\"title\":{\"id\":\"4035\"},\"toolbar\":{\"id\":\"4057\"},\"width\":700,\"x_range\":{\"id\":\"4031\"},\"x_scale\":{\"id\":\"4039\"},\"y_range\":{\"id\":\"4032\"},\"y_scale\":{\"id\":\"4041\"}},\"id\":\"4034\",\"subtype\":\"Figure\",\"type\":\"Plot\"}],\"root_ids\":[\"4029\"]},\"title\":\"Bokeh Application\",\"version\":\"2.3.2\"}};\n",
       "    var render_items = [{\"docid\":\"63d2f6bd-0eaa-4f14-9a7f-86cdad7c523c\",\"root_ids\":[\"4029\"],\"roots\":{\"4029\":\"bcb4abc8-85e7-4bed-9f46-d04a850238c5\"}}];\n",
       "    root.Bokeh.embed.embed_items_notebook(docs_json, render_items);\n",
       "  }\n",
       "  if (root.Bokeh !== undefined && root.Bokeh.Panel !== undefined) {\n",
       "    embed_document(root);\n",
       "  } else {\n",
       "    var attempts = 0;\n",
       "    var timer = setInterval(function(root) {\n",
       "      if (root.Bokeh !== undefined && root.Bokeh.Panel !== undefined) {\n",
       "        clearInterval(timer);\n",
       "        embed_document(root);\n",
       "      } else if (document.readyState == \"complete\") {\n",
       "        attempts++;\n",
       "        if (attempts > 200) {\n",
       "          clearInterval(timer);\n",
       "          console.log(\"Bokeh: ERROR: Unable to run BokehJS code because BokehJS library is missing\");\n",
       "        }\n",
       "      }\n",
       "    }, 25, root)\n",
       "  }\n",
       "})(window);</script>"
      ],
      "text/plain": [
       ":Curve   [k]   (inertia)"
      ]
     },
     "execution_count": 59,
     "metadata": {
      "application/vnd.holoviews_exec.v0+json": {
       "id": "4029"
      }
     },
     "output_type": "execute_result"
    }
   ],
   "source": [
    "# Define a DataFrame to plot the Elbow Curve using hvPlot\n",
    "elbow_data = {\"k\": k, \"inertia\": inertia}\n",
    "df_elbow = pd.DataFrame(elbow_data)\n",
    "df_elbow.hvplot.line(x=\"k\", y=\"inertia\", title=\"Elbow Curve\", xticks=k)"
   ]
  },
  {
   "cell_type": "code",
   "execution_count": 60,
   "id": "797fdfaa",
   "metadata": {},
   "outputs": [],
   "source": [
    "def get_clusters(k, data):\n",
    "   # Create a copy of the DataFrame\n",
    "   data = data.copy()\n",
    "\n",
    "   # Initialize the K-Means model\n",
    "   model = KMeans(n_clusters=k, random_state=0)\n",
    "\n",
    "   # Fit the model\n",
    "   model.fit(data)\n",
    "\n",
    "   # Predict clusters\n",
    "   predictions = model.predict(data)\n",
    "\n",
    "   # Create return DataFrame with predicted clusters\n",
    "   data[\"class\"] = model.labels_\n",
    "\n",
    "   return data"
   ]
  },
  {
   "cell_type": "code",
   "execution_count": 61,
   "id": "28ab3a6b",
   "metadata": {},
   "outputs": [
    {
     "data": {
      "text/html": [
       "<div>\n",
       "<style scoped>\n",
       "    .dataframe tbody tr th:only-of-type {\n",
       "        vertical-align: middle;\n",
       "    }\n",
       "\n",
       "    .dataframe tbody tr th {\n",
       "        vertical-align: top;\n",
       "    }\n",
       "\n",
       "    .dataframe thead th {\n",
       "        text-align: right;\n",
       "    }\n",
       "</style>\n",
       "<table border=\"1\" class=\"dataframe\">\n",
       "  <thead>\n",
       "    <tr style=\"text-align: right;\">\n",
       "      <th></th>\n",
       "      <th>gdp</th>\n",
       "      <th>family</th>\n",
       "      <th>lifeexpectancy</th>\n",
       "      <th>freedom</th>\n",
       "      <th>generosity</th>\n",
       "      <th>trust</th>\n",
       "      <th>alcohol_liperyear</th>\n",
       "      <th>class</th>\n",
       "    </tr>\n",
       "  </thead>\n",
       "  <tbody>\n",
       "    <tr>\n",
       "      <th>0</th>\n",
       "      <td>1.004</td>\n",
       "      <td>1.439</td>\n",
       "      <td>0.802</td>\n",
       "      <td>0.390</td>\n",
       "      <td>0.099</td>\n",
       "      <td>0.086</td>\n",
       "      <td>19.3</td>\n",
       "      <td>0</td>\n",
       "    </tr>\n",
       "    <tr>\n",
       "      <th>1</th>\n",
       "      <td>1.124</td>\n",
       "      <td>1.465</td>\n",
       "      <td>0.891</td>\n",
       "      <td>0.523</td>\n",
       "      <td>0.127</td>\n",
       "      <td>0.150</td>\n",
       "      <td>15.7</td>\n",
       "      <td>1</td>\n",
       "    </tr>\n",
       "    <tr>\n",
       "      <th>2</th>\n",
       "      <td>1.572</td>\n",
       "      <td>1.463</td>\n",
       "      <td>1.141</td>\n",
       "      <td>0.556</td>\n",
       "      <td>0.271</td>\n",
       "      <td>0.453</td>\n",
       "      <td>2.9</td>\n",
       "      <td>1</td>\n",
       "    </tr>\n",
       "    <tr>\n",
       "      <th>3</th>\n",
       "      <td>0.794</td>\n",
       "      <td>1.242</td>\n",
       "      <td>0.789</td>\n",
       "      <td>0.430</td>\n",
       "      <td>0.093</td>\n",
       "      <td>0.074</td>\n",
       "      <td>12.8</td>\n",
       "      <td>1</td>\n",
       "    </tr>\n",
       "    <tr>\n",
       "      <th>4</th>\n",
       "      <td>1.294</td>\n",
       "      <td>1.488</td>\n",
       "      <td>1.039</td>\n",
       "      <td>0.231</td>\n",
       "      <td>0.158</td>\n",
       "      <td>0.030</td>\n",
       "      <td>12.0</td>\n",
       "      <td>1</td>\n",
       "    </tr>\n",
       "  </tbody>\n",
       "</table>\n",
       "</div>"
      ],
      "text/plain": [
       "     gdp  family  lifeexpectancy  freedom  generosity  trust  \\\n",
       "0  1.004   1.439           0.802    0.390       0.099  0.086   \n",
       "1  1.124   1.465           0.891    0.523       0.127  0.150   \n",
       "2  1.572   1.463           1.141    0.556       0.271  0.453   \n",
       "3  0.794   1.242           0.789    0.430       0.093  0.074   \n",
       "4  1.294   1.488           1.039    0.231       0.158  0.030   \n",
       "\n",
       "   alcohol_liperyear  class  \n",
       "0               19.3      0  \n",
       "1               15.7      1  \n",
       "2                2.9      1  \n",
       "3               12.8      1  \n",
       "4               12.0      1  "
      ]
     },
     "execution_count": 61,
     "metadata": {},
     "output_type": "execute_result"
    }
   ],
   "source": [
    "# Run the function for k=2\n",
    "two_clusters = get_clusters(2, df_ElbowCurve)\n",
    "two_clusters.head()"
   ]
  },
  {
   "cell_type": "code",
   "execution_count": 62,
   "id": "f05b06a8",
   "metadata": {},
   "outputs": [
    {
     "data": {
      "text/html": [
       "<div>\n",
       "<style scoped>\n",
       "    .dataframe tbody tr th:only-of-type {\n",
       "        vertical-align: middle;\n",
       "    }\n",
       "\n",
       "    .dataframe tbody tr th {\n",
       "        vertical-align: top;\n",
       "    }\n",
       "\n",
       "    .dataframe thead th {\n",
       "        text-align: right;\n",
       "    }\n",
       "</style>\n",
       "<table border=\"1\" class=\"dataframe\">\n",
       "  <thead>\n",
       "    <tr style=\"text-align: right;\">\n",
       "      <th></th>\n",
       "      <th>gdp</th>\n",
       "      <th>family</th>\n",
       "      <th>lifeexpectancy</th>\n",
       "      <th>freedom</th>\n",
       "      <th>generosity</th>\n",
       "      <th>trust</th>\n",
       "      <th>alcohol_liperyear</th>\n",
       "      <th>class</th>\n",
       "    </tr>\n",
       "  </thead>\n",
       "  <tbody>\n",
       "    <tr>\n",
       "      <th>0</th>\n",
       "      <td>1.004</td>\n",
       "      <td>1.439</td>\n",
       "      <td>0.802</td>\n",
       "      <td>0.390</td>\n",
       "      <td>0.099</td>\n",
       "      <td>0.086</td>\n",
       "      <td>19.3</td>\n",
       "      <td>1</td>\n",
       "    </tr>\n",
       "    <tr>\n",
       "      <th>1</th>\n",
       "      <td>1.124</td>\n",
       "      <td>1.465</td>\n",
       "      <td>0.891</td>\n",
       "      <td>0.523</td>\n",
       "      <td>0.127</td>\n",
       "      <td>0.150</td>\n",
       "      <td>15.7</td>\n",
       "      <td>1</td>\n",
       "    </tr>\n",
       "    <tr>\n",
       "      <th>2</th>\n",
       "      <td>1.572</td>\n",
       "      <td>1.463</td>\n",
       "      <td>1.141</td>\n",
       "      <td>0.556</td>\n",
       "      <td>0.271</td>\n",
       "      <td>0.453</td>\n",
       "      <td>2.9</td>\n",
       "      <td>2</td>\n",
       "    </tr>\n",
       "    <tr>\n",
       "      <th>3</th>\n",
       "      <td>0.794</td>\n",
       "      <td>1.242</td>\n",
       "      <td>0.789</td>\n",
       "      <td>0.430</td>\n",
       "      <td>0.093</td>\n",
       "      <td>0.074</td>\n",
       "      <td>12.8</td>\n",
       "      <td>1</td>\n",
       "    </tr>\n",
       "    <tr>\n",
       "      <th>4</th>\n",
       "      <td>1.294</td>\n",
       "      <td>1.488</td>\n",
       "      <td>1.039</td>\n",
       "      <td>0.231</td>\n",
       "      <td>0.158</td>\n",
       "      <td>0.030</td>\n",
       "      <td>12.0</td>\n",
       "      <td>1</td>\n",
       "    </tr>\n",
       "  </tbody>\n",
       "</table>\n",
       "</div>"
      ],
      "text/plain": [
       "     gdp  family  lifeexpectancy  freedom  generosity  trust  \\\n",
       "0  1.004   1.439           0.802    0.390       0.099  0.086   \n",
       "1  1.124   1.465           0.891    0.523       0.127  0.150   \n",
       "2  1.572   1.463           1.141    0.556       0.271  0.453   \n",
       "3  0.794   1.242           0.789    0.430       0.093  0.074   \n",
       "4  1.294   1.488           1.039    0.231       0.158  0.030   \n",
       "\n",
       "   alcohol_liperyear  class  \n",
       "0               19.3      1  \n",
       "1               15.7      1  \n",
       "2                2.9      2  \n",
       "3               12.8      1  \n",
       "4               12.0      1  "
      ]
     },
     "execution_count": 62,
     "metadata": {},
     "output_type": "execute_result"
    }
   ],
   "source": [
    "# Run the function for k=3\n",
    "three_clusters = get_clusters(3, df_ElbowCurve)\n",
    "three_clusters.head()"
   ]
  },
  {
   "cell_type": "code",
   "execution_count": 63,
   "id": "2308bd14",
   "metadata": {},
   "outputs": [
    {
     "data": {},
     "metadata": {},
     "output_type": "display_data"
    },
    {
     "data": {
      "application/vnd.holoviews_exec.v0+json": "",
      "text/html": [
       "<div id='4147'>\n",
       "\n",
       "\n",
       "\n",
       "\n",
       "\n",
       "  <div class=\"bk-root\" id=\"7a53f786-e798-4f26-b7fb-caca06a36ca3\" data-root-id=\"4147\"></div>\n",
       "</div>\n",
       "<script type=\"application/javascript\">(function(root) {\n",
       "  function embed_document(root) {\n",
       "    var docs_json = {\"8c5e9eb8-7150-4288-98f6-3f12c21e95b7\":{\"defs\":[{\"extends\":null,\"module\":null,\"name\":\"ReactiveHTML1\",\"overrides\":[],\"properties\":[]},{\"extends\":null,\"module\":null,\"name\":\"FlexBox1\",\"overrides\":[],\"properties\":[{\"default\":\"flex-start\",\"kind\":null,\"name\":\"align_content\"},{\"default\":\"flex-start\",\"kind\":null,\"name\":\"align_items\"},{\"default\":\"row\",\"kind\":null,\"name\":\"flex_direction\"},{\"default\":\"wrap\",\"kind\":null,\"name\":\"flex_wrap\"},{\"default\":\"flex-start\",\"kind\":null,\"name\":\"justify_content\"}]},{\"extends\":null,\"module\":null,\"name\":\"TemplateActions1\",\"overrides\":[],\"properties\":[{\"default\":0,\"kind\":null,\"name\":\"open_modal\"},{\"default\":0,\"kind\":null,\"name\":\"close_modal\"}]},{\"extends\":null,\"module\":null,\"name\":\"MaterialTemplateActions1\",\"overrides\":[],\"properties\":[{\"default\":0,\"kind\":null,\"name\":\"open_modal\"},{\"default\":0,\"kind\":null,\"name\":\"close_modal\"}]}],\"roots\":{\"references\":[{\"attributes\":{\"text_color\":\"black\",\"text_font_size\":\"12pt\"},\"id\":\"4154\",\"type\":\"Title\"},{\"attributes\":{},\"id\":\"4172\",\"type\":\"WheelZoomTool\"},{\"attributes\":{\"margin\":[5,5,5,5],\"name\":\"HSpacer08308\",\"sizing_mode\":\"stretch_width\"},\"id\":\"4340\",\"type\":\"Spacer\"},{\"attributes\":{},\"id\":\"4211\",\"type\":\"Selection\"},{\"attributes\":{\"fill_color\":{\"value\":\"#30a2da\"},\"line_color\":{\"value\":\"#30a2da\"},\"size\":{\"value\":5.477225575051661},\"x\":{\"field\":\"gdp\"},\"y\":{\"field\":\"alcohol_liperyear\"}},\"id\":\"4192\",\"type\":\"Scatter\"},{\"attributes\":{\"overlay\":{\"id\":\"4175\"}},\"id\":\"4173\",\"type\":\"BoxZoomTool\"},{\"attributes\":{\"end\":40.17,\"reset_end\":40.17,\"reset_start\":-2.6700000000000004,\"start\":-2.6700000000000004,\"tags\":[[[\"alcohol_liperyear\",\"alcohol_liperyear\",null]]]},\"id\":\"4150\",\"type\":\"Range1d\"},{\"attributes\":{},\"id\":\"4185\",\"type\":\"BasicTickFormatter\"},{\"attributes\":{\"axis_label\":\"gdp\",\"formatter\":{\"id\":\"4185\"},\"major_label_policy\":{\"id\":\"4183\"},\"ticker\":{\"id\":\"4163\"}},\"id\":\"4162\",\"type\":\"LinearAxis\"},{\"attributes\":{\"data_source\":{\"id\":\"4210\"},\"glyph\":{\"id\":\"4213\"},\"hover_glyph\":null,\"muted_glyph\":{\"id\":\"4215\"},\"nonselection_glyph\":{\"id\":\"4214\"},\"selection_glyph\":{\"id\":\"4231\"},\"view\":{\"id\":\"4217\"}},\"id\":\"4216\",\"type\":\"GlyphRenderer\"},{\"attributes\":{\"source\":{\"id\":\"4210\"}},\"id\":\"4217\",\"type\":\"CDSView\"},{\"attributes\":{\"axis\":{\"id\":\"4166\"},\"dimension\":1,\"grid_line_color\":null,\"ticker\":null},\"id\":\"4169\",\"type\":\"Grid\"},{\"attributes\":{\"data\":{\"alcohol_liperyear\":{\"__ndarray__\":\"zczMzMxMM0CamZmZmRk2QGZmZmZm5jJAzczMzMzMMkDNzMzMzEw0QDMzMzMzMzNAmpmZmZkZNEAAAAAAAAA6QJqZmZmZGTRAZmZmZmbmM0AAAAAAAIAyQM3MzMzMzDZAZmZmZmZmOkAAAAAAAIA8QGZmZmZm5jVAAAAAAACAOUAAAAAAAAA4QJqZmZmZGT1AAAAAAACAOEAAAAAAAAA5QM3MzMzMzDZAmpmZmZmZOEBmZmZmZuY5QGZmZmZm5j1AMzMzMzOzNUAzMzMzMzNAQDMzMzMzMzZAzczMzMxMNUBmZmZmZmY8QGZmZmZm5jtAzczMzMxMQkCamZmZmRkzQAAAAAAAgDRAmpmZmZmZNkAzMzMzMzMzQM3MzMzMTDJAMzMzMzMzQUAAAAAAAAA6QDMzMzMzszJAzczMzMxMNkAzMzMzMzM8QDMzMzMzszdAMzMzMzMzO0AzMzMzMzM6QJqZmZmZmTlAzczMzMzMOUAAAAAAAMBAQDMzMzMzszVA\",\"dtype\":\"float64\",\"order\":\"little\",\"shape\":[48]},\"class\":[0,0,0,0,0,0,0,0,0,0,0,0,0,0,0,0,0,0,0,0,0,0,0,0,0,0,0,0,0,0,0,0,0,0,0,0,0,0,0,0,0,0,0,0,0,0,0,0],\"gdp\":{\"__ndarray__\":\"qvHSTWIQ8D+YbhKDwMr1PwIrhxbZzvM/ZDvfT42X8j/NzMzMzMzwP/hT46WbxPI/XI/C9Shc6z9Ei2zn+6nlPyGwcmiR7fI/bef7qfHS6T+q8dJNYhDwP+xRuB6F6+U/TmIQWDm08D8hsHJoke3yP7x0kxgEVu4/EoPAyqFF5j9vEoPAyqHhP9V46SYxCPA/bxKDwMqh6T8v3SQGgZXvP4PAyqFFtuc/YhBYObTI6j+mm8QgsHLoP7gehetRuO4/ke18PzVe4j9U46WbxCDsP8l2vp8aL9U/MzMzMzMz6z+amZmZmZnxPycxCKwcWuw/Rrbz/dR47T/n+6nx0k30Pz81XrpJDPg/xSCwcmiR4T9GtvP91HjxP/T91HjpJtE/wcqhRbbz6T9zaJHtfD/VP+Olm8QgsLI/8KfGSzeJ0T+yne+nxkvfP1pkO99Pjac/BoGVQ4ts1z8OLbKd76fwP2Dl0CLb+dY/EFg5tMh23j9mZmZmZmbWP2iR7Xw/NeI/\",\"dtype\":\"float64\",\"order\":\"little\",\"shape\":[48]}},\"selected\":{\"id\":\"4190\"},\"selection_policy\":{\"id\":\"4204\"}},\"id\":\"4189\",\"type\":\"ColumnDataSource\"},{\"attributes\":{},\"id\":\"4174\",\"type\":\"ResetTool\"},{\"attributes\":{\"fill_alpha\":{\"value\":0.1},\"fill_color\":{\"value\":\"#fc4f30\"},\"line_alpha\":{\"value\":0.1},\"line_color\":{\"value\":\"#fc4f30\"},\"size\":{\"value\":5.477225575051661},\"x\":{\"field\":\"gdp\"},\"y\":{\"field\":\"alcohol_liperyear\"}},\"id\":\"4214\",\"type\":\"Scatter\"},{\"attributes\":{\"fill_color\":{\"value\":\"#fc4f30\"},\"line_color\":{\"value\":\"#fc4f30\"},\"size\":{\"value\":5.477225575051661},\"x\":{\"field\":\"gdp\"},\"y\":{\"field\":\"alcohol_liperyear\"}},\"id\":\"4213\",\"type\":\"Scatter\"},{\"attributes\":{},\"id\":\"4186\",\"type\":\"AllLabels\"},{\"attributes\":{},\"id\":\"4183\",\"type\":\"AllLabels\"},{\"attributes\":{\"fill_alpha\":{\"value\":0.2},\"fill_color\":{\"value\":\"#fc4f30\"},\"line_alpha\":{\"value\":0.2},\"line_color\":{\"value\":\"#fc4f30\"},\"size\":{\"value\":5.477225575051661},\"x\":{\"field\":\"gdp\"},\"y\":{\"field\":\"alcohol_liperyear\"}},\"id\":\"4215\",\"type\":\"Scatter\"},{\"attributes\":{},\"id\":\"4204\",\"type\":\"UnionRenderers\"},{\"attributes\":{},\"id\":\"4190\",\"type\":\"Selection\"},{\"attributes\":{},\"id\":\"4163\",\"type\":\"BasicTicker\"},{\"attributes\":{},\"id\":\"4160\",\"type\":\"LinearScale\"},{\"attributes\":{},\"id\":\"4158\",\"type\":\"LinearScale\"},{\"attributes\":{\"end\":1.7561714285714285,\"reset_end\":1.7561714285714285,\"reset_start\":-0.07217142857142857,\"start\":-0.07217142857142857,\"tags\":[[[\"gdp\",\"gdp\",null]]]},\"id\":\"4149\",\"type\":\"Range1d\"},{\"attributes\":{},\"id\":\"4227\",\"type\":\"UnionRenderers\"},{\"attributes\":{\"children\":[{\"id\":\"4148\"},{\"id\":\"4153\"},{\"id\":\"4340\"}],\"margin\":[0,0,0,0],\"name\":\"Row08303\",\"tags\":[\"embedded\"]},\"id\":\"4147\",\"type\":\"Row\"},{\"attributes\":{\"click_policy\":\"mute\",\"items\":[{\"id\":\"4208\"},{\"id\":\"4230\"}],\"location\":[0,0],\"title\":\"class\"},\"id\":\"4207\",\"type\":\"Legend\"},{\"attributes\":{\"axis\":{\"id\":\"4162\"},\"grid_line_color\":null,\"ticker\":null},\"id\":\"4165\",\"type\":\"Grid\"},{\"attributes\":{\"angle\":{\"value\":0.0},\"fill_alpha\":{\"value\":1.0},\"fill_color\":{\"value\":\"#fc4f30\"},\"hatch_alpha\":{\"value\":1.0},\"hatch_color\":{\"value\":\"black\"},\"hatch_scale\":{\"value\":12.0},\"hatch_weight\":{\"value\":1.0},\"line_alpha\":{\"value\":1.0},\"line_cap\":{\"value\":\"butt\"},\"line_color\":{\"value\":\"#fc4f30\"},\"line_dash\":{\"value\":[]},\"line_dash_offset\":{\"value\":0},\"line_join\":{\"value\":\"bevel\"},\"line_width\":{\"value\":1},\"marker\":{\"value\":\"circle\"},\"size\":{\"value\":5.477225575051661},\"x\":{\"field\":\"gdp\"},\"y\":{\"field\":\"alcohol_liperyear\"}},\"id\":\"4231\",\"type\":\"Scatter\"},{\"attributes\":{\"margin\":[5,5,5,5],\"name\":\"HSpacer08307\",\"sizing_mode\":\"stretch_width\"},\"id\":\"4148\",\"type\":\"Spacer\"},{\"attributes\":{\"data_source\":{\"id\":\"4189\"},\"glyph\":{\"id\":\"4192\"},\"hover_glyph\":null,\"muted_glyph\":{\"id\":\"4194\"},\"nonselection_glyph\":{\"id\":\"4193\"},\"selection_glyph\":{\"id\":\"4209\"},\"view\":{\"id\":\"4196\"}},\"id\":\"4195\",\"type\":\"GlyphRenderer\"},{\"attributes\":{},\"id\":\"4167\",\"type\":\"BasicTicker\"},{\"attributes\":{\"axis_label\":\"alcohol_liperyear\",\"formatter\":{\"id\":\"4188\"},\"major_label_policy\":{\"id\":\"4186\"},\"ticker\":{\"id\":\"4167\"}},\"id\":\"4166\",\"type\":\"LinearAxis\"},{\"attributes\":{\"source\":{\"id\":\"4189\"}},\"id\":\"4196\",\"type\":\"CDSView\"},{\"attributes\":{\"fill_alpha\":{\"value\":0.2},\"fill_color\":{\"value\":\"#30a2da\"},\"line_alpha\":{\"value\":0.2},\"line_color\":{\"value\":\"#30a2da\"},\"size\":{\"value\":5.477225575051661},\"x\":{\"field\":\"gdp\"},\"y\":{\"field\":\"alcohol_liperyear\"}},\"id\":\"4194\",\"type\":\"Scatter\"},{\"attributes\":{},\"id\":\"4188\",\"type\":\"BasicTickFormatter\"},{\"attributes\":{\"bottom_units\":\"screen\",\"fill_alpha\":0.5,\"fill_color\":\"lightgrey\",\"left_units\":\"screen\",\"level\":\"overlay\",\"line_alpha\":1.0,\"line_color\":\"black\",\"line_dash\":[4,4],\"line_width\":2,\"right_units\":\"screen\",\"syncable\":false,\"top_units\":\"screen\"},\"id\":\"4175\",\"type\":\"BoxAnnotation\"},{\"attributes\":{\"label\":{\"value\":\"0\"},\"renderers\":[{\"id\":\"4195\"}]},\"id\":\"4208\",\"type\":\"LegendItem\"},{\"attributes\":{\"data\":{\"alcohol_liperyear\":{\"__ndarray__\":\"ZmZmZmZmL0AzMzMzMzMHQJqZmZmZmSlAAAAAAAAAKECamZmZmZkwQJqZmZmZGTFAmpmZmZmZKUBmZmZmZmYuQDMzMzMzszFAzczMzMzML0AzMzMzMzMtQDMzMzMzMy9AAAAAAAAAI0AAAAAAAADwPzMzMzMzMzFAAAAAAAAAMEDNzMzMzMwvQM3MzMzMzCdAAAAAAAAAJ0AzMzMzMzMsQAAAAAAAACtAAAAAAAAAJUCamZmZmRkxQJqZmZmZmSdAzczMzMzMMUCamZmZmZktQJqZmZmZmS9AAAAAAAAALkAAAAAAAAAwQM3MzMzMzCpAzczMzMzMCEBmZmZmZmYuQM3MzMzMzC9AzczMzMzMMUCamZmZmZkNQDMzMzMzMwtAzczMzMzMKUBmZmZmZmb+PzMzMzMzMydAMzMzMzMzMUAzMzMzMzMtQM3MzMzMzC1AAAAAAAAADEAAAAAAAAD4PwAAAAAAAARAMzMzMzMzF0AzMzMzMzMsQDMzMzMzMyxAZmZmZmZmDkDNzMzMzMwmQM3MzMzMzOw/zczMzMzMKEDNzMzMzMwWQJqZmZmZmS1AzczMzMzMK0DNzMzMzMwiQJqZmZmZmSlAAAAAAAAAKEBmZmZmZmYsQAAAAAAAAClAmpmZmZmZLECamZmZmZkrQM3MzMzMzC1AzczMzMzMKkAAAAAAAAAqQAAAAAAAABxAMzMzMzMzLEAzMzMzMzMvQAAAAAAAADBAZmZmZmbmMEDNzMzMzMwvQGZmZmZmZitAmpmZmZmZKUCamZmZmZkuQDMzMzMzszBAZmZmZmZmK0AAAAAAAAAiQGZmZmZmZg5AmpmZmZmZEUBmZmZmZmYkQJqZmZmZmR1AMzMzMzMzLUAAAAAAAIAwQM3MzMzMzC1AmpmZmZmZG0CamZmZmZkrQDMzMzMzMylAmpmZmZmZLEAzMzMzM7MxQAAAAAAAAChAMzMzMzMzLUBmZmZmZmYiQAAAAAAAgDBAAAAAAAAAL0AAAAAAAAAvQM3MzMzMzCJAmpmZmZmZIUAzMzMzMzMuQGZmZmZmZhxAmpmZmZmZMUBmZmZmZmYsQA==\",\"dtype\":\"float64\",\"order\":\"little\",\"shape\":[101]},\"class\":[1,1,1,1,1,1,1,1,1,1,1,1,1,1,1,1,1,1,1,1,1,1,1,1,1,1,1,1,1,1,1,1,1,1,1,1,1,1,1,1,1,1,1,1,1,1,1,1,1,1,1,1,1,1,1,1,1,1,1,1,1,1,1,1,1,1,1,1,1,1,1,1,1,1,1,1,1,1,1,1,1,1,1,1,1,1,1,1,1,1,1,1,1,1,1,1,1,1,1,1,1],\"gdp\":{\"__ndarray__\":\"lkOLbOf78T/0/dR46Sb5P5zEILByaOk/TmIQWDm09D9WDi2yne/zP7Kd76fGS/M/16NwPQrX5z+F61G4HoXvP1TjpZvEIPQ/aJHtfD815j9GtvP91HjxP2iR7Xw/NfQ/yXa+nxov7T8AAAAAAAD4P8uhRbbz/fI/N4lBYOXQ9D+YbhKDwMrzP2Q730+Nl+o/7FG4HoXr8T8IrBxaZDv1PyUGgZVDi+Q/okW28/3U6D+e76fGSzfzP7gehetRuO4/8KfGSzeJ8z83iUFg5dDwP1pkO99Pjd8/exSuR+F68j89CtejcD3wPz0K16NwPe4/8KfGSzeJ8z/fT42XbhLxP0w3iUFg5fI/okW28/3U8D/jpZvEILDwP5huEoPAyu0/EFg5tMh28D9qvHSTGATqP/T91HjpJtk/tvP91Hjp8D/n+6nx0k3uP7gehetRuO4/zczMzMzM3D8AAAAAAAAAAESLbOf7qcE/UrgehetR2D+DwMqhRbbTP/yp8dJNYuA/PQrXo3A94j/pJjEIrBzKP5ZDi2zn++E/46WbxCCw8D+kcD0K16PYP3E9CtejcPU/VOOlm8Qg9j8CK4cW2c73PxSuR+F6FPY/vHSTGARW9j8IrBxaZDv3P/7UeOkmMfY/DAIrhxbZ9D/Xo3A9Ctf1P2q8dJMYBPY/wcqhRbbz9T8lBoGVQ4vwP9Ei2/l+avQ/WDm0yHa++T+HFtnO91P1P5ZDi2zn+/c/K4cW2c739T8ZBFYOLbL1PyGwcmiR7fY/zczMzMzM9D8fhetRuB7xP8l2vp8aL/U/JQaBlUOL8j+amZmZmZnpP6abxCCwcvY/i2zn+6nx+j9aZDvfT43jPyUGgZVDi9w/+n5qvHST9D/8qfHSTWLyP5HtfD81Xu4/ZmZmZmZm1j89CtejcD3qPxsv3SQGgdU/nu+nxks37T/l0CLb+X7iP5qZmZmZmdE/KVyPwvUo6D/wp8ZLN4nRP3npJjEIrNQ/AiuHFtnO4z+mm8QgsHLIP5HtfD81XtI/ObTIdr6fmj/wp8ZLN4nlP6rx0k1iELg/uB6F61G45j8ZBFYOLbLzPw==\",\"dtype\":\"float64\",\"order\":\"little\",\"shape\":[101]}},\"selected\":{\"id\":\"4211\"},\"selection_policy\":{\"id\":\"4227\"}},\"id\":\"4210\",\"type\":\"ColumnDataSource\"},{\"attributes\":{\"label\":{\"value\":\"1\"},\"renderers\":[{\"id\":\"4216\"}]},\"id\":\"4230\",\"type\":\"LegendItem\"},{\"attributes\":{\"active_multi\":null,\"tools\":[{\"id\":\"4151\"},{\"id\":\"4170\"},{\"id\":\"4171\"},{\"id\":\"4172\"},{\"id\":\"4173\"},{\"id\":\"4174\"}]},\"id\":\"4176\",\"type\":\"Toolbar\"},{\"attributes\":{\"fill_alpha\":{\"value\":0.1},\"fill_color\":{\"value\":\"#30a2da\"},\"line_alpha\":{\"value\":0.1},\"line_color\":{\"value\":\"#30a2da\"},\"size\":{\"value\":5.477225575051661},\"x\":{\"field\":\"gdp\"},\"y\":{\"field\":\"alcohol_liperyear\"}},\"id\":\"4193\",\"type\":\"Scatter\"},{\"attributes\":{\"callback\":null,\"renderers\":[{\"id\":\"4195\"},{\"id\":\"4216\"}],\"tags\":[\"hv_created\"],\"tooltips\":[[\"class\",\"@{class}\"],[\"gdp\",\"@{gdp}\"],[\"alcohol_liperyear\",\"@{alcohol_liperyear}\"]]},\"id\":\"4151\",\"type\":\"HoverTool\"},{\"attributes\":{},\"id\":\"4170\",\"type\":\"SaveTool\"},{\"attributes\":{},\"id\":\"4171\",\"type\":\"PanTool\"},{\"attributes\":{\"angle\":{\"value\":0.0},\"fill_alpha\":{\"value\":1.0},\"fill_color\":{\"value\":\"#30a2da\"},\"hatch_alpha\":{\"value\":1.0},\"hatch_color\":{\"value\":\"black\"},\"hatch_scale\":{\"value\":12.0},\"hatch_weight\":{\"value\":1.0},\"line_alpha\":{\"value\":1.0},\"line_cap\":{\"value\":\"butt\"},\"line_color\":{\"value\":\"#30a2da\"},\"line_dash\":{\"value\":[]},\"line_dash_offset\":{\"value\":0},\"line_join\":{\"value\":\"bevel\"},\"line_width\":{\"value\":1},\"marker\":{\"value\":\"circle\"},\"size\":{\"value\":5.477225575051661},\"x\":{\"field\":\"gdp\"},\"y\":{\"field\":\"alcohol_liperyear\"}},\"id\":\"4209\",\"type\":\"Scatter\"},{\"attributes\":{\"below\":[{\"id\":\"4162\"}],\"center\":[{\"id\":\"4165\"},{\"id\":\"4169\"}],\"height\":300,\"left\":[{\"id\":\"4166\"}],\"margin\":[5,5,5,5],\"min_border_bottom\":10,\"min_border_left\":10,\"min_border_right\":10,\"min_border_top\":10,\"renderers\":[{\"id\":\"4195\"},{\"id\":\"4216\"}],\"right\":[{\"id\":\"4207\"}],\"sizing_mode\":\"fixed\",\"title\":{\"id\":\"4154\"},\"toolbar\":{\"id\":\"4176\"},\"width\":700,\"x_range\":{\"id\":\"4149\"},\"x_scale\":{\"id\":\"4158\"},\"y_range\":{\"id\":\"4150\"},\"y_scale\":{\"id\":\"4160\"}},\"id\":\"4153\",\"subtype\":\"Figure\",\"type\":\"Plot\"}],\"root_ids\":[\"4147\"]},\"title\":\"Bokeh Application\",\"version\":\"2.3.2\"}};\n",
       "    var render_items = [{\"docid\":\"8c5e9eb8-7150-4288-98f6-3f12c21e95b7\",\"root_ids\":[\"4147\"],\"roots\":{\"4147\":\"7a53f786-e798-4f26-b7fb-caca06a36ca3\"}}];\n",
       "    root.Bokeh.embed.embed_items_notebook(docs_json, render_items);\n",
       "  }\n",
       "  if (root.Bokeh !== undefined && root.Bokeh.Panel !== undefined) {\n",
       "    embed_document(root);\n",
       "  } else {\n",
       "    var attempts = 0;\n",
       "    var timer = setInterval(function(root) {\n",
       "      if (root.Bokeh !== undefined && root.Bokeh.Panel !== undefined) {\n",
       "        clearInterval(timer);\n",
       "        embed_document(root);\n",
       "      } else if (document.readyState == \"complete\") {\n",
       "        attempts++;\n",
       "        if (attempts > 200) {\n",
       "          clearInterval(timer);\n",
       "          console.log(\"Bokeh: ERROR: Unable to run BokehJS code because BokehJS library is missing\");\n",
       "        }\n",
       "      }\n",
       "    }, 25, root)\n",
       "  }\n",
       "})(window);</script>"
      ],
      "text/plain": [
       ":NdOverlay   [class]\n",
       "   :Scatter   [gdp]   (alcohol_liperyear)"
      ]
     },
     "execution_count": 63,
     "metadata": {
      "application/vnd.holoviews_exec.v0+json": {
       "id": "4147"
      }
     },
     "output_type": "execute_result"
    }
   ],
   "source": [
    "# Plotting the 2D-Scatter with x=\"gdp\" and y=\"trust\"\n",
    "two_clusters.hvplot.scatter(x=\"gdp\", y=\"alcohol_liperyear\", by=\"class\")"
   ]
  },
  {
   "cell_type": "code",
   "execution_count": 67,
   "id": "6f9a7232",
   "metadata": {},
   "outputs": [
    {
     "data": {
      "application/vnd.plotly.v1+json": {
       "config": {
        "plotlyServerURL": "https://plot.ly"
       },
       "data": [
        {
         "hovertemplate": "class=%{marker.color}<br>gdp=%{x}<br>family=%{y}<br>alcohol_liperyear=%{z}<extra></extra>",
         "legendgroup": "0",
         "marker": {
          "color": [
           0,
           0,
           0,
           0,
           0,
           0,
           0,
           0,
           0,
           0,
           0,
           0,
           0,
           0,
           0,
           0,
           0,
           0,
           0,
           0,
           0,
           0,
           0,
           0,
           0,
           0,
           0,
           0,
           0,
           0,
           0,
           0,
           0,
           0,
           0,
           0,
           0,
           0,
           0,
           0,
           0,
           0,
           0,
           0,
           0,
           0,
           0,
           0
          ],
          "coloraxis": "coloraxis",
          "symbol": "circle"
         },
         "mode": "markers",
         "name": "0",
         "scene": "scene",
         "showlegend": true,
         "type": "scatter3d",
         "x": [
          1.004,
          1.362,
          1.238,
          1.162,
          1.05,
          1.173,
          0.855,
          0.677,
          1.183,
          0.807,
          1.004,
          0.685,
          1.044,
          1.183,
          0.948,
          0.696,
          0.551,
          1.002,
          0.801,
          0.987,
          0.741,
          0.837,
          0.764,
          0.96,
          0.574,
          0.879,
          0.331,
          0.85,
          1.1,
          0.886,
          0.921,
          1.269,
          1.503,
          0.549,
          1.092,
          0.268,
          0.811,
          0.332,
          0.073,
          0.274,
          0.489,
          0.046,
          0.366,
          1.041,
          0.359,
          0.476,
          0.35,
          0.569
         ],
         "y": [
          1.439,
          1.368,
          1.515,
          1.232,
          1.409,
          1.508,
          1.475,
          0.886,
          1.452,
          1.293,
          1.383,
          1.328,
          1.303,
          1.36,
          1.531,
          1.111,
          1.438,
          1.16,
          0.782,
          1.224,
          1.346,
          1.225,
          1.03,
          1.351,
          1.122,
          1.313,
          1.056,
          1.055,
          0.842,
          0.666,
          1,
          1.487,
          1.31,
          0.91,
          1.513,
          0.841,
          1.149,
          1.069,
          0.922,
          0.757,
          1.169,
          0.447,
          1.114,
          1.145,
          0.711,
          0.885,
          0.517,
          0.808
         ],
         "z": [
          19.3,
          22.1,
          18.9,
          18.8,
          20.3,
          19.2,
          20.1,
          26,
          20.1,
          19.9,
          18.5,
          22.8,
          26.4,
          28.5,
          21.9,
          25.5,
          24,
          29.1,
          24.5,
          25,
          22.8,
          24.6,
          25.9,
          29.9,
          21.7,
          32.4,
          22.2,
          21.3,
          28.4,
          27.9,
          36.6,
          19.1,
          20.5,
          22.6,
          19.2,
          18.3,
          34.4,
          26,
          18.7,
          22.3,
          28.2,
          23.7,
          27.2,
          26.2,
          25.6,
          25.8,
          33.5,
          21.7
         ]
        },
        {
         "hovertemplate": "class=%{marker.color}<br>gdp=%{x}<br>family=%{y}<br>alcohol_liperyear=%{z}<extra></extra>",
         "legendgroup": "1",
         "marker": {
          "color": [
           1,
           1,
           1,
           1,
           1,
           1,
           1,
           1,
           1,
           1,
           1,
           1,
           1,
           1,
           1,
           1,
           1,
           1,
           1,
           1,
           1,
           1,
           1,
           1,
           1,
           1,
           1,
           1,
           1,
           1,
           1,
           1,
           1,
           1,
           1,
           1,
           1,
           1,
           1,
           1,
           1,
           1,
           1,
           1,
           1,
           1,
           1,
           1,
           1,
           1,
           1,
           1,
           1,
           1,
           1,
           1,
           1,
           1,
           1,
           1,
           1,
           1,
           1,
           1,
           1,
           1,
           1,
           1,
           1,
           1,
           1,
           1,
           1,
           1,
           1,
           1,
           1,
           1,
           1,
           1,
           1,
           1,
           1,
           1,
           1,
           1,
           1,
           1,
           1,
           1,
           1,
           1,
           1,
           1,
           1,
           1,
           1,
           1,
           1,
           1,
           1
          ],
          "coloraxis": "coloraxis",
          "symbol": "diamond"
         },
         "mode": "markers",
         "name": "1",
         "scene": "scene",
         "showlegend": true,
         "type": "scatter3d",
         "x": [
          1.124,
          1.572,
          0.794,
          1.294,
          1.246,
          1.206,
          0.745,
          0.985,
          1.258,
          0.694,
          1.092,
          1.263,
          0.912,
          1.5,
          1.187,
          1.301,
          1.237,
          0.831,
          1.12,
          1.327,
          0.642,
          0.776,
          1.201,
          0.96,
          1.221,
          1.051,
          0.493,
          1.155,
          1.015,
          0.945,
          1.221,
          1.067,
          1.181,
          1.052,
          1.043,
          0.931,
          1.029,
          0.813,
          0.393,
          1.057,
          0.947,
          0.96,
          0.45,
          0,
          0.138,
          0.38,
          0.308,
          0.512,
          0.57,
          0.204,
          0.562,
          1.043,
          0.385,
          1.34,
          1.383,
          1.488,
          1.38,
          1.396,
          1.452,
          1.387,
          1.303,
          1.365,
          1.376,
          1.372,
          1.034,
          1.276,
          1.609,
          1.333,
          1.499,
          1.373,
          1.356,
          1.433,
          1.3,
          1.07,
          1.324,
          1.159,
          0.8,
          1.403,
          1.684,
          0.611,
          0.446,
          1.286,
          1.149,
          0.949,
          0.35,
          0.82,
          0.336,
          0.913,
          0.578,
          0.275,
          0.755,
          0.274,
          0.323,
          0.619,
          0.191,
          0.287,
          0.026,
          0.673,
          0.094,
          0.71,
          1.231
         ],
         "y": [
          1.465,
          1.463,
          1.242,
          1.488,
          1.504,
          1.438,
          1.529,
          1.41,
          1.523,
          1.325,
          1.432,
          1.223,
          1.312,
          1.319,
          1.465,
          1.219,
          1.528,
          1.478,
          1.402,
          1.419,
          1.236,
          1.209,
          1.41,
          1.274,
          1.431,
          1.361,
          1.098,
          1.266,
          1.401,
          1.212,
          1.171,
          1.465,
          1.156,
          1.538,
          1.147,
          1.203,
          1.125,
          1.321,
          0.437,
          1.183,
          0.848,
          1.427,
          1.134,
          0.698,
          0.774,
          0.829,
          0.939,
          0.983,
          1.167,
          0.986,
          0.928,
          0.98,
          1.105,
          1.587,
          1.573,
          1.582,
          1.624,
          1.522,
          1.526,
          1.487,
          1.557,
          1.505,
          1.475,
          1.548,
          1.441,
          1.455,
          1.479,
          1.538,
          1.553,
          1.454,
          1.504,
          1.457,
          1.52,
          1.323,
          1.472,
          1.369,
          1.269,
          1.357,
          1.313,
          0.868,
          1.226,
          1.484,
          1.442,
          1.265,
          0.766,
          1.39,
          1.033,
          1.039,
          1.058,
          0.572,
          0.765,
          0.916,
          0.688,
          0.378,
          0.56,
          1.163,
          0,
          0.799,
          1.125,
          1.181,
          1.477
         ],
         "z": [
          15.7,
          2.9,
          12.8,
          12,
          16.6,
          17.1,
          12.8,
          15.2,
          17.7,
          15.9,
          14.6,
          15.6,
          9.5,
          1,
          17.2,
          16,
          15.9,
          11.9,
          11.5,
          14.1,
          13.5,
          10.5,
          17.1,
          11.8,
          17.8,
          14.8,
          15.8,
          15,
          16,
          13.4,
          3.1,
          15.2,
          15.9,
          17.8,
          3.7,
          3.4,
          12.9,
          1.9,
          11.6,
          17.2,
          14.6,
          14.9,
          3.5,
          1.5,
          2.5,
          5.8,
          14.1,
          14.1,
          3.8,
          11.4,
          0.9,
          12.4,
          5.7,
          14.8,
          13.9,
          9.4,
          12.8,
          12,
          14.2,
          12.5,
          14.3,
          13.8,
          14.9,
          13.4,
          13,
          7,
          14.1,
          15.6,
          16,
          16.9,
          15.9,
          13.7,
          12.8,
          15.3,
          16.7,
          13.7,
          9,
          3.8,
          4.4,
          10.2,
          7.4,
          14.6,
          16.5,
          14.9,
          6.9,
          13.8,
          12.6,
          14.3,
          17.7,
          12,
          14.6,
          9.2,
          16.5,
          15.5,
          15.5,
          9.4,
          8.8,
          15.1,
          7.1,
          17.6,
          14.2
         ]
        }
       ],
       "layout": {
        "coloraxis": {
         "colorbar": {
          "title": {
           "text": "class"
          }
         },
         "colorscale": [
          [
           0,
           "#0d0887"
          ],
          [
           0.1111111111111111,
           "#46039f"
          ],
          [
           0.2222222222222222,
           "#7201a8"
          ],
          [
           0.3333333333333333,
           "#9c179e"
          ],
          [
           0.4444444444444444,
           "#bd3786"
          ],
          [
           0.5555555555555556,
           "#d8576b"
          ],
          [
           0.6666666666666666,
           "#ed7953"
          ],
          [
           0.7777777777777778,
           "#fb9f3a"
          ],
          [
           0.8888888888888888,
           "#fdca26"
          ],
          [
           1,
           "#f0f921"
          ]
         ]
        },
        "legend": {
         "title": {
          "text": "class"
         },
         "tracegroupgap": 0,
         "x": 0,
         "y": 1
        },
        "margin": {
         "t": 60
        },
        "scene": {
         "domain": {
          "x": [
           0,
           1
          ],
          "y": [
           0,
           1
          ]
         },
         "xaxis": {
          "title": {
           "text": "gdp"
          }
         },
         "yaxis": {
          "title": {
           "text": "family"
          }
         },
         "zaxis": {
          "title": {
           "text": "alcohol_liperyear"
          }
         }
        },
        "template": {
         "data": {
          "bar": [
           {
            "error_x": {
             "color": "#2a3f5f"
            },
            "error_y": {
             "color": "#2a3f5f"
            },
            "marker": {
             "line": {
              "color": "#E5ECF6",
              "width": 0.5
             }
            },
            "type": "bar"
           }
          ],
          "barpolar": [
           {
            "marker": {
             "line": {
              "color": "#E5ECF6",
              "width": 0.5
             }
            },
            "type": "barpolar"
           }
          ],
          "carpet": [
           {
            "aaxis": {
             "endlinecolor": "#2a3f5f",
             "gridcolor": "white",
             "linecolor": "white",
             "minorgridcolor": "white",
             "startlinecolor": "#2a3f5f"
            },
            "baxis": {
             "endlinecolor": "#2a3f5f",
             "gridcolor": "white",
             "linecolor": "white",
             "minorgridcolor": "white",
             "startlinecolor": "#2a3f5f"
            },
            "type": "carpet"
           }
          ],
          "choropleth": [
           {
            "colorbar": {
             "outlinewidth": 0,
             "ticks": ""
            },
            "type": "choropleth"
           }
          ],
          "contour": [
           {
            "colorbar": {
             "outlinewidth": 0,
             "ticks": ""
            },
            "colorscale": [
             [
              0,
              "#0d0887"
             ],
             [
              0.1111111111111111,
              "#46039f"
             ],
             [
              0.2222222222222222,
              "#7201a8"
             ],
             [
              0.3333333333333333,
              "#9c179e"
             ],
             [
              0.4444444444444444,
              "#bd3786"
             ],
             [
              0.5555555555555556,
              "#d8576b"
             ],
             [
              0.6666666666666666,
              "#ed7953"
             ],
             [
              0.7777777777777778,
              "#fb9f3a"
             ],
             [
              0.8888888888888888,
              "#fdca26"
             ],
             [
              1,
              "#f0f921"
             ]
            ],
            "type": "contour"
           }
          ],
          "contourcarpet": [
           {
            "colorbar": {
             "outlinewidth": 0,
             "ticks": ""
            },
            "type": "contourcarpet"
           }
          ],
          "heatmap": [
           {
            "colorbar": {
             "outlinewidth": 0,
             "ticks": ""
            },
            "colorscale": [
             [
              0,
              "#0d0887"
             ],
             [
              0.1111111111111111,
              "#46039f"
             ],
             [
              0.2222222222222222,
              "#7201a8"
             ],
             [
              0.3333333333333333,
              "#9c179e"
             ],
             [
              0.4444444444444444,
              "#bd3786"
             ],
             [
              0.5555555555555556,
              "#d8576b"
             ],
             [
              0.6666666666666666,
              "#ed7953"
             ],
             [
              0.7777777777777778,
              "#fb9f3a"
             ],
             [
              0.8888888888888888,
              "#fdca26"
             ],
             [
              1,
              "#f0f921"
             ]
            ],
            "type": "heatmap"
           }
          ],
          "heatmapgl": [
           {
            "colorbar": {
             "outlinewidth": 0,
             "ticks": ""
            },
            "colorscale": [
             [
              0,
              "#0d0887"
             ],
             [
              0.1111111111111111,
              "#46039f"
             ],
             [
              0.2222222222222222,
              "#7201a8"
             ],
             [
              0.3333333333333333,
              "#9c179e"
             ],
             [
              0.4444444444444444,
              "#bd3786"
             ],
             [
              0.5555555555555556,
              "#d8576b"
             ],
             [
              0.6666666666666666,
              "#ed7953"
             ],
             [
              0.7777777777777778,
              "#fb9f3a"
             ],
             [
              0.8888888888888888,
              "#fdca26"
             ],
             [
              1,
              "#f0f921"
             ]
            ],
            "type": "heatmapgl"
           }
          ],
          "histogram": [
           {
            "marker": {
             "colorbar": {
              "outlinewidth": 0,
              "ticks": ""
             }
            },
            "type": "histogram"
           }
          ],
          "histogram2d": [
           {
            "colorbar": {
             "outlinewidth": 0,
             "ticks": ""
            },
            "colorscale": [
             [
              0,
              "#0d0887"
             ],
             [
              0.1111111111111111,
              "#46039f"
             ],
             [
              0.2222222222222222,
              "#7201a8"
             ],
             [
              0.3333333333333333,
              "#9c179e"
             ],
             [
              0.4444444444444444,
              "#bd3786"
             ],
             [
              0.5555555555555556,
              "#d8576b"
             ],
             [
              0.6666666666666666,
              "#ed7953"
             ],
             [
              0.7777777777777778,
              "#fb9f3a"
             ],
             [
              0.8888888888888888,
              "#fdca26"
             ],
             [
              1,
              "#f0f921"
             ]
            ],
            "type": "histogram2d"
           }
          ],
          "histogram2dcontour": [
           {
            "colorbar": {
             "outlinewidth": 0,
             "ticks": ""
            },
            "colorscale": [
             [
              0,
              "#0d0887"
             ],
             [
              0.1111111111111111,
              "#46039f"
             ],
             [
              0.2222222222222222,
              "#7201a8"
             ],
             [
              0.3333333333333333,
              "#9c179e"
             ],
             [
              0.4444444444444444,
              "#bd3786"
             ],
             [
              0.5555555555555556,
              "#d8576b"
             ],
             [
              0.6666666666666666,
              "#ed7953"
             ],
             [
              0.7777777777777778,
              "#fb9f3a"
             ],
             [
              0.8888888888888888,
              "#fdca26"
             ],
             [
              1,
              "#f0f921"
             ]
            ],
            "type": "histogram2dcontour"
           }
          ],
          "mesh3d": [
           {
            "colorbar": {
             "outlinewidth": 0,
             "ticks": ""
            },
            "type": "mesh3d"
           }
          ],
          "parcoords": [
           {
            "line": {
             "colorbar": {
              "outlinewidth": 0,
              "ticks": ""
             }
            },
            "type": "parcoords"
           }
          ],
          "pie": [
           {
            "automargin": true,
            "type": "pie"
           }
          ],
          "scatter": [
           {
            "marker": {
             "colorbar": {
              "outlinewidth": 0,
              "ticks": ""
             }
            },
            "type": "scatter"
           }
          ],
          "scatter3d": [
           {
            "line": {
             "colorbar": {
              "outlinewidth": 0,
              "ticks": ""
             }
            },
            "marker": {
             "colorbar": {
              "outlinewidth": 0,
              "ticks": ""
             }
            },
            "type": "scatter3d"
           }
          ],
          "scattercarpet": [
           {
            "marker": {
             "colorbar": {
              "outlinewidth": 0,
              "ticks": ""
             }
            },
            "type": "scattercarpet"
           }
          ],
          "scattergeo": [
           {
            "marker": {
             "colorbar": {
              "outlinewidth": 0,
              "ticks": ""
             }
            },
            "type": "scattergeo"
           }
          ],
          "scattergl": [
           {
            "marker": {
             "colorbar": {
              "outlinewidth": 0,
              "ticks": ""
             }
            },
            "type": "scattergl"
           }
          ],
          "scattermapbox": [
           {
            "marker": {
             "colorbar": {
              "outlinewidth": 0,
              "ticks": ""
             }
            },
            "type": "scattermapbox"
           }
          ],
          "scatterpolar": [
           {
            "marker": {
             "colorbar": {
              "outlinewidth": 0,
              "ticks": ""
             }
            },
            "type": "scatterpolar"
           }
          ],
          "scatterpolargl": [
           {
            "marker": {
             "colorbar": {
              "outlinewidth": 0,
              "ticks": ""
             }
            },
            "type": "scatterpolargl"
           }
          ],
          "scatterternary": [
           {
            "marker": {
             "colorbar": {
              "outlinewidth": 0,
              "ticks": ""
             }
            },
            "type": "scatterternary"
           }
          ],
          "surface": [
           {
            "colorbar": {
             "outlinewidth": 0,
             "ticks": ""
            },
            "colorscale": [
             [
              0,
              "#0d0887"
             ],
             [
              0.1111111111111111,
              "#46039f"
             ],
             [
              0.2222222222222222,
              "#7201a8"
             ],
             [
              0.3333333333333333,
              "#9c179e"
             ],
             [
              0.4444444444444444,
              "#bd3786"
             ],
             [
              0.5555555555555556,
              "#d8576b"
             ],
             [
              0.6666666666666666,
              "#ed7953"
             ],
             [
              0.7777777777777778,
              "#fb9f3a"
             ],
             [
              0.8888888888888888,
              "#fdca26"
             ],
             [
              1,
              "#f0f921"
             ]
            ],
            "type": "surface"
           }
          ],
          "table": [
           {
            "cells": {
             "fill": {
              "color": "#EBF0F8"
             },
             "line": {
              "color": "white"
             }
            },
            "header": {
             "fill": {
              "color": "#C8D4E3"
             },
             "line": {
              "color": "white"
             }
            },
            "type": "table"
           }
          ]
         },
         "layout": {
          "annotationdefaults": {
           "arrowcolor": "#2a3f5f",
           "arrowhead": 0,
           "arrowwidth": 1
          },
          "autotypenumbers": "strict",
          "coloraxis": {
           "colorbar": {
            "outlinewidth": 0,
            "ticks": ""
           }
          },
          "colorscale": {
           "diverging": [
            [
             0,
             "#8e0152"
            ],
            [
             0.1,
             "#c51b7d"
            ],
            [
             0.2,
             "#de77ae"
            ],
            [
             0.3,
             "#f1b6da"
            ],
            [
             0.4,
             "#fde0ef"
            ],
            [
             0.5,
             "#f7f7f7"
            ],
            [
             0.6,
             "#e6f5d0"
            ],
            [
             0.7,
             "#b8e186"
            ],
            [
             0.8,
             "#7fbc41"
            ],
            [
             0.9,
             "#4d9221"
            ],
            [
             1,
             "#276419"
            ]
           ],
           "sequential": [
            [
             0,
             "#0d0887"
            ],
            [
             0.1111111111111111,
             "#46039f"
            ],
            [
             0.2222222222222222,
             "#7201a8"
            ],
            [
             0.3333333333333333,
             "#9c179e"
            ],
            [
             0.4444444444444444,
             "#bd3786"
            ],
            [
             0.5555555555555556,
             "#d8576b"
            ],
            [
             0.6666666666666666,
             "#ed7953"
            ],
            [
             0.7777777777777778,
             "#fb9f3a"
            ],
            [
             0.8888888888888888,
             "#fdca26"
            ],
            [
             1,
             "#f0f921"
            ]
           ],
           "sequentialminus": [
            [
             0,
             "#0d0887"
            ],
            [
             0.1111111111111111,
             "#46039f"
            ],
            [
             0.2222222222222222,
             "#7201a8"
            ],
            [
             0.3333333333333333,
             "#9c179e"
            ],
            [
             0.4444444444444444,
             "#bd3786"
            ],
            [
             0.5555555555555556,
             "#d8576b"
            ],
            [
             0.6666666666666666,
             "#ed7953"
            ],
            [
             0.7777777777777778,
             "#fb9f3a"
            ],
            [
             0.8888888888888888,
             "#fdca26"
            ],
            [
             1,
             "#f0f921"
            ]
           ]
          },
          "colorway": [
           "#636efa",
           "#EF553B",
           "#00cc96",
           "#ab63fa",
           "#FFA15A",
           "#19d3f3",
           "#FF6692",
           "#B6E880",
           "#FF97FF",
           "#FECB52"
          ],
          "font": {
           "color": "#2a3f5f"
          },
          "geo": {
           "bgcolor": "white",
           "lakecolor": "white",
           "landcolor": "#E5ECF6",
           "showlakes": true,
           "showland": true,
           "subunitcolor": "white"
          },
          "hoverlabel": {
           "align": "left"
          },
          "hovermode": "closest",
          "mapbox": {
           "style": "light"
          },
          "paper_bgcolor": "white",
          "plot_bgcolor": "#E5ECF6",
          "polar": {
           "angularaxis": {
            "gridcolor": "white",
            "linecolor": "white",
            "ticks": ""
           },
           "bgcolor": "#E5ECF6",
           "radialaxis": {
            "gridcolor": "white",
            "linecolor": "white",
            "ticks": ""
           }
          },
          "scene": {
           "xaxis": {
            "backgroundcolor": "#E5ECF6",
            "gridcolor": "white",
            "gridwidth": 2,
            "linecolor": "white",
            "showbackground": true,
            "ticks": "",
            "zerolinecolor": "white"
           },
           "yaxis": {
            "backgroundcolor": "#E5ECF6",
            "gridcolor": "white",
            "gridwidth": 2,
            "linecolor": "white",
            "showbackground": true,
            "ticks": "",
            "zerolinecolor": "white"
           },
           "zaxis": {
            "backgroundcolor": "#E5ECF6",
            "gridcolor": "white",
            "gridwidth": 2,
            "linecolor": "white",
            "showbackground": true,
            "ticks": "",
            "zerolinecolor": "white"
           }
          },
          "shapedefaults": {
           "line": {
            "color": "#2a3f5f"
           }
          },
          "ternary": {
           "aaxis": {
            "gridcolor": "white",
            "linecolor": "white",
            "ticks": ""
           },
           "baxis": {
            "gridcolor": "white",
            "linecolor": "white",
            "ticks": ""
           },
           "bgcolor": "#E5ECF6",
           "caxis": {
            "gridcolor": "white",
            "linecolor": "white",
            "ticks": ""
           }
          },
          "title": {
           "x": 0.05
          },
          "xaxis": {
           "automargin": true,
           "gridcolor": "white",
           "linecolor": "white",
           "ticks": "",
           "title": {
            "standoff": 15
           },
           "zerolinecolor": "white",
           "zerolinewidth": 2
          },
          "yaxis": {
           "automargin": true,
           "gridcolor": "white",
           "linecolor": "white",
           "ticks": "",
           "title": {
            "standoff": 15
           },
           "zerolinecolor": "white",
           "zerolinewidth": 2
          }
         }
        },
        "width": 800
       }
      },
      "text/html": [
       "<div>                            <div id=\"2834c2e8-8555-4306-9bde-584d12cddbac\" class=\"plotly-graph-div\" style=\"height:525px; width:800px;\"></div>            <script type=\"text/javascript\">                require([\"plotly\"], function(Plotly) {                    window.PLOTLYENV=window.PLOTLYENV || {};                                    if (document.getElementById(\"2834c2e8-8555-4306-9bde-584d12cddbac\")) {                    Plotly.newPlot(                        \"2834c2e8-8555-4306-9bde-584d12cddbac\",                        [{\"hovertemplate\": \"class=%{marker.color}<br>gdp=%{x}<br>family=%{y}<br>alcohol_liperyear=%{z}<extra></extra>\", \"legendgroup\": \"0\", \"marker\": {\"color\": [0, 0, 0, 0, 0, 0, 0, 0, 0, 0, 0, 0, 0, 0, 0, 0, 0, 0, 0, 0, 0, 0, 0, 0, 0, 0, 0, 0, 0, 0, 0, 0, 0, 0, 0, 0, 0, 0, 0, 0, 0, 0, 0, 0, 0, 0, 0, 0], \"coloraxis\": \"coloraxis\", \"symbol\": \"circle\"}, \"mode\": \"markers\", \"name\": \"0\", \"scene\": \"scene\", \"showlegend\": true, \"type\": \"scatter3d\", \"x\": [1.004, 1.362, 1.238, 1.162, 1.05, 1.173, 0.855, 0.677, 1.183, 0.807, 1.004, 0.685, 1.044, 1.183, 0.948, 0.696, 0.551, 1.002, 0.801, 0.987, 0.741, 0.837, 0.764, 0.96, 0.574, 0.879, 0.331, 0.85, 1.1, 0.886, 0.921, 1.269, 1.503, 0.549, 1.092, 0.268, 0.811, 0.332, 0.073, 0.274, 0.489, 0.046, 0.366, 1.041, 0.359, 0.476, 0.35, 0.569], \"y\": [1.439, 1.368, 1.515, 1.232, 1.409, 1.508, 1.475, 0.886, 1.452, 1.293, 1.383, 1.328, 1.303, 1.36, 1.531, 1.111, 1.438, 1.16, 0.782, 1.224, 1.346, 1.225, 1.03, 1.351, 1.122, 1.313, 1.056, 1.055, 0.842, 0.666, 1.0, 1.487, 1.31, 0.91, 1.513, 0.841, 1.149, 1.069, 0.922, 0.757, 1.169, 0.447, 1.114, 1.145, 0.711, 0.885, 0.517, 0.808], \"z\": [19.3, 22.1, 18.9, 18.8, 20.3, 19.2, 20.1, 26.0, 20.1, 19.9, 18.5, 22.8, 26.4, 28.5, 21.9, 25.5, 24.0, 29.1, 24.5, 25.0, 22.8, 24.6, 25.9, 29.9, 21.7, 32.4, 22.2, 21.3, 28.4, 27.9, 36.6, 19.1, 20.5, 22.6, 19.2, 18.3, 34.4, 26.0, 18.7, 22.3, 28.2, 23.7, 27.2, 26.2, 25.6, 25.8, 33.5, 21.7]}, {\"hovertemplate\": \"class=%{marker.color}<br>gdp=%{x}<br>family=%{y}<br>alcohol_liperyear=%{z}<extra></extra>\", \"legendgroup\": \"1\", \"marker\": {\"color\": [1, 1, 1, 1, 1, 1, 1, 1, 1, 1, 1, 1, 1, 1, 1, 1, 1, 1, 1, 1, 1, 1, 1, 1, 1, 1, 1, 1, 1, 1, 1, 1, 1, 1, 1, 1, 1, 1, 1, 1, 1, 1, 1, 1, 1, 1, 1, 1, 1, 1, 1, 1, 1, 1, 1, 1, 1, 1, 1, 1, 1, 1, 1, 1, 1, 1, 1, 1, 1, 1, 1, 1, 1, 1, 1, 1, 1, 1, 1, 1, 1, 1, 1, 1, 1, 1, 1, 1, 1, 1, 1, 1, 1, 1, 1, 1, 1, 1, 1, 1, 1], \"coloraxis\": \"coloraxis\", \"symbol\": \"diamond\"}, \"mode\": \"markers\", \"name\": \"1\", \"scene\": \"scene\", \"showlegend\": true, \"type\": \"scatter3d\", \"x\": [1.124, 1.572, 0.794, 1.294, 1.246, 1.206, 0.745, 0.985, 1.258, 0.694, 1.092, 1.263, 0.912, 1.5, 1.187, 1.301, 1.237, 0.831, 1.12, 1.327, 0.642, 0.776, 1.201, 0.96, 1.221, 1.051, 0.493, 1.155, 1.015, 0.945, 1.221, 1.067, 1.181, 1.052, 1.043, 0.931, 1.029, 0.813, 0.393, 1.057, 0.947, 0.96, 0.45, 0.0, 0.138, 0.38, 0.308, 0.512, 0.57, 0.204, 0.562, 1.043, 0.385, 1.34, 1.383, 1.488, 1.38, 1.396, 1.452, 1.387, 1.303, 1.365, 1.376, 1.372, 1.034, 1.276, 1.609, 1.333, 1.499, 1.373, 1.356, 1.433, 1.3, 1.07, 1.324, 1.159, 0.8, 1.403, 1.684, 0.611, 0.446, 1.286, 1.149, 0.949, 0.35, 0.82, 0.336, 0.913, 0.578, 0.275, 0.755, 0.274, 0.323, 0.619, 0.191, 0.287, 0.026, 0.673, 0.094, 0.71, 1.231], \"y\": [1.465, 1.463, 1.242, 1.488, 1.504, 1.438, 1.529, 1.41, 1.523, 1.325, 1.432, 1.223, 1.312, 1.319, 1.465, 1.219, 1.528, 1.478, 1.402, 1.419, 1.236, 1.209, 1.41, 1.274, 1.431, 1.361, 1.098, 1.266, 1.401, 1.212, 1.171, 1.465, 1.156, 1.538, 1.147, 1.203, 1.125, 1.321, 0.437, 1.183, 0.848, 1.427, 1.134, 0.698, 0.774, 0.829, 0.939, 0.983, 1.167, 0.986, 0.928, 0.98, 1.105, 1.587, 1.573, 1.582, 1.624, 1.522, 1.526, 1.487, 1.557, 1.505, 1.475, 1.548, 1.441, 1.455, 1.479, 1.538, 1.553, 1.454, 1.504, 1.457, 1.52, 1.323, 1.472, 1.369, 1.269, 1.357, 1.313, 0.868, 1.226, 1.484, 1.442, 1.265, 0.766, 1.39, 1.033, 1.039, 1.058, 0.572, 0.765, 0.916, 0.688, 0.378, 0.56, 1.163, 0.0, 0.799, 1.125, 1.181, 1.477], \"z\": [15.7, 2.9, 12.8, 12.0, 16.6, 17.1, 12.8, 15.2, 17.7, 15.9, 14.6, 15.6, 9.5, 1.0, 17.2, 16.0, 15.9, 11.9, 11.5, 14.1, 13.5, 10.5, 17.1, 11.8, 17.8, 14.8, 15.8, 15.0, 16.0, 13.4, 3.1, 15.2, 15.9, 17.8, 3.7, 3.4, 12.9, 1.9, 11.6, 17.2, 14.6, 14.9, 3.5, 1.5, 2.5, 5.8, 14.1, 14.1, 3.8, 11.4, 0.9, 12.4, 5.7, 14.8, 13.9, 9.4, 12.8, 12.0, 14.2, 12.5, 14.3, 13.8, 14.9, 13.4, 13.0, 7.0, 14.1, 15.6, 16.0, 16.9, 15.9, 13.7, 12.8, 15.3, 16.7, 13.7, 9.0, 3.8, 4.4, 10.2, 7.4, 14.6, 16.5, 14.9, 6.9, 13.8, 12.6, 14.3, 17.7, 12.0, 14.6, 9.2, 16.5, 15.5, 15.5, 9.4, 8.8, 15.1, 7.1, 17.6, 14.2]}],                        {\"coloraxis\": {\"colorbar\": {\"title\": {\"text\": \"class\"}}, \"colorscale\": [[0.0, \"#0d0887\"], [0.1111111111111111, \"#46039f\"], [0.2222222222222222, \"#7201a8\"], [0.3333333333333333, \"#9c179e\"], [0.4444444444444444, \"#bd3786\"], [0.5555555555555556, \"#d8576b\"], [0.6666666666666666, \"#ed7953\"], [0.7777777777777778, \"#fb9f3a\"], [0.8888888888888888, \"#fdca26\"], [1.0, \"#f0f921\"]]}, \"legend\": {\"title\": {\"text\": \"class\"}, \"tracegroupgap\": 0, \"x\": 0, \"y\": 1}, \"margin\": {\"t\": 60}, \"scene\": {\"domain\": {\"x\": [0.0, 1.0], \"y\": [0.0, 1.0]}, \"xaxis\": {\"title\": {\"text\": \"gdp\"}}, \"yaxis\": {\"title\": {\"text\": \"family\"}}, \"zaxis\": {\"title\": {\"text\": \"alcohol_liperyear\"}}}, \"template\": {\"data\": {\"bar\": [{\"error_x\": {\"color\": \"#2a3f5f\"}, \"error_y\": {\"color\": \"#2a3f5f\"}, \"marker\": {\"line\": {\"color\": \"#E5ECF6\", \"width\": 0.5}}, \"type\": \"bar\"}], \"barpolar\": [{\"marker\": {\"line\": {\"color\": \"#E5ECF6\", \"width\": 0.5}}, \"type\": \"barpolar\"}], \"carpet\": [{\"aaxis\": {\"endlinecolor\": \"#2a3f5f\", \"gridcolor\": \"white\", \"linecolor\": \"white\", \"minorgridcolor\": \"white\", \"startlinecolor\": \"#2a3f5f\"}, \"baxis\": {\"endlinecolor\": \"#2a3f5f\", \"gridcolor\": \"white\", \"linecolor\": \"white\", \"minorgridcolor\": \"white\", \"startlinecolor\": \"#2a3f5f\"}, \"type\": \"carpet\"}], \"choropleth\": [{\"colorbar\": {\"outlinewidth\": 0, \"ticks\": \"\"}, \"type\": \"choropleth\"}], \"contour\": [{\"colorbar\": {\"outlinewidth\": 0, \"ticks\": \"\"}, \"colorscale\": [[0.0, \"#0d0887\"], [0.1111111111111111, \"#46039f\"], [0.2222222222222222, \"#7201a8\"], [0.3333333333333333, \"#9c179e\"], [0.4444444444444444, \"#bd3786\"], [0.5555555555555556, \"#d8576b\"], [0.6666666666666666, \"#ed7953\"], [0.7777777777777778, \"#fb9f3a\"], [0.8888888888888888, \"#fdca26\"], [1.0, \"#f0f921\"]], \"type\": \"contour\"}], \"contourcarpet\": [{\"colorbar\": {\"outlinewidth\": 0, \"ticks\": \"\"}, \"type\": \"contourcarpet\"}], \"heatmap\": [{\"colorbar\": {\"outlinewidth\": 0, \"ticks\": \"\"}, \"colorscale\": [[0.0, \"#0d0887\"], [0.1111111111111111, \"#46039f\"], [0.2222222222222222, \"#7201a8\"], [0.3333333333333333, \"#9c179e\"], [0.4444444444444444, \"#bd3786\"], [0.5555555555555556, \"#d8576b\"], [0.6666666666666666, \"#ed7953\"], [0.7777777777777778, \"#fb9f3a\"], [0.8888888888888888, \"#fdca26\"], [1.0, \"#f0f921\"]], \"type\": \"heatmap\"}], \"heatmapgl\": [{\"colorbar\": {\"outlinewidth\": 0, \"ticks\": \"\"}, \"colorscale\": [[0.0, \"#0d0887\"], [0.1111111111111111, \"#46039f\"], [0.2222222222222222, \"#7201a8\"], [0.3333333333333333, \"#9c179e\"], [0.4444444444444444, \"#bd3786\"], [0.5555555555555556, \"#d8576b\"], [0.6666666666666666, \"#ed7953\"], [0.7777777777777778, \"#fb9f3a\"], [0.8888888888888888, \"#fdca26\"], [1.0, \"#f0f921\"]], \"type\": \"heatmapgl\"}], \"histogram\": [{\"marker\": {\"colorbar\": {\"outlinewidth\": 0, \"ticks\": \"\"}}, \"type\": \"histogram\"}], \"histogram2d\": [{\"colorbar\": {\"outlinewidth\": 0, \"ticks\": \"\"}, \"colorscale\": [[0.0, \"#0d0887\"], [0.1111111111111111, \"#46039f\"], [0.2222222222222222, \"#7201a8\"], [0.3333333333333333, \"#9c179e\"], [0.4444444444444444, \"#bd3786\"], [0.5555555555555556, \"#d8576b\"], [0.6666666666666666, \"#ed7953\"], [0.7777777777777778, \"#fb9f3a\"], [0.8888888888888888, \"#fdca26\"], [1.0, \"#f0f921\"]], \"type\": \"histogram2d\"}], \"histogram2dcontour\": [{\"colorbar\": {\"outlinewidth\": 0, \"ticks\": \"\"}, \"colorscale\": [[0.0, \"#0d0887\"], [0.1111111111111111, \"#46039f\"], [0.2222222222222222, \"#7201a8\"], [0.3333333333333333, \"#9c179e\"], [0.4444444444444444, \"#bd3786\"], [0.5555555555555556, \"#d8576b\"], [0.6666666666666666, \"#ed7953\"], [0.7777777777777778, \"#fb9f3a\"], [0.8888888888888888, \"#fdca26\"], [1.0, \"#f0f921\"]], \"type\": \"histogram2dcontour\"}], \"mesh3d\": [{\"colorbar\": {\"outlinewidth\": 0, \"ticks\": \"\"}, \"type\": \"mesh3d\"}], \"parcoords\": [{\"line\": {\"colorbar\": {\"outlinewidth\": 0, \"ticks\": \"\"}}, \"type\": \"parcoords\"}], \"pie\": [{\"automargin\": true, \"type\": \"pie\"}], \"scatter\": [{\"marker\": {\"colorbar\": {\"outlinewidth\": 0, \"ticks\": \"\"}}, \"type\": \"scatter\"}], \"scatter3d\": [{\"line\": {\"colorbar\": {\"outlinewidth\": 0, \"ticks\": \"\"}}, \"marker\": {\"colorbar\": {\"outlinewidth\": 0, \"ticks\": \"\"}}, \"type\": \"scatter3d\"}], \"scattercarpet\": [{\"marker\": {\"colorbar\": {\"outlinewidth\": 0, \"ticks\": \"\"}}, \"type\": \"scattercarpet\"}], \"scattergeo\": [{\"marker\": {\"colorbar\": {\"outlinewidth\": 0, \"ticks\": \"\"}}, \"type\": \"scattergeo\"}], \"scattergl\": [{\"marker\": {\"colorbar\": {\"outlinewidth\": 0, \"ticks\": \"\"}}, \"type\": \"scattergl\"}], \"scattermapbox\": [{\"marker\": {\"colorbar\": {\"outlinewidth\": 0, \"ticks\": \"\"}}, \"type\": \"scattermapbox\"}], \"scatterpolar\": [{\"marker\": {\"colorbar\": {\"outlinewidth\": 0, \"ticks\": \"\"}}, \"type\": \"scatterpolar\"}], \"scatterpolargl\": [{\"marker\": {\"colorbar\": {\"outlinewidth\": 0, \"ticks\": \"\"}}, \"type\": \"scatterpolargl\"}], \"scatterternary\": [{\"marker\": {\"colorbar\": {\"outlinewidth\": 0, \"ticks\": \"\"}}, \"type\": \"scatterternary\"}], \"surface\": [{\"colorbar\": {\"outlinewidth\": 0, \"ticks\": \"\"}, \"colorscale\": [[0.0, \"#0d0887\"], [0.1111111111111111, \"#46039f\"], [0.2222222222222222, \"#7201a8\"], [0.3333333333333333, \"#9c179e\"], [0.4444444444444444, \"#bd3786\"], [0.5555555555555556, \"#d8576b\"], [0.6666666666666666, \"#ed7953\"], [0.7777777777777778, \"#fb9f3a\"], [0.8888888888888888, \"#fdca26\"], [1.0, \"#f0f921\"]], \"type\": \"surface\"}], \"table\": [{\"cells\": {\"fill\": {\"color\": \"#EBF0F8\"}, \"line\": {\"color\": \"white\"}}, \"header\": {\"fill\": {\"color\": \"#C8D4E3\"}, \"line\": {\"color\": \"white\"}}, \"type\": \"table\"}]}, \"layout\": {\"annotationdefaults\": {\"arrowcolor\": \"#2a3f5f\", \"arrowhead\": 0, \"arrowwidth\": 1}, \"autotypenumbers\": \"strict\", \"coloraxis\": {\"colorbar\": {\"outlinewidth\": 0, \"ticks\": \"\"}}, \"colorscale\": {\"diverging\": [[0, \"#8e0152\"], [0.1, \"#c51b7d\"], [0.2, \"#de77ae\"], [0.3, \"#f1b6da\"], [0.4, \"#fde0ef\"], [0.5, \"#f7f7f7\"], [0.6, \"#e6f5d0\"], [0.7, \"#b8e186\"], [0.8, \"#7fbc41\"], [0.9, \"#4d9221\"], [1, \"#276419\"]], \"sequential\": [[0.0, \"#0d0887\"], [0.1111111111111111, \"#46039f\"], [0.2222222222222222, \"#7201a8\"], [0.3333333333333333, \"#9c179e\"], [0.4444444444444444, \"#bd3786\"], [0.5555555555555556, \"#d8576b\"], [0.6666666666666666, \"#ed7953\"], [0.7777777777777778, \"#fb9f3a\"], [0.8888888888888888, \"#fdca26\"], [1.0, \"#f0f921\"]], \"sequentialminus\": [[0.0, \"#0d0887\"], [0.1111111111111111, \"#46039f\"], [0.2222222222222222, \"#7201a8\"], [0.3333333333333333, \"#9c179e\"], [0.4444444444444444, \"#bd3786\"], [0.5555555555555556, \"#d8576b\"], [0.6666666666666666, \"#ed7953\"], [0.7777777777777778, \"#fb9f3a\"], [0.8888888888888888, \"#fdca26\"], [1.0, \"#f0f921\"]]}, \"colorway\": [\"#636efa\", \"#EF553B\", \"#00cc96\", \"#ab63fa\", \"#FFA15A\", \"#19d3f3\", \"#FF6692\", \"#B6E880\", \"#FF97FF\", \"#FECB52\"], \"font\": {\"color\": \"#2a3f5f\"}, \"geo\": {\"bgcolor\": \"white\", \"lakecolor\": \"white\", \"landcolor\": \"#E5ECF6\", \"showlakes\": true, \"showland\": true, \"subunitcolor\": \"white\"}, \"hoverlabel\": {\"align\": \"left\"}, \"hovermode\": \"closest\", \"mapbox\": {\"style\": \"light\"}, \"paper_bgcolor\": \"white\", \"plot_bgcolor\": \"#E5ECF6\", \"polar\": {\"angularaxis\": {\"gridcolor\": \"white\", \"linecolor\": \"white\", \"ticks\": \"\"}, \"bgcolor\": \"#E5ECF6\", \"radialaxis\": {\"gridcolor\": \"white\", \"linecolor\": \"white\", \"ticks\": \"\"}}, \"scene\": {\"xaxis\": {\"backgroundcolor\": \"#E5ECF6\", \"gridcolor\": \"white\", \"gridwidth\": 2, \"linecolor\": \"white\", \"showbackground\": true, \"ticks\": \"\", \"zerolinecolor\": \"white\"}, \"yaxis\": {\"backgroundcolor\": \"#E5ECF6\", \"gridcolor\": \"white\", \"gridwidth\": 2, \"linecolor\": \"white\", \"showbackground\": true, \"ticks\": \"\", \"zerolinecolor\": \"white\"}, \"zaxis\": {\"backgroundcolor\": \"#E5ECF6\", \"gridcolor\": \"white\", \"gridwidth\": 2, \"linecolor\": \"white\", \"showbackground\": true, \"ticks\": \"\", \"zerolinecolor\": \"white\"}}, \"shapedefaults\": {\"line\": {\"color\": \"#2a3f5f\"}}, \"ternary\": {\"aaxis\": {\"gridcolor\": \"white\", \"linecolor\": \"white\", \"ticks\": \"\"}, \"baxis\": {\"gridcolor\": \"white\", \"linecolor\": \"white\", \"ticks\": \"\"}, \"bgcolor\": \"#E5ECF6\", \"caxis\": {\"gridcolor\": \"white\", \"linecolor\": \"white\", \"ticks\": \"\"}}, \"title\": {\"x\": 0.05}, \"xaxis\": {\"automargin\": true, \"gridcolor\": \"white\", \"linecolor\": \"white\", \"ticks\": \"\", \"title\": {\"standoff\": 15}, \"zerolinecolor\": \"white\", \"zerolinewidth\": 2}, \"yaxis\": {\"automargin\": true, \"gridcolor\": \"white\", \"linecolor\": \"white\", \"ticks\": \"\", \"title\": {\"standoff\": 15}, \"zerolinecolor\": \"white\", \"zerolinewidth\": 2}}}, \"width\": 800},                        {\"responsive\": true}                    ).then(function(){\n",
       "                            \n",
       "var gd = document.getElementById('2834c2e8-8555-4306-9bde-584d12cddbac');\n",
       "var x = new MutationObserver(function (mutations, observer) {{\n",
       "        var display = window.getComputedStyle(gd).display;\n",
       "        if (!display || display === 'none') {{\n",
       "            console.log([gd, 'removed!']);\n",
       "            Plotly.purge(gd);\n",
       "            observer.disconnect();\n",
       "        }}\n",
       "}});\n",
       "\n",
       "// Listen for the removal of the full notebook cells\n",
       "var notebookContainer = gd.closest('#notebook-container');\n",
       "if (notebookContainer) {{\n",
       "    x.observe(notebookContainer, {childList: true});\n",
       "}}\n",
       "\n",
       "// Listen for the clearing of the current output cell\n",
       "var outputEl = gd.closest('.output');\n",
       "if (outputEl) {{\n",
       "    x.observe(outputEl, {childList: true});\n",
       "}}\n",
       "\n",
       "                        })                };                });            </script>        </div>"
      ]
     },
     "metadata": {},
     "output_type": "display_data"
    }
   ],
   "source": [
    "# Plot the 3D-scatter with x=\"gdp\" and y=\"family\" and z=\"lifeexpectancy\"\n",
    "fig = px.scatter_3d(\n",
    "    two_clusters,\n",
    "    x=\"gdp\",\n",
    "    y=\"family\",\n",
    "    z=\"alcohol_liperyear\",\n",
    "    color=\"class\",\n",
    "    symbol=\"class\",\n",
    "    width=800,\n",
    ")\n",
    "fig.update_layout(legend=dict(x=0, y=1))\n",
    "fig.show()"
   ]
  },
  {
   "cell_type": "code",
   "execution_count": null,
   "id": "b1368c99",
   "metadata": {},
   "outputs": [],
   "source": []
  },
  {
   "cell_type": "code",
   "execution_count": null,
   "id": "cebf7629",
   "metadata": {},
   "outputs": [],
   "source": []
  }
 ],
 "metadata": {
  "kernelspec": {
   "display_name": "mlenv",
   "language": "python",
   "name": "mlenv"
  },
  "language_info": {
   "codemirror_mode": {
    "name": "ipython",
    "version": 3
   },
   "file_extension": ".py",
   "mimetype": "text/x-python",
   "name": "python",
   "nbconvert_exporter": "python",
   "pygments_lexer": "ipython3",
   "version": "3.7.10"
  }
 },
 "nbformat": 4,
 "nbformat_minor": 5
}
