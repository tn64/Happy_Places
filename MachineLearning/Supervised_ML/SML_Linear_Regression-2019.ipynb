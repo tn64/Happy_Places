{
 "cells": [
  {
   "cell_type": "markdown",
   "id": "91053000",
   "metadata": {},
   "source": [
    "# Supervised Machine Learning - Linear Regression"
   ]
  },
  {
   "cell_type": "markdown",
   "id": "45fb33c5",
   "metadata": {},
   "source": [
    "After the the creation of the database, we connect to the database and perform the following:\n",
    "- Determine number of rows with blank cells. Because there were only five, we dropped those cells\n",
    "- We dropped the happinessrank, lat, and lng columns because they were unnecessary \n",
    "- We created a seprate dataframe and dropped the index, then exported for use in R Studio (both simple linear calculations and a multiple linear regression were perfored in R Studio -- see images for results). Addionally, in R Studio the data was split into training and testing sets by creating two random sets (P1 - training,  and P2 - testing). P1 contains the first 50 rows of random data, P2 contains the rest.\n",
    "- Finally, we dropped the country column because it was no longer necessary and changed the data type from object to float.\n",
    "\n",
    "This model was chosen because we are able to measure each (and several in the case of multiple linear regression), features against \"happinessscore\" to see how/whether they are related."
   ]
  },
  {
   "cell_type": "markdown",
   "id": "75aa708d",
   "metadata": {},
   "source": [
    "## Connect to Database"
   ]
  },
  {
   "cell_type": "code",
   "execution_count": 1,
   "id": "da7b0c53",
   "metadata": {},
   "outputs": [],
   "source": [
    "# Import Dependencies\n",
    "import psycopg2\n",
    "import sys\n",
    "import pandas as pd\n",
    "from pathlib import Path\n",
    "import matplotlib.pyplot as plt\n",
    "import numpy as np\n",
    "from sklearn.linear_model import LinearRegression\n",
    "from sklearn.model_selection import train_test_split\n",
    "from sklearn.metrics import r2_score"
   ]
  },
  {
   "cell_type": "code",
   "execution_count": 2,
   "id": "1903fb12",
   "metadata": {},
   "outputs": [],
   "source": [
    "# Connection parameters\n",
    "from config import username\n",
    "from config import password\n",
    "param_dic = {\n",
    "    \"host\"      : \"whr.csnc4l4qvlqd.us-east-2.rds.amazonaws.com\",\n",
    "    \"database\"  : \"postgres\",\n",
    "    \"user\"      : \"username\",\n",
    "    \"password\"  : \"password\"\n",
    "}\n",
    "\n",
    "# Create connect function to connect to PostgresSQL server\n",
    "def connect(param_dic):\n",
    "    conn = None\n",
    "    try:\n",
    "        print(\"Connecting to the PostgreSQL database...\")\n",
    "        conn = psycopg2.connect(**param_dic)\n",
    "    except (Exception, psycopg2.DatabaseError) as error:\n",
    "        print(error)\n",
    "        sys.exit(1)\n",
    "    print (\"Connection successful.\")\n",
    "    return conn\n",
    "    "
   ]
  },
  {
   "cell_type": "code",
   "execution_count": 3,
   "id": "91a961b5",
   "metadata": {},
   "outputs": [],
   "source": [
    "# Function to get the dataframe\n",
    "def postgresql_to_dataframe(conn, select_query, column_names):\n",
    "    cursor = conn.cursor()\n",
    "    try:\n",
    "        cursor.execute(select_query)\n",
    "    except (Exception, psycopg2.DatabaseError) as error:\n",
    "            print(\"Error: %s\" % error)\n",
    "            cursor.close()\n",
    "    \n",
    "    # Get list of tuples\n",
    "    tuples = cursor.fetchall()\n",
    "    cursor.close()\n",
    "    \n",
    "    # Create pandas dataframe\n",
    "    df = pd.DataFrame(tuples, columns=column_names)\n",
    "    return df"
   ]
  },
  {
   "cell_type": "code",
   "execution_count": 4,
   "id": "e5472253",
   "metadata": {
    "scrolled": true
   },
   "outputs": [
    {
     "name": "stdout",
     "output_type": "stream",
     "text": [
      "Connecting to the PostgreSQL database...\n",
      "Connection successful.\n"
     ]
    },
    {
     "data": {
      "text/html": [
       "<div>\n",
       "<style scoped>\n",
       "    .dataframe tbody tr th:only-of-type {\n",
       "        vertical-align: middle;\n",
       "    }\n",
       "\n",
       "    .dataframe tbody tr th {\n",
       "        vertical-align: top;\n",
       "    }\n",
       "\n",
       "    .dataframe thead th {\n",
       "        text-align: right;\n",
       "    }\n",
       "</style>\n",
       "<table border=\"1\" class=\"dataframe\">\n",
       "  <thead>\n",
       "    <tr style=\"text-align: right;\">\n",
       "      <th></th>\n",
       "      <th>country</th>\n",
       "      <th>happinessrank</th>\n",
       "      <th>happinessscore</th>\n",
       "      <th>gdp</th>\n",
       "      <th>family</th>\n",
       "      <th>lifeexpectancy</th>\n",
       "      <th>freedom</th>\n",
       "      <th>generosity</th>\n",
       "      <th>trust</th>\n",
       "      <th>lat</th>\n",
       "      <th>lng</th>\n",
       "      <th>alcohol_liperyear</th>\n",
       "    </tr>\n",
       "  </thead>\n",
       "  <tbody>\n",
       "    <tr>\n",
       "      <th>0</th>\n",
       "      <td>Brazil</td>\n",
       "      <td>32</td>\n",
       "      <td>6.300</td>\n",
       "      <td>1.00400</td>\n",
       "      <td>1.43900</td>\n",
       "      <td>0.80200</td>\n",
       "      <td>0.39000</td>\n",
       "      <td>0.09900</td>\n",
       "      <td>0.08600</td>\n",
       "      <td>-14.235004</td>\n",
       "      <td>-51.925280</td>\n",
       "      <td>19.3</td>\n",
       "    </tr>\n",
       "    <tr>\n",
       "      <th>1</th>\n",
       "      <td>Uruguay</td>\n",
       "      <td>33</td>\n",
       "      <td>6.293</td>\n",
       "      <td>1.12400</td>\n",
       "      <td>1.46500</td>\n",
       "      <td>0.89100</td>\n",
       "      <td>0.52300</td>\n",
       "      <td>0.12700</td>\n",
       "      <td>0.15000</td>\n",
       "      <td>-32.522779</td>\n",
       "      <td>-55.765835</td>\n",
       "      <td>15.7</td>\n",
       "    </tr>\n",
       "    <tr>\n",
       "      <th>2</th>\n",
       "      <td>Singapore</td>\n",
       "      <td>34</td>\n",
       "      <td>6.262</td>\n",
       "      <td>1.57200</td>\n",
       "      <td>1.46300</td>\n",
       "      <td>1.14100</td>\n",
       "      <td>0.55600</td>\n",
       "      <td>0.27100</td>\n",
       "      <td>0.45300</td>\n",
       "      <td>1.352083</td>\n",
       "      <td>103.819836</td>\n",
       "      <td>2.9</td>\n",
       "    </tr>\n",
       "    <tr>\n",
       "      <th>3</th>\n",
       "      <td>El Salvador</td>\n",
       "      <td>35</td>\n",
       "      <td>6.253</td>\n",
       "      <td>0.79400</td>\n",
       "      <td>1.24200</td>\n",
       "      <td>0.78900</td>\n",
       "      <td>0.43000</td>\n",
       "      <td>0.09300</td>\n",
       "      <td>0.07400</td>\n",
       "      <td>13.794185</td>\n",
       "      <td>-88.896530</td>\n",
       "      <td>12.8</td>\n",
       "    </tr>\n",
       "    <tr>\n",
       "      <th>4</th>\n",
       "      <td>Italy</td>\n",
       "      <td>36</td>\n",
       "      <td>6.223</td>\n",
       "      <td>1.29400</td>\n",
       "      <td>1.48800</td>\n",
       "      <td>1.03900</td>\n",
       "      <td>0.23100</td>\n",
       "      <td>0.15800</td>\n",
       "      <td>0.03000</td>\n",
       "      <td>41.871940</td>\n",
       "      <td>12.567380</td>\n",
       "      <td>12.0</td>\n",
       "    </tr>\n",
       "  </tbody>\n",
       "</table>\n",
       "</div>"
      ],
      "text/plain": [
       "       country  happinessrank happinessscore      gdp   family lifeexpectancy  \\\n",
       "0       Brazil             32          6.300  1.00400  1.43900        0.80200   \n",
       "1      Uruguay             33          6.293  1.12400  1.46500        0.89100   \n",
       "2    Singapore             34          6.262  1.57200  1.46300        1.14100   \n",
       "3  El Salvador             35          6.253  0.79400  1.24200        0.78900   \n",
       "4        Italy             36          6.223  1.29400  1.48800        1.03900   \n",
       "\n",
       "   freedom generosity    trust         lat         lng alcohol_liperyear  \n",
       "0  0.39000    0.09900  0.08600  -14.235004  -51.925280              19.3  \n",
       "1  0.52300    0.12700  0.15000  -32.522779  -55.765835              15.7  \n",
       "2  0.55600    0.27100  0.45300    1.352083  103.819836               2.9  \n",
       "3  0.43000    0.09300  0.07400   13.794185  -88.896530              12.8  \n",
       "4  0.23100    0.15800  0.03000   41.871940   12.567380              12.0  "
      ]
     },
     "execution_count": 4,
     "metadata": {},
     "output_type": "execute_result"
    }
   ],
   "source": [
    "# Connect to the database\n",
    "conn = connect(param_dic)\n",
    "\n",
    "column_names = [\"country\", \"happinessrank\", \"happinessscore\", \"gdp\", \"family\", \"lifeexpectancy\", \"freedom\", \"generosity\", \"trust\", \"lat\", \"lng\", \"alcohol_liperyear\"]\n",
    "df = postgresql_to_dataframe(conn, \"select * from whr_2019\", column_names)\n",
    "df.head()"
   ]
  },
  {
   "cell_type": "code",
   "execution_count": 5,
   "id": "47beef41",
   "metadata": {},
   "outputs": [
    {
     "data": {
      "text/html": [
       "<div>\n",
       "<style scoped>\n",
       "    .dataframe tbody tr th:only-of-type {\n",
       "        vertical-align: middle;\n",
       "    }\n",
       "\n",
       "    .dataframe tbody tr th {\n",
       "        vertical-align: top;\n",
       "    }\n",
       "\n",
       "    .dataframe thead th {\n",
       "        text-align: right;\n",
       "    }\n",
       "</style>\n",
       "<table border=\"1\" class=\"dataframe\">\n",
       "  <thead>\n",
       "    <tr style=\"text-align: right;\">\n",
       "      <th></th>\n",
       "      <th>country</th>\n",
       "      <th>happinessrank</th>\n",
       "      <th>happinessscore</th>\n",
       "      <th>gdp</th>\n",
       "      <th>family</th>\n",
       "      <th>lifeexpectancy</th>\n",
       "      <th>freedom</th>\n",
       "      <th>generosity</th>\n",
       "      <th>trust</th>\n",
       "      <th>lat</th>\n",
       "      <th>lng</th>\n",
       "      <th>alcohol_liperyear</th>\n",
       "    </tr>\n",
       "  </thead>\n",
       "  <tbody>\n",
       "    <tr>\n",
       "      <th>13</th>\n",
       "      <td>Kosovo</td>\n",
       "      <td>46</td>\n",
       "      <td>6.100</td>\n",
       "      <td>0.88200</td>\n",
       "      <td>1.23200</td>\n",
       "      <td>0.75800</td>\n",
       "      <td>0.48900</td>\n",
       "      <td>0.26200</td>\n",
       "      <td>0.00600</td>\n",
       "      <td>42.602636</td>\n",
       "      <td>20.902977</td>\n",
       "      <td>None</td>\n",
       "    </tr>\n",
       "    <tr>\n",
       "      <th>42</th>\n",
       "      <td>Hong Kong</td>\n",
       "      <td>76</td>\n",
       "      <td>5.430</td>\n",
       "      <td>1.43800</td>\n",
       "      <td>1.27700</td>\n",
       "      <td>1.12200</td>\n",
       "      <td>0.44000</td>\n",
       "      <td>0.25800</td>\n",
       "      <td>0.28700</td>\n",
       "      <td>22.396428</td>\n",
       "      <td>114.109497</td>\n",
       "      <td>None</td>\n",
       "    </tr>\n",
       "    <tr>\n",
       "      <th>69</th>\n",
       "      <td>Palestinian Territories</td>\n",
       "      <td>110</td>\n",
       "      <td>4.696</td>\n",
       "      <td>0.65700</td>\n",
       "      <td>1.24700</td>\n",
       "      <td>0.67200</td>\n",
       "      <td>0.22500</td>\n",
       "      <td>0.10300</td>\n",
       "      <td>0.06600</td>\n",
       "      <td>31.952162</td>\n",
       "      <td>35.233154</td>\n",
       "      <td>None</td>\n",
       "    </tr>\n",
       "    <tr>\n",
       "      <th>111</th>\n",
       "      <td>Taiwan</td>\n",
       "      <td>25</td>\n",
       "      <td>6.446</td>\n",
       "      <td>1.36800</td>\n",
       "      <td>1.43000</td>\n",
       "      <td>0.91400</td>\n",
       "      <td>0.35100</td>\n",
       "      <td>0.24200</td>\n",
       "      <td>0.09700</td>\n",
       "      <td>23.697810</td>\n",
       "      <td>120.960515</td>\n",
       "      <td>None</td>\n",
       "    </tr>\n",
       "    <tr>\n",
       "      <th>152</th>\n",
       "      <td>Macedonia [FYROM]</td>\n",
       "      <td>84</td>\n",
       "      <td>5.274</td>\n",
       "      <td>0.98300</td>\n",
       "      <td>1.29400</td>\n",
       "      <td>0.83800</td>\n",
       "      <td>0.34500</td>\n",
       "      <td>0.18500</td>\n",
       "      <td>0.03400</td>\n",
       "      <td>41.608635</td>\n",
       "      <td>21.745275</td>\n",
       "      <td>None</td>\n",
       "    </tr>\n",
       "  </tbody>\n",
       "</table>\n",
       "</div>"
      ],
      "text/plain": [
       "                     country  happinessrank happinessscore      gdp   family  \\\n",
       "13                    Kosovo             46          6.100  0.88200  1.23200   \n",
       "42                 Hong Kong             76          5.430  1.43800  1.27700   \n",
       "69   Palestinian Territories            110          4.696  0.65700  1.24700   \n",
       "111                   Taiwan             25          6.446  1.36800  1.43000   \n",
       "152        Macedonia [FYROM]             84          5.274  0.98300  1.29400   \n",
       "\n",
       "    lifeexpectancy  freedom generosity    trust        lat         lng  \\\n",
       "13         0.75800  0.48900    0.26200  0.00600  42.602636   20.902977   \n",
       "42         1.12200  0.44000    0.25800  0.28700  22.396428  114.109497   \n",
       "69         0.67200  0.22500    0.10300  0.06600  31.952162   35.233154   \n",
       "111        0.91400  0.35100    0.24200  0.09700  23.697810  120.960515   \n",
       "152        0.83800  0.34500    0.18500  0.03400  41.608635   21.745275   \n",
       "\n",
       "    alcohol_liperyear  \n",
       "13               None  \n",
       "42               None  \n",
       "69               None  \n",
       "111              None  \n",
       "152              None  "
      ]
     },
     "execution_count": 5,
     "metadata": {},
     "output_type": "execute_result"
    }
   ],
   "source": [
    "# Display countries with null values\n",
    "df1 = df[df.isna().any(axis=1)]\n",
    "df1"
   ]
  },
  {
   "cell_type": "code",
   "execution_count": 6,
   "id": "c523fd51",
   "metadata": {},
   "outputs": [
    {
     "data": {
      "text/html": [
       "<div>\n",
       "<style scoped>\n",
       "    .dataframe tbody tr th:only-of-type {\n",
       "        vertical-align: middle;\n",
       "    }\n",
       "\n",
       "    .dataframe tbody tr th {\n",
       "        vertical-align: top;\n",
       "    }\n",
       "\n",
       "    .dataframe thead th {\n",
       "        text-align: right;\n",
       "    }\n",
       "</style>\n",
       "<table border=\"1\" class=\"dataframe\">\n",
       "  <thead>\n",
       "    <tr style=\"text-align: right;\">\n",
       "      <th></th>\n",
       "      <th>country</th>\n",
       "      <th>happinessrank</th>\n",
       "      <th>happinessscore</th>\n",
       "      <th>gdp</th>\n",
       "      <th>family</th>\n",
       "      <th>lifeexpectancy</th>\n",
       "      <th>freedom</th>\n",
       "      <th>generosity</th>\n",
       "      <th>trust</th>\n",
       "      <th>lat</th>\n",
       "      <th>lng</th>\n",
       "      <th>alcohol_liperyear</th>\n",
       "    </tr>\n",
       "  </thead>\n",
       "  <tbody>\n",
       "  </tbody>\n",
       "</table>\n",
       "</div>"
      ],
      "text/plain": [
       "Empty DataFrame\n",
       "Columns: [country, happinessrank, happinessscore, gdp, family, lifeexpectancy, freedom, generosity, trust, lat, lng, alcohol_liperyear]\n",
       "Index: []"
      ]
     },
     "execution_count": 6,
     "metadata": {},
     "output_type": "execute_result"
    }
   ],
   "source": [
    "# Since there are only 5 countries, drop countries with null values\n",
    "df = df.dropna()\n",
    "df2 = df[df.isna().any(axis=1)]\n",
    "df2"
   ]
  },
  {
   "cell_type": "code",
   "execution_count": 7,
   "id": "1b4409c3",
   "metadata": {
    "scrolled": true
   },
   "outputs": [
    {
     "data": {
      "text/plain": [
       "country              object\n",
       "happinessscore       object\n",
       "gdp                  object\n",
       "family               object\n",
       "lifeexpectancy       object\n",
       "freedom              object\n",
       "generosity           object\n",
       "trust                object\n",
       "alcohol_liperyear    object\n",
       "dtype: object"
      ]
     },
     "execution_count": 7,
     "metadata": {},
     "output_type": "execute_result"
    }
   ],
   "source": [
    "# Drop unnecessariy columns\n",
    "df = df.drop(columns=[\"happinessrank\", \"lat\", \"lng\"], axis=1)\n",
    "df = df.fillna(value=np.nan)\n",
    "df.dtypes"
   ]
  },
  {
   "cell_type": "code",
   "execution_count": 8,
   "id": "c6ff75ba",
   "metadata": {},
   "outputs": [],
   "source": [
    "# Write df to csv file for R Studio \n",
    "df.reset_index(drop=True, inplace=True)\n",
    "df.to_csv(\"sml_linreg.csv\", index=False)"
   ]
  },
  {
   "cell_type": "code",
   "execution_count": 9,
   "id": "bbd80c51",
   "metadata": {
    "scrolled": true
   },
   "outputs": [
    {
     "data": {
      "text/html": [
       "<div>\n",
       "<style scoped>\n",
       "    .dataframe tbody tr th:only-of-type {\n",
       "        vertical-align: middle;\n",
       "    }\n",
       "\n",
       "    .dataframe tbody tr th {\n",
       "        vertical-align: top;\n",
       "    }\n",
       "\n",
       "    .dataframe thead th {\n",
       "        text-align: right;\n",
       "    }\n",
       "</style>\n",
       "<table border=\"1\" class=\"dataframe\">\n",
       "  <thead>\n",
       "    <tr style=\"text-align: right;\">\n",
       "      <th></th>\n",
       "      <th>happinessscore</th>\n",
       "      <th>gdp</th>\n",
       "      <th>family</th>\n",
       "      <th>lifeexpectancy</th>\n",
       "      <th>freedom</th>\n",
       "      <th>generosity</th>\n",
       "      <th>trust</th>\n",
       "      <th>alcohol_liperyear</th>\n",
       "    </tr>\n",
       "  </thead>\n",
       "  <tbody>\n",
       "    <tr>\n",
       "      <th>144</th>\n",
       "      <td>4.812</td>\n",
       "      <td>0.673</td>\n",
       "      <td>0.799</td>\n",
       "      <td>0.508</td>\n",
       "      <td>0.372</td>\n",
       "      <td>0.105</td>\n",
       "      <td>0.093</td>\n",
       "      <td>15.1</td>\n",
       "    </tr>\n",
       "    <tr>\n",
       "      <th>145</th>\n",
       "      <td>4.418</td>\n",
       "      <td>0.094</td>\n",
       "      <td>1.125</td>\n",
       "      <td>0.357</td>\n",
       "      <td>0.269</td>\n",
       "      <td>0.212</td>\n",
       "      <td>0.053</td>\n",
       "      <td>7.1</td>\n",
       "    </tr>\n",
       "    <tr>\n",
       "      <th>146</th>\n",
       "      <td>4.944</td>\n",
       "      <td>0.569</td>\n",
       "      <td>0.808</td>\n",
       "      <td>0.232</td>\n",
       "      <td>0.352</td>\n",
       "      <td>0.154</td>\n",
       "      <td>0.090</td>\n",
       "      <td>21.7</td>\n",
       "    </tr>\n",
       "    <tr>\n",
       "      <th>147</th>\n",
       "      <td>4.360</td>\n",
       "      <td>0.710</td>\n",
       "      <td>1.181</td>\n",
       "      <td>0.555</td>\n",
       "      <td>0.525</td>\n",
       "      <td>0.566</td>\n",
       "      <td>0.172</td>\n",
       "      <td>17.6</td>\n",
       "    </tr>\n",
       "    <tr>\n",
       "      <th>148</th>\n",
       "      <td>6.192</td>\n",
       "      <td>1.231</td>\n",
       "      <td>1.477</td>\n",
       "      <td>0.713</td>\n",
       "      <td>0.489</td>\n",
       "      <td>0.185</td>\n",
       "      <td>0.016</td>\n",
       "      <td>14.2</td>\n",
       "    </tr>\n",
       "  </tbody>\n",
       "</table>\n",
       "</div>"
      ],
      "text/plain": [
       "     happinessscore    gdp  family  lifeexpectancy  freedom  generosity  \\\n",
       "144           4.812  0.673   0.799           0.508    0.372       0.105   \n",
       "145           4.418  0.094   1.125           0.357    0.269       0.212   \n",
       "146           4.944  0.569   0.808           0.232    0.352       0.154   \n",
       "147           4.360  0.710   1.181           0.555    0.525       0.566   \n",
       "148           6.192  1.231   1.477           0.713    0.489       0.185   \n",
       "\n",
       "     trust  alcohol_liperyear  \n",
       "144  0.093               15.1  \n",
       "145  0.053                7.1  \n",
       "146  0.090               21.7  \n",
       "147  0.172               17.6  \n",
       "148  0.016               14.2  "
      ]
     },
     "execution_count": 9,
     "metadata": {},
     "output_type": "execute_result"
    }
   ],
   "source": [
    "# Drop \"country\" column and make type float\n",
    "df = df.drop(columns=[\"country\"])\n",
    "df = df[0:153].astype(float, errors = 'raise')\n",
    "df.tail()"
   ]
  },
  {
   "cell_type": "code",
   "execution_count": 10,
   "id": "cbaaf706",
   "metadata": {
    "scrolled": true
   },
   "outputs": [
    {
     "data": {
      "text/plain": [
       "happinessscore       float64\n",
       "gdp                  float64\n",
       "family               float64\n",
       "lifeexpectancy       float64\n",
       "freedom              float64\n",
       "generosity           float64\n",
       "trust                float64\n",
       "alcohol_liperyear    float64\n",
       "dtype: object"
      ]
     },
     "execution_count": 10,
     "metadata": {},
     "output_type": "execute_result"
    }
   ],
   "source": [
    "df.dtypes"
   ]
  },
  {
   "cell_type": "markdown",
   "id": "e431de98",
   "metadata": {},
   "source": [
    "## Predicting GDP - Happiness"
   ]
  },
  {
   "cell_type": "code",
   "execution_count": 11,
   "id": "058072b9",
   "metadata": {},
   "outputs": [],
   "source": [
    "# GDP\n",
    "X = df.gdp\n",
    "y = df.happinessscore\n",
    "X_b = np.c_[np.ones((149, 1)), X]  # Adding the bias term which is equal to 1\n",
    "\n",
    "# Dividing the data into train and test sets    \n",
    "X_train, X_test, y_train, y_test = train_test_split(X_b, y, test_size=0.2, random_state=42)\n",
    "\n",
    "theta_optimize = np.linalg.inv(X_train.T.dot(X_train)).dot(X_train.T).dot(y_train)"
   ]
  },
  {
   "cell_type": "code",
   "execution_count": 12,
   "id": "f1ec2beb",
   "metadata": {},
   "outputs": [
    {
     "data": {
      "text/plain": [
       "0.2285034323602151"
      ]
     },
     "execution_count": 12,
     "metadata": {},
     "output_type": "execute_result"
    }
   ],
   "source": [
    "# Predicting new data with the obtained feature weights\n",
    "y_pred = X_test.dot(theta_optimize)\n",
    "r2_score(y_test, y_pred)"
   ]
  },
  {
   "cell_type": "code",
   "execution_count": 13,
   "id": "4a5d8f8b",
   "metadata": {
    "scrolled": true
   },
   "outputs": [
    {
     "data": {
      "text/plain": [
       "[<matplotlib.lines.Line2D at 0x7fc332696410>]"
      ]
     },
     "execution_count": 13,
     "metadata": {},
     "output_type": "execute_result"
    },
    {
     "data": {
      "image/png": "[encoded data removed]",
      "text/plain": [
       "<Figure size 432x288 with 1 Axes>"
      ]
     },
     "metadata": {
      "needs_background": "light"
     },
     "output_type": "display_data"
    }
   ],
   "source": [
    "# Plot\n",
    "x = np.array(df.gdp)\n",
    "y = np.array(df.happinessscore)\n",
    "plt.xlabel(\"GDP\")\n",
    "plt.ylabel(\"Happiness\")\n",
    "plt.plot(x, y, 'o')\n",
    "m, b = np.polyfit(x, y, 1)\n",
    "plt.plot(x, m*x + b)\n",
    "\n"
   ]
  },
  {
   "cell_type": "markdown",
   "id": "388b4ebb",
   "metadata": {},
   "source": [
    "## Predicting Family - Happiness"
   ]
  },
  {
   "cell_type": "code",
   "execution_count": 14,
   "id": "f2a92c37",
   "metadata": {},
   "outputs": [],
   "source": [
    "# Family\n",
    "X = df.family\n",
    "y = df.happinessscore\n",
    "X_b = np.c_[np.ones((149, 1)), X]  # Adding the bias term which is equal to 1\n",
    "\n",
    "# Dividing the data into train and test sets    \n",
    "X_train, X_test, y_train, y_test = train_test_split(X_b, y, test_size=0.2, random_state=42)\n",
    "\n",
    "theta_optimize = np.linalg.inv(X_train.T.dot(X_train)).dot(X_train.T).dot(y_train)"
   ]
  },
  {
   "cell_type": "code",
   "execution_count": 15,
   "id": "e1625757",
   "metadata": {},
   "outputs": [
    {
     "data": {
      "text/plain": [
       "0.5552254934887999"
      ]
     },
     "execution_count": 15,
     "metadata": {},
     "output_type": "execute_result"
    }
   ],
   "source": [
    "# Predicting new data with the obtained feature weights\n",
    "y_pred = X_test.dot(theta_optimize)\n",
    "r2_score(y_test, y_pred)"
   ]
  },
  {
   "cell_type": "code",
   "execution_count": 16,
   "id": "83c7d61b",
   "metadata": {
    "scrolled": true
   },
   "outputs": [
    {
     "data": {
      "text/plain": [
       "[<matplotlib.lines.Line2D at 0x7fc3340b2750>]"
      ]
     },
     "execution_count": 16,
     "metadata": {},
     "output_type": "execute_result"
    },
    {
     "data": {
      "image/png": "[encoded data removed]",
      "text/plain": [
       "<Figure size 432x288 with 1 Axes>"
      ]
     },
     "metadata": {
      "needs_background": "light"
     },
     "output_type": "display_data"
    }
   ],
   "source": [
    "# Plot\n",
    "x = np.array(df.family)\n",
    "y = np.array(df.happinessscore)\n",
    "plt.xlabel(\"Family\")\n",
    "plt.ylabel(\"Happiness\")\n",
    "plt.plot(x, y, 'o')\n",
    "m, b = np.polyfit(x, y, 1)\n",
    "plt.plot(x, m*x + b)"
   ]
  },
  {
   "cell_type": "markdown",
   "id": "12562d19",
   "metadata": {},
   "source": [
    "## Predicting Life Expectancy - Happiness"
   ]
  },
  {
   "cell_type": "code",
   "execution_count": 17,
   "id": "058bded7",
   "metadata": {},
   "outputs": [],
   "source": [
    "# Life Expectancy\n",
    "X = df.lifeexpectancy\n",
    "y = df.happinessscore\n",
    "X_b = np.c_[np.ones((149, 1)), X]  # Adding the bias term which is equal to 1\n",
    "\n",
    "# Dividing the data into train and test sets    \n",
    "X_train, X_test, y_train, y_test = train_test_split(X_b, y, test_size=0.2, random_state=42)\n",
    "\n",
    "theta_optimize = np.linalg.inv(X_train.T.dot(X_train)).dot(X_train.T).dot(y_train)"
   ]
  },
  {
   "cell_type": "code",
   "execution_count": 18,
   "id": "a3facc00",
   "metadata": {},
   "outputs": [
    {
     "data": {
      "text/plain": [
       "0.38209836416136744"
      ]
     },
     "execution_count": 18,
     "metadata": {},
     "output_type": "execute_result"
    }
   ],
   "source": [
    "# Predicting new data with the obtained feature weights\n",
    "y_pred = X_test.dot(theta_optimize)\n",
    "r2_score(y_test, y_pred)"
   ]
  },
  {
   "cell_type": "code",
   "execution_count": 19,
   "id": "dd9e8f1a",
   "metadata": {
    "scrolled": true
   },
   "outputs": [
    {
     "data": {
      "text/plain": [
       "[<matplotlib.lines.Line2D at 0x7fc3341ea610>]"
      ]
     },
     "execution_count": 19,
     "metadata": {},
     "output_type": "execute_result"
    },
    {
     "data": {
      "image/png": "[encoded data removed]",
      "text/plain": [
       "<Figure size 432x288 with 1 Axes>"
      ]
     },
     "metadata": {
      "needs_background": "light"
     },
     "output_type": "display_data"
    }
   ],
   "source": [
    "# Plot\n",
    "x = np.array(df.lifeexpectancy)\n",
    "y = np.array(df.happinessscore)\n",
    "plt.xlabel(\"Life Expectancy\")\n",
    "plt.ylabel(\"Happiness\")\n",
    "plt.plot(x, y, 'o')\n",
    "m, b = np.polyfit(x, y, 1)\n",
    "plt.plot(x, m*x + b)"
   ]
  },
  {
   "cell_type": "markdown",
   "id": "b8ca5d59",
   "metadata": {},
   "source": [
    "## Predicting Freedom - Happiness"
   ]
  },
  {
   "cell_type": "code",
   "execution_count": 20,
   "id": "89efe658",
   "metadata": {},
   "outputs": [],
   "source": [
    "# Freedom\n",
    "X = df.freedom\n",
    "y = df.happinessscore\n",
    "X_b = np.c_[np.ones((149, 1)), X]  # Adding the bias term which is equal to 1\n",
    "\n",
    "# Dividing the data into train and test sets    \n",
    "X_train, X_test, y_train, y_test = train_test_split(X_b, y, test_size=0.2, random_state=42)\n",
    "\n",
    "theta_optimize = np.linalg.inv(X_train.T.dot(X_train)).dot(X_train.T).dot(y_train)"
   ]
  },
  {
   "cell_type": "code",
   "execution_count": 21,
   "id": "0bfcd37f",
   "metadata": {},
   "outputs": [
    {
     "data": {
      "text/plain": [
       "-0.2384602521047232"
      ]
     },
     "execution_count": 21,
     "metadata": {},
     "output_type": "execute_result"
    }
   ],
   "source": [
    "# Predicting new data with the obtained feature weights\n",
    "y_pred = X_test.dot(theta_optimize)\n",
    "r2_score(y_test, y_pred)"
   ]
  },
  {
   "cell_type": "code",
   "execution_count": 22,
   "id": "bebe9007",
   "metadata": {
    "scrolled": true
   },
   "outputs": [
    {
     "data": {
      "text/plain": [
       "[<matplotlib.lines.Line2D at 0x7fc3342dbc50>]"
      ]
     },
     "execution_count": 22,
     "metadata": {},
     "output_type": "execute_result"
    },
    {
     "data": {
      "image/png": "[encoded data removed]",
      "text/plain": [
       "<Figure size 432x288 with 1 Axes>"
      ]
     },
     "metadata": {
      "needs_background": "light"
     },
     "output_type": "display_data"
    }
   ],
   "source": [
    "# Plot\n",
    "x = np.array(df.freedom)\n",
    "y = np.array(df.happinessscore)\n",
    "plt.xlabel(\"Freedom\")\n",
    "plt.ylabel(\"Happiness\")\n",
    "plt.plot(x, y, 'o')\n",
    "m, b = np.polyfit(x, y, 1)\n",
    "plt.plot(x, m*x + b)"
   ]
  },
  {
   "cell_type": "markdown",
   "id": "445b6070",
   "metadata": {},
   "source": [
    "## Predicting Trust - Happiness"
   ]
  },
  {
   "cell_type": "code",
   "execution_count": 23,
   "id": "c0940759",
   "metadata": {},
   "outputs": [],
   "source": [
    "# Trust\n",
    "X = df.trust\n",
    "y = df.happinessscore\n",
    "X_b = np.c_[np.ones((149, 1)), X]  # Adding the bias term which is equal to 1\n",
    "\n",
    "# Dividing the data into train and test sets    \n",
    "X_train, X_test, y_train, y_test = train_test_split(X_b, y, test_size=0.2, random_state=42)\n",
    "\n",
    "theta_optimize = np.linalg.inv(X_train.T.dot(X_train)).dot(X_train.T).dot(y_train)"
   ]
  },
  {
   "cell_type": "code",
   "execution_count": 24,
   "id": "c8e054bd",
   "metadata": {},
   "outputs": [
    {
     "data": {
      "text/plain": [
       "-0.6650130057967689"
      ]
     },
     "execution_count": 24,
     "metadata": {},
     "output_type": "execute_result"
    }
   ],
   "source": [
    "# Predicting new data with the obtained feature weights\n",
    "y_pred = X_test.dot(theta_optimize)\n",
    "r2_score(y_test, y_pred)"
   ]
  },
  {
   "cell_type": "code",
   "execution_count": 25,
   "id": "0c347fa9",
   "metadata": {
    "scrolled": true
   },
   "outputs": [
    {
     "data": {
      "text/plain": [
       "[<matplotlib.lines.Line2D at 0x7fc3343d3490>]"
      ]
     },
     "execution_count": 25,
     "metadata": {},
     "output_type": "execute_result"
    },
    {
     "data": {
      "image/png": "[encoded data removed]",
      "text/plain": [
       "<Figure size 432x288 with 1 Axes>"
      ]
     },
     "metadata": {
      "needs_background": "light"
     },
     "output_type": "display_data"
    }
   ],
   "source": [
    "# Plot\n",
    "x = np.array(df.trust)\n",
    "y = np.array(df.happinessscore)\n",
    "plt.xlabel(\"Trust\")\n",
    "plt.ylabel(\"Happiness\")\n",
    "plt.plot(x, y, 'o')\n",
    "m, b = np.polyfit(x, y, 1)\n",
    "plt.plot(x, m*x + b)"
   ]
  },
  {
   "cell_type": "markdown",
   "id": "ffe12d56",
   "metadata": {},
   "source": [
    "## Predicting Generosity - Happiness"
   ]
  },
  {
   "cell_type": "code",
   "execution_count": 26,
   "id": "8b4f35eb",
   "metadata": {},
   "outputs": [],
   "source": [
    "# Generosity\n",
    "X = df.generosity\n",
    "y = df.happinessscore\n",
    "X_b = np.c_[np.ones((149, 1)), X]  # Adding the bias term which is equal to 1\n",
    "\n",
    "# Dividing the data into train and test sets    \n",
    "X_train, X_test, y_train, y_test = train_test_split(X_b, y, test_size=0.2, random_state=42)\n",
    "\n",
    "theta_optimize = np.linalg.inv(X_train.T.dot(X_train)).dot(X_train.T).dot(y_train)"
   ]
  },
  {
   "cell_type": "code",
   "execution_count": 27,
   "id": "a5e2526e",
   "metadata": {},
   "outputs": [
    {
     "data": {
      "text/plain": [
       "-0.13283466962746182"
      ]
     },
     "execution_count": 27,
     "metadata": {},
     "output_type": "execute_result"
    }
   ],
   "source": [
    "# Predicting new data with the obtained feature weights\n",
    "y_pred = X_test.dot(theta_optimize)\n",
    "r2_score(y_test, y_pred)"
   ]
  },
  {
   "cell_type": "code",
   "execution_count": 28,
   "id": "caccc4b1",
   "metadata": {},
   "outputs": [
    {
     "data": {
      "text/plain": [
       "[<matplotlib.lines.Line2D at 0x7fc3344d82d0>]"
      ]
     },
     "execution_count": 28,
     "metadata": {},
     "output_type": "execute_result"
    },
    {
     "data": {
      "image/png": "[encoded data removed]",
      "text/plain": [
       "<Figure size 432x288 with 1 Axes>"
      ]
     },
     "metadata": {
      "needs_background": "light"
     },
     "output_type": "display_data"
    }
   ],
   "source": [
    "# Plot\n",
    "x = np.array(df.generosity)\n",
    "y = np.array(df.happinessscore)\n",
    "plt.xlabel(\"Generosity\")\n",
    "plt.ylabel(\"Happiness\")\n",
    "plt.plot(x, y, 'o')\n",
    "m, b = np.polyfit(x, y, 1)\n",
    "plt.plot(x, m*x + b)"
   ]
  },
  {
   "cell_type": "markdown",
   "id": "36b3f080",
   "metadata": {},
   "source": [
    "## Predicting Alcohol Consumption - Happiness"
   ]
  },
  {
   "cell_type": "code",
   "execution_count": 29,
   "id": "71965933",
   "metadata": {},
   "outputs": [],
   "source": [
    "# Alcohol Consumption\n",
    "X = df.alcohol_liperyear\n",
    "y = df.happinessscore\n",
    "X_b = np.c_[np.ones((149, 1)), X]  # Adding the bias term which is equal to 1\n",
    "\n",
    "# Dividing the data into train and test sets    \n",
    "X_train, X_test, y_train, y_test = train_test_split(X_b, y, test_size=0.2, random_state=42)\n",
    "\n",
    "theta_optimize = np.linalg.inv(X_train.T.dot(X_train)).dot(X_train.T).dot(y_train)"
   ]
  },
  {
   "cell_type": "code",
   "execution_count": 30,
   "id": "3f9c5a30",
   "metadata": {},
   "outputs": [
    {
     "data": {
      "text/plain": [
       "-0.10324748201100009"
      ]
     },
     "execution_count": 30,
     "metadata": {},
     "output_type": "execute_result"
    }
   ],
   "source": [
    "# Predicting new data with the obtained feature weights\n",
    "y_pred = X_test.dot(theta_optimize)\n",
    "r2_score(y_test, y_pred)"
   ]
  },
  {
   "cell_type": "code",
   "execution_count": 31,
   "id": "c29579f4",
   "metadata": {},
   "outputs": [
    {
     "data": {
      "text/plain": [
       "[<matplotlib.lines.Line2D at 0x7fc3345de690>]"
      ]
     },
     "execution_count": 31,
     "metadata": {},
     "output_type": "execute_result"
    },
    {
     "data": {
      "image/png": "[encoded data removed]",
      "text/plain": [
       "<Figure size 432x288 with 1 Axes>"
      ]
     },
     "metadata": {
      "needs_background": "light"
     },
     "output_type": "display_data"
    }
   ],
   "source": [
    "# Plot\n",
    "x = np.array(df.alcohol_liperyear)\n",
    "y = np.array(df.happinessscore)\n",
    "plt.xlabel(\"Alcohol Consumption\")\n",
    "plt.ylabel(\"Happiness\")\n",
    "plt.plot(x, y, 'o')\n",
    "m, b = np.polyfit(x, y, 1)\n",
    "plt.plot(x, m*x + b)"
   ]
  },
  {
   "cell_type": "code",
   "execution_count": 32,
   "id": "378f7fea",
   "metadata": {},
   "outputs": [],
   "source": [
    "# Close the connection\n",
    "conn.close()"
   ]
  }
 ],
 "metadata": {
  "kernelspec": {
   "display_name": "mlenv",
   "language": "python",
   "name": "mlenv"
  },
  "language_info": {
   "codemirror_mode": {
    "name": "ipython",
    "version": 3
   },
   "file_extension": ".py",
   "mimetype": "text/x-python",
   "name": "python",
   "nbconvert_exporter": "python",
   "pygments_lexer": "ipython3",
   "version": "3.7.10"
  }
 },
 "nbformat": 4,
 "nbformat_minor": 5
}
