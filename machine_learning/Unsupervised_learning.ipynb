{
 "cells": [
  {
   "cell_type": "code",
   "execution_count": 1,
   "id": "55a1b30c",
   "metadata": {},
   "outputs": [],
   "source": [
    "# import libraries\n",
    "import pandas as pd"
   ]
  },
  {
   "cell_type": "code",
   "execution_count": 3,
   "id": "bde8d811",
   "metadata": {},
   "outputs": [
    {
     "data": {
      "text/html": [
       "<div>\n",
       "<style scoped>\n",
       "    .dataframe tbody tr th:only-of-type {\n",
       "        vertical-align: middle;\n",
       "    }\n",
       "\n",
       "    .dataframe tbody tr th {\n",
       "        vertical-align: top;\n",
       "    }\n",
       "\n",
       "    .dataframe thead th {\n",
       "        text-align: right;\n",
       "    }\n",
       "</style>\n",
       "<table border=\"1\" class=\"dataframe\">\n",
       "  <thead>\n",
       "    <tr style=\"text-align: right;\">\n",
       "      <th></th>\n",
       "      <th>country</th>\n",
       "      <th>year</th>\n",
       "      <th>happinessrank</th>\n",
       "      <th>happinessscore</th>\n",
       "      <th>gdp</th>\n",
       "      <th>family</th>\n",
       "      <th>lifeexpectancy</th>\n",
       "      <th>freedom</th>\n",
       "      <th>trust</th>\n",
       "      <th>generosity</th>\n",
       "    </tr>\n",
       "  </thead>\n",
       "  <tbody>\n",
       "    <tr>\n",
       "      <th>0</th>\n",
       "      <td>Switzerland</td>\n",
       "      <td>2015</td>\n",
       "      <td>1</td>\n",
       "      <td>7.587</td>\n",
       "      <td>1.39651</td>\n",
       "      <td>1.34951</td>\n",
       "      <td>0.94143</td>\n",
       "      <td>0.66557</td>\n",
       "      <td>0.41978</td>\n",
       "      <td>0.29678</td>\n",
       "    </tr>\n",
       "    <tr>\n",
       "      <th>1</th>\n",
       "      <td>Iceland</td>\n",
       "      <td>2015</td>\n",
       "      <td>2</td>\n",
       "      <td>7.561</td>\n",
       "      <td>1.30232</td>\n",
       "      <td>1.40223</td>\n",
       "      <td>0.94784</td>\n",
       "      <td>0.62877</td>\n",
       "      <td>0.14145</td>\n",
       "      <td>0.43630</td>\n",
       "    </tr>\n",
       "    <tr>\n",
       "      <th>2</th>\n",
       "      <td>Denmark</td>\n",
       "      <td>2015</td>\n",
       "      <td>3</td>\n",
       "      <td>7.527</td>\n",
       "      <td>1.32548</td>\n",
       "      <td>1.36058</td>\n",
       "      <td>0.87464</td>\n",
       "      <td>0.64938</td>\n",
       "      <td>0.48357</td>\n",
       "      <td>0.34139</td>\n",
       "    </tr>\n",
       "    <tr>\n",
       "      <th>3</th>\n",
       "      <td>Norway</td>\n",
       "      <td>2015</td>\n",
       "      <td>4</td>\n",
       "      <td>7.522</td>\n",
       "      <td>1.45900</td>\n",
       "      <td>1.33095</td>\n",
       "      <td>0.88521</td>\n",
       "      <td>0.66973</td>\n",
       "      <td>0.36503</td>\n",
       "      <td>0.34699</td>\n",
       "    </tr>\n",
       "    <tr>\n",
       "      <th>4</th>\n",
       "      <td>Canada</td>\n",
       "      <td>2015</td>\n",
       "      <td>5</td>\n",
       "      <td>7.427</td>\n",
       "      <td>1.32629</td>\n",
       "      <td>1.32261</td>\n",
       "      <td>0.90563</td>\n",
       "      <td>0.63297</td>\n",
       "      <td>0.32957</td>\n",
       "      <td>0.45811</td>\n",
       "    </tr>\n",
       "  </tbody>\n",
       "</table>\n",
       "</div>"
      ],
      "text/plain": [
       "       country  year  happinessrank  happinessscore      gdp   family  \\\n",
       "0  Switzerland  2015              1           7.587  1.39651  1.34951   \n",
       "1      Iceland  2015              2           7.561  1.30232  1.40223   \n",
       "2      Denmark  2015              3           7.527  1.32548  1.36058   \n",
       "3       Norway  2015              4           7.522  1.45900  1.33095   \n",
       "4       Canada  2015              5           7.427  1.32629  1.32261   \n",
       "\n",
       "   lifeexpectancy  freedom    trust  generosity  \n",
       "0         0.94143  0.66557  0.41978     0.29678  \n",
       "1         0.94784  0.62877  0.14145     0.43630  \n",
       "2         0.87464  0.64938  0.48357     0.34139  \n",
       "3         0.88521  0.66973  0.36503     0.34699  \n",
       "4         0.90563  0.63297  0.32957     0.45811  "
      ]
     },
     "execution_count": 3,
     "metadata": {},
     "output_type": "execute_result"
    }
   ],
   "source": [
    "# load dataset in Pandas DataFrame\n",
    "file_path = \"Resources/WHR.csv\"\n",
    "whr_df = pd.read_csv(file_path)\n",
    "whr_df.head()"
   ]
  },
  {
   "cell_type": "code",
   "execution_count": 4,
   "id": "d94e9211",
   "metadata": {},
   "outputs": [
    {
     "data": {
      "text/plain": [
       "Index(['country', 'year', 'happinessrank', 'happinessscore', 'gdp', 'family',\n",
       "       'lifeexpectancy', 'freedom', 'trust', 'generosity'],\n",
       "      dtype='object')"
      ]
     },
     "execution_count": 4,
     "metadata": {},
     "output_type": "execute_result"
    }
   ],
   "source": [
    "# What data is available\n",
    "whr_df.columns"
   ]
  },
  {
   "cell_type": "code",
   "execution_count": 6,
   "id": "8295db6c",
   "metadata": {},
   "outputs": [
    {
     "data": {
      "text/plain": [
       "country            object\n",
       "year                int64\n",
       "happinessrank       int64\n",
       "happinessscore    float64\n",
       "gdp               float64\n",
       "family            float64\n",
       "lifeexpectancy    float64\n",
       "freedom           float64\n",
       "trust             float64\n",
       "generosity        float64\n",
       "dtype: object"
      ]
     },
     "execution_count": 6,
     "metadata": {},
     "output_type": "execute_result"
    }
   ],
   "source": [
    "# What type of data is available \n",
    "# All columns we plan to use must contain a numerical data type\n",
    "whr_df.dtypes"
   ]
  },
  {
   "cell_type": "code",
   "execution_count": 8,
   "id": "558bb69b",
   "metadata": {},
   "outputs": [
    {
     "name": "stdout",
     "output_type": "stream",
     "text": [
      "Column country has 0 null values\n",
      "Column year has 0 null values\n",
      "Column happinessrank has 0 null values\n",
      "Column happinessscore has 0 null values\n",
      "Column gdp has 0 null values\n",
      "Column family has 0 null values\n",
      "Column lifeexpectancy has 0 null values\n",
      "Column freedom has 0 null values\n",
      "Column trust has 0 null values\n",
      "Column generosity has 0 null values\n"
     ]
    }
   ],
   "source": [
    "# What data is missing \n",
    "# Unsupervised learning models can't handle missing data \n",
    "# Find null values\n",
    "for column in whr_df.columns:\n",
    "    print(f\"Column {column} has {whr_df[column].isnull().sum()} null values\")\n",
    "\n",
    "# Can the data be removed? Consider: Are there string columns that we can't use?\n",
    "# Are there columns with excessive null data points? \n",
    "# Was our decision to handle missing values to just remove them?\n",
    "\n",
    "# Decision: there are no string type columns, and we made the decision that \n",
    "# only a few rows have null data points, but not enough to remove a whole column's worth."
   ]
  },
  {
   "cell_type": "code",
   "execution_count": 9,
   "id": "509032ab",
   "metadata": {},
   "outputs": [
    {
     "name": "stdout",
     "output_type": "stream",
     "text": [
      "Duplicate entries: 0\n"
     ]
    }
   ],
   "source": [
    "# Find duplicate entries\n",
    "print(f\"Duplicate entries: {whr_df.duplicated().sum()}\")"
   ]
  },
  {
   "cell_type": "code",
   "execution_count": null,
   "id": "0c0b414f",
   "metadata": {},
   "outputs": [],
   "source": []
  }
 ],
 "metadata": {
  "kernelspec": {
   "display_name": "mlenv",
   "language": "python",
   "name": "mlenv"
  },
  "language_info": {
   "codemirror_mode": {
    "name": "ipython",
    "version": 3
   },
   "file_extension": ".py",
   "mimetype": "text/x-python",
   "name": "python",
   "nbconvert_exporter": "python",
   "pygments_lexer": "ipython3",
   "version": "3.7.10"
  }
 },
 "nbformat": 4,
 "nbformat_minor": 5
}
